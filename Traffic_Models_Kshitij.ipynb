{
 "cells": [
  {
   "cell_type": "code",
   "execution_count": 36,
   "id": "58a03c41",
   "metadata": {},
   "outputs": [],
   "source": [
    "import numpy as np\n",
    "from numpy.polynomial import Polynomial\n",
    "import matplotlib.pyplot as plt\n",
    "import causallearn\n",
    "\n",
    "from causallearn.utils.cit import *\n",
    "from causallearn.graph.GraphClass import CausalGraph\n",
    "import pandas as pd\n",
    "from itertools import combinations, permutations\n",
    "from numpy import ndarray\n",
    "from typing import Dict, List, Tuple\n",
    "from causallearn.utils.cit import fisherz\n",
    "import random\n",
    "\n",
    "\n",
    "import time\n",
    "\n",
    "import scipy as sp\n",
    "from scipy.stats import beta\n",
    "\n",
    "from statsmodels.distributions.empirical_distribution import ECDF\n"
   ]
  },
  {
   "cell_type": "markdown",
   "id": "5420da15",
   "metadata": {},
   "source": [
    "# Traffic Model:"
   ]
  },
  {
   "cell_type": "markdown",
   "id": "d29c1236",
   "metadata": {},
   "source": [
    "## Null hypothesis $H_0$: Accidents happen independently of traffic load"
   ]
  },
  {
   "cell_type": "code",
   "execution_count": 37,
   "id": "5fed0e2c",
   "metadata": {},
   "outputs": [],
   "source": [
    "# Number of days:\n",
    "N = 365 * 3\n",
    "# Number of discretized steps:\n",
    "# If each timestep represents 10 mins, then T = 108 would represent 18 hours.\n",
    "T = 108\n",
    "\n",
    "p_acc = 0.01\n",
    "x_eq = 100\n",
    "mu = 0.2\n",
    "mu_acc = 0.02\n",
    "time_duration_acc = 5\n",
    "noise_range = 5\n",
    "ctrl = mu * x_eq\n",
    "\n",
    "T_acc_vec = np.random.geometric(p = p_acc, size = N)\n",
    "noise_array = np.random.rand(N, T) * 2 * noise_range - noise_range\n",
    "x_array_H0 = np.zeros((N, T))\n",
    "x_0 = np.random.rand(N) * 2 * noise_range - noise_range + x_eq\n",
    "\n",
    "x_array_H0[:, 0] = x_0\n",
    "for t in range(T-1):\n",
    "    x_array_H0[:, t+1] = (1-mu) * x_array_H0[:, t] + ctrl + noise_array[:, t]\n",
    "\n",
    "# Changing load due to dynamics:\n",
    "# for i in range(N):\n",
    "#     if T_acc_vec[i] < T:\n",
    "#         for k in range(T_acc_vec[i], min(T, T_acc_vec[i] + time_duration_acc)):\n",
    "            \n"
   ]
  },
  {
   "cell_type": "code",
   "execution_count": 29,
   "id": "b82a371c",
   "metadata": {},
   "outputs": [],
   "source": [
    "# T_acc_vec"
   ]
  },
  {
   "cell_type": "code",
   "execution_count": 30,
   "id": "65d11a20",
   "metadata": {},
   "outputs": [
    {
     "data": {
      "text/plain": [
       "[2, 3, 4]"
      ]
     },
     "execution_count": 30,
     "metadata": {},
     "output_type": "execute_result"
    }
   ],
   "source": [
    "list(range(2, 5))"
   ]
  },
  {
   "cell_type": "markdown",
   "id": "d48621b8",
   "metadata": {},
   "source": [
    "## Alternative hypothesis $H_1$: Accidents are made more likely by high traffic load"
   ]
  },
  {
   "cell_type": "code",
   "execution_count": 31,
   "id": "bbb16acc",
   "metadata": {},
   "outputs": [
    {
     "name": "stdout",
     "output_type": "stream",
     "text": [
      "Time:  0.20323872566223145\n"
     ]
    }
   ],
   "source": [
    "start_time = time.time()\n",
    "\n",
    "# Number of days:\n",
    "N = 365 * 3\n",
    "# Number of discretized steps:\n",
    "# If each timestep represents 10 mins, then T = 108 would represent 18 hours.\n",
    "T = 108\n",
    "\n",
    "x_eq = 100\n",
    "mu = 0.3\n",
    "mu_acc = 0.2\n",
    "time_duration_acc = 2\n",
    "noise_range = 10\n",
    "ctrl = mu * x_eq\n",
    "\n",
    "noise_array = np.random.rand(N, T) * 2 * noise_range - noise_range\n",
    "x_array_H1 = np.zeros((N, T))\n",
    "# x_0 = np.random.rand(N) * 2 * noise_range - noise_range + 0.5 * x_eq\n",
    "x_0 = np.random.rand(N) * 2 * noise_range - noise_range + 1 * x_eq\n",
    "\n",
    "p_acc = 0.001\n",
    "p_acc_high_load = 0.3\n",
    "acc_vec = np.random.binomial(1, p = p_acc, size = (N, T))\n",
    "acc_vec_high_load = np.random.binomial(1, p = p_acc_high_load, size = (N, T))\n",
    "acc_realized = np.zeros((N, T))\n",
    "\n",
    "high_load_threshold = x_eq + 0.95 * noise_range\n",
    "counter = 0\n",
    "\n",
    "\n",
    "x_array_H1[:, 0] = x_0\n",
    "for i in range(N):\n",
    "    for t in range(T-1):\n",
    "        if t == 0:\n",
    "            acc_realized[i, t] = 0\n",
    "            x_array_H1[i, t+1] = (1 - mu) * x_array_H1[i, t] + ctrl + noise_array[i, t]\n",
    "            counter = 0\n",
    "        elif counter >= 1 and counter < time_duration_acc:\n",
    "#         if counter >= 1 and counter < time_duration_acc:\n",
    "            acc_realized[i, t] = 1\n",
    "            x_array_H1[i, t+1] = (1 - mu_acc) * x_array_H1[i, t] + ctrl + noise_array[i, t]\n",
    "            counter += 1\n",
    "        elif x_array_H1[i, t] <= high_load_threshold and acc_vec[i, t] == 1:\n",
    "            acc_realized[i, t] = 1\n",
    "            x_array_H1[i, t+1] = (1 - mu_acc) * x_array_H1[i, t] + ctrl + noise_array[i, t]\n",
    "            counter = 1\n",
    "        elif x_array_H1[i, t] > high_load_threshold and acc_vec_high_load[i, t] == 1:\n",
    "            acc_realized[i, t] = 1\n",
    "            x_array_H1[i, t+1] = (1 - mu_acc) * x_array_H1[i, t] + ctrl + noise_array[i, t]\n",
    "            counter = 1\n",
    "        else:\n",
    "            acc_realized[i, t] = 0\n",
    "            x_array_H1[i, t+1] = (1 - mu) * x_array_H1[i, t] + ctrl + noise_array[i, t]\n",
    "            counter = 0\n",
    "\n",
    "# Changing load due to dynamics:\n",
    "# for i in range(N):\n",
    "#     if T_acc_vec[i] < T:\n",
    "#         for k in range(T_acc_vec[i], min(T, T_acc_vec[i] + time_duration_acc)):\n",
    "\n",
    "\n",
    "end_time = time.time()\n",
    "\n",
    "print(\"Time: \", end_time - start_time)\n",
    "\n"
   ]
  },
  {
   "cell_type": "code",
   "execution_count": 32,
   "id": "5818d878",
   "metadata": {},
   "outputs": [
    {
     "name": "stdout",
     "output_type": "stream",
     "text": [
      "[0. 0. 0. 0. 0. 1. 1. 1. 1. 0. 0. 0. 0. 0. 0. 1. 1. 1. 1. 0. 1. 1. 0. 0.\n",
      " 0. 0. 0. 0. 1. 1. 0. 1. 1. 0. 0. 0. 0. 0. 0. 0. 0. 0. 0. 0. 0. 0. 0. 0.\n",
      " 0. 0. 0. 0. 0. 0. 0. 0. 0. 1. 1. 0. 0. 0. 0. 0. 0. 0. 0. 1. 1. 0. 0. 1.\n",
      " 1. 0. 0. 1. 1. 0. 0. 0. 0. 0. 0. 0. 1. 1. 1. 1. 0. 0. 0. 0. 0. 0. 0. 0.\n",
      " 1. 1. 0. 0. 0. 0. 0. 0. 0. 0. 0. 0.]\n",
      "\n",
      "\n",
      "[105.77436873 103.94063355 105.50140299 108.71016703 114.03145215\n",
      " 116.06318656 124.15243247 128.93404837 127.1891595  141.70854909\n",
      " 138.71728833 125.95060269 121.42358915 109.48687799 103.07774201\n",
      " 110.45824438 117.90951225 130.29828618 129.68257271 129.98097513\n",
      " 119.1002066  130.37890356 135.95273436 134.32700007 123.83481745\n",
      " 115.15524953 115.74266542 120.59787141 113.5879506  121.67053457\n",
      " 135.99985121 124.08851741 123.86633106 127.58700499 119.05406335\n",
      " 106.99090592  97.2565829  101.88629898  98.75480667  92.83989661\n",
      " 103.85474759 106.62011438 107.32534198 102.46161787  93.36829223\n",
      "  90.7777937   93.10959084 103.71674678 102.54830658 101.44885078\n",
      "  91.92829362  88.34596832  92.0332933  100.4466916  109.56937107\n",
      " 116.23878892 119.09391268 120.27520809 132.71380211 138.15989134\n",
      " 131.39680152 122.67807149 116.68893389 105.18201455  98.71174018\n",
      " 103.23496039 105.10261451 110.24440004 113.90205158 123.09063846\n",
      " 112.76555598 112.0982345  114.11291923 123.73610541 107.40529323\n",
      " 114.32212441 116.70127878 118.61529499 113.26193329 103.42786415\n",
      "  93.5494288  103.21210277 104.53758114 105.78657997 113.5175965\n",
      " 111.31878879 124.77022461 136.67858443 146.42413905 130.03205582\n",
      " 116.57042334 101.66974508  97.3271094   97.12285818 104.67499711\n",
      " 100.53318675 109.52168662 119.73503035 132.24862394 126.89089043\n",
      " 109.85238808 100.27047533 103.03790497 104.1035162  105.66712679\n",
      " 101.83373532 101.5768143   96.36253536]\n"
     ]
    }
   ],
   "source": [
    "# high_load_threshold\n",
    "\n",
    "print(acc_realized[0, :])\n",
    "print(\"\\n\")\n",
    "print(x_array_H1[0, :])"
   ]
  },
  {
   "cell_type": "code",
   "execution_count": 43,
   "id": "360bfbc5",
   "metadata": {},
   "outputs": [
    {
     "data": {
      "text/plain": [
       "array([[ 97.22813666,  97.0171259 , 101.54540344, ..., 105.76759378,\n",
       "        100.47498462,  96.2403578 ],\n",
       "       [ 96.00319771,  96.53397674,  94.17090074, ...,  95.28371332,\n",
       "        100.15121389, 102.9537346 ],\n",
       "       [ 96.31670555,  95.09808873,  99.36808315, ...,  97.73532368,\n",
       "         98.17587103,  96.1170332 ],\n",
       "       ...,\n",
       "       [ 97.11592799,  93.76783045,  99.0428968 , ...,  90.50148153,\n",
       "         87.73651769,  89.60717508],\n",
       "       [101.46969764, 100.84894337, 101.76678763, ...,  92.69917616,\n",
       "         91.26966701,  91.03252065],\n",
       "       [104.89458504,  98.97518646,  94.51712365, ...,  95.05651053,\n",
       "         95.36265965,  97.27319917]])"
      ]
     },
     "execution_count": 43,
     "metadata": {},
     "output_type": "execute_result"
    }
   ],
   "source": [
    "x_array_H0"
   ]
  },
  {
   "cell_type": "code",
   "execution_count": 53,
   "id": "0481fa47",
   "metadata": {},
   "outputs": [
    {
     "data": {
      "text/plain": [
       "108"
      ]
     },
     "execution_count": 53,
     "metadata": {},
     "output_type": "execute_result"
    }
   ],
   "source": [
    "acc_realized.shape[1]"
   ]
  },
  {
   "cell_type": "code",
   "execution_count": 38,
   "id": "595d0bfc",
   "metadata": {},
   "outputs": [
    {
     "data": {
      "text/plain": [
       "array([[105.77436873, 103.94063355, 105.50140299, ..., 101.83373532,\n",
       "        101.5768143 ,  96.36253536],\n",
       "       [ 90.70083078,  93.98832131, 104.32093033, ...,  94.83223543,\n",
       "         93.31309367, 103.30312997],\n",
       "       [ 93.23264116,  85.94259488,  94.0651849 , ...,  92.95992649,\n",
       "         98.74975197,  94.70541138],\n",
       "       ...,\n",
       "       [ 94.96023441,  98.46995682, 103.16770913, ..., 113.58884664,\n",
       "        110.00867645, 111.57012607],\n",
       "       [ 96.75739759, 103.1568077 ,  93.55205087, ..., 106.28019091,\n",
       "         99.36182983,  93.64176383],\n",
       "       [ 92.86246628,  88.91534884,  86.81911831, ..., 109.86806004,\n",
       "        114.2590934 , 121.7981996 ]])"
      ]
     },
     "execution_count": 38,
     "metadata": {},
     "output_type": "execute_result"
    }
   ],
   "source": [
    "def constructXTLessX(x_array, acc_realized):\n",
    "    for T in range(acc_realized.shape[1])"
   ]
  },
  {
   "cell_type": "code",
   "execution_count": null,
   "id": "8f80dded",
   "metadata": {},
   "outputs": [],
   "source": [
    "a_array"
   ]
  },
  {
   "cell_type": "code",
   "execution_count": 33,
   "id": "2913b13d",
   "metadata": {},
   "outputs": [
    {
     "name": "stdout",
     "output_type": "stream",
     "text": [
      "[[0 0 0 ... 0 0 0]\n",
      " [0 0 0 ... 0 0 0]\n",
      " [0 0 0 ... 0 0 0]\n",
      " ...\n",
      " [0 0 0 ... 0 0 0]\n",
      " [0 0 0 ... 0 0 0]\n",
      " [0 0 0 ... 0 0 0]]\n",
      "[[0 0 0 ... 0 1 0]\n",
      " [1 0 1 ... 0 0 0]\n",
      " [1 0 0 ... 0 0 0]\n",
      " ...\n",
      " [0 0 0 ... 0 0 1]\n",
      " [0 0 0 ... 0 0 0]\n",
      " [1 1 0 ... 1 1 0]]\n",
      "[[0. 0. 0. ... 0. 0. 0.]\n",
      " [0. 0. 0. ... 0. 0. 0.]\n",
      " [0. 0. 0. ... 0. 0. 0.]\n",
      " ...\n",
      " [0. 0. 0. ... 0. 0. 0.]\n",
      " [0. 0. 0. ... 0. 0. 0.]\n",
      " [0. 0. 0. ... 1. 1. 0.]]\n",
      "0.14317605276509385\n"
     ]
    }
   ],
   "source": [
    "# acc_realized.shape\n",
    "# acc_realized\n",
    "\n",
    "print(acc_vec)\n",
    "print(acc_vec_high_load)\n",
    "print(acc_realized)\n",
    "print(np.count_nonzero(acc_realized == 1)/(N*T))"
   ]
  },
  {
   "cell_type": "code",
   "execution_count": 34,
   "id": "d5688857",
   "metadata": {},
   "outputs": [
    {
     "data": {
      "text/plain": [
       "(1095, 108)"
      ]
     },
     "execution_count": 34,
     "metadata": {},
     "output_type": "execute_result"
    }
   ],
   "source": [
    "x_array_H0.shape"
   ]
  },
  {
   "cell_type": "code",
   "execution_count": 35,
   "id": "e8702b1e",
   "metadata": {},
   "outputs": [
    {
     "data": {
      "text/plain": [
       "(1095, 108)"
      ]
     },
     "execution_count": 35,
     "metadata": {},
     "output_type": "execute_result"
    }
   ],
   "source": [
    "x_array_H1.shape"
   ]
  },
  {
   "cell_type": "code",
   "execution_count": 28,
   "id": "af873797",
   "metadata": {},
   "outputs": [],
   "source": [
    "# T_acc_vec = np.ones(N) * T\n",
    "# for i in range(N):\n",
    "#     if np.any(acc_realized[i, :] == 1):\n",
    "#         T_acc_vec[i] = min([t for t in range(T) if acc_realized[i, t] == 1])\n",
    "\n",
    "# T_acc_set_sorted = np.sort(np.array(list(set(T_acc_vec))))\n",
    "\n",
    "# acc_times_dict = {}\n",
    "\n",
    "\n",
    "\n",
    "# for acc_time in T_acc_set_sorted:\n",
    "#     days_list = [i for i in range(N) if T_acc_vec[i] == acc_time]\n",
    "#     acc_times_dict[acc_time] = days_list\n",
    "\n",
    "# acc_times_dict.keys()\n",
    "\n",
    "# # T_acc_set_sorted.shape[0]\n"
   ]
  },
  {
   "cell_type": "markdown",
   "id": "a8cb1927",
   "metadata": {},
   "source": [
    "## a) Grouping by each accident time:"
   ]
  },
  {
   "cell_type": "code",
   "execution_count": 17,
   "id": "9c68777b",
   "metadata": {},
   "outputs": [],
   "source": [
    "T_acc_vec = np.ones(N) * T\n",
    "for i in range(N):\n",
    "    if np.any(acc_realized[i, :] == 1):\n",
    "        T_acc_vec[i] = min([t for t in range(T) if acc_realized[i, t] == 1])\n",
    "\n",
    "T_acc_set_sorted = np.sort(np.array(list(set(T_acc_vec))))\n",
    "\n",
    "\n",
    "acc_times_dict = {}\n",
    "# To edit, using T_acc_set_sorted.shape[0] and T (time = T * 10 mins).\n",
    "acc_times_sampling_rate_by_hour = 1\n",
    "acc_times_sampling_rate = int(T_acc_set_sorted.shape[0]*6/T)\n",
    "T_acc_set_sorted_sampled = [T_acc_set_sorted[j] for j in range(T_acc_set_sorted.shape[0]) if j % acc_times_sampling_rate == 0]\n",
    "\n",
    "acc_time_previous = 0\n",
    "for acc_time in T_acc_set_sorted_sampled:\n",
    "    days_list = [i for i in range(N) if T_acc_vec[i] > acc_time_previous and T_acc_vec[i] <= acc_time]\n",
    "    acc_times_dict[acc_time] = days_list\n",
    "    acc_time_previous = acc_time\n",
    "\n",
    "# acc_times_dict.keys()\n",
    "# acc_times_dict\n",
    "# T_acc_set_sorted_sampled\n",
    "\n",
    "# T_acc_set_sorted.shape[0]\n",
    "\n"
   ]
  },
  {
   "cell_type": "code",
   "execution_count": 18,
   "id": "f5b4ae07",
   "metadata": {},
   "outputs": [
    {
     "name": "stdout",
     "output_type": "stream",
     "text": [
      "102\n",
      "5\n"
     ]
    }
   ],
   "source": [
    "print(T_acc_set_sorted.shape[0])\n",
    "print(acc_times_sampling_rate)"
   ]
  },
  {
   "cell_type": "code",
   "execution_count": 19,
   "id": "7e585236",
   "metadata": {
    "scrolled": false
   },
   "outputs": [
    {
     "name": "stdout",
     "output_type": "stream",
     "text": [
      "acc_time_id: 0\n",
      "len(sample_acc): 43\n",
      "len(sample_no_acc): 151\n",
      "KstestResult(statistic=0.5727706761127368, pvalue=8.016387553766435e-11)\n",
      "\n",
      "acc_time_id: 1\n",
      "len(sample_acc): 151\n",
      "len(sample_no_acc): 116\n",
      "KstestResult(statistic=0.6991322219684859, pvalue=7.61482342174659e-33)\n",
      "\n",
      "acc_time_id: 2\n",
      "len(sample_acc): 116\n",
      "len(sample_no_acc): 106\n",
      "KstestResult(statistic=0.7677293428757319, pvalue=1.7658851456586846e-34)\n",
      "\n",
      "acc_time_id: 3\n",
      "len(sample_acc): 106\n",
      "len(sample_no_acc): 95\n",
      "KstestResult(statistic=0.7372393247269117, pvalue=0.0)\n",
      "\n",
      "acc_time_id: 4\n",
      "len(sample_acc): 95\n",
      "len(sample_no_acc): 83\n",
      "KstestResult(statistic=0.7833861762840837, pvalue=6.661338147750939e-16)\n",
      "\n",
      "acc_time_id: 5\n",
      "len(sample_acc): 83\n",
      "len(sample_no_acc): 69\n",
      "KstestResult(statistic=0.7202723939235202, pvalue=1.611144979137463e-20)\n",
      "\n",
      "acc_time_id: 6\n",
      "len(sample_acc): 69\n",
      "len(sample_no_acc): 57\n",
      "KstestResult(statistic=0.7238749046529367, pvalue=8.881784197001252e-16)\n",
      "\n",
      "acc_time_id: 7\n",
      "len(sample_acc): 57\n",
      "len(sample_no_acc): 45\n",
      "KstestResult(statistic=0.7309941520467836, pvalue=1.4355183708403274e-13)\n",
      "\n",
      "acc_time_id: 8\n",
      "len(sample_acc): 45\n",
      "len(sample_no_acc): 44\n",
      "KstestResult(statistic=0.7075757575757575, pvalue=3.902078660189545e-11)\n",
      "\n",
      "acc_time_id: 9\n",
      "len(sample_acc): 44\n",
      "len(sample_no_acc): 41\n",
      "KstestResult(statistic=0.7222838137472284, pvalue=2.117350739183621e-11)\n",
      "\n",
      "acc_time_id: 10\n",
      "len(sample_acc): 41\n",
      "len(sample_no_acc): 42\n",
      "KstestResult(statistic=0.6840882694541232, pvalue=1.248327330394261e-09)\n",
      "\n",
      "acc_time_id: 11\n",
      "len(sample_acc): 42\n",
      "len(sample_no_acc): 34\n",
      "KstestResult(statistic=0.7703081232492998, pvalue=1.254818471352337e-11)\n",
      "\n",
      "acc_time_id: 12\n",
      "len(sample_acc): 34\n",
      "len(sample_no_acc): 22\n",
      "KstestResult(statistic=0.6844919786096256, pvalue=1.759335119255745e-06)\n",
      "\n",
      "acc_time_id: 13\n",
      "len(sample_acc): 22\n",
      "len(sample_no_acc): 10\n",
      "KstestResult(statistic=0.9090909090909091, pvalue=2.046123340315731e-06)\n",
      "\n",
      "acc_time_id: 14\n",
      "len(sample_acc): 10\n",
      "len(sample_no_acc): 24\n",
      "KstestResult(statistic=0.9583333333333334, pvalue=1.6777481948171413e-07)\n",
      "\n",
      "acc_time_id: 15\n",
      "len(sample_acc): 24\n",
      "len(sample_no_acc): 18\n",
      "KstestResult(statistic=0.7638888888888888, pvalue=2.2163086812465593e-06)\n",
      "\n",
      "acc_time_id: 16\n",
      "len(sample_acc): 18\n",
      "len(sample_no_acc): 9\n",
      "KstestResult(statistic=0.8888888888888888, pvalue=3.0297696201553315e-05)\n",
      "\n",
      "acc_time_id: 17\n",
      "len(sample_acc): 9\n",
      "len(sample_no_acc): 14\n",
      "KstestResult(statistic=0.7857142857142857, pvalue=0.0007807241889888905)\n",
      "\n",
      "acc_time_id: 18\n",
      "len(sample_acc): 14\n",
      "len(sample_no_acc): 9\n",
      "KstestResult(statistic=0.7142857142857143, pvalue=0.0030347899509293175)\n",
      "\n",
      "acc_time_id: 19\n",
      "len(sample_acc): 9\n",
      "len(sample_no_acc): 13\n",
      "KstestResult(statistic=0.811965811965812, pvalue=0.0006191950464397022)\n",
      "\n"
     ]
    }
   ],
   "source": [
    "for acc_time_id in range(len(acc_times_dict.keys())-1):\n",
    "    acc_time = list(acc_times_dict.keys())[acc_time_id]\n",
    "    sample_acc = [x_array_H1[i, int(acc_time) - 1] for i in [*acc_times_dict.values()][acc_time_id]]\n",
    "    sample_no_acc = [x_array_H1[i, int(acc_time) - 1] for i in [*acc_times_dict.values()][acc_time_id + 1]]\n",
    "    \n",
    "    print(\"acc_time_id:\", acc_time_id)\n",
    "    print(\"len(sample_acc):\", len(sample_acc))\n",
    "    print(\"len(sample_no_acc):\", len(sample_no_acc))\n",
    "#     print(sp.stats.kstest(sample_acc, sample_no_acc))\n",
    "    print(sp.stats.ks_2samp(sample_acc, sample_no_acc))\n",
    "    print()\n",
    "\n",
    "# print(sample_acc)\n",
    "# print(\"\\n\")\n",
    "# print(sample_no_acc)\n"
   ]
  },
  {
   "cell_type": "markdown",
   "id": "7d20eb71",
   "metadata": {},
   "source": [
    "## b) Aggregate across accident times:"
   ]
  },
  {
   "cell_type": "code",
   "execution_count": 20,
   "id": "48fe7598",
   "metadata": {},
   "outputs": [],
   "source": [
    "# list_1 = [1]\n",
    "# list_2 = [2]\n",
    "# list_1.extend(list_2)\n",
    "# list_1"
   ]
  },
  {
   "cell_type": "code",
   "execution_count": 21,
   "id": "9ecd849e",
   "metadata": {
    "scrolled": false
   },
   "outputs": [],
   "source": [
    "# T_acc_vec = np.ones(N) * T\n",
    "# for i in range(N):\n",
    "#     if np.any(acc_realized[i, :] == 1):\n",
    "#         T_acc_vec[i] = min([t for t in range(T) if acc_realized[i, t] == 1])\n",
    "\n",
    "# T_acc_set_sorted = np.sort(np.array(list(set(T_acc_vec))))\n",
    "\n",
    "# T_acc_set_sorted_sampled = [T_acc_set_sorted[j] for j in range(T_acc_set_sorted.shape[0])]\n",
    "\n",
    "# acc_time_previous = 0\n",
    "# acc_times_dict = {}\n",
    "# for acc_time in T_acc_set_sorted_sampled:\n",
    "#     days_list = [i for i in range(N) if T_acc_vec[i] > acc_time_previous and T_acc_vec[i] <= acc_time]\n",
    "#     acc_times_dict[acc_time] = days_list\n",
    "#     acc_time_previous = acc_time\n",
    "\n",
    "# # acc_times_dict.keys()\n",
    "# # T_acc_set_sorted_sampled"
   ]
  },
  {
   "cell_type": "code",
   "execution_count": 23,
   "id": "f630e583",
   "metadata": {},
   "outputs": [],
   "source": [
    "# sample_acc = []\n",
    "# sample_no_acc = []\n",
    "\n",
    "# for count, acc_time in enumerate(acc_times_dict.keys()):\n",
    "#     if count % 2 == 0 and count + 1 <= len(acc_times_dict.keys())-1:\n",
    "# #         print(count)\n",
    "# #         print(len(acc_times_dict.keys()))\n",
    "# #         print()\n",
    "#         sample_acc.extend([x_array_H1[i, int(acc_time) - 1] for i in [*acc_times_dict.values()][count]])\n",
    "#         sample_no_acc.extend([x_array_H1[i, int(acc_time) - 1] for i in [*acc_times_dict.values()][count + 1]])\n",
    "\n",
    "# # print(\"acc_time_id:\", acc_time_id)\n",
    "# # print(\"len(sample_acc):\", len(sample_acc))\n",
    "# # print(\"len(sample_no_acc):\", len(sample_no_acc))\n",
    "# print(sp.stats.kstest(sample_acc, sample_no_acc))\n",
    "# # print(sp.stats.ks_2samp(sample_acc, sample_no_acc))\n",
    "# print()\n",
    "\n",
    "\n",
    "# # print(sample_acc)\n",
    "# # print(\"\\n\")\n",
    "# # print(sample_no_acc)\n",
    "\n",
    "\n"
   ]
  },
  {
   "cell_type": "markdown",
   "id": "c4503ef1",
   "metadata": {},
   "source": [
    "# Plot Results:"
   ]
  },
  {
   "cell_type": "code",
   "execution_count": 24,
   "id": "70b1ceb3",
   "metadata": {},
   "outputs": [],
   "source": [
    "# def cdf_from_samples(sample):\n",
    "    \n",
    "    "
   ]
  },
  {
   "cell_type": "code",
   "execution_count": 25,
   "id": "1718d382",
   "metadata": {},
   "outputs": [
    {
     "name": "stdout",
     "output_type": "stream",
     "text": [
      "P(x<-20): 0.000\n",
      "P(x<0): 0.487\n",
      "P(x<20): 1.000\n"
     ]
    },
    {
     "data": {
      "text/plain": [
       "[<matplotlib.lines.Line2D at 0x7f8aa58751c0>]"
      ]
     },
     "execution_count": 25,
     "metadata": {},
     "output_type": "execute_result"
    },
    {
     "data": {
      "image/png": "[encoded data removed]",
      "text/plain": [
       "<Figure size 432x288 with 1 Axes>"
      ]
     },
     "metadata": {
      "needs_background": "light"
     },
     "output_type": "display_data"
    }
   ],
   "source": [
    "# Test:\n",
    "\n",
    "sample = np.random.randn(1000)\n",
    "ecdf = ECDF(sample)\n",
    "\n",
    "print('P(x<-20): %.3f' % ecdf(-20))\n",
    "print('P(x<0): %.3f' % ecdf(0))\n",
    "print('P(x<20): %.3f' % ecdf(20))\n",
    "\n",
    "cdf_data_test = ecdf(np.linspace(-10, 10, num=1000))\n",
    "plt.plot(np.linspace(-10, 10, num=1000), cdf_data_test)\n"
   ]
  },
  {
   "cell_type": "code",
   "execution_count": 26,
   "id": "dc0bc7d7",
   "metadata": {},
   "outputs": [
    {
     "name": "stdout",
     "output_type": "stream",
     "text": [
      "acc_time_id: 1\n",
      "len(sample_acc): 151\n",
      "len(sample_no_acc): 116\n",
      "KstestResult(statistic=0.6991322219684859, pvalue=7.61482342174659e-33)\n",
      "\n"
     ]
    },
    {
     "data": {
      "text/plain": [
       "[<matplotlib.lines.Line2D at 0x7f8aa5984550>]"
      ]
     },
     "execution_count": 26,
     "metadata": {},
     "output_type": "execute_result"
    },
    {
     "data": {
      "image/png": "[encoded data removed]",
      "text/plain": [
       "<Figure size 432x288 with 1 Axes>"
      ]
     },
     "metadata": {
      "needs_background": "light"
     },
     "output_type": "display_data"
    }
   ],
   "source": [
    "# for acc_time_id in range(len(acc_times_dict.keys())-1):\n",
    "for acc_time_id in [1]:\n",
    "    acc_time = list(acc_times_dict.keys())[acc_time_id]\n",
    "    sample_acc = [x_array_H1[i, int(acc_time) - 1] for i in [*acc_times_dict.values()][acc_time_id]]\n",
    "    sample_no_acc = [x_array_H1[i, int(acc_time) - 1] for i in [*acc_times_dict.values()][acc_time_id + 1]]\n",
    "    \n",
    "    print(\"acc_time_id:\", acc_time_id)\n",
    "    print(\"len(sample_acc):\", len(sample_acc))\n",
    "    print(\"len(sample_no_acc):\", len(sample_no_acc))\n",
    "#     print(sp.stats.kstest(sample_acc, sample_no_acc))\n",
    "    print(sp.stats.ks_2samp(sample_acc, sample_no_acc))\n",
    "    print()\n",
    "\n",
    "\n",
    "ecdf_acc = ECDF(sample_acc)\n",
    "ecdf_no_acc = ECDF(sample_no_acc)\n",
    "\n",
    "plot_x_range = np.linspace(x_eq - 2 * noise_range, x_eq + 2 * noise_range, num=1000)\n",
    "cdf_no_acc = ecdf_no_acc(plot_x_range)\n",
    "cdf_acc = ecdf_acc(plot_x_range)\n",
    "plt.plot(plot_x_range, cdf_no_acc)\n",
    "plt.plot(plot_x_range, cdf_acc)\n"
   ]
  },
  {
   "cell_type": "code",
   "execution_count": null,
   "id": "cfc627e2",
   "metadata": {},
   "outputs": [],
   "source": []
  },
  {
   "cell_type": "code",
   "execution_count": null,
   "id": "a496f9e0",
   "metadata": {},
   "outputs": [],
   "source": []
  },
  {
   "cell_type": "code",
   "execution_count": 18,
   "id": "c903d4b6",
   "metadata": {},
   "outputs": [
    {
     "name": "stdout",
     "output_type": "stream",
     "text": [
      "[[0 0 0 ... 0 0 0]\n",
      " [0 0 0 ... 0 0 0]\n",
      " [0 0 0 ... 0 0 0]\n",
      " ...\n",
      " [0 0 0 ... 0 0 0]\n",
      " [0 0 0 ... 0 0 0]\n",
      " [0 0 0 ... 0 0 0]]\n",
      "\n",
      "\n",
      "[[0. 0. 0. ... 0. 0. 0.]\n",
      " [0. 0. 0. ... 0. 0. 0.]\n",
      " [0. 0. 0. ... 0. 0. 0.]\n",
      " ...\n",
      " [0. 0. 0. ... 1. 1. 0.]\n",
      " [0. 1. 1. ... 0. 0. 0.]\n",
      " [0. 0. 0. ... 1. 1. 0.]]\n"
     ]
    }
   ],
   "source": [
    "print(acc_vec)\n",
    "print(\"\\n\")\n",
    "print(acc_realized)"
   ]
  },
  {
   "cell_type": "code",
   "execution_count": null,
   "id": "7e353fd3",
   "metadata": {},
   "outputs": [],
   "source": []
  },
  {
   "cell_type": "markdown",
   "id": "0ad486d8",
   "metadata": {},
   "source": [
    "# Scratch Work:"
   ]
  },
  {
   "cell_type": "code",
   "execution_count": 19,
   "id": "79e5baae",
   "metadata": {},
   "outputs": [
    {
     "name": "stdout",
     "output_type": "stream",
     "text": [
      "KstestResult(statistic=0.053, pvalue=0.12051526066065596)\n"
     ]
    }
   ],
   "source": [
    "# K-test:\n",
    "\n",
    "rng = np.random.default_rng()\n",
    "# sample1 = sp.stats.laplace.rvs(size=105, random_state=rng)\n",
    "# sample2 = sp.stats.laplace.rvs(size=95, random_state=rng)\n",
    "sample1 = np.random.randn(1000) + 0.1\n",
    "sample2 = np.random.randn(1000)\n",
    "\n",
    "print(sp.stats.kstest(sample1, sample2))"
   ]
  },
  {
   "cell_type": "code",
   "execution_count": 20,
   "id": "60649de0",
   "metadata": {},
   "outputs": [
    {
     "data": {
      "text/plain": [
       "[<matplotlib.lines.Line2D at 0x7fae192c77f0>]"
      ]
     },
     "execution_count": 20,
     "metadata": {},
     "output_type": "execute_result"
    },
    {
     "data": {
      "image/png": "[encoded data removed]",
      "text/plain": [
       "<Figure size 432x288 with 1 Axes>"
      ]
     },
     "metadata": {
      "needs_background": "light"
     },
     "output_type": "display_data"
    }
   ],
   "source": [
    "# Beta distribution, for accidents:\n",
    "\n",
    "fig, ax = plt.subplots(1, 1)\n",
    "# a, b = 2.31, 0.627\n",
    "a, b = 0.5, 0.1\n",
    "\n",
    "mean, var, skew, kurt = beta.stats(a, b, moments='mvsk')\n",
    "x = np.linspace(beta.ppf(0.01, a, b),\n",
    "                beta.ppf(0.99, a, b), 100)\n",
    "plt.xlim([0.0, 1.0])\n",
    "plt.ylim([0, 10])\n",
    "ax.plot(x, beta.pdf(x, a, b),\n",
    "       'r-', lw=5, alpha=0.6, label='beta pdf')\n"
   ]
  }
 ],
 "metadata": {
  "kernelspec": {
   "display_name": "Python 3 (ipykernel)",
   "language": "python",
   "name": "python3"
  },
  "language_info": {
   "codemirror_mode": {
    "name": "ipython",
    "version": 3
   },
   "file_extension": ".py",
   "mimetype": "text/x-python",
   "name": "python",
   "nbconvert_exporter": "python",
   "pygments_lexer": "ipython3",
   "version": "3.9.12"
  }
 },
 "nbformat": 4,
 "nbformat_minor": 5
}
