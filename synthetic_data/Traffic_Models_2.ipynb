{
 "cells": [
  {
   "cell_type": "code",
   "execution_count": 88,
   "id": "58a03c41",
   "metadata": {},
   "outputs": [],
   "source": [
    "import numpy as np\n",
    "from numpy.polynomial import Polynomial\n",
    "import matplotlib.pyplot as plt\n",
    "import causallearn\n",
    "\n",
    "from causallearn.utils.cit import *\n",
    "from causallearn.graph.GraphClass import CausalGraph\n",
    "import pandas as pd\n",
    "from itertools import combinations, permutations\n",
    "from numpy import ndarray\n",
    "from typing import Dict, List, Tuple\n",
    "from causallearn.utils.cit import fisherz\n",
    "import random\n",
    "import itertools\n",
    "\n",
    "import time\n",
    "\n",
    "import scipy as sp\n",
    "from scipy.stats import beta\n",
    "\n",
    "from statsmodels.distributions.empirical_distribution import ECDF\n"
   ]
  },
  {
   "cell_type": "markdown",
   "id": "5420da15",
   "metadata": {},
   "source": [
    "# Traffic Model:"
   ]
  },
  {
   "cell_type": "markdown",
   "id": "d29c1236",
   "metadata": {},
   "source": [
    "## Null hypothesis $H_0$: Accidents happen independently of traffic load"
   ]
  },
  {
   "cell_type": "code",
   "execution_count": 162,
   "id": "5fed0e2c",
   "metadata": {},
   "outputs": [],
   "source": [
    "# # Number of days:\n",
    "# N = 365 * 10\n",
    "# # Number of discretized steps:\n",
    "# # If each timestep represents 10 mins, then T = 108 would represent 18 hours.\n",
    "# T = 108\n",
    "\n",
    "# p_acc = 0.001\n",
    "# x_eq = 100\n",
    "# mu = 0.2\n",
    "# mu_acc = 0.02\n",
    "# time_duration_acc = 2\n",
    "# noise_range = 10\n",
    "# ctrl = mu * x_eq\n",
    "\n",
    "# T_acc_vec = np.random.geometric(p = p_acc, size = N)\n",
    "# noise_array = np.random.rand(N, T) * 2 * noise_range - noise_range\n",
    "# x_array_H0 = np.zeros((N, T))\n",
    "# x_0 = np.random.rand(N) * 2 * noise_range - noise_range + x_eq\n",
    "\n",
    "# x_array_H0[:, 0] = x_0\n",
    "# for t in range(T-1):\n",
    "#     x_array_H0[:, t+1] = (1-mu) * x_array_H0[:, t] + ctrl + noise_array[:, t]\n",
    "\n",
    "# # Changing load due to dynamics:\n",
    "# # for i in range(N):\n",
    "# #     if T_acc_vec[i] < T:\n",
    "# #         for k in range(T_acc_vec[i], min(T, T_acc_vec[i] + time_duration_acc)):\n"
   ]
  },
  {
   "cell_type": "code",
   "execution_count": 320,
   "id": "e9c2fad9",
   "metadata": {},
   "outputs": [],
   "source": [
    "# Number of days:\n",
    "N = 365 * 20\n",
    "# Number of discretized steps:\n",
    "# If each timestep represents 10 mins, then T = 108 would represent 18 hours.\n",
    "T = 108"
   ]
  },
  {
   "cell_type": "code",
   "execution_count": 321,
   "id": "208e461c",
   "metadata": {},
   "outputs": [
    {
     "name": "stdout",
     "output_type": "stream",
     "text": [
      "Time:  1.0548689365386963\n"
     ]
    }
   ],
   "source": [
    "start_time = time.time()\n",
    "\n",
    "x_eq = 100\n",
    "mu = 0.3\n",
    "mu_acc = 0.2\n",
    "time_duration_acc = 2\n",
    "noise_range = 10\n",
    "ctrl = mu * x_eq\n",
    "\n",
    "noise_array = np.random.rand(N, T) * 2 * noise_range - noise_range\n",
    "x_array_H0 = np.zeros((N, T))\n",
    "# x_0 = np.random.rand(N) * 2 * noise_range - noise_range + 0.5 * x_eq\n",
    "x_0 = np.random.rand(N) * 2 * noise_range - noise_range + 1 * x_eq\n",
    "\n",
    "p_acc = 0.06\n",
    "acc_vec = np.random.binomial(1, p = p_acc, size = (N, T))\n",
    "acc_vec_high_load = np.random.binomial(1, p = p_acc_high_load, size = (N, T))\n",
    "acc_realized_H0 = np.zeros((N, T))\n",
    "\n",
    "high_load_threshold_ratio = 0.9\n",
    "high_load_threshold = x_eq + high_load_threshold_ratio * noise_range\n",
    "counter = 0\n",
    "\n",
    "x_array_H0[:, 0] = x_0\n",
    "for i in range(N):\n",
    "    for t in range(T-1):\n",
    "        if t == 0:\n",
    "            acc_realized_H0[i, t] = 0 \n",
    "            x_array_H0[i, t+1] = (1 - mu) * x_array_H0[i, t] + ctrl + noise_array[i, t]\n",
    "            counter = 0\n",
    "        elif counter >= 1 and counter < time_duration_acc:\n",
    "            acc_realized_H0[i, t] = 1\n",
    "            x_array_H0[i, t+1] = (1 - mu_acc) * x_array_H0[i, t] + ctrl + noise_array[i, t]\n",
    "            counter += 1\n",
    "        elif acc_vec[i, t] == 1:\n",
    "            acc_realized_H0[i, t] = 1\n",
    "            x_array_H0[i, t+1] = (1 - mu_acc) * x_array_H0[i, t] + ctrl + noise_array[i, t]\n",
    "            counter = 1\n",
    "        else:\n",
    "            acc_realized_H0[i, t] = 0\n",
    "            x_array_H0[i, t+1] = (1 - mu) * x_array_H0[i, t] + ctrl + noise_array[i, t]\n",
    "            counter = 0\n",
    "\n",
    "# Changing load due to dynamics:\n",
    "# for i in range(N):\n",
    "#     if T_acc_vec[i] < T:\n",
    "#         for k in range(T_acc_vec[i], min(T, T_acc_vec[i] + time_duration_acc)):\n",
    "\n",
    "end_time = time.time()\n",
    "\n",
    "print(\"Time: \", end_time - start_time)\n",
    "\n"
   ]
  },
  {
   "cell_type": "code",
   "execution_count": null,
   "id": "b82a371c",
   "metadata": {},
   "outputs": [],
   "source": []
  },
  {
   "cell_type": "code",
   "execution_count": null,
   "id": "65d11a20",
   "metadata": {},
   "outputs": [],
   "source": []
  },
  {
   "cell_type": "markdown",
   "id": "d48621b8",
   "metadata": {},
   "source": [
    "## Alternative hypothesis $H_1$: Accidents are made more likely by high traffic load"
   ]
  },
  {
   "cell_type": "code",
   "execution_count": 322,
   "id": "bbb16acc",
   "metadata": {},
   "outputs": [
    {
     "name": "stdout",
     "output_type": "stream",
     "text": [
      "Time:  1.326430082321167\n"
     ]
    }
   ],
   "source": [
    "start_time = time.time()\n",
    "\n",
    "\n",
    "x_eq = 100\n",
    "mu = 0.3\n",
    "mu_acc = 0.2\n",
    "time_duration_acc = 2\n",
    "noise_range = 10\n",
    "ctrl = mu * x_eq\n",
    "\n",
    "noise_array = np.random.rand(N, T) * 2 * noise_range - noise_range\n",
    "x_array_H1 = np.zeros((N, T))\n",
    "# x_0 = np.random.rand(N) * 2 * noise_range - noise_range + 0.5 * x_eq\n",
    "x_0 = np.random.rand(N) * 2 * noise_range - noise_range + 1 * x_eq\n",
    "\n",
    "p_acc = 0.03\n",
    "p_acc_high_load = 0.3\n",
    "acc_vec = np.random.binomial(1, p = p_acc, size = (N, T))\n",
    "acc_vec_high_load = np.random.binomial(1, p = p_acc_high_load, size = (N, T))\n",
    "acc_realized_H1 = np.zeros((N, T))\n",
    "\n",
    "high_load_threshold_ratio = 0.9\n",
    "high_load_threshold = x_eq + high_load_threshold_ratio * noise_range\n",
    "counter = 0\n",
    "\n",
    "x_array_H1[:, 0] = x_0\n",
    "for i in range(N):\n",
    "    for t in range(T-1):\n",
    "        if t == 0:\n",
    "            acc_realized_H1[i, t] = 0 \n",
    "            x_array_H1[i, t+1] = (1 - mu) * x_array_H1[i, t] + ctrl + noise_array[i, t]\n",
    "            counter = 0\n",
    "        elif counter >= 1 and counter < time_duration_acc:\n",
    "#         if counter >= 1 and counter < time_duration_acc:\n",
    "            acc_realized_H1[i, t] = 1\n",
    "            x_array_H1[i, t+1] = (1 - mu_acc) * x_array_H1[i, t] + ctrl + noise_array[i, t]\n",
    "            counter += 1\n",
    "        elif x_array_H1[i, t] <= high_load_threshold and acc_vec[i, t] == 1:\n",
    "            acc_realized_H1[i, t] = 1\n",
    "            x_array_H1[i, t+1] = (1 - mu_acc) * x_array_H1[i, t] + ctrl + noise_array[i, t]\n",
    "            counter = 1\n",
    "        elif x_array_H1[i, t] > high_load_threshold and acc_vec_high_load[i, t] == 1:\n",
    "            acc_realized_H1[i, t] = 1\n",
    "            x_array_H1[i, t+1] = (1 - mu_acc) * x_array_H1[i, t] + ctrl + noise_array[i, t]\n",
    "            counter = 1\n",
    "        else:\n",
    "            acc_realized_H1[i, t] = 0\n",
    "            x_array_H1[i, t+1] = (1 - mu) * x_array_H1[i, t] + ctrl + noise_array[i, t]\n",
    "            counter = 0\n",
    "\n",
    "# Changing load due to dynamics:\n",
    "# for i in range(N):\n",
    "#     if T_acc_vec[i] < T:\n",
    "#         for k in range(T_acc_vec[i], min(T, T_acc_vec[i] + time_duration_acc)):\n",
    "\n",
    "\n",
    "end_time = time.time()\n",
    "\n",
    "print(\"Time: \", end_time - start_time)\n",
    "\n"
   ]
  },
  {
   "cell_type": "code",
   "execution_count": 323,
   "id": "4cceaae6",
   "metadata": {},
   "outputs": [
    {
     "data": {
      "text/plain": [
       "(7300, 108)"
      ]
     },
     "execution_count": 323,
     "metadata": {},
     "output_type": "execute_result"
    }
   ],
   "source": [
    "x_array_H1.shape"
   ]
  },
  {
   "cell_type": "code",
   "execution_count": 324,
   "id": "bceedb2c",
   "metadata": {},
   "outputs": [],
   "source": [
    "## Re-sort the data:\n",
    "\n",
    "# x_array.shape\n",
    "# acc_realized.shape\n",
    "\n",
    "def generate_data_processed_dict(x_array, acc_realized):\n",
    "    \n",
    "    assert x_array.shape == acc_realized.shape\n",
    "    N = x_array.shape[0]\n",
    "    T = x_array.shape[1]\n",
    "    \n",
    "    first_times_of_rare_event = np.zeros(N)\n",
    "    for i in range(N):\n",
    "    #     print(acc_realized[i, :].shape)\n",
    "    #     print(np.zeros(T).shape)\n",
    "        if (acc_realized[i, :] == np.zeros(T)).all():\n",
    "            first_times_of_rare_event[i] = -1\n",
    "        else:\n",
    "    #         print(min([t for t in range(T) if acc_realized[i, t] == 1]))\n",
    "            first_times_of_rare_event[i] = min([t for t in range(T) if acc_realized[i, t] == 1])\n",
    "#             print(\"i:\", i)\n",
    "#             print(\"first_times_of_rare_event[i]:\", first_times_of_rare_event[i])\n",
    "\n",
    "    first_times_of_rare_event_as_set = set(list(first_times_of_rare_event))\n",
    "    first_times_of_rare_event_as_set.remove(-1)\n",
    "    first_times_of_rare_event_as_list = list(first_times_of_rare_event_as_set)\n",
    "\n",
    "    # for first_time in first_times_of_rare_event_as_set:\n",
    "\n",
    "    # first_times_of_rare_event_as_set\n",
    "\n",
    "    x_processed_dict_XT = {}\n",
    "    x_processed_dict_Xgen = {}\n",
    "    first_times_dict = {}\n",
    "    \n",
    "    for time in first_times_of_rare_event_as_list:\n",
    "    #     print(time\n",
    "        x_processed_dict_XT[time] = []\n",
    "        x_processed_dict_Xgen[time] = []\n",
    "        first_times_dict[time] = []\n",
    "        for i in range(N):\n",
    "            if first_times_of_rare_event[i] >= time:\n",
    "                x_processed_dict_Xgen[time].append(x_array[i, int(time)-1])\n",
    "            if first_times_of_rare_event[i] == time:\n",
    "                first_times_dict[time].append(i)\n",
    "                x_processed_dict_XT[time].append(x_array[i, int(time)-1])\n",
    "    \n",
    "    x_values_jumps_XT = list(itertools.chain(*list(x_processed_dict_XT.values())))\n",
    "    assert len(x_values_jumps_XT) <= N\n",
    "    \n",
    "    return x_processed_dict_XT, x_processed_dict_Xgen, first_times_dict\n",
    "\n",
    "def generate_cdf_Xgen(x_processed_dict_Xgen, first_times_dict, N, T,\\\n",
    "                      x_lower_bound = 50.0, x_upper_bound = 200.0, x_values_length = 5000):\n",
    "    assert list(x_processed_dict_Xgen.keys()) == list(first_times_dict.keys())\n",
    "    \n",
    "    x_values_jumps_Xgen = sorted(list(itertools.chain(*list(x_processed_dict_Xgen.values()))))\n",
    "    print(\"len(x_values_jumps_Xgen):\", len(x_values_jumps_Xgen))\n",
    "    print(\"max(x_values_jumps_Xgen):\", max(x_values_jumps_Xgen))\n",
    "#     return\n",
    "    \n",
    "#     cdf_value_at_jumps_Xgen = []\n",
    "    x_cdf_dict_Xgen = {}\n",
    "    \n",
    "#     for count_1, x_value in enumerate(x_values_jumps_Xgen):\n",
    "    for count_1, x_value in enumerate(np.linspace(x_lower_bound, x_upper_bound, x_values_length)):\n",
    "#         if count_1 % 100 == 0:\n",
    "#             print(count_1)\n",
    "        cdf_value_temp = 0\n",
    "        for count_2, time in enumerate(first_times_dict.keys()):\n",
    "#             print(count_2)\n",
    "            cdf_value_temp += len([x_val for x_val in x_processed_dict_Xgen[time] if x_val <= x_value])/len(x_processed_dict_Xgen[time]) \\\n",
    "                                * len(first_times_dict[time])/N\n",
    "#         cdf_value_at_jumps_Xgen.append(cdf_value_temp)\n",
    "        x_cdf_dict_Xgen[x_value] = cdf_value_temp\n",
    "    \n",
    "    # INCOMPLETE; make dictionary.\n",
    "    \n",
    "    return x_values_jumps_Xgen, x_cdf_dict_Xgen\n",
    "\n",
    "\n",
    "def generate_cdf_XT(x_processed_dict_XT, first_times_dict, N, T):\n",
    "    assert list(x_processed_dict_XT.keys()) == list(first_times_dict.keys())\n",
    "    \n",
    "    x_values_jumps_XT = sorted(list(itertools.chain(*list(x_processed_dict_XT.values()))))\n",
    "    x_cdf_dict_XT = {}\n",
    "    \n",
    "    # Sort x_values_jumps_XT\n",
    "    assert len(x_values_jumps_XT) <= N\n",
    "    \n",
    "    print(\"len(x_values_jumps_XT):\", len(x_values_jumps_XT))\n",
    "    print(\"max(x_values_jumps_XT):\", max(x_values_jumps_XT))\n",
    "        \n",
    "    cdf_value_at_jumps_XT = []\n",
    "    for x_value in x_values_jumps_XT:\n",
    "        cdf_value_temp = len([x_val for x_val in x_values_jumps_XT if x_val <= x_value]) \\\n",
    "                                     / len(x_values_jumps_XT)\n",
    "        cdf_value_at_jumps_XT.append(cdf_value_temp)\n",
    "        x_cdf_dict_XT[x_value] = cdf_value_temp\n",
    "        \n",
    "    cdf_evenly_spaced = np.linspace(1/len(cdf_value_at_jumps_XT), 1, len(cdf_value_at_jumps_XT))\n",
    "        \n",
    "#     print(\"cdf_value_at_jumps_XT:\", cdf_value_at_jumps_XT[0:10])\n",
    "#     print(\"cdf_evenly_spaced:\", cdf_evenly_spaced[0:10])\n",
    "#     print(\"1/len(cdf_value_at_jumps_XT):\", 1/len(cdf_value_at_jumps_XT))\n",
    "#     print(\"cdf_value_at_jumps_XT - cdf_evenly_spaced:\", cdf_value_at_jumps_XT - cdf_evenly_spaced)\n",
    "\n",
    "\n",
    "    # Assertion: Sanity check on cdf_value_at_jumps_XT\n",
    "    assert np.linalg.norm(np.array(cdf_value_at_jumps_XT) - np.array(cdf_evenly_spaced)) <= 0.0001\n",
    "    \n",
    "    # INCOMPLETE; make dictionary.\n",
    "    return x_values_jumps_XT, x_cdf_dict_XT\n",
    "\n",
    "def cdf_value(x, x_cdf_dict):\n",
    "    key_list = [x_val for x_val in x_cdf_dict.keys() if x_val <= x]\n",
    "    if key_list != []:\n",
    "        dict_key = max(key_list)\n",
    "    else:\n",
    "        dict_key = min(x_cdf_dict.keys())\n",
    "    return x_cdf_dict[dict_key]\n",
    "\n",
    "def compare_CDFs(x_cdf_dict_1, x_cdf_dict_2, x_lower_bound = 50.0, x_upper_bound = 200.0, x_values_length = 2000):\n",
    "    error_list = []\n",
    "    for x_value in np.linspace(x_lower_bound, x_upper_bound, x_values_length+1):\n",
    "        error = abs(cdf_value(x_value, x_cdf_dict_1) - cdf_value(x_value, x_cdf_dict_2))\n",
    "        error_list.append(error)\n",
    "    \n",
    "    return max(error_list)\n",
    "\n"
   ]
  },
  {
   "cell_type": "code",
   "execution_count": 325,
   "id": "a513b037",
   "metadata": {},
   "outputs": [],
   "source": [
    "# np.linspace(0, 1, 5)"
   ]
  },
  {
   "cell_type": "code",
   "execution_count": null,
   "id": "183c9d95",
   "metadata": {},
   "outputs": [],
   "source": []
  },
  {
   "cell_type": "code",
   "execution_count": null,
   "id": "63e639db",
   "metadata": {
    "scrolled": true
   },
   "outputs": [],
   "source": []
  },
  {
   "cell_type": "code",
   "execution_count": 326,
   "id": "3198a5be",
   "metadata": {},
   "outputs": [
    {
     "name": "stdout",
     "output_type": "stream",
     "text": [
      "len(x_values_jumps_XT): 7293\n",
      "max(x_values_jumps_XT): 124.71626484171884\n",
      "\n",
      "len(x_values_jumps_Xgen): 122481\n",
      "max(x_values_jumps_Xgen): 125.86895187322497\n",
      "\n",
      "len(x_values_jumps_XT): 7288\n",
      "max(x_values_jumps_XT): 124.98344569519402\n",
      "\n",
      "len(x_values_jumps_Xgen): 120747\n",
      "max(x_values_jumps_Xgen): 124.98344569519402\n",
      "\n",
      "Time: 79.93391990661621\n"
     ]
    }
   ],
   "source": [
    "begin_time = time.time()\n",
    "\n",
    "x_processed_dict_H0_XT, x_processed_dict_H0_Xgen, first_times_dict_H0 = generate_data_processed_dict(x_array_H0, acc_realized_H0)\n",
    "# print(\"x_processed_dict_H0_XT.values():\", x_processed_dict_H0_XT.values())\n",
    "# print(len(list(itertools.chain(*list(first_times_dict_H0.values()))))/N)\n",
    "\n",
    "x_processed_dict_H1_XT, x_processed_dict_H1_Xgen, first_times_dict_H1 = generate_data_processed_dict(x_array_H1, acc_realized_H1)\n",
    "# print(len(list(itertools.chain(*list(first_times_dict_H1.values()))))/N)\n",
    "\n",
    "x_values_jumps_H0_XT, x_cdf_dict_H0_XT = generate_cdf_XT(x_processed_dict_H0_XT, first_times_dict_H0, N, T)\n",
    "print()\n",
    "x_values_jumps_H0_Xgen, x_cdf_dict_H0_Xgen = generate_cdf_Xgen(x_processed_dict_H0_Xgen, first_times_dict_H0, N, T)\n",
    "print()\n",
    "\n",
    "x_values_jumps_H1_XT, x_cdf_dict_H1_XT = generate_cdf_XT(x_processed_dict_H1_XT, first_times_dict_H1, N, T)\n",
    "print()\n",
    "x_values_jumps_H1_Xgen, x_cdf_dict_H1_Xgen = generate_cdf_Xgen(x_processed_dict_H1_Xgen, first_times_dict_H1, N, T)\n",
    "print()\n",
    "\n",
    "end_time = time.time()\n",
    "print(\"Time:\", end_time - begin_time)\n",
    "\n",
    "\n"
   ]
  },
  {
   "cell_type": "code",
   "execution_count": 327,
   "id": "1b6c1f5c",
   "metadata": {},
   "outputs": [
    {
     "name": "stdout",
     "output_type": "stream",
     "text": [
      "0.009626224614832535\n",
      "0.2784805150198752\n"
     ]
    }
   ],
   "source": [
    "# Compare CDFs for both the H0 and H1 cases.\n",
    "\n",
    "plot_x_range = np.linspace(x_lower_bound, x_upper_bound, x_values_length+1)\n",
    "\n",
    "print(compare_CDFs(x_cdf_dict_H0_XT, x_cdf_dict_H0_Xgen))\n",
    "print(compare_CDFs(x_cdf_dict_H1_XT, x_cdf_dict_H1_Xgen))\n",
    "\n"
   ]
  },
  {
   "cell_type": "code",
   "execution_count": 328,
   "id": "7ce72f5e",
   "metadata": {},
   "outputs": [],
   "source": [
    "def generate_aligned_cdf_dict(x_cdf_dict, plot_x_range):\n",
    "    aligned_cdf_dict = {}\n",
    "    aligned_cdf_values = []\n",
    "    for x_value in plot_x_range:\n",
    "        cdf_value_temp = cdf_value(x_value, x_cdf_dict)\n",
    "        aligned_cdf_dict[x_value] = cdf_value_temp\n",
    "        aligned_cdf_values.append(cdf_value_temp)\n",
    "    \n",
    "    return aligned_cdf_dict, np.array(aligned_cdf_values)\n",
    "    "
   ]
  },
  {
   "cell_type": "code",
   "execution_count": 329,
   "id": "63b4ed9b",
   "metadata": {},
   "outputs": [
    {
     "name": "stdout",
     "output_type": "stream",
     "text": [
      "(1001,)\n",
      "(1001,)\n"
     ]
    },
    {
     "data": {
      "text/plain": [
       "[<matplotlib.lines.Line2D at 0x7fdc2cf47f10>]"
      ]
     },
     "execution_count": 329,
     "metadata": {},
     "output_type": "execute_result"
    },
    {
     "data": {
      "image/png": "[encoded data removed]",
      "text/plain": [
       "<Figure size 432x288 with 1 Axes>"
      ]
     },
     "metadata": {
      "needs_background": "light"
     },
     "output_type": "display_data"
    }
   ],
   "source": [
    "x_lower_bound = 50\n",
    "x_upper_bound = 150\n",
    "x_values_length = 1000\n",
    "\n",
    "plot_x_range = np.linspace(x_lower_bound, x_upper_bound, x_values_length+1)\n",
    "_, x_cdf_values_H0_XT_aligned = generate_aligned_cdf_dict(x_cdf_dict_H0_XT, plot_x_range)\n",
    "_, x_cdf_values_H0_Xgen_aligned = generate_aligned_cdf_dict(x_cdf_dict_H0_Xgen, plot_x_range)\n",
    "\n",
    "# print(x_cdf_dict_H0_Xgen_aligned)\n",
    "print(x_cdf_values_H0_XT_aligned.shape)\n",
    "print(plot_x_range.shape)\n",
    "\n",
    "\n",
    "plt.plot(plot_x_range, x_cdf_values_H0_XT_aligned)\n",
    "plt.plot(plot_x_range, x_cdf_values_H0_Xgen_aligned)"
   ]
  },
  {
   "cell_type": "code",
   "execution_count": 330,
   "id": "c59cdeab",
   "metadata": {},
   "outputs": [
    {
     "name": "stdout",
     "output_type": "stream",
     "text": [
      "(1001,)\n",
      "(1001,)\n"
     ]
    },
    {
     "data": {
      "text/plain": [
       "[<matplotlib.lines.Line2D at 0x7fdc28708cd0>]"
      ]
     },
     "execution_count": 330,
     "metadata": {},
     "output_type": "execute_result"
    },
    {
     "data": {
      "image/png": "[encoded data removed]",
      "text/plain": [
       "<Figure size 432x288 with 1 Axes>"
      ]
     },
     "metadata": {
      "needs_background": "light"
     },
     "output_type": "display_data"
    }
   ],
   "source": [
    "x_lower_bound = 50\n",
    "x_upper_bound = 150\n",
    "x_values_length = 1000\n",
    "\n",
    "plot_x_range = np.linspace(x_lower_bound, x_upper_bound, x_values_length+1)\n",
    "_, x_cdf_values_H1_XT_aligned = generate_aligned_cdf_dict(x_cdf_dict_H1_XT, plot_x_range)\n",
    "_, x_cdf_values_H1_Xgen_aligned = generate_aligned_cdf_dict(x_cdf_dict_H1_Xgen, plot_x_range)\n",
    "\n",
    "# print(x_cdf_dict_H0_Xgen_aligned)\n",
    "print(x_cdf_values_H1_XT_aligned.shape)\n",
    "print(plot_x_range.shape)\n",
    "\n",
    "plt.plot(plot_x_range, x_cdf_values_H1_XT_aligned)\n",
    "plt.plot(plot_x_range, x_cdf_values_H1_Xgen_aligned)"
   ]
  },
  {
   "cell_type": "code",
   "execution_count": null,
   "id": "bbc273bf",
   "metadata": {},
   "outputs": [],
   "source": []
  },
  {
   "cell_type": "code",
   "execution_count": null,
   "id": "a5f0c74a",
   "metadata": {},
   "outputs": [],
   "source": []
  },
  {
   "cell_type": "code",
   "execution_count": 1,
   "id": "f926bba4",
   "metadata": {},
   "outputs": [],
   "source": [
    "# begin_time = time.time()\n",
    "\n",
    "# x_processed_dict_H1, first_times_dict_H1 = generate_data_processed_dict(x_array_H1, acc_realized_H1)\n",
    "\n",
    "# # print(x_processed_dict_H1.keys())\n",
    "# # print()\n",
    "# # print(first_times_dict_H1.keys())\n",
    "\n",
    "# # x_processed_dict_H1\n",
    "# # x_values_jumps_H1 = list(itertools.chain(*list(x_processed_dict_H1.values())))\n",
    "\n",
    "\n",
    "# print(x_processed_dict_H1.keys())\n",
    "# print()\n",
    "# print(first_times_dict_H1.keys())\n",
    "# print()\n",
    "\n",
    "\n",
    "# x_values_jumps_H1, cdf_value_at_jumps_H1 = generate_cdf_Xgen(x_processed_dict_H1, first_times_dict_H1, N, T)\n",
    "\n",
    "# # print(len(list(itertools.chain(*list(first_times_dict_H1.values())))))\n",
    "\n",
    "# # end_time = time.time()\n",
    "\n",
    "# # print(\"\\nTotal time:\", end_time - begin_time)\n",
    "\n",
    "\n"
   ]
  },
  {
   "cell_type": "code",
   "execution_count": 3,
   "id": "aadca6e7",
   "metadata": {},
   "outputs": [],
   "source": [
    "# cdf_value_at_jumps_H1[-1]"
   ]
  },
  {
   "cell_type": "code",
   "execution_count": null,
   "id": "b46a77be",
   "metadata": {},
   "outputs": [],
   "source": []
  },
  {
   "cell_type": "markdown",
   "id": "4d0dcbc4",
   "metadata": {},
   "source": [
    "# Scratch Work"
   ]
  },
  {
   "cell_type": "code",
   "execution_count": null,
   "id": "51070481",
   "metadata": {},
   "outputs": [],
   "source": []
  }
 ],
 "metadata": {
  "kernelspec": {
   "display_name": "Python 3 (ipykernel)",
   "language": "python",
   "name": "python3"
  },
  "language_info": {
   "codemirror_mode": {
    "name": "ipython",
    "version": 3
   },
   "file_extension": ".py",
   "mimetype": "text/x-python",
   "name": "python",
   "nbconvert_exporter": "python",
   "pygments_lexer": "ipython3",
   "version": "3.9.12"
  }
 },
 "nbformat": 4,
 "nbformat_minor": 5
}
