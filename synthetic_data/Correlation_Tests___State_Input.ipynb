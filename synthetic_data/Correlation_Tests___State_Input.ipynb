{
 "cells": [
  {
   "cell_type": "code",
   "execution_count": 10,
   "id": "3b78e4b7",
   "metadata": {},
   "outputs": [],
   "source": [
    "import numpy as np\n",
    "import matplotlib.pyplot as plt\n",
    "import causallearn\n",
    "from causallearn.utils.cit import *\n",
    "from causallearn.graph.GraphClass import CausalGraph\n",
    "import pandas as pd\n",
    "from itertools import combinations, permutations\n",
    "from numpy import ndarray\n",
    "from typing import Dict, List, Tuple\n",
    "from causallearn.utils.cit import fisherz\n",
    "import random\n",
    "import time\n",
    "\n",
    "import scipy as sp"
   ]
  },
  {
   "cell_type": "markdown",
   "id": "dbe23cf8",
   "metadata": {},
   "source": [
    "# Initialize Dataset (Sample num_traj trajectories of length T)"
   ]
  },
  {
   "cell_type": "code",
   "execution_count": 11,
   "id": "2c292ec3",
   "metadata": {},
   "outputs": [],
   "source": [
    "beta = 0.6\n",
    "num_states = 50\n",
    "num_inputs = 20\n",
    "\n",
    "A = np.random.normal(0,1, (num_states, num_states))\n",
    "B = np.ones((num_states, num_inputs)) * beta\n",
    "T = 2\n",
    "num_traj = 20000\n",
    "# num_traj = 10000\n",
    "\n",
    "for traj_id in range(num_traj):\n",
    "    x_vec = np.zeros((num_states, T))\n",
    "    x_vec[:, 0] = np.random.randn(num_states)\n",
    "    u_vec = np.random.randn(num_inputs, T)\n",
    "    #w_vec = np.random.randn(2,T) * np.sqrt(1 - alpha**2 - beta**2)\n",
    "    \n",
    "    for t in range(T-1):\n",
    "    #     print(t)\n",
    "        x_vec[:, t+1] = A @ x_vec[:, t] + B @ u_vec[:,t] #+ w_vec[:, t]\n",
    "    \n",
    "    x_u_vec = np.block([[x_vec], [u_vec]])\n",
    "    \n",
    "    if traj_id == 0:\n",
    "        traj_dataset = np.zeros((num_traj, x_u_vec.shape[0], x_u_vec.shape[1]))\n",
    "        traj_dataset[0, :, :] = x_u_vec\n",
    "    else:\n",
    "        traj_dataset[traj_id, :, :] = x_u_vec\n"
   ]
  },
  {
   "cell_type": "code",
   "execution_count": 12,
   "id": "f522cdbe",
   "metadata": {},
   "outputs": [
    {
     "data": {
      "text/plain": [
       "(20000, 70, 2)"
      ]
     },
     "execution_count": 12,
     "metadata": {},
     "output_type": "execute_result"
    }
   ],
   "source": [
    "# plt.plot(traj_dataset)\n",
    "traj_dataset.shape"
   ]
  },
  {
   "cell_type": "code",
   "execution_count": 13,
   "id": "de10d94e",
   "metadata": {},
   "outputs": [],
   "source": [
    "assert traj_dataset.shape == (num_traj, num_states + num_inputs, T)"
   ]
  },
  {
   "cell_type": "code",
   "execution_count": 14,
   "id": "43cc09bc",
   "metadata": {},
   "outputs": [],
   "source": [
    "num_traj, num_quantities, _ = traj_dataset.shape\n",
    "# num_quantities"
   ]
  },
  {
   "cell_type": "code",
   "execution_count": null,
   "id": "60427eff",
   "metadata": {},
   "outputs": [],
   "source": []
  },
  {
   "cell_type": "markdown",
   "id": "92d45d4e",
   "metadata": {},
   "source": [
    "# Modified PC Algorithm for Learning Number of Inputs"
   ]
  },
  {
   "cell_type": "code",
   "execution_count": 35,
   "id": "dde5f18b",
   "metadata": {},
   "outputs": [],
   "source": [
    "def correlation_test(data, m, rho_m):\n",
    "    num_traj, num_quantities, _ = data.shape\n",
    "    input_indices = []\n",
    "    \n",
    "    for i in range(num_quantities):\n",
    "        node_indices_to_test = np.random.choice(num_quantities, m)\n",
    "        for count, j in enumerate(node_indices_to_test):\n",
    "            corr = sp.stats.pearsonr(traj_dataset[:, j, 0], traj_dataset[:, i, 1])[0]\n",
    "            if corr >= rho_m:\n",
    "                break\n",
    "            if count == m-1:\n",
    "                input_indices.append(i)\n",
    "    \n",
    "    return input_indices\n",
    "\n",
    "def compute_rhos(A, B):\n",
    "    # Returns num_states array x (num_states + num_inputs)\n",
    "    # Accurate only under the given assumptions.\n",
    "    \n",
    "    variances = np.linalg.norm(np.block([A, B]), axis = 1)\n",
    "    rho_array = np.block([A, B]) / variances[:,None]\n",
    "    \n",
    "    return rho_array"
   ]
  },
  {
   "cell_type": "code",
   "execution_count": 36,
   "id": "e2da9905",
   "metadata": {
    "scrolled": true
   },
   "outputs": [
    {
     "data": {
      "text/plain": [
       "array([5.03732466e-05, 1.09017900e-04, 1.48798718e-04, 4.04493533e-04,\n",
       "       4.35406843e-04, 4.46852600e-04, 4.63873653e-04, 4.65179085e-04,\n",
       "       4.78361230e-04, 5.64579597e-04, 6.47314471e-04, 7.32900338e-04,\n",
       "       9.25030194e-04, 9.29905475e-04, 1.11487064e-03, 1.30602607e-03,\n",
       "       1.37881636e-03, 1.38697422e-03, 1.41100224e-03, 1.46242090e-03,\n",
       "       1.48033994e-03, 1.60737815e-03, 1.65011101e-03, 1.68227463e-03,\n",
       "       1.69590402e-03, 1.74346538e-03, 1.84300974e-03, 1.96055780e-03,\n",
       "       1.96302051e-03, 1.99675346e-03, 1.99919980e-03, 2.14395217e-03,\n",
       "       2.20491383e-03, 2.20518863e-03, 2.27603194e-03, 2.31595983e-03,\n",
       "       2.33141228e-03, 2.47477235e-03, 2.48784458e-03, 2.65541887e-03,\n",
       "       2.68468573e-03, 2.71335430e-03, 2.75367424e-03, 2.82493895e-03,\n",
       "       2.86706213e-03, 2.95016919e-03, 3.00978727e-03, 3.06283347e-03,\n",
       "       3.07961796e-03, 3.12057023e-03, 3.20091589e-03, 3.22659762e-03,\n",
       "       3.23765571e-03, 3.27731033e-03, 3.35232346e-03, 3.36180074e-03,\n",
       "       3.37626673e-03, 3.42502291e-03, 3.45414549e-03, 3.46492018e-03,\n",
       "       3.49876899e-03, 3.63300130e-03, 3.67961947e-03, 3.73852146e-03,\n",
       "       3.78929964e-03, 3.97003263e-03, 4.00632582e-03, 4.03770167e-03,\n",
       "       4.06489013e-03, 4.10195200e-03, 4.11642637e-03, 4.11992135e-03,\n",
       "       4.14985997e-03, 4.15389247e-03, 4.22938873e-03, 4.50927173e-03,\n",
       "       4.60134825e-03, 4.72016227e-03, 4.72722880e-03, 4.80094537e-03,\n",
       "       4.91735709e-03, 5.00254585e-03, 5.00554614e-03, 5.06026237e-03,\n",
       "       5.11806473e-03, 5.16443143e-03, 5.23967242e-03, 5.30263608e-03,\n",
       "       5.38819146e-03, 5.39358168e-03, 5.45742228e-03, 5.51901034e-03,\n",
       "       5.52896578e-03, 5.66282655e-03, 5.71853760e-03, 5.87086269e-03,\n",
       "       6.01883030e-03, 6.25309740e-03, 6.33460517e-03, 6.35385760e-03,\n",
       "       6.51379176e-03, 6.54709549e-03, 6.71177287e-03, 6.80423497e-03,\n",
       "       6.81585761e-03, 6.86180112e-03, 6.86717219e-03, 6.88570556e-03,\n",
       "       6.89476980e-03, 6.90822504e-03, 6.91285696e-03, 6.95772629e-03,\n",
       "       7.00775435e-03, 7.13091258e-03, 7.33099715e-03, 7.35075588e-03,\n",
       "       7.36830505e-03, 7.44062847e-03, 7.45117636e-03, 7.61672667e-03,\n",
       "       7.67801579e-03, 7.75308585e-03, 7.87423016e-03, 7.94377274e-03,\n",
       "       8.02383716e-03, 8.02929970e-03, 8.22550466e-03, 8.23500088e-03,\n",
       "       8.50087192e-03, 8.51534960e-03, 8.58988698e-03, 8.71884640e-03,\n",
       "       8.78889979e-03, 8.79085317e-03, 8.79245033e-03, 8.80944614e-03,\n",
       "       8.82057116e-03, 8.89314769e-03, 8.91348244e-03, 9.07923799e-03,\n",
       "       9.11513285e-03, 9.21079809e-03, 9.30344948e-03, 9.39221846e-03,\n",
       "       9.54967298e-03, 9.59081362e-03, 9.63545007e-03, 9.67216724e-03,\n",
       "       9.69434155e-03, 9.70795100e-03, 9.77155302e-03, 1.00304175e-02,\n",
       "       1.01271349e-02, 1.02012807e-02, 1.02175541e-02, 1.04220525e-02,\n",
       "       1.04988709e-02, 1.05277942e-02, 1.05341943e-02, 1.05649231e-02,\n",
       "       1.05897801e-02, 1.06156844e-02, 1.06805583e-02, 1.07492488e-02,\n",
       "       1.08054524e-02, 1.10707747e-02, 1.10980777e-02, 1.11177169e-02,\n",
       "       1.11514079e-02, 1.12020317e-02, 1.13213897e-02, 1.14942405e-02,\n",
       "       1.15180222e-02, 1.15382078e-02, 1.16089089e-02, 1.18328616e-02,\n",
       "       1.18726867e-02, 1.20140398e-02, 1.20646107e-02, 1.21461450e-02,\n",
       "       1.21916234e-02, 1.22464624e-02, 1.22741446e-02, 1.24144882e-02,\n",
       "       1.25134477e-02, 1.25829637e-02, 1.26079322e-02, 1.26097252e-02,\n",
       "       1.26271180e-02, 1.27348606e-02, 1.27949421e-02, 1.27973710e-02,\n",
       "       1.28040949e-02, 1.28141666e-02, 1.29738150e-02, 1.30300984e-02,\n",
       "       1.31681995e-02, 1.32839966e-02, 1.33405088e-02, 1.33692987e-02,\n",
       "       1.34171075e-02, 1.34823710e-02, 1.35284116e-02, 1.36392502e-02,\n",
       "       1.37209285e-02, 1.39188688e-02, 1.39431173e-02, 1.39538059e-02,\n",
       "       1.39557124e-02, 1.39695733e-02, 1.39753170e-02, 1.40339304e-02,\n",
       "       1.41413958e-02, 1.42032015e-02, 1.42869557e-02, 1.43446248e-02,\n",
       "       1.44255421e-02, 1.45172380e-02, 1.45262352e-02, 1.45519530e-02,\n",
       "       1.46222189e-02, 1.49597630e-02, 1.50702639e-02, 1.51934752e-02,\n",
       "       1.51969721e-02, 1.52794190e-02, 1.53343451e-02, 1.54776492e-02,\n",
       "       1.54992408e-02, 1.55811085e-02, 1.56385660e-02, 1.56657837e-02,\n",
       "       1.57303411e-02, 1.59988580e-02, 1.61908793e-02, 1.62097739e-02,\n",
       "       1.63462405e-02, 1.65109298e-02, 1.65183903e-02, 1.65209082e-02,\n",
       "       1.66052589e-02, 1.67217452e-02, 1.67488595e-02, 1.68518483e-02,\n",
       "       1.68603734e-02, 1.68620202e-02, 1.68864316e-02, 1.69540130e-02,\n",
       "       1.70243236e-02, 1.70750322e-02, 1.70808493e-02, 1.70905765e-02,\n",
       "       1.71120854e-02, 1.71471394e-02, 1.72234239e-02, 1.72286500e-02,\n",
       "       1.72610815e-02, 1.72922440e-02, 1.73170304e-02, 1.74511075e-02,\n",
       "       1.77129705e-02, 1.77458129e-02, 1.77976887e-02, 1.78347244e-02,\n",
       "       1.80341084e-02, 1.80525327e-02, 1.81182083e-02, 1.81403480e-02,\n",
       "       1.81645737e-02, 1.82210422e-02, 1.82345285e-02, 1.82918407e-02,\n",
       "       1.84188461e-02, 1.84390357e-02, 1.84577822e-02, 1.85306535e-02,\n",
       "       1.86151170e-02, 1.86872378e-02, 1.87900495e-02, 1.88177207e-02,\n",
       "       1.89628834e-02, 1.91458929e-02, 1.91557597e-02, 1.91989415e-02,\n",
       "       1.92012092e-02, 1.92928883e-02, 1.93425015e-02, 1.94181937e-02,\n",
       "       1.94244276e-02, 1.94781777e-02, 1.94968021e-02, 1.95181561e-02,\n",
       "       1.95539735e-02, 1.95981745e-02, 1.97658680e-02, 1.97762942e-02,\n",
       "       1.97858206e-02, 1.97909075e-02, 1.97933115e-02, 1.98776231e-02,\n",
       "       2.00049401e-02, 2.00057826e-02, 2.00746099e-02, 2.01077457e-02,\n",
       "       2.01680813e-02, 2.02218944e-02, 2.02447983e-02, 2.02949943e-02,\n",
       "       2.03336087e-02, 2.03823350e-02, 2.04358540e-02, 2.06157723e-02,\n",
       "       2.06907279e-02, 2.07699506e-02, 2.08131613e-02, 2.08163694e-02,\n",
       "       2.08435037e-02, 2.08592662e-02, 2.08922019e-02, 2.09071725e-02,\n",
       "       2.09363996e-02, 2.09840910e-02, 2.11232943e-02, 2.11566944e-02,\n",
       "       2.12035780e-02, 2.12077786e-02, 2.12283954e-02, 2.12428736e-02,\n",
       "       2.12918628e-02, 2.13689023e-02, 2.14680725e-02, 2.15935839e-02,\n",
       "       2.20018214e-02, 2.20112263e-02, 2.20336224e-02, 2.21293355e-02,\n",
       "       2.21995149e-02, 2.22378340e-02, 2.22991341e-02, 2.23553722e-02,\n",
       "       2.23567292e-02, 2.24053468e-02, 2.25870350e-02, 2.26390997e-02,\n",
       "       2.26509898e-02, 2.28137576e-02, 2.29106112e-02, 2.29354587e-02,\n",
       "       2.31008948e-02, 2.31269710e-02])"
      ]
     },
     "execution_count": 36,
     "metadata": {},
     "output_type": "execute_result"
    }
   ],
   "source": [
    "rho_vec = np.sort(abs(compute_rhos(A, B).flatten()), axis=None)\n",
    "rho_vec[0:350]"
   ]
  },
  {
   "cell_type": "code",
   "execution_count": 37,
   "id": "010d30ed",
   "metadata": {},
   "outputs": [],
   "source": [
    "list_1 = [3, 4, 5]\n",
    "list_2 = [4, 5, 6]\n",
    "\n",
    "list_1_not_2 = [k for k in list_1 if k not in list_2]\n",
    "list_2_not_1 = [k for k in list_2 if k not in list_1]"
   ]
  },
  {
   "cell_type": "code",
   "execution_count": 38,
   "id": "3b40940f",
   "metadata": {
    "scrolled": true
   },
   "outputs": [
    {
     "name": "stdout",
     "output_type": "stream",
     "text": [
      "\n",
      "\n",
      "count_m: 0\n",
      "count_rho 0\n",
      "count_rho 1\n",
      "count_rho 2\n",
      "count_rho 3\n",
      "count_rho 4\n",
      "\n",
      "\n",
      "count_m: 1\n",
      "count_rho 0\n",
      "count_rho 1\n",
      "count_rho 2\n",
      "count_rho 3\n",
      "count_rho 4\n",
      "\n",
      "\n",
      "count_m: 2\n",
      "count_rho 0\n",
      "count_rho 1\n",
      "count_rho 2\n",
      "count_rho 3\n",
      "count_rho 4\n",
      "\n",
      "\n",
      "count_m: 3\n",
      "count_rho 0\n",
      "count_rho 1\n",
      "count_rho 2\n",
      "count_rho 3\n",
      "count_rho 4\n",
      "\n",
      "\n",
      "count_m: 4\n",
      "count_rho 0\n",
      "count_rho 1\n",
      "count_rho 2\n",
      "count_rho 3\n",
      "count_rho 4\n",
      "\n",
      "\n",
      "count_m: 5\n",
      "count_rho 0\n",
      "count_rho 1\n",
      "count_rho 2\n",
      "count_rho 3\n",
      "count_rho 4\n",
      "\n",
      "\n",
      "count_m: 6\n",
      "count_rho 0\n",
      "count_rho 1\n",
      "count_rho 2\n",
      "count_rho 3\n",
      "count_rho 4\n",
      "\n",
      "\n",
      "count_m: 7\n",
      "count_rho 0\n",
      "count_rho 1\n",
      "count_rho 2\n",
      "count_rho 3\n",
      "count_rho 4\n",
      "\n",
      "\n",
      "count_m: 8\n",
      "count_rho 0\n",
      "count_rho 1\n",
      "count_rho 2\n",
      "count_rho 3\n",
      "count_rho 4\n",
      "\n",
      "\n",
      "count_m: 9\n",
      "count_rho 0\n",
      "count_rho 1\n",
      "count_rho 2\n",
      "count_rho 3\n",
      "count_rho 4\n",
      "Time: 122.21105098724365\n"
     ]
    }
   ],
   "source": [
    "begin_time = time.time()\n",
    "\n",
    "m_list = [2*x + 2 for x in list(range(10))]\n",
    "rho_min_list = [x * 0.02 + 0.02 for x in list(range(5))]\n",
    "input_indices_true = list(range(num_states, num_states + num_inputs))\n",
    "num_trials = 10\n",
    "\n",
    "false_positive_avg_array = np.zeros((len(m_list), len(rho_min_list)))\n",
    "missed_detection_avg_array = np.zeros((len(m_list), len(rho_min_list)))\n",
    "\n",
    "for count_m, m in enumerate(m_list):\n",
    "    print(\"\\n\")\n",
    "    print(\"count_m:\", count_m)\n",
    "    for count_rho, rho_min in enumerate(rho_min_list):\n",
    "        print(\"count_rho\", count_rho)\n",
    "        false_positive_quantity_list = []\n",
    "        missed_detection_quantity_list = []\n",
    "        for trial_id in range(num_trials):\n",
    "            input_indices_est = correlation_test(traj_dataset, m, rho_min)\n",
    "            false_positive_quantity_list.append(len([k for k in input_indices_est if k not in input_indices_true]))\n",
    "            missed_detection_quantity_list.append(len([k for k in input_indices_true if k not in input_indices_est]))\n",
    "        false_positive_avg_array[count_m, count_rho] = sum(false_positive_quantity_list)/len(false_positive_quantity_list)\n",
    "        missed_detection_avg_array[count_m, count_rho] = sum(missed_detection_quantity_list)/len(missed_detection_quantity_list)\n",
    "\n",
    "end_time = time.time()\n",
    "print(\"Time:\", end_time - begin_time)\n",
    "        \n",
    "# print(correlation_test(traj_dataset, 10, 0.05))\n",
    "\n"
   ]
  },
  {
   "cell_type": "code",
   "execution_count": 39,
   "id": "18e742e0",
   "metadata": {},
   "outputs": [
    {
     "name": "stdout",
     "output_type": "stream",
     "text": [
      "[[ 8.  10.4 12.2 20.2 34. ]\n",
      " [ 1.   2.2  2.9  9.8 26.3]\n",
      " [ 0.2  0.5  0.7  4.1 16. ]\n",
      " [ 0.1  0.   0.1  3.1 12.2]\n",
      " [ 0.   0.1  0.2  1.9  9.4]\n",
      " [ 0.   0.   0.   1.4  6.6]\n",
      " [ 0.   0.   0.   0.8  4.1]\n",
      " [ 0.   0.   0.   0.4  4. ]\n",
      " [ 0.   0.   0.   0.3  1.8]\n",
      " [ 0.   0.   0.   0.1  1.6]]\n",
      "\n",
      "\n",
      "[[0.  0.  0.  0.  0. ]\n",
      " [0.  0.  0.  0.  0. ]\n",
      " [0.1 0.  0.  0.  0. ]\n",
      " [0.  0.  0.  0.  0. ]\n",
      " [0.  0.  0.  0.  0. ]\n",
      " [0.2 0.  0.  0.  0. ]\n",
      " [0.  0.  0.  0.  0. ]\n",
      " [0.1 0.  0.  0.  0. ]\n",
      " [0.4 0.  0.  0.  0. ]\n",
      " [0.2 0.  0.  0.  0. ]]\n"
     ]
    }
   ],
   "source": [
    "print(false_positive_avg_array)\n",
    "print(\"\\n\")\n",
    "print(missed_detection_avg_array)"
   ]
  },
  {
   "cell_type": "code",
   "execution_count": null,
   "id": "86bd06f4",
   "metadata": {},
   "outputs": [],
   "source": []
  },
  {
   "cell_type": "code",
   "execution_count": 245,
   "id": "286cebce",
   "metadata": {},
   "outputs": [],
   "source": [
    "# Save results:\n",
    "\n",
    "path_directory = \"/Users/chih-yuanchiu/Desktop/Code/Causality_Time_Series/data/\"\n",
    "\n",
    "path_file = path_directory + \"false_positive_avg_array.csv\"\n",
    "false_positive_avg_array_pd = pd.DataFrame(false_positive_avg_array)\n",
    "false_positive_avg_array_pd.to_csv(path_file, index=False)\n",
    "\n",
    "path_file = path_directory + \"missed_detection_avg_array.csv\"\n",
    "missed_detection_avg_array_pd = pd.DataFrame(missed_detection_avg_array)\n",
    "missed_detection_avg_array_pd.to_csv(path_file, index=False)\n",
    "\n"
   ]
  },
  {
   "cell_type": "code",
   "execution_count": null,
   "id": "c05784d8",
   "metadata": {},
   "outputs": [],
   "source": []
  },
  {
   "cell_type": "code",
   "execution_count": null,
   "id": "aa0ddff7",
   "metadata": {},
   "outputs": [],
   "source": []
  },
  {
   "cell_type": "markdown",
   "id": "4005027d",
   "metadata": {},
   "source": [
    "# Kshitij's algorithms:"
   ]
  },
  {
   "cell_type": "code",
   "execution_count": null,
   "id": "f004efef",
   "metadata": {},
   "outputs": [],
   "source": [
    "def compute_sample_corr(data,i,j, num_samples):\n",
    "    avg_t_plus = (1/num_samples)*data[:,i].sum()\n",
    "    avg_t = (1/num_samples)*data[:,j].sum()\n",
    "    diff_t_plus = data[:, i] - avg_t_plus\n",
    "    diff_t = data[:,j] - avg_t_plus\n",
    "    diff_t_plus_sq = (diff_t_plus**2).sum()\n",
    "    diff_t_sq = (diff_t**2).sum()\n",
    "    corr = (np.dot(diff_t_plus, diff_t))/np.sqrt((diff_t_plus_sq*diff_t_sq))\n",
    "    return corr\n",
    "\n",
    "def modified_pc(data, m, num_samples, num_observations, rho_m):\n",
    "    input_set = []\n",
    "    for i in range(data.shape[1]):\n",
    "        subset = np.array(random.sample(list(range(data.shape[1])), m))\n",
    "        for j in subset:\n",
    "            rho_m_hat = compute_sample_corr(data, i,j, num_samples)\n",
    "            if abs(rho_m_hat) >= 0.5*rho_m:\n",
    "                break \n",
    "            if j == subset[-1]:\n",
    "                input_set.append(i)\n",
    "    return input_set\n",
    "\n",
    "\n"
   ]
  }
 ],
 "metadata": {
  "kernelspec": {
   "display_name": "Python 3 (ipykernel)",
   "language": "python",
   "name": "python3"
  },
  "language_info": {
   "codemirror_mode": {
    "name": "ipython",
    "version": 3
   },
   "file_extension": ".py",
   "mimetype": "text/x-python",
   "name": "python",
   "nbconvert_exporter": "python",
   "pygments_lexer": "ipython3",
   "version": "3.8.13"
  }
 },
 "nbformat": 4,
 "nbformat_minor": 5
}
