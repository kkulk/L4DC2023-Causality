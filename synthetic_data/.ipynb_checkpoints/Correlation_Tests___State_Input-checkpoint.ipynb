{
 "cells": [
  {
   "cell_type": "code",
<<<<<<< HEAD:frank/Modified_Causality___CYC.ipynb
   "execution_count": 1,
=======
   "execution_count": 10,
>>>>>>> da2366afdd69831c11ec425053a6a8d6e1e7926f:frank/.ipynb_checkpoints/Correlation_Tests___State_Input-checkpoint.ipynb
   "id": "3b78e4b7",
   "metadata": {},
   "outputs": [],
   "source": [
    "import numpy as np\n",
    "import matplotlib.pyplot as plt\n",
    "import causallearn\n",
    "from causallearn.utils.cit import *\n",
    "from causallearn.graph.GraphClass import CausalGraph\n",
    "import pandas as pd\n",
    "from itertools import combinations, permutations\n",
    "from numpy import ndarray\n",
    "from typing import Dict, List, Tuple\n",
    "from causallearn.utils.cit import fisherz\n",
    "import random\n",
    "import time\n",
    "\n",
    "import scipy as sp"
   ]
  },
  {
   "cell_type": "markdown",
   "id": "dbe23cf8",
   "metadata": {},
   "source": [
    "# Initialize Dataset (Sample num_traj trajectories of length T)"
   ]
  },
  {
   "cell_type": "code",
<<<<<<< HEAD:frank/Modified_Causality___CYC.ipynb
   "execution_count": 2,
=======
   "execution_count": 11,
>>>>>>> da2366afdd69831c11ec425053a6a8d6e1e7926f:frank/.ipynb_checkpoints/Correlation_Tests___State_Input-checkpoint.ipynb
   "id": "2c292ec3",
   "metadata": {},
   "outputs": [],
   "source": [
    "beta = 0.6\n",
    "num_states = 50\n",
    "num_inputs = 20\n",
    "\n",
    "A = np.random.normal(0,1, (num_states, num_states))\n",
    "B = np.ones((num_states, num_inputs)) * beta\n",
    "T = 2\n",
    "num_traj = 20000\n",
    "# num_traj = 10000\n",
    "\n",
    "for traj_id in range(num_traj):\n",
    "    x_vec = np.zeros((num_states, T))\n",
    "    x_vec[:, 0] = np.random.randn(num_states)\n",
    "    u_vec = np.random.randn(num_inputs, T)\n",
    "    #w_vec = np.random.randn(2,T) * np.sqrt(1 - alpha**2 - beta**2)\n",
    "    \n",
    "    for t in range(T-1):\n",
    "    #     print(t)\n",
    "        x_vec[:, t+1] = A @ x_vec[:, t] + B @ u_vec[:,t] #+ w_vec[:, t]\n",
    "    \n",
    "    x_u_vec = np.block([[x_vec], [u_vec]])\n",
    "    \n",
    "    if traj_id == 0:\n",
    "        traj_dataset = np.zeros((num_traj, x_u_vec.shape[0], x_u_vec.shape[1]))\n",
    "        traj_dataset[0, :, :] = x_u_vec\n",
    "    else:\n",
    "        traj_dataset[traj_id, :, :] = x_u_vec\n"
   ]
  },
  {
   "cell_type": "code",
<<<<<<< HEAD:frank/Modified_Causality___CYC.ipynb
   "execution_count": 3,
=======
   "execution_count": 12,
>>>>>>> da2366afdd69831c11ec425053a6a8d6e1e7926f:frank/.ipynb_checkpoints/Correlation_Tests___State_Input-checkpoint.ipynb
   "id": "f522cdbe",
   "metadata": {},
   "outputs": [
    {
     "data": {
      "text/plain": [
       "(20000, 70, 2)"
      ]
     },
<<<<<<< HEAD:frank/Modified_Causality___CYC.ipynb
     "execution_count": 3,
=======
     "execution_count": 12,
>>>>>>> da2366afdd69831c11ec425053a6a8d6e1e7926f:frank/.ipynb_checkpoints/Correlation_Tests___State_Input-checkpoint.ipynb
     "metadata": {},
     "output_type": "execute_result"
    }
   ],
   "source": [
    "# plt.plot(traj_dataset)\n",
    "traj_dataset.shape"
   ]
  },
  {
   "cell_type": "code",
<<<<<<< HEAD:frank/Modified_Causality___CYC.ipynb
   "execution_count": 4,
=======
   "execution_count": 13,
>>>>>>> da2366afdd69831c11ec425053a6a8d6e1e7926f:frank/.ipynb_checkpoints/Correlation_Tests___State_Input-checkpoint.ipynb
   "id": "de10d94e",
   "metadata": {},
   "outputs": [],
   "source": [
    "assert traj_dataset.shape == (num_traj, num_states + num_inputs, T)"
   ]
  },
  {
   "cell_type": "code",
<<<<<<< HEAD:frank/Modified_Causality___CYC.ipynb
   "execution_count": 5,
=======
   "execution_count": 14,
>>>>>>> da2366afdd69831c11ec425053a6a8d6e1e7926f:frank/.ipynb_checkpoints/Correlation_Tests___State_Input-checkpoint.ipynb
   "id": "43cc09bc",
   "metadata": {},
   "outputs": [],
   "source": [
    "num_traj, num_quantities, _ = traj_dataset.shape\n",
    "# num_quantities"
   ]
  },
  {
   "cell_type": "code",
   "execution_count": null,
   "id": "60427eff",
   "metadata": {},
   "outputs": [],
   "source": []
  },
  {
   "cell_type": "markdown",
   "id": "92d45d4e",
   "metadata": {},
   "source": [
    "# Modified PC Algorithm for Learning Number of Inputs"
   ]
  },
  {
   "cell_type": "code",
<<<<<<< HEAD:frank/Modified_Causality___CYC.ipynb
   "execution_count": 29,
=======
   "execution_count": 35,
>>>>>>> da2366afdd69831c11ec425053a6a8d6e1e7926f:frank/.ipynb_checkpoints/Correlation_Tests___State_Input-checkpoint.ipynb
   "id": "dde5f18b",
   "metadata": {},
   "outputs": [],
   "source": [
    "def correlation_test(data, m, rho_m):\n",
    "    num_traj, num_quantities, _ = data.shape\n",
    "    input_indices = []\n",
    "    \n",
    "    for i in range(num_quantities):\n",
    "        node_indices_to_test = np.random.choice(num_quantities, m)\n",
<<<<<<< HEAD:frank/Modified_Causality___CYC.ipynb
    "        for count, i in enumerate(node_indices_to_test):\n",
    "            corr = sp.stats.pearsonr(traj_dataset[:, i, 0], traj_dataset[:, j, 1])[0]\n",
    "            if abs(corr) >= 0.5*rho_m:\n",
=======
    "        for count, j in enumerate(node_indices_to_test):\n",
    "            corr = sp.stats.pearsonr(traj_dataset[:, j, 0], traj_dataset[:, i, 1])[0]\n",
    "            if corr >= rho_m:\n",
>>>>>>> da2366afdd69831c11ec425053a6a8d6e1e7926f:frank/.ipynb_checkpoints/Correlation_Tests___State_Input-checkpoint.ipynb
    "                break\n",
    "            if count == m-1:\n",
    "                input_indices.append(i)\n",
    "    \n",
    "    return input_indices\n",
    "\n",
    "def compute_rhos(A, B):\n",
    "    # Returns num_states array x (num_states + num_inputs)\n",
    "    # Accurate only under the given assumptions.\n",
    "    \n",
    "    variances = np.linalg.norm(np.block([A, B]), axis = 1)\n",
    "    rho_array = np.block([A, B]) / variances[:,None]\n",
    "    \n",
    "    return rho_array"
   ]
  },
  {
   "cell_type": "code",
<<<<<<< HEAD:frank/Modified_Causality___CYC.ipynb
   "execution_count": 7,
=======
   "execution_count": 36,
>>>>>>> da2366afdd69831c11ec425053a6a8d6e1e7926f:frank/.ipynb_checkpoints/Correlation_Tests___State_Input-checkpoint.ipynb
   "id": "e2da9905",
   "metadata": {
    "scrolled": true
   },
   "outputs": [
    {
     "data": {
      "text/plain": [
<<<<<<< HEAD:frank/Modified_Causality___CYC.ipynb
       "array([7.54577954e-05, 1.59576002e-04, 1.76610052e-04, 3.73731356e-04,\n",
       "       4.55162773e-04, 5.79853332e-04, 5.85451200e-04, 6.19544459e-04,\n",
       "       6.75342331e-04, 7.00403437e-04, 7.99258510e-04, 8.36408460e-04,\n",
       "       8.37519933e-04, 9.01528670e-04, 1.04573187e-03, 1.07988723e-03,\n",
       "       1.28293849e-03, 1.31264369e-03, 1.45748356e-03, 1.49858980e-03,\n",
       "       1.52645136e-03, 1.58119996e-03, 1.59715852e-03, 1.67008853e-03,\n",
       "       1.72538583e-03, 1.92423492e-03, 1.97541476e-03, 1.97748156e-03,\n",
       "       2.00217482e-03, 2.06333095e-03, 2.11042534e-03, 2.17546164e-03,\n",
       "       2.29482996e-03, 2.32376078e-03, 2.35401564e-03, 2.50184037e-03,\n",
       "       2.59078530e-03, 2.74517300e-03, 2.75912693e-03, 2.81454300e-03,\n",
       "       2.87174189e-03, 3.15215593e-03, 3.17915414e-03, 3.23906640e-03,\n",
       "       3.27481596e-03, 3.39320990e-03, 3.39557230e-03, 3.64721369e-03,\n",
       "       3.78708806e-03, 3.87634872e-03, 3.92154858e-03, 3.92788812e-03,\n",
       "       3.93753313e-03, 3.94613324e-03, 4.02946841e-03, 4.08887222e-03,\n",
       "       4.15198387e-03, 4.18997216e-03, 4.27362224e-03, 4.39653879e-03,\n",
       "       4.42788308e-03, 4.50246535e-03, 4.51580506e-03, 4.64937648e-03,\n",
       "       4.65742872e-03, 4.67614309e-03, 4.68964261e-03, 4.69402517e-03,\n",
       "       4.76184026e-03, 4.84020625e-03, 4.95616572e-03, 5.26595673e-03,\n",
       "       5.27922960e-03, 5.30189503e-03, 5.30275263e-03, 5.30589165e-03,\n",
       "       5.36719284e-03, 5.44900490e-03, 5.49244472e-03, 5.58613926e-03,\n",
       "       5.58671061e-03, 5.70953964e-03, 5.79076805e-03, 5.83661781e-03,\n",
       "       6.10305311e-03, 6.10570183e-03, 6.11342755e-03, 6.12563412e-03,\n",
       "       6.14631265e-03, 6.17900562e-03, 6.23778705e-03, 6.36928406e-03,\n",
       "       6.39894751e-03, 6.44064106e-03, 6.44716025e-03, 6.63647657e-03,\n",
       "       6.78425647e-03, 6.82274331e-03, 6.87682954e-03, 7.02170862e-03,\n",
       "       7.10122927e-03, 7.15529233e-03, 7.19974600e-03, 7.20178678e-03,\n",
       "       7.22670746e-03, 7.25191511e-03, 7.27071674e-03, 7.31639392e-03,\n",
       "       7.44078431e-03, 7.51413643e-03, 7.51951452e-03, 7.61195314e-03,\n",
       "       7.85620196e-03, 7.87817086e-03, 7.89853158e-03, 7.99927579e-03,\n",
       "       8.00930992e-03, 8.11197359e-03, 8.16302963e-03, 8.16616821e-03,\n",
       "       8.22636670e-03, 8.24238288e-03, 8.27620393e-03, 8.35944525e-03,\n",
       "       8.43158741e-03, 8.65560274e-03, 8.69828136e-03, 8.71785732e-03,\n",
       "       8.78923168e-03, 8.87048781e-03, 8.89971446e-03, 8.95977315e-03,\n",
       "       8.98419933e-03, 9.13426318e-03, 9.22701364e-03, 9.42920785e-03,\n",
       "       9.49624397e-03, 9.60737276e-03, 9.70883734e-03, 9.79465216e-03,\n",
       "       9.80537760e-03, 9.85706503e-03, 9.85714674e-03, 9.88538156e-03,\n",
       "       9.89480929e-03, 9.98541195e-03, 9.99412323e-03, 1.01328273e-02,\n",
       "       1.01423255e-02, 1.02516690e-02, 1.03346228e-02, 1.04585793e-02,\n",
       "       1.04681761e-02, 1.07249422e-02, 1.07355486e-02, 1.07401690e-02,\n",
       "       1.08449290e-02, 1.09149973e-02, 1.11451932e-02, 1.11976800e-02,\n",
       "       1.12818854e-02, 1.13677007e-02, 1.13880934e-02, 1.14080406e-02,\n",
       "       1.14633858e-02, 1.15882595e-02, 1.17350875e-02, 1.17835905e-02,\n",
       "       1.17843603e-02, 1.19140823e-02, 1.19864274e-02, 1.20280824e-02,\n",
       "       1.21177734e-02, 1.21233264e-02, 1.21653457e-02, 1.21933441e-02,\n",
       "       1.22926572e-02, 1.22994362e-02, 1.23012194e-02, 1.23144153e-02,\n",
       "       1.23515062e-02, 1.23761135e-02, 1.24307334e-02, 1.24515125e-02,\n",
       "       1.24633737e-02, 1.26328584e-02, 1.26644563e-02, 1.27184935e-02,\n",
       "       1.28205287e-02, 1.28353635e-02, 1.28691524e-02, 1.29212524e-02,\n",
       "       1.30084312e-02, 1.31075755e-02, 1.32491420e-02, 1.33056507e-02,\n",
       "       1.33327803e-02, 1.34860065e-02, 1.35598140e-02, 1.35647178e-02,\n",
       "       1.36262121e-02, 1.36315612e-02, 1.36545724e-02, 1.37347276e-02,\n",
       "       1.37668264e-02, 1.38345840e-02, 1.40481396e-02, 1.40568906e-02,\n",
       "       1.40634079e-02, 1.41105823e-02, 1.41271677e-02, 1.42026699e-02,\n",
       "       1.42204080e-02, 1.42220771e-02, 1.45199055e-02, 1.46038005e-02,\n",
       "       1.46679845e-02, 1.47218739e-02, 1.47333468e-02, 1.47929176e-02,\n",
       "       1.48575316e-02, 1.48662497e-02, 1.49757586e-02, 1.50267250e-02,\n",
       "       1.50569503e-02, 1.50874162e-02, 1.50916982e-02, 1.50987405e-02,\n",
       "       1.51578227e-02, 1.52591025e-02, 1.53034367e-02, 1.53381504e-02,\n",
       "       1.53803879e-02, 1.53952398e-02, 1.55579970e-02, 1.56094961e-02,\n",
       "       1.56743300e-02, 1.57352336e-02, 1.57430357e-02, 1.57590551e-02,\n",
       "       1.57684713e-02, 1.58179257e-02, 1.58754051e-02, 1.59547410e-02,\n",
       "       1.59608130e-02, 1.61073448e-02, 1.61732717e-02, 1.62583026e-02,\n",
       "       1.63478096e-02, 1.63966513e-02, 1.64118555e-02, 1.64918545e-02,\n",
       "       1.67550239e-02, 1.68663959e-02, 1.70180881e-02, 1.71222918e-02,\n",
       "       1.71328042e-02, 1.72610034e-02, 1.74586807e-02, 1.75278762e-02,\n",
       "       1.76944823e-02, 1.78360105e-02, 1.79016479e-02, 1.80411685e-02,\n",
       "       1.80597906e-02, 1.80854786e-02, 1.82167720e-02, 1.83092747e-02,\n",
       "       1.83222267e-02, 1.83331590e-02, 1.83999298e-02, 1.85445375e-02,\n",
       "       1.85515627e-02, 1.85601961e-02, 1.86044212e-02, 1.86294655e-02,\n",
       "       1.87309473e-02, 1.88715052e-02, 1.89063245e-02, 1.89309369e-02,\n",
       "       1.91179636e-02, 1.92069318e-02, 1.92459654e-02, 1.92749216e-02,\n",
       "       1.92954720e-02, 1.93082835e-02, 1.93355468e-02, 1.93566120e-02,\n",
       "       1.95598669e-02, 1.95624187e-02, 1.96161545e-02, 1.96346477e-02,\n",
       "       1.96359361e-02, 1.96372075e-02, 1.97033321e-02, 1.97743912e-02,\n",
       "       1.98116909e-02, 1.98364480e-02, 1.99689869e-02, 2.00997761e-02,\n",
       "       2.01233093e-02, 2.01289369e-02, 2.01692735e-02, 2.03296789e-02,\n",
       "       2.03372964e-02, 2.04148777e-02, 2.04368715e-02, 2.04385651e-02,\n",
       "       2.05587228e-02, 2.05671575e-02, 2.07015967e-02, 2.07839484e-02,\n",
       "       2.08135804e-02, 2.08403150e-02, 2.11853135e-02, 2.12011546e-02,\n",
       "       2.12200025e-02, 2.12398490e-02, 2.13171217e-02, 2.15237632e-02,\n",
       "       2.15309253e-02, 2.15511261e-02, 2.15584163e-02, 2.16007963e-02,\n",
       "       2.16266737e-02, 2.17164573e-02, 2.17466491e-02, 2.17901960e-02,\n",
       "       2.19317956e-02, 2.19463103e-02, 2.19601573e-02, 2.20540955e-02,\n",
       "       2.24093024e-02, 2.24109829e-02, 2.24889889e-02, 2.26014151e-02,\n",
       "       2.26489191e-02, 2.26671642e-02, 2.27192607e-02, 2.28553866e-02,\n",
       "       2.29004108e-02, 2.29018838e-02, 2.30122751e-02, 2.31115536e-02,\n",
       "       2.31770240e-02, 2.36716156e-02, 2.36759322e-02, 2.37622237e-02,\n",
       "       2.37794101e-02, 2.38042824e-02])"
      ]
     },
     "execution_count": 7,
=======
       "array([5.03732466e-05, 1.09017900e-04, 1.48798718e-04, 4.04493533e-04,\n",
       "       4.35406843e-04, 4.46852600e-04, 4.63873653e-04, 4.65179085e-04,\n",
       "       4.78361230e-04, 5.64579597e-04, 6.47314471e-04, 7.32900338e-04,\n",
       "       9.25030194e-04, 9.29905475e-04, 1.11487064e-03, 1.30602607e-03,\n",
       "       1.37881636e-03, 1.38697422e-03, 1.41100224e-03, 1.46242090e-03,\n",
       "       1.48033994e-03, 1.60737815e-03, 1.65011101e-03, 1.68227463e-03,\n",
       "       1.69590402e-03, 1.74346538e-03, 1.84300974e-03, 1.96055780e-03,\n",
       "       1.96302051e-03, 1.99675346e-03, 1.99919980e-03, 2.14395217e-03,\n",
       "       2.20491383e-03, 2.20518863e-03, 2.27603194e-03, 2.31595983e-03,\n",
       "       2.33141228e-03, 2.47477235e-03, 2.48784458e-03, 2.65541887e-03,\n",
       "       2.68468573e-03, 2.71335430e-03, 2.75367424e-03, 2.82493895e-03,\n",
       "       2.86706213e-03, 2.95016919e-03, 3.00978727e-03, 3.06283347e-03,\n",
       "       3.07961796e-03, 3.12057023e-03, 3.20091589e-03, 3.22659762e-03,\n",
       "       3.23765571e-03, 3.27731033e-03, 3.35232346e-03, 3.36180074e-03,\n",
       "       3.37626673e-03, 3.42502291e-03, 3.45414549e-03, 3.46492018e-03,\n",
       "       3.49876899e-03, 3.63300130e-03, 3.67961947e-03, 3.73852146e-03,\n",
       "       3.78929964e-03, 3.97003263e-03, 4.00632582e-03, 4.03770167e-03,\n",
       "       4.06489013e-03, 4.10195200e-03, 4.11642637e-03, 4.11992135e-03,\n",
       "       4.14985997e-03, 4.15389247e-03, 4.22938873e-03, 4.50927173e-03,\n",
       "       4.60134825e-03, 4.72016227e-03, 4.72722880e-03, 4.80094537e-03,\n",
       "       4.91735709e-03, 5.00254585e-03, 5.00554614e-03, 5.06026237e-03,\n",
       "       5.11806473e-03, 5.16443143e-03, 5.23967242e-03, 5.30263608e-03,\n",
       "       5.38819146e-03, 5.39358168e-03, 5.45742228e-03, 5.51901034e-03,\n",
       "       5.52896578e-03, 5.66282655e-03, 5.71853760e-03, 5.87086269e-03,\n",
       "       6.01883030e-03, 6.25309740e-03, 6.33460517e-03, 6.35385760e-03,\n",
       "       6.51379176e-03, 6.54709549e-03, 6.71177287e-03, 6.80423497e-03,\n",
       "       6.81585761e-03, 6.86180112e-03, 6.86717219e-03, 6.88570556e-03,\n",
       "       6.89476980e-03, 6.90822504e-03, 6.91285696e-03, 6.95772629e-03,\n",
       "       7.00775435e-03, 7.13091258e-03, 7.33099715e-03, 7.35075588e-03,\n",
       "       7.36830505e-03, 7.44062847e-03, 7.45117636e-03, 7.61672667e-03,\n",
       "       7.67801579e-03, 7.75308585e-03, 7.87423016e-03, 7.94377274e-03,\n",
       "       8.02383716e-03, 8.02929970e-03, 8.22550466e-03, 8.23500088e-03,\n",
       "       8.50087192e-03, 8.51534960e-03, 8.58988698e-03, 8.71884640e-03,\n",
       "       8.78889979e-03, 8.79085317e-03, 8.79245033e-03, 8.80944614e-03,\n",
       "       8.82057116e-03, 8.89314769e-03, 8.91348244e-03, 9.07923799e-03,\n",
       "       9.11513285e-03, 9.21079809e-03, 9.30344948e-03, 9.39221846e-03,\n",
       "       9.54967298e-03, 9.59081362e-03, 9.63545007e-03, 9.67216724e-03,\n",
       "       9.69434155e-03, 9.70795100e-03, 9.77155302e-03, 1.00304175e-02,\n",
       "       1.01271349e-02, 1.02012807e-02, 1.02175541e-02, 1.04220525e-02,\n",
       "       1.04988709e-02, 1.05277942e-02, 1.05341943e-02, 1.05649231e-02,\n",
       "       1.05897801e-02, 1.06156844e-02, 1.06805583e-02, 1.07492488e-02,\n",
       "       1.08054524e-02, 1.10707747e-02, 1.10980777e-02, 1.11177169e-02,\n",
       "       1.11514079e-02, 1.12020317e-02, 1.13213897e-02, 1.14942405e-02,\n",
       "       1.15180222e-02, 1.15382078e-02, 1.16089089e-02, 1.18328616e-02,\n",
       "       1.18726867e-02, 1.20140398e-02, 1.20646107e-02, 1.21461450e-02,\n",
       "       1.21916234e-02, 1.22464624e-02, 1.22741446e-02, 1.24144882e-02,\n",
       "       1.25134477e-02, 1.25829637e-02, 1.26079322e-02, 1.26097252e-02,\n",
       "       1.26271180e-02, 1.27348606e-02, 1.27949421e-02, 1.27973710e-02,\n",
       "       1.28040949e-02, 1.28141666e-02, 1.29738150e-02, 1.30300984e-02,\n",
       "       1.31681995e-02, 1.32839966e-02, 1.33405088e-02, 1.33692987e-02,\n",
       "       1.34171075e-02, 1.34823710e-02, 1.35284116e-02, 1.36392502e-02,\n",
       "       1.37209285e-02, 1.39188688e-02, 1.39431173e-02, 1.39538059e-02,\n",
       "       1.39557124e-02, 1.39695733e-02, 1.39753170e-02, 1.40339304e-02,\n",
       "       1.41413958e-02, 1.42032015e-02, 1.42869557e-02, 1.43446248e-02,\n",
       "       1.44255421e-02, 1.45172380e-02, 1.45262352e-02, 1.45519530e-02,\n",
       "       1.46222189e-02, 1.49597630e-02, 1.50702639e-02, 1.51934752e-02,\n",
       "       1.51969721e-02, 1.52794190e-02, 1.53343451e-02, 1.54776492e-02,\n",
       "       1.54992408e-02, 1.55811085e-02, 1.56385660e-02, 1.56657837e-02,\n",
       "       1.57303411e-02, 1.59988580e-02, 1.61908793e-02, 1.62097739e-02,\n",
       "       1.63462405e-02, 1.65109298e-02, 1.65183903e-02, 1.65209082e-02,\n",
       "       1.66052589e-02, 1.67217452e-02, 1.67488595e-02, 1.68518483e-02,\n",
       "       1.68603734e-02, 1.68620202e-02, 1.68864316e-02, 1.69540130e-02,\n",
       "       1.70243236e-02, 1.70750322e-02, 1.70808493e-02, 1.70905765e-02,\n",
       "       1.71120854e-02, 1.71471394e-02, 1.72234239e-02, 1.72286500e-02,\n",
       "       1.72610815e-02, 1.72922440e-02, 1.73170304e-02, 1.74511075e-02,\n",
       "       1.77129705e-02, 1.77458129e-02, 1.77976887e-02, 1.78347244e-02,\n",
       "       1.80341084e-02, 1.80525327e-02, 1.81182083e-02, 1.81403480e-02,\n",
       "       1.81645737e-02, 1.82210422e-02, 1.82345285e-02, 1.82918407e-02,\n",
       "       1.84188461e-02, 1.84390357e-02, 1.84577822e-02, 1.85306535e-02,\n",
       "       1.86151170e-02, 1.86872378e-02, 1.87900495e-02, 1.88177207e-02,\n",
       "       1.89628834e-02, 1.91458929e-02, 1.91557597e-02, 1.91989415e-02,\n",
       "       1.92012092e-02, 1.92928883e-02, 1.93425015e-02, 1.94181937e-02,\n",
       "       1.94244276e-02, 1.94781777e-02, 1.94968021e-02, 1.95181561e-02,\n",
       "       1.95539735e-02, 1.95981745e-02, 1.97658680e-02, 1.97762942e-02,\n",
       "       1.97858206e-02, 1.97909075e-02, 1.97933115e-02, 1.98776231e-02,\n",
       "       2.00049401e-02, 2.00057826e-02, 2.00746099e-02, 2.01077457e-02,\n",
       "       2.01680813e-02, 2.02218944e-02, 2.02447983e-02, 2.02949943e-02,\n",
       "       2.03336087e-02, 2.03823350e-02, 2.04358540e-02, 2.06157723e-02,\n",
       "       2.06907279e-02, 2.07699506e-02, 2.08131613e-02, 2.08163694e-02,\n",
       "       2.08435037e-02, 2.08592662e-02, 2.08922019e-02, 2.09071725e-02,\n",
       "       2.09363996e-02, 2.09840910e-02, 2.11232943e-02, 2.11566944e-02,\n",
       "       2.12035780e-02, 2.12077786e-02, 2.12283954e-02, 2.12428736e-02,\n",
       "       2.12918628e-02, 2.13689023e-02, 2.14680725e-02, 2.15935839e-02,\n",
       "       2.20018214e-02, 2.20112263e-02, 2.20336224e-02, 2.21293355e-02,\n",
       "       2.21995149e-02, 2.22378340e-02, 2.22991341e-02, 2.23553722e-02,\n",
       "       2.23567292e-02, 2.24053468e-02, 2.25870350e-02, 2.26390997e-02,\n",
       "       2.26509898e-02, 2.28137576e-02, 2.29106112e-02, 2.29354587e-02,\n",
       "       2.31008948e-02, 2.31269710e-02])"
      ]
     },
     "execution_count": 36,
>>>>>>> da2366afdd69831c11ec425053a6a8d6e1e7926f:frank/.ipynb_checkpoints/Correlation_Tests___State_Input-checkpoint.ipynb
     "metadata": {},
     "output_type": "execute_result"
    }
   ],
   "source": [
    "rho_vec = np.sort(abs(compute_rhos(A, B).flatten()), axis=None)\n",
    "rho_vec[0:350]"
   ]
  },
  {
   "cell_type": "code",
<<<<<<< HEAD:frank/Modified_Causality___CYC.ipynb
   "execution_count": 8,
=======
   "execution_count": 37,
>>>>>>> da2366afdd69831c11ec425053a6a8d6e1e7926f:frank/.ipynb_checkpoints/Correlation_Tests___State_Input-checkpoint.ipynb
   "id": "010d30ed",
   "metadata": {},
   "outputs": [],
   "source": [
    "list_1 = [3, 4, 5]\n",
    "list_2 = [4, 5, 6]\n",
    "\n",
    "list_1_not_2 = [k for k in list_1 if k not in list_2]\n",
    "list_2_not_1 = [k for k in list_2 if k not in list_1]"
   ]
  },
  {
   "cell_type": "code",
<<<<<<< HEAD:frank/Modified_Causality___CYC.ipynb
   "execution_count": 9,
=======
   "execution_count": 38,
>>>>>>> da2366afdd69831c11ec425053a6a8d6e1e7926f:frank/.ipynb_checkpoints/Correlation_Tests___State_Input-checkpoint.ipynb
   "id": "3b40940f",
   "metadata": {
    "scrolled": true
   },
   "outputs": [
    {
     "name": "stdout",
     "output_type": "stream",
     "text": [
      "\n",
      "\n",
      "count_m: 0\n",
      "count_rho 0\n",
      "count_rho 1\n",
      "count_rho 2\n",
      "count_rho 3\n",
      "count_rho 4\n",
      "\n",
      "\n",
      "count_m: 1\n",
      "count_rho 0\n",
      "count_rho 1\n",
      "count_rho 2\n",
      "count_rho 3\n",
      "count_rho 4\n",
      "\n",
      "\n",
      "count_m: 2\n",
      "count_rho 0\n",
      "count_rho 1\n",
      "count_rho 2\n",
      "count_rho 3\n",
      "count_rho 4\n",
      "\n",
      "\n",
      "count_m: 3\n",
      "count_rho 0\n",
      "count_rho 1\n",
      "count_rho 2\n",
      "count_rho 3\n",
      "count_rho 4\n",
      "\n",
      "\n",
      "count_m: 4\n",
      "count_rho 0\n",
      "count_rho 1\n",
      "count_rho 2\n",
      "count_rho 3\n",
      "count_rho 4\n",
      "\n",
      "\n",
      "count_m: 5\n",
      "count_rho 0\n",
      "count_rho 1\n",
      "count_rho 2\n",
      "count_rho 3\n",
      "count_rho 4\n",
      "\n",
      "\n",
      "count_m: 6\n",
      "count_rho 0\n",
      "count_rho 1\n",
      "count_rho 2\n",
      "count_rho 3\n",
      "count_rho 4\n",
      "\n",
      "\n",
      "count_m: 7\n",
      "count_rho 0\n",
      "count_rho 1\n",
      "count_rho 2\n",
      "count_rho 3\n",
      "count_rho 4\n",
      "\n",
      "\n",
      "count_m: 8\n",
      "count_rho 0\n",
      "count_rho 1\n",
      "count_rho 2\n",
      "count_rho 3\n",
      "count_rho 4\n",
      "\n",
      "\n",
      "count_m: 9\n",
      "count_rho 0\n",
      "count_rho 1\n",
      "count_rho 2\n",
      "count_rho 3\n",
      "count_rho 4\n",
<<<<<<< HEAD:frank/Modified_Causality___CYC.ipynb
      "Time: 82.0021390914917\n"
=======
      "Time: 122.21105098724365\n"
>>>>>>> da2366afdd69831c11ec425053a6a8d6e1e7926f:frank/.ipynb_checkpoints/Correlation_Tests___State_Input-checkpoint.ipynb
     ]
    }
   ],
   "source": [
    "begin_time = time.time()\n",
    "\n",
    "m_list = [2*x + 2 for x in list(range(10))]\n",
    "rho_min_list = [x * 0.02 + 0.02 for x in list(range(5))]\n",
    "input_indices_true = list(range(num_states, num_states + num_inputs))\n",
    "num_trials = 10\n",
    "\n",
    "false_positive_avg_array = np.zeros((len(m_list), len(rho_min_list)))\n",
    "missed_detection_avg_array = np.zeros((len(m_list), len(rho_min_list)))\n",
    "\n",
    "for count_m, m in enumerate(m_list):\n",
    "    print(\"\\n\")\n",
    "    print(\"count_m:\", count_m)\n",
    "    for count_rho, rho_min in enumerate(rho_min_list):\n",
    "        print(\"count_rho\", count_rho)\n",
    "        false_positive_quantity_list = []\n",
    "        missed_detection_quantity_list = []\n",
    "        for trial_id in range(num_trials):\n",
    "            input_indices_est = correlation_test(traj_dataset, m, rho_min)\n",
    "            false_positive_quantity_list.append(len([k for k in input_indices_est if k not in input_indices_true]))\n",
    "            missed_detection_quantity_list.append(len([k for k in input_indices_true if k not in input_indices_est]))\n",
    "        false_positive_avg_array[count_m, count_rho] = sum(false_positive_quantity_list)/len(false_positive_quantity_list)\n",
    "        missed_detection_avg_array[count_m, count_rho] = sum(missed_detection_quantity_list)/len(missed_detection_quantity_list)\n",
    "\n",
    "end_time = time.time()\n",
    "print(\"Time:\", end_time - begin_time)\n",
    "        \n",
    "# print(correlation_test(traj_dataset, 10, 0.05))\n",
    "\n"
   ]
  },
  {
   "cell_type": "code",
<<<<<<< HEAD:frank/Modified_Causality___CYC.ipynb
   "execution_count": 16,
   "id": "2f3c80d3",
   "metadata": {},
   "outputs": [
    {
     "data": {
      "text/plain": [
       "[0.02, 0.04, 0.06, 0.08, 0.1]"
      ]
     },
     "execution_count": 16,
     "metadata": {},
     "output_type": "execute_result"
    }
   ],
   "source": [
    "rho_min_list"
   ]
  },
  {
   "cell_type": "code",
   "execution_count": 10,
=======
   "execution_count": 39,
>>>>>>> da2366afdd69831c11ec425053a6a8d6e1e7926f:frank/.ipynb_checkpoints/Correlation_Tests___State_Input-checkpoint.ipynb
   "id": "18e742e0",
   "metadata": {},
   "outputs": [
    {
     "name": "stdout",
     "output_type": "stream",
     "text": [
<<<<<<< HEAD:frank/Modified_Causality___CYC.ipynb
      "[[ 6.3  6.5  7.9 11.4 10. ]\n",
      " [ 1.   1.1  1.6  2.2  1.8]\n",
      " [ 0.3  0.5  0.7  0.9  0.4]\n",
      " [ 0.   0.1  0.   0.   0.2]\n",
      " [ 0.   0.   0.   0.1  0. ]\n",
      " [ 0.   0.   0.   0.   0. ]\n",
      " [ 0.   0.   0.   0.1  0. ]\n",
      " [ 0.   0.   0.   0.   0. ]\n",
      " [ 0.   0.   0.   0.   0. ]\n",
      " [ 0.   0.   0.   0.   0. ]]\n",
      "[[ 2.8  0.   0.   0.   0. ]\n",
      " [ 4.9  0.1  0.   0.   0. ]\n",
      " [ 6.9  0.   0.   0.   0. ]\n",
      " [ 8.8  0.6  0.   0.   0. ]\n",
      " [10.6  0.3  0.   0.   0. ]\n",
      " [12.1  0.1  0.   0.   0. ]\n",
      " [13.9  0.5  0.   0.   0. ]\n",
      " [13.6  0.3  0.   0.   0. ]\n",
      " [13.8  0.2  0.   0.   0. ]\n",
      " [15.5  0.6  0.   0.   0. ]]\n"
=======
      "[[ 8.  10.4 12.2 20.2 34. ]\n",
      " [ 1.   2.2  2.9  9.8 26.3]\n",
      " [ 0.2  0.5  0.7  4.1 16. ]\n",
      " [ 0.1  0.   0.1  3.1 12.2]\n",
      " [ 0.   0.1  0.2  1.9  9.4]\n",
      " [ 0.   0.   0.   1.4  6.6]\n",
      " [ 0.   0.   0.   0.8  4.1]\n",
      " [ 0.   0.   0.   0.4  4. ]\n",
      " [ 0.   0.   0.   0.3  1.8]\n",
      " [ 0.   0.   0.   0.1  1.6]]\n",
      "\n",
      "\n",
      "[[0.  0.  0.  0.  0. ]\n",
      " [0.  0.  0.  0.  0. ]\n",
      " [0.1 0.  0.  0.  0. ]\n",
      " [0.  0.  0.  0.  0. ]\n",
      " [0.  0.  0.  0.  0. ]\n",
      " [0.2 0.  0.  0.  0. ]\n",
      " [0.  0.  0.  0.  0. ]\n",
      " [0.1 0.  0.  0.  0. ]\n",
      " [0.4 0.  0.  0.  0. ]\n",
      " [0.2 0.  0.  0.  0. ]]\n"
>>>>>>> da2366afdd69831c11ec425053a6a8d6e1e7926f:frank/.ipynb_checkpoints/Correlation_Tests___State_Input-checkpoint.ipynb
     ]
    }
   ],
   "source": [
    "print(false_positive_avg_array)\n",
    "print(\"\\n\")\n",
    "print(missed_detection_avg_array)"
   ]
  },
  {
   "cell_type": "code",
<<<<<<< HEAD:frank/Modified_Causality___CYC.ipynb
   "execution_count": 18,
   "id": "15b708b6",
   "metadata": {},
   "outputs": [
    {
     "data": {
      "text/plain": [
       "Text(0.5, 1.0, 'False Positives')"
      ]
     },
     "execution_count": 18,
     "metadata": {},
     "output_type": "execute_result"
    },
    {
     "data": {
      "image/png": "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\n",
      "text/plain": [
       "<Figure size 432x288 with 1 Axes>"
      ]
     },
     "metadata": {
      "needs_background": "light"
     },
     "output_type": "display_data"
    }
   ],
   "source": [
    "plt.plot(false_positive_avg_array)\n",
    "plt.xlabel('Subsets to sample, m')\n",
    "plt.ylabel('Number of False Positives')\n",
    "plt.title('False Positives')"
   ]
  },
  {
   "cell_type": "code",
   "execution_count": 26,
   "id": "7f74c6c4",
   "metadata": {},
   "outputs": [],
   "source": [
    "missed_detection= missed_detection_avg_array.mean(axis = 0)"
   ]
  },
  {
   "cell_type": "code",
   "execution_count": 27,
   "id": "a15ed508",
   "metadata": {},
   "outputs": [
    {
     "data": {
      "text/plain": [
       "Text(0.5, 1.0, 'Missed Detections')"
      ]
     },
     "execution_count": 27,
     "metadata": {},
     "output_type": "execute_result"
    },
    {
     "data": {
      "image/png": "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\n",
      "text/plain": [
       "<Figure size 432x288 with 1 Axes>"
      ]
     },
     "metadata": {
      "needs_background": "light"
     },
     "output_type": "display_data"
    }
   ],
   "source": [
    "\n",
    "plt.plot(rho_min_list,missed_detection)\n",
    "plt.xlabel('rho_min')\n",
    "plt.ylabel('Number of Missed Detections')\n",
    "plt.title('Missed Detections')"
   ]
=======
   "execution_count": null,
   "id": "86bd06f4",
   "metadata": {},
   "outputs": [],
   "source": []
>>>>>>> da2366afdd69831c11ec425053a6a8d6e1e7926f:frank/.ipynb_checkpoints/Correlation_Tests___State_Input-checkpoint.ipynb
  },
  {
   "cell_type": "code",
   "execution_count": 245,
   "id": "286cebce",
   "metadata": {},
   "outputs": [],
   "source": [
    "# Save results:\n",
    "\n",
    "path_directory = \"/Users/chih-yuanchiu/Desktop/Code/Causality_Time_Series/data/\"\n",
    "\n",
    "path_file = path_directory + \"false_positive_avg_array.csv\"\n",
    "false_positive_avg_array_pd = pd.DataFrame(false_positive_avg_array)\n",
    "false_positive_avg_array_pd.to_csv(path_file, index=False)\n",
    "\n",
    "path_file = path_directory + \"missed_detection_avg_array.csv\"\n",
    "missed_detection_avg_array_pd = pd.DataFrame(missed_detection_avg_array)\n",
    "missed_detection_avg_array_pd.to_csv(path_file, index=False)\n",
    "\n"
   ]
  },
  {
   "cell_type": "code",
   "execution_count": null,
   "id": "c05784d8",
   "metadata": {},
   "outputs": [],
   "source": []
  },
  {
   "cell_type": "code",
   "execution_count": null,
   "id": "aa0ddff7",
   "metadata": {},
   "outputs": [],
   "source": []
  },
  {
   "cell_type": "markdown",
   "id": "4005027d",
   "metadata": {},
   "source": [
    "# Kshitij's algorithms:"
   ]
  },
  {
   "cell_type": "code",
   "execution_count": null,
   "id": "f004efef",
   "metadata": {},
   "outputs": [],
   "source": [
    "def compute_sample_corr(data,i,j, num_samples):\n",
    "    avg_t_plus = (1/num_samples)*data[:,i].sum()\n",
    "    avg_t = (1/num_samples)*data[:,j].sum()\n",
    "    diff_t_plus = data[:, i] - avg_t_plus\n",
    "    diff_t = data[:,j] - avg_t_plus\n",
    "    diff_t_plus_sq = (diff_t_plus**2).sum()\n",
    "    diff_t_sq = (diff_t**2).sum()\n",
    "    corr = (np.dot(diff_t_plus, diff_t))/np.sqrt((diff_t_plus_sq*diff_t_sq))\n",
    "    return corr\n",
    "\n",
    "def modified_pc(data, m, num_samples, num_observations, rho_m):\n",
    "    input_set = []\n",
    "    for i in range(data.shape[1]):\n",
    "        subset = np.array(random.sample(list(range(data.shape[1])), m))\n",
    "        for j in subset:\n",
    "            rho_m_hat = compute_sample_corr(data, i,j, num_samples)\n",
    "            if abs(rho_m_hat) >= 0.5*rho_m:\n",
    "                break \n",
    "            if j == subset[-1]:\n",
    "                input_set.append(i)\n",
    "    return input_set\n",
    "\n",
    "\n"
   ]
  }
 ],
 "metadata": {
  "kernelspec": {
   "display_name": "Python 3 (ipykernel)",
   "language": "python",
   "name": "python3"
  },
  "language_info": {
   "codemirror_mode": {
    "name": "ipython",
    "version": 3
   },
   "file_extension": ".py",
   "mimetype": "text/x-python",
   "name": "python",
   "nbconvert_exporter": "python",
   "pygments_lexer": "ipython3",
   "version": "3.9.12"
  }
 },
 "nbformat": 4,
 "nbformat_minor": 5
}
