{
 "cells": [
  {
   "cell_type": "code",
   "execution_count": 7,
   "id": "58a03c41",
   "metadata": {},
   "outputs": [],
   "source": [
    "import numpy as np\n",
    "from numpy.polynomial import Polynomial\n",
    "import matplotlib.pyplot as plt\n",
    "import causallearn\n",
    "\n",
    "from causallearn.utils.cit import *\n",
    "from causallearn.graph.GraphClass import CausalGraph\n",
    "import pandas as pd\n",
    "from itertools import combinations, permutations\n",
    "from numpy import ndarray\n",
    "from typing import Dict, List, Tuple\n",
    "from causallearn.utils.cit import fisherz\n",
    "import random\n",
    "import itertools\n",
    "\n",
    "import time\n",
    "\n",
    "import scipy as sp\n",
    "from scipy.stats import beta\n",
    "\n",
    "import pandas as pd\n",
    "\n",
    "from statsmodels.distributions.empirical_distribution import ECDF\n"
   ]
  },
  {
   "cell_type": "markdown",
   "id": "5420da15",
   "metadata": {},
   "source": [
    "# Traffic Model:"
   ]
  },
  {
   "cell_type": "code",
   "execution_count": 8,
   "id": "1b1123d7",
   "metadata": {},
   "outputs": [],
   "source": [
    "def generate_H0_data(N, T, x_eq = 100, mu = 0.3, mu_acc = 0.2, time_duration_acc = 2, noise_range = 10, p_acc = 0.01):\n",
    "\n",
    "    ctrl = mu * x_eq\n",
    "    noise_array = np.random.rand(N, T) * 2 * noise_range - noise_range\n",
    "    x_array_H0 = np.zeros((N, T))\n",
    "    # x_0 = np.random.rand(N) * 2 * noise_range - noise_range + 0.5 * x_eq\n",
    "    x_0 = np.random.rand(N) * 2 * noise_range - noise_range + 1 * x_eq\n",
    "\n",
    "    acc_vec = np.random.binomial(1, p = p_acc, size = (N, T))\n",
    "    acc_realized_H0 = np.zeros((N, T))\n",
    "\n",
    "    high_load_threshold_ratio = 0.9\n",
    "    high_load_threshold = x_eq + high_load_threshold_ratio * noise_range\n",
    "    counter = 0\n",
    "\n",
    "    x_array_H0[:, 0] = x_0\n",
    "    for i in range(N):\n",
    "        for t in range(T-1):\n",
    "            if t == 0:\n",
    "                acc_realized_H0[i, t] = 0 \n",
    "                x_array_H0[i, t+1] = (1 - mu) * x_array_H0[i, t] + ctrl + noise_array[i, t]\n",
    "                counter = 0\n",
    "            elif counter >= 1 and counter < time_duration_acc:\n",
    "                acc_realized_H0[i, t] = 1\n",
    "                x_array_H0[i, t+1] = (1 - mu_acc) * x_array_H0[i, t] + ctrl + noise_array[i, t]\n",
    "                counter += 1\n",
    "            elif acc_vec[i, t] == 1:\n",
    "                acc_realized_H0[i, t] = 1\n",
    "                x_array_H0[i, t+1] = (1 - mu_acc) * x_array_H0[i, t] + ctrl + noise_array[i, t]\n",
    "                counter = 1\n",
    "            else:\n",
    "                acc_realized_H0[i, t] = 0\n",
    "                x_array_H0[i, t+1] = (1 - mu) * x_array_H0[i, t] + ctrl + noise_array[i, t]\n",
    "                counter = 0\n",
    "\n",
    "    return x_array_H0, acc_realized_H0\n",
    "\n",
    "\n",
    "def generate_H1_data(N, T, x_eq = 100, mu = 0.3, mu_acc = 0.2, time_duration_acc = 2, noise_range = 10, p_acc = 0.01, \\\n",
    "                    p_acc_high_load = 0.1):\n",
    "    \n",
    "    ctrl = mu * x_eq\n",
    "    noise_array = np.random.rand(N, T) * 2 * noise_range - noise_range\n",
    "    x_array_H1 = np.zeros((N, T))\n",
    "    # x_0 = np.random.rand(N) * 2 * noise_range - noise_range + 0.5 * x_eq\n",
    "    x_0 = np.random.rand(N) * 2 * noise_range - noise_range + 1 * x_eq\n",
    "\n",
    "    acc_vec = np.random.binomial(1, p = p_acc, size = (N, T))\n",
    "    acc_vec_high_load = np.random.binomial(1, p = p_acc_high_load, size = (N, T))\n",
    "    acc_realized_H1 = np.zeros((N, T))\n",
    "\n",
    "    high_load_threshold_ratio = 0.9\n",
    "    high_load_threshold = x_eq + high_load_threshold_ratio * noise_range\n",
    "    counter = 0\n",
    "\n",
    "    x_array_H1[:, 0] = x_0\n",
    "    for i in range(N):\n",
    "        for t in range(T-1):\n",
    "            if t == 0:\n",
    "                acc_realized_H1[i, t] = 0 \n",
    "                x_array_H1[i, t+1] = (1 - mu) * x_array_H1[i, t] + ctrl + noise_array[i, t]\n",
    "                counter = 0\n",
    "            elif counter >= 1 and counter < time_duration_acc:\n",
    "    #         if counter >= 1 and counter < time_duration_acc:\n",
    "                acc_realized_H1[i, t] = 1\n",
    "                x_array_H1[i, t+1] = (1 - mu_acc) * x_array_H1[i, t] + ctrl + noise_array[i, t]\n",
    "                counter += 1\n",
    "            elif x_array_H1[i, t] <= high_load_threshold and acc_vec[i, t] == 1:\n",
    "                acc_realized_H1[i, t] = 1\n",
    "                x_array_H1[i, t+1] = (1 - mu_acc) * x_array_H1[i, t] + ctrl + noise_array[i, t]\n",
    "                counter = 1\n",
    "            elif x_array_H1[i, t] > high_load_threshold and acc_vec_high_load[i, t] == 1:\n",
    "                acc_realized_H1[i, t] = 1\n",
    "                x_array_H1[i, t+1] = (1 - mu_acc) * x_array_H1[i, t] + ctrl + noise_array[i, t]\n",
    "                counter = 1\n",
    "            else:\n",
    "                acc_realized_H1[i, t] = 0\n",
    "                x_array_H1[i, t+1] = (1 - mu) * x_array_H1[i, t] + ctrl + noise_array[i, t]\n",
    "                counter = 0\n",
    "    \n",
    "    return x_array_H1, acc_realized_H1\n"
   ]
  },
  {
   "cell_type": "code",
   "execution_count": 9,
   "id": "8ef2c91e",
   "metadata": {},
   "outputs": [],
   "source": [
    "def generate_data_processed_dict(x_array, acc_realized):\n",
    "    \n",
    "    assert x_array.shape == acc_realized.shape\n",
    "    N = x_array.shape[0]\n",
    "    T = x_array.shape[1]\n",
    "    \n",
    "    first_times_of_rare_event = np.zeros(N)\n",
    "    for i in range(N):\n",
    "    #     print(acc_realized[i, :].shape)\n",
    "    #     print(np.zeros(T).shape)\n",
    "        if (acc_realized[i, :] == np.zeros(T)).all() or acc_realized[i, 0] == 1:\n",
    "            first_times_of_rare_event[i] = -1\n",
    "        else:\n",
    "    #     print(min([t for t in range(T) if acc_realized[i, t] == 1]))\n",
    "            first_times_of_rare_event[i] = min([t for t in range(T) if acc_realized[i, t] == 1])\n",
    "#             print(\"i:\", i)\n",
    "#             print(\"first_times_of_rare_event[i]:\", first_times_of_rare_event[i])\n",
    "\n",
    "    first_times_of_rare_event_as_set = set(list(first_times_of_rare_event))\n",
    "    if -1 in first_times_of_rare_event_as_set:\n",
    "        first_times_of_rare_event_as_set.remove(-1)\n",
    "    first_times_of_rare_event_as_list = list(first_times_of_rare_event_as_set)\n",
    "\n",
    "    # for first_time in first_times_of_rare_event_as_set:\n",
    "\n",
    "    # first_times_of_rare_event_as_set\n",
    "\n",
    "    x_processed_dict_XT = {}\n",
    "    x_processed_dict_Xgen = {}\n",
    "    first_times_dict = {}\n",
    "    \n",
    "    for time in first_times_of_rare_event_as_list:\n",
    "    #     print(time\n",
    "        x_processed_dict_XT[time] = []\n",
    "        x_processed_dict_Xgen[time] = []\n",
    "        first_times_dict[time] = []\n",
    "        for i in range(N):\n",
    "            if first_times_of_rare_event[i] >= time:\n",
    "                x_processed_dict_Xgen[time].append(x_array[i, int(time)-1])\n",
    "            if first_times_of_rare_event[i] == time:\n",
    "                first_times_dict[time].append(i)\n",
    "                x_processed_dict_XT[time].append(x_array[i, int(time)-1])\n",
    "    \n",
    "    x_values_jumps_XT = list(itertools.chain(*list(x_processed_dict_XT.values())))\n",
    "    assert len(x_values_jumps_XT) <= N\n",
    "    \n",
    "    return x_processed_dict_XT, x_processed_dict_Xgen, first_times_dict\n",
    "\n",
    "\n",
    "def generate_cdf_Xgen(x_processed_dict_Xgen, first_times_dict, N, T, \\\n",
    "                      x_lower_bound = 75.0, x_upper_bound = 125.0, x_values_length = 500, \\\n",
    "                      x_value_set_choice = 'Fixed'):\n",
    "    assert list(x_processed_dict_Xgen.keys()) == list(first_times_dict.keys())\n",
    "    \n",
    "    x_values_jumps_Xgen = sorted(list(itertools.chain(*list(x_processed_dict_Xgen.values()))))\n",
    "#     print(\"len(x_values_jumps_Xgen):\", len(x_values_jumps_Xgen))\n",
    "#     print(\"max(x_values_jumps_Xgen):\", max(x_values_jumps_Xgen))\n",
    "#     return\n",
    "    \n",
    "#     cdf_value_at_jumps_Xgen = []\n",
    "    x_cdf_dict_Xgen = {}\n",
    "    \n",
    "    if x_value_set_choice == 'Fixed':\n",
    "        x_value_array = np.linspace(x_lower_bound, x_upper_bound, x_values_length)\n",
    "    elif x_value_set_choice == 'Jump values':\n",
    "        x_value_array = x_values_jumps_Xgen\n",
    "    else:\n",
    "        assert 1 == 0, \"Choose appropriate x_value_set_choice.\"\n",
    "    \n",
    "    for count_1, x_value in enumerate(x_value_array):\n",
    "#         if count_1 % 100 == 0:\n",
    "#             print(count_1)\n",
    "        cdf_value_temp = 0\n",
    "        for count_2, time in enumerate(first_times_dict.keys()):\n",
    "#             print(count_2)\n",
    "            cdf_value_temp += len([x_val for x_val in x_processed_dict_Xgen[time] if x_val <= x_value])/len(x_processed_dict_Xgen[time]) \\\n",
    "                                * len(first_times_dict[time])/N\n",
    "#         cdf_value_at_jumps_Xgen.append(cdf_value_temp)\n",
    "        x_cdf_dict_Xgen[x_value] = cdf_value_temp\n",
    "    \n",
    "    return x_values_jumps_Xgen, x_cdf_dict_Xgen\n",
    "\n",
    "\n",
    "def generate_cdf_XT(x_processed_dict_XT, first_times_dict, N, T, \\\n",
    "                      x_lower_bound = 75.0, x_upper_bound = 125.0, x_values_length = 500, \\\n",
    "                      x_value_set_choice = 'Fixed'):\n",
    "    assert list(x_processed_dict_XT.keys()) == list(first_times_dict.keys())\n",
    "    \n",
    "    x_values_jumps_XT = sorted(list(itertools.chain(*list(x_processed_dict_XT.values()))))\n",
    "    x_cdf_dict_XT = {}\n",
    "    \n",
    "    # Sort x_values_jumps_XT\n",
    "    assert len(x_values_jumps_XT) <= N\n",
    "    \n",
    "#     print(\"len(x_values_jumps_XT):\", len(x_values_jumps_XT))\n",
    "#     print(\"max(x_values_jumps_XT):\", max(x_values_jumps_XT))\n",
    "        \n",
    "    cdf_value_at_jumps_XT = []\n",
    "    \n",
    "    if x_value_set_choice == 'Fixed':\n",
    "        x_value_array = np.linspace(x_lower_bound, x_upper_bound, x_values_length)\n",
    "    elif x_value_set_choice == 'Jump values':\n",
    "        x_value_array = x_values_jumps_XT\n",
    "    else:\n",
    "        assert 1 == 0, \"Choose appropriate x_value_set_choice.\"\n",
    "    \n",
    "    for count_1, x_value in enumerate(x_value_array):\n",
    "        cdf_value_temp = len([x_val for x_val in x_values_jumps_XT if x_val <= x_value]) \\\n",
    "                                     / len(x_values_jumps_XT)\n",
    "        cdf_value_at_jumps_XT.append(cdf_value_temp)\n",
    "        x_cdf_dict_XT[x_value] = cdf_value_temp\n",
    "\n",
    "    cdf_evenly_spaced = np.linspace(1/len(cdf_value_at_jumps_XT), 1, len(cdf_value_at_jumps_XT))\n",
    "        \n",
    "#     print(\"cdf_value_at_jumps_XT:\", cdf_value_at_jumps_XT[0:10])\n",
    "#     print(\"cdf_evenly_spaced:\", cdf_evenly_spaced[0:10])\n",
    "#     print(\"1/len(cdf_value_at_jumps_XT):\", 1/len(cdf_value_at_jumps_XT))\n",
    "#     print(\"cdf_value_at_jumps_XT - cdf_evenly_spaced:\", cdf_value_at_jumps_XT - cdf_evenly_spaced)\n",
    "\n",
    "\n",
    "    # Assertion: Sanity check on cdf_value_at_jumps_XT\n",
    "#     assert np.linalg.norm(np.array(cdf_value_at_jumps_XT) - np.array(cdf_evenly_spaced)) <= 0.0001\n",
    "    \n",
    "    return x_values_jumps_XT, x_cdf_dict_XT\n",
    "\n",
    "def cdf_value(x, x_cdf_dict):\n",
    "    key_list = [x_val for x_val in x_cdf_dict.keys() if x_val <= x]\n",
    "    if key_list != []:\n",
    "        dict_key = max(key_list)\n",
    "    else:\n",
    "        dict_key = min(x_cdf_dict.keys())\n",
    "    return x_cdf_dict[dict_key]\n",
    "\n",
    "def compare_CDFs(x_cdf_dict_1, x_cdf_dict_2, x_lower_bound = 75.0, x_upper_bound = 125.0, x_values_length = 500,\\\n",
    "                 x_value_set_choice = 'Jump values'):\n",
    "\n",
    "    if x_value_set_choice == 'Jump values':\n",
    "        assert x_cdf_dict_1.keys() == x_cdf_dict_2.keys()\n",
    "#         print(\"x_cdf_dict_1.values():\", x_cdf_dict_1.values())\n",
    "        x_cdf_dict_1_values = np.array(list(x_cdf_dict_1.values()))\n",
    "        x_cdf_dict_2_values = np.array(list(x_cdf_dict_2.values()))\n",
    "        error_list = [abs(error) for error in x_cdf_dict_1_values - x_cdf_dict_2_values]\n",
    "    elif x_value_set_choice == 'Fixed':\n",
    "        error_list = []\n",
    "        for x_value in np.linspace(x_lower_bound, x_upper_bound, x_values_length+1):\n",
    "            error = abs(cdf_value(x_value, x_cdf_dict_1) - cdf_value(x_value, x_cdf_dict_2))\n",
    "            error_list.append(error)\n",
    "    else:\n",
    "        assert 1 == 0, \"Choose appropriate x_value_set_choice.\"\n",
    "    \n",
    "    return max(error_list)\n",
    "\n",
    "def generate_cdf_array_generic(x_array, \\\n",
    "                      x_lower_bound = 75.0, x_upper_bound = 125.0, x_values_length = 500, \\\n",
    "                      x_value_set_choice = 'Fixed'):\n",
    "\n",
    "#     print(\"len(x_values_jumps_XT):\", len(x_values_jumps_XT))\n",
    "#     print(\"max(x_values_jumps_XT):\", max(x_values_jumps_XT))\n",
    "\n",
    "    if x_value_set_choice == 'Fixed':\n",
    "        x_value_array = np.linspace(x_lower_bound, x_upper_bound, x_values_length)\n",
    "    elif x_value_set_choice == 'Jump values':\n",
    "        x_value_array = x_array\n",
    "    else:\n",
    "        assert 1 == 0, \"Choose appropriate x_value_set_choice.\"\n",
    "        \n",
    "    x_cdf_array = np.zeros((x_value_array.shape[0], 2))\n",
    "    x_cdf_array[:, 0] = x_value_array\n",
    "    \n",
    "    for count_1, x_value in enumerate(x_value_array):\n",
    "        cdf_value_temp = len([x_val for x_val in x_array if x_val <= x_value]) / len(x_array)\n",
    "        x_cdf_array[count_1, 1] = cdf_value_temp\n",
    "    \n",
    "    return x_cdf_array\n",
    "\n"
   ]
  },
  {
   "cell_type": "markdown",
   "id": "ac1b9f10",
   "metadata": {},
   "source": [
    "# Generate $H_0$ and $H_1$ data trajectories:"
   ]
  },
  {
   "cell_type": "markdown",
   "id": "b477a6c4",
   "metadata": {},
   "source": [
    "## Multiple Runs"
   ]
  },
  {
   "cell_type": "code",
   "execution_count": 10,
   "id": "f50658ba",
   "metadata": {},
   "outputs": [],
   "source": [
    "# # Read in data:\n",
    "\n",
    "# data_folder_path = \"/Users/chih-yuanchiu/Desktop/Research/CGM_Code/Data_Generation/\"\n",
    "# file_name = \"test_1_data_samples_numpy.csv\"\n",
    "# data_path = data_folder_path + file_name\n",
    "# dataframe = pd.read_csv(data_path)"
   ]
  },
  {
   "cell_type": "code",
   "execution_count": 11,
   "id": "59a8b1ee",
   "metadata": {},
   "outputs": [],
   "source": [
    "# array_test = np.identity(5)\n",
    "\n",
    "# # column_names = ['One', 'Two', 'Three', 'Four', 'Five']\n",
    "# df = pd.DataFrame(array_test, columns = column_names)\n",
    "\n",
    "# data_folder_path_1 = \"/Users/chih-yuanchiu/Desktop/Code/Causality_Time_Series/data/\"\n",
    "# file_name = str(N) + \".csv\"\n",
    "# data_path = data_folder_path_1 + file_name\n",
    "# df.to_csv(data_path)\n"
   ]
  },
  {
   "cell_type": "code",
   "execution_count": null,
   "id": "0aced91f",
   "metadata": {},
   "outputs": [],
   "source": []
  },
  {
   "cell_type": "code",
   "execution_count": 12,
   "id": "191c2456",
   "metadata": {},
   "outputs": [
    {
     "data": {
      "text/plain": [
       "(1000, 120)"
      ]
     },
     "execution_count": 12,
     "metadata": {},
     "output_type": "execute_result"
    }
   ],
   "source": [
    "N = 1000\n",
    "T = 120\n",
    "num_trials = 20\n",
    "\n",
    "x_array_H0, acc_realized_H0 = generate_H0_data(N, T)\n",
    "x_array_H1, acc_realized_H1 = generate_H1_data(N, T)\n",
    "x_array_H0.shape"
   ]
  },
  {
   "cell_type": "markdown",
   "id": "a0d5fb0c",
   "metadata": {},
   "source": [
    "## Our Method, Multiple Runs"
   ]
  },
  {
   "cell_type": "code",
   "execution_count": 14,
   "id": "0e6030c3",
   "metadata": {
    "scrolled": true
   },
   "outputs": [],
   "source": [
    "begin_time = time.time()\n",
    "\n",
    "# N_array = np.linspace(200, 5000, 25)\n",
    "N_array_1 = np.linspace(10, 90, 9)\n",
    "N_array_2 = np.linspace(100, 900, 9)\n",
    "N_array_3 = np.linspace(1000, 10000, 10)\n",
    "N_array_4 = np.linspace(10000, 50000, 5)\n",
    "# N_array = np.concatenate((N_array_1, N_array_2))\n",
    "# N_array = N_array_3\n",
    "# N_array = np.array([1000, 2000, 3000, 4000, 5000])\n",
    "# N_array = np.array([6000, 7000, 8000, 9000, 10000])\n",
    "# N_array = [500]\n",
    "N_array = np.array([200, 300, 400])\n",
    "T = 500\n",
    "num_trials = 10\n",
    "p_accident = 0.01\n",
    "p_accident_high_load = 0.10\n",
    "\n",
    "for N in N_array:\n",
    "    N = int(N)\n",
    "    print(N)\n",
    "    print()\n",
    "    error_list_H0 = []\n",
    "    error_list_H1 = []\n",
    "    \n",
    "    for trial_id in range(num_trials):\n",
    "        x_array_H0, acc_realized_H0 = generate_H0_data(N, T, p_acc = p_accident)\n",
    "        x_array_H1, acc_realized_H1 = generate_H1_data(N, T, p_acc = p_accident, p_acc_high_load = p_accident_high_load)\n",
    "\n",
    "        x_processed_dict_H0_XT, x_processed_dict_H0_Xgen, first_times_dict_H0 = generate_data_processed_dict(x_array_H0, acc_realized_H0)\n",
    "        # print(\"x_processed_dict_H0_XT.values():\", x_processed_dict_H0_XT.values())\n",
    "        # print(len(list(itertools.chain(*list(first_times_dict_H0.values()))))/N)\n",
    "\n",
    "        x_processed_dict_H1_XT, x_processed_dict_H1_Xgen, first_times_dict_H1 = generate_data_processed_dict(x_array_H1, acc_realized_H1)\n",
    "        # print(len(list(itertools.chain(*list(first_times_dict_H1.values()))))/N)\n",
    "\n",
    "        x_values_jumps_H0_XT, x_cdf_dict_H0_XT = generate_cdf_XT(x_processed_dict_H0_XT, first_times_dict_H0, N, T)\n",
    "    #     print()\n",
    "        x_values_jumps_H0_Xgen, x_cdf_dict_H0_Xgen = generate_cdf_Xgen(x_processed_dict_H0_Xgen, first_times_dict_H0, N, T)\n",
    "    #     print()\n",
    "\n",
    "        x_values_jumps_H1_XT, x_cdf_dict_H1_XT = generate_cdf_XT(x_processed_dict_H1_XT, first_times_dict_H1, N, T)\n",
    "    #     print()\n",
    "        x_values_jumps_H1_Xgen, x_cdf_dict_H1_Xgen = generate_cdf_Xgen(x_processed_dict_H1_Xgen, first_times_dict_H1, N, T)\n",
    "        \n",
    "#         print(list(x_cdf_dict_H0_XT.keys()))\n",
    "#         print(list(x_cdf_dict_H0_XT.keys()).index(10))\n",
    "    \n",
    "#         list_diff_1 = [key for key in list(x_cdf_dict_H0_XT.keys()) if key not in list(x_cdf_dict_H0_Xgen.keys())]\n",
    "#         list_diff_2 = [key for key in list(x_cdf_dict_H0_Xgen.keys()) if key not in list(x_cdf_dict_H0_XT.keys())]\n",
    "#         print(list_diff_1)\n",
    "#         print(list_diff_2)\n",
    "#         assert list(x_cdf_dict_H0_XT.keys()) == list(x_cdf_dict_H0_Xgen.keys())\n",
    "                                                                                       \n",
    "        error_H0_temp = compare_CDFs(x_cdf_dict_H0_XT, x_cdf_dict_H0_Xgen)\n",
    "        error_H1_temp = compare_CDFs(x_cdf_dict_H1_XT, x_cdf_dict_H1_Xgen)\n",
    "        error_list_H0.append(error_H0_temp)\n",
    "        error_list_H1.append(error_H1_temp)\n",
    "        \n",
    "        print(error_H0_temp)\n",
    "        print(error_H1_temp)\n",
    "        print()\n",
    "        \n",
    "        if trial_id == 0:\n",
    "            assert x_cdf_dict_H0_XT.keys() == x_cdf_dict_H0_Xgen.keys()\n",
    "            assert x_cdf_dict_H0_Xgen.keys() == x_cdf_dict_H1_XT.keys()\n",
    "            assert x_cdf_dict_H1_XT.keys() == x_cdf_dict_H1_Xgen.keys()\n",
    "            \n",
    "            x_cdf_dict_all_values = np.array([list(x_cdf_dict_H0_XT.keys()),\\\n",
    "                                              list(x_cdf_dict_H0_XT.values()),\\\n",
    "                                              list(x_cdf_dict_H0_Xgen.values()),\\\n",
    "                                              list(x_cdf_dict_H1_XT.values()),\\\n",
    "                                              list(x_cdf_dict_H1_Xgen.values())]).T\n",
    "            \n",
    "            # Store data to csv file.\n",
    "            column_names_x_cdf = ['x_values', 'cdf_H0_XT', 'cdf_H0_Xgen', 'cdf_H1_XT', 'cdf_H1_Xgen']\n",
    "            df = pd.DataFrame(x_cdf_dict_all_values, columns = column_names_x_cdf)\n",
    "            data_folder_path = \"/Users/chih-yuanchiu/Desktop/Code/Causality_Time_Series/data/\"\n",
    "            file_name = str(N) + \"_x_cdf.csv\"\n",
    "            data_path = data_folder_path + file_name\n",
    "            df.to_csv(data_path)\n",
    "    \n",
    "    assert error_list_H0 != [] and error_list_H1 != []\n",
    "    \n",
    "    print(\"Storing error to csv files\")\n",
    "    print()\n",
    "    \n",
    "    error_array = np.array([error_list_H0, error_list_H1]).T\n",
    "    column_names_error_list = ['error_list_H0', 'error_list_H1']\n",
    "    df = pd.DataFrame(error_array, columns = column_names_error_list)\n",
    "    data_folder_path = \"/Users/chih-yuanchiu/Desktop/Code/Causality_Time_Series/data/\"\n",
    "    file_name = str(N) + \"_error_list.csv\"\n",
    "    data_path = data_folder_path + file_name\n",
    "    df.to_csv(data_path)\n",
    "    \n",
    "    # Store error list to csv file\n",
    "\n",
    "end_time = time.time()\n",
    "print(\"Time:\", end_time - begin_time)\n"
   ]
  },
  {
   "cell_type": "markdown",
   "id": "22255f68",
   "metadata": {},
   "source": [
    "## Naive Aggregation, Multiple Runs"
   ]
  },
  {
   "cell_type": "code",
   "execution_count": 19,
   "id": "91df9c10",
   "metadata": {
    "scrolled": true
   },
   "outputs": [
    {
     "name": "stdout",
     "output_type": "stream",
     "text": [
      "300\n",
      "\n"
     ]
    },
    {
     "ename": "AssertionError",
     "evalue": "x_H0_array_acc_at_1 and x_H1_array_acc_at_1 should have >= 1 samples for normal runs.",
     "output_type": "error",
     "traceback": [
      "\u001b[0;31m---------------------------------------------------------------------------\u001b[0m",
      "\u001b[0;31mAssertionError\u001b[0m                            Traceback (most recent call last)",
      "Input \u001b[0;32mIn [19]\u001b[0m, in \u001b[0;36m<cell line: 22>\u001b[0;34m()\u001b[0m\n\u001b[1;32m     35\u001b[0m x_H1_array_acc_at_1 \u001b[38;5;241m=\u001b[39m np\u001b[38;5;241m.\u001b[39marray([x_array_H1[i, t_fixed] \u001b[38;5;28;01mfor\u001b[39;00m i \u001b[38;5;129;01min\u001b[39;00m \u001b[38;5;28mrange\u001b[39m(x_array_H1\u001b[38;5;241m.\u001b[39mshape[\u001b[38;5;241m0\u001b[39m]) \u001b[38;5;28;01mif\u001b[39;00m acc_realized_H1[i, t_fixed \u001b[38;5;241m+\u001b[39m \u001b[38;5;241m1\u001b[39m] \u001b[38;5;241m==\u001b[39m \u001b[38;5;241m1\u001b[39m]) \n\u001b[1;32m     36\u001b[0m x_H1_array_no_acc_at_1 \u001b[38;5;241m=\u001b[39m np\u001b[38;5;241m.\u001b[39marray([x_array_H1[i, t_fixed] \u001b[38;5;28;01mfor\u001b[39;00m i \u001b[38;5;129;01min\u001b[39;00m \u001b[38;5;28mrange\u001b[39m(x_array_H1\u001b[38;5;241m.\u001b[39mshape[\u001b[38;5;241m0\u001b[39m]) \u001b[38;5;28;01mif\u001b[39;00m acc_realized_H1[i, t_fixed \u001b[38;5;241m+\u001b[39m \u001b[38;5;241m1\u001b[39m] \u001b[38;5;241m==\u001b[39m \u001b[38;5;241m0\u001b[39m]) \n\u001b[0;32m---> 38\u001b[0m \u001b[38;5;28;01massert\u001b[39;00m x_H0_array_acc_at_1\u001b[38;5;241m.\u001b[39mshape[\u001b[38;5;241m0\u001b[39m] \u001b[38;5;241m!=\u001b[39m \u001b[38;5;241m0\u001b[39m \u001b[38;5;129;01mand\u001b[39;00m x_H1_array_acc_at_1\u001b[38;5;241m.\u001b[39mshape[\u001b[38;5;241m0\u001b[39m] \u001b[38;5;241m!=\u001b[39m \u001b[38;5;241m0\u001b[39m, \\\n\u001b[1;32m     39\u001b[0m     \u001b[38;5;124m\"\u001b[39m\u001b[38;5;124mx_H0_array_acc_at_1 and x_H1_array_acc_at_1 should have >= 1 samples for normal runs.\u001b[39m\u001b[38;5;124m\"\u001b[39m\n\u001b[1;32m     41\u001b[0m x_cdf_H0_acc_at_1 \u001b[38;5;241m=\u001b[39m generate_cdf_array_generic(x_H0_array_acc_at_1)\n\u001b[1;32m     42\u001b[0m x_cdf_H0_no_acc_at_1 \u001b[38;5;241m=\u001b[39m generate_cdf_array_generic(x_H0_array_no_acc_at_1)\n",
      "\u001b[0;31mAssertionError\u001b[0m: x_H0_array_acc_at_1 and x_H1_array_acc_at_1 should have >= 1 samples for normal runs."
     ]
    }
   ],
   "source": [
    "begin_time = time.time()\n",
    "\n",
    "# N_array = np.linspace(200, 5000, 25)\n",
    "N_array_1 = np.linspace(10, 90, 9)\n",
    "# N_array_2 = np.linspace(100, 900, 9)\n",
    "N_array_2 = np.linspace(500, 900, 5)\n",
    "N_array_3 = np.linspace(1000, 9000, 9)\n",
    "N_array_4 = np.linspace(10000, 50000, 5)\n",
    "# N_array = np.concatenate((N_array_2, N_array_3))\n",
    "# N_array = N_array_3\n",
    "# N_array = np.array([9000])\n",
    "# N_array = np.array([1000, 2000, 3000, 4000, 5000])\n",
    "# N_array = np.array([6000, 7000, 8000, 9000, 10000])\n",
    "# N_array = [500]\n",
    "N_array = np.array([300, 400])\n",
    "T = 3\n",
    "# num_trials = 1\n",
    "p_accident = 0.01\n",
    "p_accident_high_load = 0.10\n",
    "t_fixed = 0\n",
    "\n",
    "for N in N_array:\n",
    "    N = int(N)\n",
    "    print(N)\n",
    "    print()\n",
    "    error_list_H0 = []\n",
    "    error_list_H1 = []\n",
    "    \n",
    "    for trial_id in range(num_trials):\n",
    "        x_array_H0, acc_realized_H0 = generate_H0_data(N, T, p_acc = p_accident)\n",
    "        x_array_H1, acc_realized_H1 = generate_H1_data(N, T, p_acc = p_accident, p_acc_high_load = p_accident_high_load)\n",
    "\n",
    "        x_H0_array_acc_at_1 = np.array([x_array_H0[i, t_fixed] for i in range(x_array_H0.shape[0]) if acc_realized_H0[i, t_fixed + 1] == 1]) \n",
    "        x_H0_array_no_acc_at_1 = np.array([x_array_H0[i, t_fixed] for i in range(x_array_H0.shape[0]) if acc_realized_H0[i, t_fixed + 1] == 0]) \n",
    "        x_H1_array_acc_at_1 = np.array([x_array_H1[i, t_fixed] for i in range(x_array_H1.shape[0]) if acc_realized_H1[i, t_fixed + 1] == 1]) \n",
    "        x_H1_array_no_acc_at_1 = np.array([x_array_H1[i, t_fixed] for i in range(x_array_H1.shape[0]) if acc_realized_H1[i, t_fixed + 1] == 0]) \n",
    "\n",
    "        assert x_H0_array_acc_at_1.shape[0] != 0 and x_H1_array_acc_at_1.shape[0] != 0, \\\n",
    "            \"x_H0_array_acc_at_1 and x_H1_array_acc_at_1 should have >= 1 samples for normal runs.\"\n",
    "    \n",
    "        x_cdf_H0_acc_at_1 = generate_cdf_array_generic(x_H0_array_acc_at_1)\n",
    "        x_cdf_H0_no_acc_at_1 = generate_cdf_array_generic(x_H0_array_no_acc_at_1)\n",
    "        x_cdf_H1_acc_at_1 = generate_cdf_array_generic(x_H1_array_acc_at_1)\n",
    "        x_cdf_H1_no_acc_at_1 = generate_cdf_array_generic(x_H1_array_no_acc_at_1)\n",
    "        \n",
    "        assert np.all(x_cdf_H0_acc_at_1[:, 0] == x_cdf_H0_no_acc_at_1[:, 0])\n",
    "        assert np.all(x_cdf_H0_no_acc_at_1[:, 0] == x_cdf_H1_acc_at_1[:, 0])\n",
    "        assert np.all(x_cdf_H1_acc_at_1[:, 0] == x_cdf_H1_no_acc_at_1[:, 0])\n",
    "        \n",
    "        error_list_H0.append(max(abs(x_cdf_H0_acc_at_1[:, 1] - x_cdf_H0_no_acc_at_1[:, 1])))\n",
    "        error_list_H1.append(max(abs(x_cdf_H1_acc_at_1[:, 1] - x_cdf_H1_no_acc_at_1[:, 1])))\n",
    "        \n",
    "        if trial_id == 0:\n",
    "            x_cdf_dict_all_values = np.array([list(x_cdf_H0_acc_at_1[:, 0]),\\\n",
    "                                              list(x_cdf_H0_acc_at_1[:, 1]),\\\n",
    "                                              list(x_cdf_H0_no_acc_at_1[:, 1]),\\\n",
    "                                              list(x_cdf_H1_acc_at_1[:, 1]),\\\n",
    "                                              list(x_cdf_H1_no_acc_at_1[:, 1])]).T\n",
    "            \n",
    "            # Store data to csv file.\n",
    "            column_names_x_cdf = ['x_values', 'cdf_H0_acc_at_1', 'cdf_H0_no_acc_at_1', 'cdf_H1_acc_at_1', 'cdf_H1_no_acc_at_1']\n",
    "            df = pd.DataFrame(x_cdf_dict_all_values, columns = column_names_x_cdf)\n",
    "            data_folder_path = \"/Users/chih-yuanchiu/Desktop/Code/Causality_Time_Series/data/p_001_010_naive/\"\n",
    "            file_name = str(N) + \"_x_cdf_naive.csv\"\n",
    "            data_path = data_folder_path + file_name\n",
    "            df.to_csv(data_path)\n",
    "    \n",
    "    assert error_list_H0 != [] and error_list_H1 != []\n",
    "    \n",
    "    print(\"Storing error to csv files\")\n",
    "    \n",
    "    error_array = np.array([error_list_H0, error_list_H1]).T\n",
    "    column_names_error_list = ['error_list_H0', 'error_list_H1']\n",
    "    df = pd.DataFrame(error_array, columns = column_names_error_list)\n",
    "    data_folder_path = \"/Users/chih-yuanchiu/Desktop/Code/Causality_Time_Series/data/p_001_010_naive/\"\n",
    "    file_name = str(N) + \"_error_list_naive.csv\"\n",
    "    data_path = data_folder_path + file_name\n",
    "    df.to_csv(data_path)\n",
    "    \n",
    "    # Store error list to csv file\n",
    "\n",
    "end_time = time.time()\n",
    "print(\"Time:\", end_time - begin_time)\n"
   ]
  },
  {
   "cell_type": "code",
   "execution_count": null,
   "id": "301dcd29",
   "metadata": {},
   "outputs": [],
   "source": []
  },
  {
   "cell_type": "code",
   "execution_count": null,
   "id": "e702d130",
   "metadata": {},
   "outputs": [],
   "source": []
  },
  {
   "cell_type": "code",
   "execution_count": null,
   "id": "e18811c7",
   "metadata": {},
   "outputs": [],
   "source": [
    "begin_time = time.time()\n",
    "\n",
    "# N_array = np.linspace(200, 5000, 25)\n",
    "# N_array_1 = np.linspace(100, 900, 9)\n",
    "# N_array_2 = np.linspace(1000, 10000, 10)]\n",
    "# N_array_3 = np.linspace(10000, 50000, 5)\n",
    "# N_array = np.concatenate((N_array_1, N_array_2))\n",
    "N_array = np.linspace(10000, 50000, 5)\n",
    "T = 120\n",
    "num_trials = 10\n",
    "\n",
    "for N in N_array:\n",
    "    N = int(N)\n",
    "#     print(N)\n",
    "    x_array_H0, acc_realized_H0 = generate_H0_data(N, T)\n",
    "    x_array_H1, acc_realized_H1 = generate_H1_data(N, T)\n",
    "\n",
    "    x_processed_dict_H0_XT, x_processed_dict_H0_Xgen, first_times_dict_H0 = generate_data_processed_dict(x_array_H0, acc_realized_H0)\n",
    "    # print(\"x_processed_dict_H0_XT.values():\", x_processed_dict_H0_XT.values())\n",
    "    # print(len(list(itertools.chain(*list(first_times_dict_H0.values()))))/N)\n",
    "\n",
    "    x_processed_dict_H1_XT, x_processed_dict_H1_Xgen, first_times_dict_H1 = generate_data_processed_dict(x_array_H1, acc_realized_H1)\n",
    "    # print(len(list(itertools.chain(*list(first_times_dict_H1.values()))))/N)\n",
    "\n",
    "    x_values_jumps_H0_XT, x_cdf_dict_H0_XT = generate_cdf_XT(x_processed_dict_H0_XT, first_times_dict_H0, N, T)\n",
    "#     print()\n",
    "    x_values_jumps_H0_Xgen, x_cdf_dict_H0_Xgen = generate_cdf_Xgen(x_processed_dict_H0_Xgen, first_times_dict_H0, N, T)\n",
    "#     print()\n",
    "\n",
    "    x_values_jumps_H1_XT, x_cdf_dict_H1_XT = generate_cdf_XT(x_processed_dict_H1_XT, first_times_dict_H1, N, T)\n",
    "#     print()\n",
    "    x_values_jumps_H1_Xgen, x_cdf_dict_H1_Xgen = generate_cdf_Xgen(x_processed_dict_H1_Xgen, first_times_dict_H1, N, T)\n",
    "    \n",
    "    print(compare_CDFs(x_cdf_dict_H0_XT, x_cdf_dict_H0_Xgen))\n",
    "    print(compare_CDFs(x_cdf_dict_H1_XT, x_cdf_dict_H1_Xgen))2\n",
    "    print()\n",
    "    \n",
    "\n",
    "end_time = time.time()\n",
    "print(\"Time:\", end_time - begin_time)\n",
    "\n"
   ]
  },
  {
   "cell_type": "code",
   "execution_count": null,
   "id": "dd616fb0",
   "metadata": {},
   "outputs": [],
   "source": []
  },
  {
   "cell_type": "code",
   "execution_count": null,
   "id": "e2185736",
   "metadata": {},
   "outputs": [],
   "source": []
  },
  {
   "cell_type": "markdown",
   "id": "42f8b854",
   "metadata": {},
   "source": [
    "# Single Runs:"
   ]
  },
  {
   "cell_type": "markdown",
   "id": "f9c868ba",
   "metadata": {},
   "source": [
    "## Our Method, Generate CDF from array:"
   ]
  },
  {
   "cell_type": "code",
   "execution_count": 102,
   "id": "bceedb2c",
   "metadata": {},
   "outputs": [],
   "source": [
    "# Number of days:\n",
    "N = 1000\n",
    "\n",
    "# Number of discretized steps:\n",
    "# If each timestep represents 10 mins, then T = 108 would represent 18 hours.\n",
    "T = 500"
   ]
  },
  {
   "cell_type": "code",
   "execution_count": 113,
   "id": "3198a5be",
   "metadata": {},
   "outputs": [
    {
     "name": "stdout",
     "output_type": "stream",
     "text": [
      "Time: 8.727495908737183\n"
     ]
    }
   ],
   "source": [
    "begin_time = time.time()\n",
    "\n",
    "x_array_H0, acc_realized_H0 = generate_H0_data(N, T, p_acc = 0.01)\n",
    "x_array_H1, acc_realized_H1 = generate_H1_data(N, T, p_acc = 0.01, p_acc_high_load = 0.1)\n",
    "\n",
    "x_processed_dict_H0_XT, x_processed_dict_H0_Xgen, first_times_dict_H0 = \\\n",
    "    generate_data_processed_dict(x_array_H0, acc_realized_H0)\n",
    "# print(\"x_processed_dict_H0_XT.values():\", x_processed_dict_H0_XT.values())\n",
    "# print(len(list(itertools.chain(*list(first_times_dict_H0.values()))))/N)\n",
    "\n",
    "x_processed_dict_H1_XT, x_processed_dict_H1_Xgen, first_times_dict_H1 = \\\n",
    "    generate_data_processed_dict(x_array_H1, acc_realized_H1)\n",
    "# print(len(list(itertools.chain(*list(first_times_dict_H1.values()))))/N)\n",
    "\n",
    "x_values_jumps_H0_XT, x_cdf_dict_H0_XT = generate_cdf_XT(x_processed_dict_H0_XT, first_times_dict_H0, N, T)\n",
    "# print()\n",
    "x_values_jumps_H0_Xgen, x_cdf_dict_H0_Xgen = generate_cdf_Xgen(x_processed_dict_H0_Xgen, first_times_dict_H0, N, T)\n",
    "# print()\n",
    "\n",
    "x_values_jumps_H1_XT, x_cdf_dict_H1_XT = generate_cdf_XT(x_processed_dict_H1_XT, first_times_dict_H1, N, T)\n",
    "# print()\n",
    "x_values_jumps_H1_Xgen, x_cdf_dict_H1_Xgen = generate_cdf_Xgen(x_processed_dict_H1_Xgen, first_times_dict_H1, N, T)\n",
    "# print()\n",
    "\n",
    "end_time = time.time()\n",
    "print(\"Time:\", end_time - begin_time)\n"
   ]
  },
  {
   "cell_type": "code",
   "execution_count": 114,
   "id": "e1f00681",
   "metadata": {},
   "outputs": [
    {
     "name": "stdout",
     "output_type": "stream",
     "text": [
      "0.03183232645472711\n",
      "0.31936735367743735\n"
     ]
    }
   ],
   "source": [
    "print(compare_CDFs(x_cdf_dict_H0_XT, x_cdf_dict_H0_Xgen))\n",
    "print(compare_CDFs(x_cdf_dict_H1_XT, x_cdf_dict_H1_Xgen))"
   ]
  },
  {
   "cell_type": "code",
   "execution_count": null,
   "id": "84d4d6a7",
   "metadata": {},
   "outputs": [],
   "source": []
  },
  {
   "cell_type": "markdown",
   "id": "65c93679",
   "metadata": {},
   "source": [
    "## Naive Aggregation, Generate CDF from array:"
   ]
  },
  {
   "cell_type": "code",
   "execution_count": 123,
   "id": "95dceadc",
   "metadata": {},
   "outputs": [
    {
     "name": "stdout",
     "output_type": "stream",
     "text": [
      "12\n",
      "101.24904455901742\n",
      "\n",
      "988\n",
      "99.99854375446772\n",
      "\n",
      "25\n",
      "103.65955013162782\n",
      "\n",
      "975\n",
      "99.83695077403561\n",
      "\n"
     ]
    }
   ],
   "source": [
    "t_fixed = 0\n",
    "\n",
    "x_H0_array_acc_at_1 = np.array([x_array_H0[i, t_fixed] for i in range(x_array_H0.shape[0]) if acc_realized_H0[i, t_fixed + 1] == 1]) \n",
    "x_H0_array_no_acc_at_1 = np.array([x_array_H0[i, t_fixed] for i in range(x_array_H0.shape[0]) if acc_realized_H0[i, t_fixed + 1] == 0]) \n",
    "x_H1_array_acc_at_1 = np.array([x_array_H1[i, t_fixed] for i in range(x_array_H1.shape[0]) if acc_realized_H1[i, t_fixed + 1] == 1]) \n",
    "x_H1_array_no_acc_at_1 = np.array([x_array_H1[i, t_fixed] for i in range(x_array_H1.shape[0]) if acc_realized_H1[i, t_fixed + 1] == 0]) \n",
    "\n",
    "x_cdf_H0_acc_at_1 = generate_cdf_array_generic(x_H0_array_acc_at_1)\n",
    "x_cdf_H0_no_acc_at_1 = generate_cdf_array_generic(x_H0_array_no_acc_at_1)\n",
    "x_cdf_H1_acc_at_1 = generate_cdf_array_generic(x_H1_array_acc_at_1)\n",
    "x_cdf_H1_no_acc_at_1 = generate_cdf_array_generic(x_H1_array_no_acc_at_1)\n",
    "\n",
    "print(x_H0_array_acc_at_1.shape[0])\n",
    "print(np.mean(x_H0_array_acc_at_1))\n",
    "print()\n",
    "\n",
    "print(x_H0_array_no_acc_at_1.shape[0])\n",
    "print(np.mean(x_H0_array_no_acc_at_1))\n",
    "print()\n",
    "\n",
    "print(x_H1_array_acc_at_1.shape[0])\n",
    "print(np.mean(x_H1_array_acc_at_1))\n",
    "print()\n",
    "\n",
    "print(x_H1_array_no_acc_at_1.shape[0])\n",
    "print(np.mean(x_H1_array_no_acc_at_1))\n",
    "print()\n"
   ]
  },
  {
   "cell_type": "code",
   "execution_count": 125,
   "id": "45aa6cd4",
   "metadata": {},
   "outputs": [
    {
     "data": {
      "text/plain": [
       "[<matplotlib.lines.Line2D at 0x7f827572cdc0>]"
      ]
     },
     "execution_count": 125,
     "metadata": {},
     "output_type": "execute_result"
    },
    {
     "data": {
      "image/png": "[encoded data removed]",
      "text/plain": [
       "<Figure size 432x288 with 1 Axes>"
      ]
     },
     "metadata": {
      "needs_background": "light"
     },
     "output_type": "display_data"
    }
   ],
   "source": [
    "plot_x_range = np.linspace(x_lower_bound, x_upper_bound, x_values_length)\n",
    "plt.plot(plot_x_range, x_cdf_H0_acc_at_1[:, 1])\n",
    "plt.plot(plot_x_range, x_cdf_H0_no_acc_at_1[:, 1])"
   ]
  },
  {
   "cell_type": "code",
   "execution_count": 126,
   "id": "d9e5e9a5",
   "metadata": {},
   "outputs": [
    {
     "data": {
      "text/plain": [
       "[<matplotlib.lines.Line2D at 0x7f8273a60e20>]"
      ]
     },
     "execution_count": 126,
     "metadata": {},
     "output_type": "execute_result"
    },
    {
     "data": {
      "image/png": "[encoded data removed]",
      "text/plain": [
       "<Figure size 432x288 with 1 Axes>"
      ]
     },
     "metadata": {
      "needs_background": "light"
     },
     "output_type": "display_data"
    }
   ],
   "source": [
    "plot_x_range = np.linspace(x_lower_bound, x_upper_bound, x_values_length)\n",
    "plt.plot(plot_x_range, x_cdf_H1_acc_at_1[:, 1])\n",
    "plt.plot(plot_x_range, x_cdf_H1_no_acc_at_1[:, 1])"
   ]
  },
  {
   "cell_type": "code",
   "execution_count": 133,
   "id": "8a9e0aef",
   "metadata": {},
   "outputs": [
    {
     "name": "stdout",
     "output_type": "stream",
     "text": [
      "0.17982456140350878\n",
      "0.3764102564102564\n"
     ]
    }
   ],
   "source": [
    "print(max(abs(x_cdf_H0_acc_at_1[:, 1] - x_cdf_H0_no_acc_at_1[:, 1])))\n",
    "print(max(abs(x_cdf_H1_acc_at_1[:, 1] - x_cdf_H1_no_acc_at_1[:, 1])))"
   ]
  },
  {
   "cell_type": "code",
   "execution_count": null,
   "id": "7b76ae7e",
   "metadata": {},
   "outputs": [],
   "source": []
  },
  {
   "cell_type": "code",
   "execution_count": 124,
   "id": "4a0a9332",
   "metadata": {},
   "outputs": [],
   "source": [
    "# x_H0_array_acc_at_1"
   ]
  },
  {
   "cell_type": "code",
   "execution_count": 58,
   "id": "9fbf2a27",
   "metadata": {},
   "outputs": [],
   "source": [
    "# x_array_H0.shape"
   ]
  },
  {
   "cell_type": "code",
   "execution_count": null,
   "id": "6d0cf1d4",
   "metadata": {},
   "outputs": [],
   "source": []
  },
  {
   "cell_type": "code",
   "execution_count": 53,
   "id": "1b6c1f5c",
   "metadata": {},
   "outputs": [
    {
     "name": "stdout",
     "output_type": "stream",
     "text": [
      "0.023797452899257054\n",
      "0.44796596776235886\n"
     ]
    }
   ],
   "source": [
    "# Compare CDFs for both the H0 and H1 cases.\n",
    "\n",
    "print(compare_CDFs(x_cdf_dict_H0_XT, x_cdf_dict_H0_Xgen))\n",
    "print(compare_CDFs(x_cdf_dict_H1_XT, x_cdf_dict_H1_Xgen))\n",
    "\n"
   ]
  },
  {
   "cell_type": "markdown",
   "id": "550f7994",
   "metadata": {},
   "source": [
    "# Plots, Part 1:"
   ]
  },
  {
   "cell_type": "code",
   "execution_count": 47,
   "id": "7ce72f5e",
   "metadata": {},
   "outputs": [],
   "source": [
    "def generate_aligned_cdf_dict(x_cdf_dict, plot_x_range):\n",
    "    aligned_cdf_dict = {}\n",
    "    aligned_cdf_values = []\n",
    "    for x_value in plot_x_range:\n",
    "        cdf_value_temp = cdf_value(x_value, x_cdf_dict)\n",
    "        aligned_cdf_dict[x_value] = cdf_value_temp\n",
    "        aligned_cdf_values.append(cdf_value_temp)\n",
    "    \n",
    "    return aligned_cdf_dict, np.array(aligned_cdf_values)\n",
    "    "
   ]
  },
  {
   "cell_type": "code",
   "execution_count": 48,
   "id": "63b4ed9b",
   "metadata": {},
   "outputs": [
    {
     "name": "stdout",
     "output_type": "stream",
     "text": [
      "(1001,)\n",
      "(1001,)\n"
     ]
    },
    {
     "data": {
      "text/plain": [
       "[<matplotlib.lines.Line2D at 0x7f82805f0d60>]"
      ]
     },
     "execution_count": 48,
     "metadata": {},
     "output_type": "execute_result"
    },
    {
     "data": {
      "image/png": "[encoded data removed]",
      "text/plain": [
       "<Figure size 432x288 with 1 Axes>"
      ]
     },
     "metadata": {
      "needs_background": "light"
     },
     "output_type": "display_data"
    }
   ],
   "source": [
    "x_lower_bound = 50\n",
    "x_upper_bound = 150\n",
    "x_values_length = 1000\n",
    "\n",
    "plot_x_range = np.linspace(x_lower_bound, x_upper_bound, x_values_length+1)\n",
    "_, x_cdf_values_H0_XT_aligned = generate_aligned_cdf_dict(x_cdf_dict_H0_XT, plot_x_range)\n",
    "_, x_cdf_values_H0_Xgen_aligned = generate_aligned_cdf_dict(x_cdf_dict_H0_Xgen, plot_x_range)\n",
    "\n",
    "# print(x_cdf_dict_H0_Xgen_aligned)\n",
    "print(x_cdf_values_H0_XT_aligned.shape)\n",
    "print(plot_x_range.shape)\n",
    "\n",
    "\n",
    "plt.plot(plot_x_range, x_cdf_values_H0_XT_aligned)\n",
    "plt.plot(plot_x_range, x_cdf_values_H0_Xgen_aligned)"
   ]
  },
  {
   "cell_type": "code",
   "execution_count": 49,
   "id": "c59cdeab",
   "metadata": {
    "scrolled": true
   },
   "outputs": [
    {
     "name": "stdout",
     "output_type": "stream",
     "text": [
      "(1001,)\n",
      "(1001,)\n"
     ]
    },
    {
     "data": {
      "text/plain": [
       "[<matplotlib.lines.Line2D at 0x7f8280486ac0>]"
      ]
     },
     "execution_count": 49,
     "metadata": {},
     "output_type": "execute_result"
    },
    {
     "data": {
      "image/png": "[encoded data removed]",
      "text/plain": [
       "<Figure size 432x288 with 1 Axes>"
      ]
     },
     "metadata": {
      "needs_background": "light"
     },
     "output_type": "display_data"
    }
   ],
   "source": [
    "x_lower_bound = 50\n",
    "x_upper_bound = 150\n",
    "x_values_length = 1000\n",
    "\n",
    "plot_x_range = np.linspace(x_lower_bound, x_upper_bound, x_values_length+1)\n",
    "_, x_cdf_values_H1_XT_aligned = generate_aligned_cdf_dict(x_cdf_dict_H1_XT, plot_x_range)\n",
    "_, x_cdf_values_H1_Xgen_aligned = generate_aligned_cdf_dict(x_cdf_dict_H1_Xgen, plot_x_range)\n",
    "\n",
    "# print(x_cdf_dict_H0_Xgen_aligned)\n",
    "print(x_cdf_values_H1_XT_aligned.shape)\n",
    "print(plot_x_range.shape)\n",
    "\n",
    "plt.plot(plot_x_range, x_cdf_values_H1_XT_aligned)\n",
    "plt.plot(plot_x_range, x_cdf_values_H1_Xgen_aligned)"
   ]
  },
  {
   "cell_type": "markdown",
   "id": "bc9f6c29",
   "metadata": {},
   "source": [
    "# Plots, Part 2 - For our paper:"
   ]
  },
  {
   "cell_type": "markdown",
   "id": "9d46ddb5",
   "metadata": {},
   "source": [
    "## Our Method:"
   ]
  },
  {
   "cell_type": "code",
   "execution_count": 54,
   "id": "bbc273bf",
   "metadata": {},
   "outputs": [],
   "source": [
    "# N_array = np.linspace(200, 5000, 25)\n",
    "N_array_1 = np.linspace(10, 90, 9)\n",
    "N_array_2 = np.linspace(100, 900, 9)\n",
    "N_array_3 = np.linspace(1000, 9000, 9)\n",
    "# N_array_4 = np.linspace(10000, 50000, 5)\n",
    "# N_array = np.concatenate((N_array_1, N_array_2))\n",
    "N_array_our_method = np.concatenate((N_array_1, N_array_2, N_array_3))\n",
    "# N_array = np.linspace(10000, 50000, 5)\n",
    "\n",
    "errors_list_our_method = []\n",
    "x_cdf_dict_our_method = {}\n",
    "\n",
    "for N in list(N_array_our_method):\n",
    "    N = int(N)\n",
    "    data_folder_path = \"/Users/chih-yuanchiu/Desktop/Code/Causality_Time_Series/data/\"\n",
    "    data_folder_subpath = \"p_001_010_ours/\"\n",
    "#     data_folder_subpath = \"p_001_010_naive/\"\n",
    "    file_name = str(N) + \"_error_list.csv\"\n",
    "\n",
    "    df = pd.read_csv(data_folder_path + data_folder_subpath + file_name)\n",
    "    df_numpy = df.to_numpy()[:, 1:]\n",
    "    df_avg_error_pair = list(np.mean(df_numpy, axis=0))\n",
    "    errors_list_our_method.append(df_avg_error_pair)\n",
    "    \n",
    "    file_name = str(N) + \"_x_cdf.csv\"\n",
    "    df = pd.read_csv(data_folder_path + data_folder_subpath + file_name)\n",
    "    df_numpy = df.to_numpy()[:, 1:]\n",
    "    x_cdf_dict_our_method[N] = df_numpy\n"
   ]
  },
  {
   "cell_type": "code",
   "execution_count": 29,
   "id": "b835838a",
   "metadata": {},
   "outputs": [],
   "source": [
    "# list(x_cdf_dict_our_method.values())[0][:, 0]"
   ]
  },
  {
   "cell_type": "code",
   "execution_count": 68,
   "id": "06e327f9",
   "metadata": {},
   "outputs": [
    {
     "data": {
      "text/plain": [
       "Text(0, 0.5, 'CDF Value')"
      ]
     },
     "execution_count": 68,
     "metadata": {},
     "output_type": "execute_result"
    },
    {
     "data": {
      "image/png": "[encoded data removed]",
      "text/plain": [
       "<Figure size 432x288 with 1 Axes>"
      ]
     },
     "metadata": {
      "needs_background": "light"
     },
     "output_type": "display_data"
    }
   ],
   "source": [
    "# plot_x_range = np.linspace(x_lower_bound, x_upper_bound, x_values_length)\n",
    "\n",
    "N_value = 500\n",
    "\n",
    "plot_x_range = list(x_cdf_dict_our_method.values())[0][:, 0]\n",
    "# H0 plots:\n",
    "plt.plot(plot_x_range, x_cdf_dict_our_method[N_value][:, 1], color = 'blue', linewidth = 1)\n",
    "plt.plot(plot_x_range, x_cdf_dict_our_method[N_value][:, 2], color = 'blue', linewidth = 1)\n",
    "plt.xlabel(\"x\")\n",
    "plt.ylabel(\"CDF Value\")"
   ]
  },
  {
   "cell_type": "code",
   "execution_count": 69,
   "id": "ac1da9e8",
   "metadata": {},
   "outputs": [
    {
     "data": {
      "text/plain": [
       "Text(0, 0.5, 'CDF Value')"
      ]
     },
     "execution_count": 69,
     "metadata": {},
     "output_type": "execute_result"
    },
    {
     "data": {
      "image/png": "[encoded data removed]",
      "text/plain": [
       "<Figure size 432x288 with 1 Axes>"
      ]
     },
     "metadata": {
      "needs_background": "light"
     },
     "output_type": "display_data"
    }
   ],
   "source": [
    "# plot_x_range = np.linspace(x_lower_bound, x_upper_bound, x_values_length)\n",
    "\n",
    "N_value = 500\n",
    "\n",
    "plot_x_range = list(x_cdf_dict_our_method.values())[0][:, 0]\n",
    "# H1 plots:\n",
    "plt.plot(plot_x_range, x_cdf_dict_our_method[N_value][:, 3], color = 'blue', linewidth = 2)\n",
    "plt.plot(plot_x_range, x_cdf_dict_our_method[N_value][:, 4], color = 'blue', linewidth = 2)\n",
    "plt.xlabel(\"x\")\n",
    "plt.ylabel(\"CDF Value\")"
   ]
  },
  {
   "cell_type": "code",
   "execution_count": 70,
   "id": "9f758174",
   "metadata": {},
   "outputs": [
    {
     "data": {
      "text/plain": [
       "Text(0, 0.5, 'CDF Value')"
      ]
     },
     "execution_count": 70,
     "metadata": {},
     "output_type": "execute_result"
    },
    {
     "data": {
      "image/png": "[encoded data removed]",
      "text/plain": [
       "<Figure size 432x288 with 1 Axes>"
      ]
     },
     "metadata": {
      "needs_background": "light"
     },
     "output_type": "display_data"
    }
   ],
   "source": [
    "# plot_x_range = np.linspace(x_lower_bound, x_upper_bound, x_values_length)\n",
    "\n",
    "N_value = 2000\n",
    "\n",
    "plot_x_range = list(x_cdf_dict_our_method.values())[0][:, 0]\n",
    "# H0 plots:\n",
    "plt.plot(plot_x_range, x_cdf_dict_our_method[N_value][:, 1], color = 'blue', linewidth = 1)\n",
    "plt.plot(plot_x_range, x_cdf_dict_our_method[N_value][:, 2], color = 'blue', linewidth = 1)\n",
    "plt.xlabel(\"x\")\n",
    "plt.ylabel(\"CDF Value\")"
   ]
  },
  {
   "cell_type": "code",
   "execution_count": 71,
   "id": "83f22650",
   "metadata": {},
   "outputs": [
    {
     "data": {
      "text/plain": [
       "Text(0, 0.5, 'CDF Value')"
      ]
     },
     "execution_count": 71,
     "metadata": {},
     "output_type": "execute_result"
    },
    {
     "data": {
      "image/png": "[encoded data removed]",
      "text/plain": [
       "<Figure size 432x288 with 1 Axes>"
      ]
     },
     "metadata": {
      "needs_background": "light"
     },
     "output_type": "display_data"
    }
   ],
   "source": [
    "# plot_x_range = np.linspace(x_lower_bound, x_upper_bound, x_values_length)\n",
    "\n",
    "N_value = 2000\n",
    "\n",
    "plot_x_range = list(x_cdf_dict_our_method.values())[0][:, 0]\n",
    "# H1 plots:\n",
    "plt.plot(plot_x_range, x_cdf_dict_our_method[N_value][:, 3], color = 'blue', linewidth = 2)\n",
    "plt.plot(plot_x_range, x_cdf_dict_our_method[N_value][:, 4], color = 'blue', linewidth = 2)\n",
    "plt.xlabel(\"x\")\n",
    "plt.ylabel(\"CDF Value\")"
   ]
  },
  {
   "cell_type": "code",
   "execution_count": null,
   "id": "7c3592e7",
   "metadata": {},
   "outputs": [],
   "source": []
  },
  {
   "cell_type": "code",
   "execution_count": 247,
   "id": "86359f09",
   "metadata": {
    "scrolled": true
   },
   "outputs": [
    {
     "data": {
      "text/plain": [
       "Text(0, 0.5, 'CDF Gap')"
      ]
     },
     "execution_count": 247,
     "metadata": {},
     "output_type": "execute_result"
    },
    {
     "data": {
      "image/png": "[encoded data removed]",
      "text/plain": [
       "<Figure size 432x288 with 1 Axes>"
      ]
     },
     "metadata": {
      "needs_background": "light"
     },
     "output_type": "display_data"
    }
   ],
   "source": [
    "# np.array(errors_list).shape\n",
    "\n",
    "# plt.plot(N_array, np.array(errors_list)[:, 0])\n",
    "# plt.plot(N_array, np.array(errors_list)[:, 1])\n",
    "\n",
    "plt.plot(N_array_our_method, np.array(errors_list_our_method)[:, 0])\n",
    "plt.plot(N_array_our_method, np.array(errors_list_our_method)[:, 1])\n",
    "plt.xlabel(\"N\")\n",
    "# plt.xlabel(\"log(N)\")\n",
    "plt.ylabel(\"CDF Gap\")\n",
    "\n"
   ]
  },
  {
   "cell_type": "markdown",
   "id": "3289fc92",
   "metadata": {},
   "source": [
    "## Naive Aggregation Method:"
   ]
  },
  {
   "cell_type": "code",
   "execution_count": 56,
   "id": "0dfd283f",
   "metadata": {},
   "outputs": [],
   "source": [
    "# N_array = np.linspace(200, 5000, 25)\n",
    "# N_array_1 = np.linspace(10, 90, 9)\n",
    "N_array_2 = np.linspace(500, 900, 5)\n",
    "N_array_3 = np.linspace(1000, 9000, 9)\n",
    "# N_array_4 = np.linspace(10000, 50000, 5)\n",
    "N_array_naive = np.concatenate((N_array_2, N_array_3))\n",
    "# N_array = np.concatenate((N_array_1, N_array_2, N_array_3))\n",
    "# N_array = np.linspace(10000, 50000, 5)\n",
    "\n",
    "errors_list_naive = []\n",
    "x_cdf_dict_naive_method = {}\n",
    "\n",
    "for N in list(N_array_naive):\n",
    "    N = int(N)\n",
    "#     print(N)\n",
    "    data_folder_path = \"/Users/chih-yuanchiu/Desktop/Code/Causality_Time_Series/data/\"\n",
    "#     data_folder_subpath = \"p_001_010_ours/\"\n",
    "    data_folder_subpath = \"p_001_010_naive/\"\n",
    "    file_name = str(N) + \"_error_list_naive.csv\"\n",
    "\n",
    "    df = pd.read_csv(data_folder_path + data_folder_subpath + file_name)\n",
    "    df_numpy = df.to_numpy()[:, 1:]\n",
    "    df_avg_error_pair = list(np.mean(df_numpy, axis=0))\n",
    "    errors_list_naive.append(df_avg_error_pair)\n",
    "    \n",
    "    file_name = str(N) + \"_x_cdf_naive.csv\"\n",
    "    df = pd.read_csv(data_folder_path + data_folder_subpath + file_name)\n",
    "    df_numpy = df.to_numpy()[:, 1:]\n",
    "    x_cdf_dict_naive_method[N] = df_numpy\n"
   ]
  },
  {
   "cell_type": "code",
   "execution_count": 58,
   "id": "16b2977f",
   "metadata": {},
   "outputs": [
    {
     "data": {
      "text/plain": [
       "Text(0, 0.5, 'CDF Value')"
      ]
     },
     "execution_count": 58,
     "metadata": {},
     "output_type": "execute_result"
    },
    {
     "data": {
      "image/png": "[encoded data removed]",
      "text/plain": [
       "<Figure size 432x288 with 1 Axes>"
      ]
     },
     "metadata": {
      "needs_background": "light"
     },
     "output_type": "display_data"
    }
   ],
   "source": [
    "# plot_x_range = np.linspace(x_lower_bound, x_upper_bound, x_values_length)\n",
    "\n",
    "N_value = 500\n",
    "\n",
    "plot_x_range = list(x_cdf_dict_naive_method.values())[0][:, 0]\n",
    "# H1 plots:\n",
    "plt.plot(plot_x_range, x_cdf_dict_naive_method[N_value][:, 1], color = 'red', linewidth = 1)\n",
    "plt.plot(plot_x_range, x_cdf_dict_naive_method[N_value][:, 2], color = 'red', linewidth = 1)\n",
    "plt.xlabel(\"x\")\n",
    "plt.ylabel(\"CDF Value\")"
   ]
  },
  {
   "cell_type": "code",
   "execution_count": 59,
   "id": "18dc29d5",
   "metadata": {},
   "outputs": [
    {
     "data": {
      "text/plain": [
       "Text(0, 0.5, 'CDF Value')"
      ]
     },
     "execution_count": 59,
     "metadata": {},
     "output_type": "execute_result"
    },
    {
     "data": {
      "image/png": "[encoded data removed]",
      "text/plain": [
       "<Figure size 432x288 with 1 Axes>"
      ]
     },
     "metadata": {
      "needs_background": "light"
     },
     "output_type": "display_data"
    }
   ],
   "source": [
    "# plot_x_range = np.linspace(x_lower_bound, x_upper_bound, x_values_length)\n",
    "\n",
    "N_value = 500\n",
    "\n",
    "plot_x_range = list(x_cdf_dict_naive_method.values())[0][:, 0]\n",
    "# H1 plots:\n",
    "plt.plot(plot_x_range, x_cdf_dict_naive_method[N_value][:, 3], color = 'red', linewidth = 2)\n",
    "plt.plot(plot_x_range, x_cdf_dict_naive_method[N_value][:, 4], color = 'red', linewidth = 2)\n",
    "plt.xlabel(\"x\")\n",
    "plt.ylabel(\"CDF Value\")"
   ]
  },
  {
   "cell_type": "code",
   "execution_count": 65,
   "id": "7c4ced38",
   "metadata": {},
   "outputs": [],
   "source": [
    "# x_cdf_dict_naive_method[1000][100:200, 1]"
   ]
  },
  {
   "cell_type": "code",
   "execution_count": 66,
   "id": "37959b6f",
   "metadata": {},
   "outputs": [
    {
     "data": {
      "text/plain": [
       "Text(0, 0.5, 'CDF Value')"
      ]
     },
     "execution_count": 66,
     "metadata": {},
     "output_type": "execute_result"
    },
    {
     "data": {
      "image/png": "[encoded data removed]",
      "text/plain": [
       "<Figure size 432x288 with 1 Axes>"
      ]
     },
     "metadata": {
      "needs_background": "light"
     },
     "output_type": "display_data"
    }
   ],
   "source": [
    "# plot_x_range = np.linspace(x_lower_bound, x_upper_bound, x_values_length)\n",
    "\n",
    "N_value = 2000\n",
    "\n",
    "plot_x_range = list(x_cdf_dict_naive_method.values())[0][:, 0]\n",
    "# H0 plots:\n",
    "plt.plot(plot_x_range, x_cdf_dict_naive_method[N_value][:, 1], color = 'red', linewidth = 1)\n",
    "plt.plot(plot_x_range, x_cdf_dict_naive_method[N_value][:, 2], color = 'red', linewidth = 1)\n",
    "plt.xlabel(\"x\")\n",
    "plt.ylabel(\"CDF Value\")"
   ]
  },
  {
   "cell_type": "code",
   "execution_count": 67,
   "id": "8af63742",
   "metadata": {},
   "outputs": [
    {
     "data": {
      "text/plain": [
       "Text(0, 0.5, 'CDF Value')"
      ]
     },
     "execution_count": 67,
     "metadata": {},
     "output_type": "execute_result"
    },
    {
     "data": {
      "image/png": "[encoded data removed]",
      "text/plain": [
       "<Figure size 432x288 with 1 Axes>"
      ]
     },
     "metadata": {
      "needs_background": "light"
     },
     "output_type": "display_data"
    }
   ],
   "source": [
    "# plot_x_range = np.linspace(x_lower_bound, x_upper_bound, x_values_length)\n",
    "\n",
    "N_value = 2000\n",
    "\n",
    "plot_x_range = list(x_cdf_dict_naive_method.values())[0][:, 0]\n",
    "# H1 plots:\n",
    "plt.plot(plot_x_range, x_cdf_dict_naive_method[N_value][:, 3], color = 'red', linewidth = 2)\n",
    "plt.plot(plot_x_range, x_cdf_dict_naive_method[N_value][:, 4], color = 'red', linewidth = 2)\n",
    "plt.xlabel(\"x\")\n",
    "plt.ylabel(\"CDF Value\")"
   ]
  },
  {
   "cell_type": "code",
   "execution_count": null,
   "id": "57521363",
   "metadata": {},
   "outputs": [],
   "source": []
  },
  {
   "cell_type": "code",
   "execution_count": null,
   "id": "7dbd347d",
   "metadata": {},
   "outputs": [],
   "source": []
  },
  {
   "cell_type": "code",
   "execution_count": 249,
   "id": "3340f654",
   "metadata": {},
   "outputs": [
    {
     "data": {
      "text/plain": [
       "Text(0, 0.5, 'CDF Gap')"
      ]
     },
     "execution_count": 249,
     "metadata": {},
     "output_type": "execute_result"
    },
    {
     "data": {
      "image/png": "[encoded data removed]",
      "text/plain": [
       "<Figure size 432x288 with 1 Axes>"
      ]
     },
     "metadata": {
      "needs_background": "light"
     },
     "output_type": "display_data"
    }
   ],
   "source": [
    "# np.array(errors_list).shape\n",
    "\n",
    "# plt.plot(N_array, np.array(errors_list)[:, 0])\n",
    "# plt.plot(N_array, np.array(errors_list)[:, 1])\n",
    "\n",
    "plt.plot(N_array_naive, np.array(errors_list_naive)[:, 0])\n",
    "plt.plot(N_array_naive, np.array(errors_list_naive)[:, 1])\n",
    "plt.xlabel(\"N\")\n",
    "# plt.xlabel(\"log(N)\")\n",
    "plt.ylabel(\"CDF Gap\")"
   ]
  },
  {
   "cell_type": "markdown",
   "id": "b10c36b2",
   "metadata": {},
   "source": [
    "## Plots, Together:"
   ]
  },
  {
   "cell_type": "code",
   "execution_count": 250,
   "id": "cde5fef3",
   "metadata": {},
   "outputs": [
    {
     "data": {
      "text/plain": [
       "array([1., 1., 1.])"
      ]
     },
     "execution_count": 250,
     "metadata": {},
     "output_type": "execute_result"
    }
   ],
   "source": [
    "np.ones(100)[-3:]"
   ]
  },
  {
   "cell_type": "code",
   "execution_count": 4,
   "id": "ba6e93f1",
   "metadata": {},
   "outputs": [],
   "source": [
    "# N_array = np.linspace(200, 5000, 25)\n",
    "# N_array_1 = np.linspace(10, 90, 9)\n",
    "N_array_2 = np.linspace(500, 900, 5)\n",
    "N_array_3 = np.linspace(1000, 9000, 9)\n",
    "# N_array_4 = np.linspace(10000, 50000, 5)\n",
    "N_array_naive = np.concatenate((N_array_2, N_array_3))\n",
    "# N_array = np.concatenate((N_array_1, N_array_2, N_array_3))\n",
    "# N_array = np.linspace(10000, 50000, 5)\n",
    "\n",
    "errors_list_naive = []\n",
    "x_cdf_dict_naive_method = {}\n",
    "\n",
    "for N in list(N_array_naive):\n",
    "    N = int(N)\n",
    "#     print(N)\n",
    "    data_folder_path = \"/Users/chih-yuanchiu/Desktop/Code/Causality_Time_Series/data/\"\n",
    "#     data_folder_subpath = \"p_001_010_ours/\"\n",
    "    data_folder_subpath = \"p_001_010_naive/\"\n",
    "    file_name = str(N) + \"_error_list_naive.csv\"\n",
    "\n",
    "    df = pd.read_csv(data_folder_path + data_folder_subpath + file_name)\n",
    "    df_numpy = df.to_numpy()[:, 1:]\n",
    "    df_avg_error_pair = list(np.mean(df_numpy, axis=0))\n",
    "    errors_list_naive.append(df_avg_error_pair)\n",
    "    \n",
    "    file_name = str(N) + \"_x_cdf_naive.csv\"\n",
    "    df = pd.read_csv(data_folder_path + data_folder_subpath + file_name)\n",
    "    df_numpy = df.to_numpy()[:, 1:]\n",
    "    x_cdf_dict_naive_method[N] = df_numpy\n"
   ]
  },
  {
   "cell_type": "code",
   "execution_count": 264,
   "id": "c2ec3465",
   "metadata": {},
   "outputs": [
    {
     "data": {
      "text/plain": [
       "Text(0, 0.5, 'CDF Gap')"
      ]
     },
     "execution_count": 264,
     "metadata": {},
     "output_type": "execute_result"
    },
    {
     "data": {
      "image/png": "[encoded data removed]",
      "text/plain": [
       "<Figure size 432x288 with 1 Axes>"
      ]
     },
     "metadata": {
      "needs_background": "light"
     },
     "output_type": "display_data"
    }
   ],
   "source": [
    "plt.plot(N_array_our_method, np.array(errors_list_our_method)[:, 0], color = 'blue', linewidth=1)\n",
    "plt.plot(N_array_our_method, np.array(errors_list_our_method)[:, 1], color = 'blue', linewidth=2)\n",
    "plt.plot(N_array_naive, np.array(errors_list_naive)[:, 0], color = 'red', linewidth = 1)\n",
    "plt.plot(N_array_naive, np.array(errors_list_naive)[:, 1], color = 'red', linewidth = 2)\n",
    "plt.xlabel(\"N\")\n",
    "# plt.xlabel(\"log(N)\")\n",
    "plt.ylabel(\"CDF Gap\")\n",
    "\n",
    "# Thick - Alternative hypothesis\n",
    "# Thin - Null hypothesis\n",
    "# Red - Naive method (baseline)\n",
    "# Blue - Our Method\n"
   ]
  },
  {
   "cell_type": "code",
   "execution_count": null,
   "id": "fe451f02",
   "metadata": {},
   "outputs": [],
   "source": []
  },
  {
   "cell_type": "code",
   "execution_count": 1,
   "id": "f926bba4",
   "metadata": {},
   "outputs": [],
   "source": [
    "# begin_time = time.time()\n",
    "\n",
    "# x_processed_dict_H1, first_times_dict_H1 = generate_data_processed_dict(x_array_H1, acc_realized_H1)\n",
    "\n",
    "# # print(x_processed_dict_H1.keys())\n",
    "# # print()\n",
    "# # print(first_times_dict_H1.keys())\n",
    "\n",
    "# # x_processed_dict_H1\n",
    "# # x_values_jumps_H1 = list(itertools.chain(*list(x_processed_dict_H1.values())))\n",
    "\n",
    "\n",
    "# print(x_processed_dict_H1.keys())\n",
    "# print()\n",
    "# print(first_times_dict_H1.keys())\n",
    "# print()\n",
    "\n",
    "\n",
    "# x_values_jumps_H1, cdf_value_at_jumps_H1 = generate_cdf_Xgen(x_processed_dict_H1, first_times_dict_H1, N, T)\n",
    "\n",
    "# # print(len(list(itertools.chain(*list(first_times_dict_H1.values())))))\n",
    "\n",
    "# # end_time = time.time()\n",
    "\n",
    "# # print(\"\\nTotal time:\", end_time - begin_time)\n",
    "\n",
    "\n"
   ]
  },
  {
   "cell_type": "code",
   "execution_count": 3,
   "id": "aadca6e7",
   "metadata": {},
   "outputs": [],
   "source": [
    "# cdf_value_at_jumps_H1[-1]"
   ]
  },
  {
   "cell_type": "code",
   "execution_count": null,
   "id": "cc0e435d",
   "metadata": {},
   "outputs": [],
   "source": []
  },
  {
   "cell_type": "code",
   "execution_count": null,
   "id": "5e2b6172",
   "metadata": {},
   "outputs": [],
   "source": []
  },
  {
   "cell_type": "markdown",
   "id": "4d0dcbc4",
   "metadata": {},
   "source": [
    "# Scratch Work"
   ]
  },
  {
   "cell_type": "code",
   "execution_count": 38,
   "id": "51070481",
   "metadata": {},
   "outputs": [],
   "source": [
    "array_test = np.identity(5)\n",
    "\n",
    "# column_names = ['One', 'Two', 'Three', 'Four', 'Five']\n",
    "df = pd.DataFrame(array_test, columns = column_names)\n",
    "\n",
    "data_folder_path_1 = \"/Users/chih-yuanchiu/Desktop/Code/Causality_Time_Series/data/\"\n",
    "file_name = str(N) + \".csv\"\n",
    "data_path = data_folder_path_1 + file_name\n",
    "df.to_csv(data_path)\n"
   ]
  },
  {
   "cell_type": "code",
   "execution_count": null,
   "id": "b2c03470",
   "metadata": {},
   "outputs": [],
   "source": []
  }
 ],
 "metadata": {
  "kernelspec": {
   "display_name": "Python 3 (ipykernel)",
   "language": "python",
   "name": "python3"
  },
  "language_info": {
   "codemirror_mode": {
    "name": "ipython",
    "version": 3
   },
   "file_extension": ".py",
   "mimetype": "text/x-python",
   "name": "python",
   "nbconvert_exporter": "python",
   "pygments_lexer": "ipython3",
   "version": "3.8.13"
  }
 },
 "nbformat": 4,
 "nbformat_minor": 5
}
