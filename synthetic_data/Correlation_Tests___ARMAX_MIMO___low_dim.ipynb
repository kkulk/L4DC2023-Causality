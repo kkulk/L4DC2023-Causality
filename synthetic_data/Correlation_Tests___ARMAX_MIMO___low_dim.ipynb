{
 "cells": [
  {
   "cell_type": "code",
   "execution_count": 1,
   "id": "3b78e4b7",
   "metadata": {},
   "outputs": [],
   "source": [
    "import numpy as np\n",
    "from numpy.polynomial import Polynomial\n",
    "import matplotlib.pyplot as plt\n",
    "import causallearn\n",
    "\n",
    "from causallearn.utils.cit import *\n",
    "from causallearn.graph.GraphClass import CausalGraph\n",
    "import pandas as pd\n",
    "from itertools import combinations, permutations\n",
    "from numpy import ndarray\n",
    "from typing import Dict, List, Tuple\n",
    "from causallearn.utils.cit import fisherz\n",
    "import random\n",
    "\n",
    "\n",
    "import time\n",
    "\n",
    "import scipy as sp"
   ]
  },
  {
   "cell_type": "markdown",
   "id": "dbe23cf8",
   "metadata": {},
   "source": [
    "# Initialize Dataset, SISO"
   ]
  },
  {
   "cell_type": "markdown",
   "id": "da90caec",
   "metadata": {},
   "source": [
    "## From Controllable Canonical Form:"
   ]
  },
  {
   "cell_type": "code",
   "execution_count": 2,
   "id": "3d7233d2",
   "metadata": {},
   "outputs": [],
   "source": [
    "def gram_schmidt_normalized(A):\n",
    "    assert A.shape[0] == A.shape[1]\n",
    "    A_GS = np.zeros(A.shape)\n",
    "    A_GS[:, 0] = A[:, 0] / np.linalg.norm(A[:, 0])\n",
    "    for k in np.arange(1, A.shape[1]):\n",
    "#         print(\"\\n\", k, \":\")\n",
    "        temp_vec = np.zeros(A.shape[0])\n",
    "        for j in range(k):\n",
    "#             print(j)\n",
    "            temp_vec += (A[:, k].T @ A_GS[:, j]) * A_GS[:, j]\n",
    "        A_GS_vec_unnormalized = A[:, k] - temp_vec\n",
    "        A_GS[:, k] = A_GS_vec_unnormalized / np.linalg.norm(A_GS_vec_unnormalized)\n",
    "    \n",
    "    assert np.linalg.det(A_GS) != 0\n",
    "    \n",
    "    if np.linalg.det(A_GS) < 0:\n",
    "        A_GS[:, 0] *= -1\n",
    "    \n",
    "    return A_GS\n",
    "\n",
    "def ccf(vec):\n",
    "    n = vec.shape[0]\n",
    "    A_temp = np.block([np.zeros((n-1, 1)), np.identity(n-1)])\n",
    "    A = np.block([[A_temp], [-np.flip(vec)]])\n",
    "    \n",
    "    return A\n",
    "\n",
    "def normalize_rows(A):\n",
    "    A_rows_norms = np.linalg.norm(A, axis=1)\n",
    "    return A / A_rows_norms[:, None]\n",
    "    "
   ]
  },
  {
   "cell_type": "code",
   "execution_count": null,
   "id": "1965969d",
   "metadata": {},
   "outputs": [],
   "source": []
  },
  {
   "cell_type": "code",
   "execution_count": 3,
   "id": "fc114cbe",
   "metadata": {},
   "outputs": [],
   "source": [
    "# np.linalg.cond(np.random.randn(50, 50))\n",
    "# np.amax(np.linalg.inv(np.random.randn(50, 50)))"
   ]
  },
  {
   "cell_type": "code",
   "execution_count": 4,
   "id": "2c292ec3",
   "metadata": {},
   "outputs": [],
   "source": [
    "beta = 0.8\n",
    "num_states = 10\n",
    "num_inputs = 3\n",
    "num_outputs = 5\n",
    "# Dimension of parameters: num_states * (num_inputs + num_outputs) \n",
    "\n",
    "A = gram_schmidt_normalized(np.random.randn(num_states, num_states) + 5*np.ones(num_states)) * beta\n",
    "B = normalize_rows(np.random.randn(num_states, num_inputs)) * np.sqrt(1 - beta**2) \n",
    "C = np.random.randn(num_outputs, num_states)\n"
   ]
  },
  {
   "cell_type": "code",
   "execution_count": 5,
   "id": "4f2adb01",
   "metadata": {},
   "outputs": [],
   "source": [
    "T = 2\n",
    "num_traj = 20000\n",
    "# num_traj = 10000\n",
    "\n",
    "for traj_id in range(num_traj):\n",
    "    x_vec = np.zeros((num_states, T))\n",
    "    y_vec = np.zeros((num_outputs, T))\n",
    "    x_vec[:, 0] = np.random.randn(num_states)\n",
    "    y_vec[:, 0] = C @ x_vec[:, 0]\n",
    "    \n",
    "    u_vec = np.random.randn(num_inputs, T)\n",
    "    #w_vec = np.random.randn(2,T) * np.sqrt(1 - alpha**2 - beta**2)\n",
    "    \n",
    "    for t in range(T-1):\n",
    "    #     print(t)\n",
    "        x_vec[:, t+1] = A @ x_vec[:, t] + B @ u_vec[:,t] #+ w_vec[:, t]\n",
    "        y_vec[:, t+1] = C @ x_vec[:, t+1]\n",
    "    \n",
    "    y_u_vec = np.block([[y_vec], [u_vec]])\n",
    "    \n",
    "    # traj_dataset indices: Sample index, variable index, time\n",
    "    if traj_id == 0:\n",
    "        traj_dataset = np.zeros((num_traj, y_u_vec.shape[0], y_u_vec.shape[1]))\n",
    "        traj_dataset[0, :, :] = y_u_vec\n",
    "    else:\n",
    "        traj_dataset[traj_id, :, :] = y_u_vec"
   ]
  },
  {
   "cell_type": "code",
   "execution_count": 6,
   "id": "1c440472",
   "metadata": {},
   "outputs": [
    {
     "data": {
      "text/plain": [
       "array([-3.13652521,  2.79486398])"
      ]
     },
     "execution_count": 6,
     "metadata": {},
     "output_type": "execute_result"
    }
   ],
   "source": [
    "traj_dataset[0, 0, :]\n",
    "# traj_dataset.shape"
   ]
  },
  {
   "cell_type": "code",
   "execution_count": null,
   "id": "e0cd628c",
   "metadata": {},
   "outputs": [],
   "source": []
  },
  {
   "cell_type": "code",
   "execution_count": null,
   "id": "80e1aa29",
   "metadata": {},
   "outputs": [],
   "source": []
  },
  {
   "cell_type": "code",
   "execution_count": 7,
   "id": "6c1f3f7a",
   "metadata": {
    "scrolled": true
   },
   "outputs": [],
   "source": [
    "# print(A)\n",
    "# print(\"\\n\")\n",
    "# print(B)\n",
    "# print(\"\\n\")\n",
    "# print(C)"
   ]
  },
  {
   "cell_type": "code",
   "execution_count": 8,
   "id": "f522cdbe",
   "metadata": {},
   "outputs": [
    {
     "data": {
      "text/plain": [
       "(20000, 8, 2)"
      ]
     },
     "execution_count": 8,
     "metadata": {},
     "output_type": "execute_result"
    }
   ],
   "source": [
    "# plt.plot(traj_dataset)\n",
    "traj_dataset.shape"
   ]
  },
  {
   "cell_type": "code",
   "execution_count": 9,
   "id": "de10d94e",
   "metadata": {},
   "outputs": [],
   "source": [
    "assert traj_dataset.shape == (num_traj, num_outputs + num_inputs, T)"
   ]
  },
  {
   "cell_type": "code",
   "execution_count": 10,
   "id": "43cc09bc",
   "metadata": {},
   "outputs": [],
   "source": [
    "num_traj, num_quantities, _ = traj_dataset.shape\n",
    "# num_quantities"
   ]
  },
  {
   "cell_type": "code",
   "execution_count": null,
   "id": "60427eff",
   "metadata": {},
   "outputs": [],
   "source": []
  },
  {
   "cell_type": "markdown",
   "id": "92d45d4e",
   "metadata": {},
   "source": [
    "# Modified PC Algorithm for Learning Input vs. Output"
   ]
  },
  {
   "cell_type": "code",
   "execution_count": 11,
   "id": "dde5f18b",
   "metadata": {},
   "outputs": [],
   "source": [
    "def correlation_test(data, m, rho_m):\n",
    "    num_traj, num_quantities, _ = data.shape\n",
    "    input_indices = []\n",
    "    \n",
    "    for i in range(num_quantities):\n",
    "        node_indices_to_test = np.random.choice(num_quantities, m)\n",
    "        for count, j in enumerate(node_indices_to_test):\n",
    "            corr = sp.stats.pearsonr(traj_dataset[:, j, 0], traj_dataset[:, i, 1])[0]\n",
    "            if corr >= rho_m:\n",
    "                break\n",
    "            if count == m-1:\n",
    "                input_indices.append(i)\n",
    "    \n",
    "    return input_indices\n",
    "\n",
    "def correlation_test_SISO(data):\n",
    "    # Indices: Variable index, time\n",
    "    # For variable 0 at time t+1:\n",
    "    corr_00_01 = sp.stats.pearsonr(traj_dataset[:, 0, 0], traj_dataset[:, 0, 1])[0]\n",
    "    corr_10_01 = sp.stats.pearsonr(traj_dataset[:, 1, 0], traj_dataset[:, 0, 1])[0]\n",
    "    # For variable 1 at time t+1:\n",
    "    corr_00_11 = sp.stats.pearsonr(traj_dataset[:, 0, 0], traj_dataset[:, 1, 1])[0]\n",
    "    corr_10_11 = sp.stats.pearsonr(traj_dataset[:, 1, 0], traj_dataset[:, 1, 1])[0]\n",
    "    # Store correlations into list:\n",
    "    corr_list = [corr_00_01, corr_10_01, corr_00_11, corr_10_11]\n",
    "    \n",
    "    # Indices: Variable index at time t+1\n",
    "    corr_0 = max(abs(corr_00_01), abs(corr_10_01))\n",
    "    corr_1 = max(abs(corr_00_11), abs(corr_10_11))\n",
    "    \n",
    "    if corr_0 < corr_1:\n",
    "        return [corr_list, 0]\n",
    "    else:\n",
    "        return [corr_list, 1]"
   ]
  },
  {
   "cell_type": "code",
   "execution_count": 12,
   "id": "8603c5eb",
   "metadata": {},
   "outputs": [
    {
     "name": "stdout",
     "output_type": "stream",
     "text": [
      "[-0.2576760185329362, -0.029191561584587588, -0.02510236948372993, 0.1109803152894161]\n",
      "1\n"
     ]
    }
   ],
   "source": [
    "corrs, input_index = correlation_test_SISO(traj_dataset)\n",
    "\n",
    "print(corrs)\n",
    "print(input_index)"
   ]
  },
  {
   "cell_type": "markdown",
   "id": "e20e3168",
   "metadata": {},
   "source": [
    "# System ID, via Goodwin and Sin:"
   ]
  },
  {
   "cell_type": "code",
   "execution_count": 65,
   "id": "1b152102",
   "metadata": {},
   "outputs": [],
   "source": [
    "T = 10000\n",
    "num_traj = 1\n",
    "assert T > 2 * num_states"
   ]
  },
  {
   "cell_type": "code",
   "execution_count": 66,
   "id": "ef397fab",
   "metadata": {},
   "outputs": [],
   "source": [
    "for traj_id in range(num_traj):\n",
    "    x_vec = np.zeros((num_states, T))\n",
    "    y_vec = np.zeros((num_outputs, T))\n",
    "    x_vec[:, 0] = np.random.randn(num_states)\n",
    "    y_vec[:, 0] = C @ x_vec[:, 0]\n",
    "    \n",
    "    u_vec = np.random.randn(num_inputs, T)\n",
    "    #w_vec = np.random.randn(2,T) * np.sqrt(1 - alpha**2 - beta**2)\n",
    "    \n",
    "    for t in range(T-1):\n",
    "    #     print(t)\n",
    "        x_vec[:, t+1] = A @ x_vec[:, t] + B @ u_vec[:,t] #+ w_vec[:, t]\n",
    "        y_vec[:, t+1] = C @ x_vec[:, t+1]\n",
    "    \n",
    "    y_u_vec = np.block([[y_vec], [u_vec]])\n",
    "    \n",
    "    # traj_dataset indices: Sample index, variable index, time\n",
    "    if traj_id == 0:\n",
    "        traj_for_sysID = np.zeros((num_traj, y_u_vec.shape[0], y_u_vec.shape[1]))\n",
    "        traj_for_sysID[0, :, :] = y_u_vec\n",
    "    else:\n",
    "        traj_for_sysID[traj_id, :, :] = y_u_vec\n",
    "\n"
   ]
  },
  {
   "cell_type": "code",
   "execution_count": 67,
   "id": "8ce55efb",
   "metadata": {},
   "outputs": [
    {
     "data": {
      "text/plain": [
       "(1, 8, 10000)"
      ]
     },
     "execution_count": 67,
     "metadata": {},
     "output_type": "execute_result"
    }
   ],
   "source": [
    "traj_for_sysID.shape"
   ]
  },
  {
   "cell_type": "code",
   "execution_count": 68,
   "id": "61bfbf42",
   "metadata": {},
   "outputs": [],
   "source": [
    "# # P_0 = np.identity(3)\n",
    "# # P_0\n",
    "\n",
    "# v = np.arange(30)\n"
   ]
  },
  {
   "cell_type": "code",
   "execution_count": 69,
   "id": "fb791937",
   "metadata": {},
   "outputs": [
    {
     "name": "stdout",
     "output_type": "stream",
     "text": [
      "[[1 2 3]\n",
      " [4 5 6]]\n"
     ]
    },
    {
     "data": {
      "text/plain": [
       "array([3, 6, 2, 5, 1, 4])"
      ]
     },
     "execution_count": 69,
     "metadata": {},
     "output_type": "execute_result"
    }
   ],
   "source": [
    "temp_array = np.array([[1, 2, 3], [4, 5, 6]])\n",
    "print(temp_array)\n",
    "np.flip(temp_array, axis=1).flatten('F')"
   ]
  },
  {
   "cell_type": "code",
   "execution_count": 70,
   "id": "afaaee56",
   "metadata": {},
   "outputs": [],
   "source": [
    "# temp_array_1 = np.array([1, 2, 3])\n",
    "# temp_array_2 = np.array([-1, -2])\n",
    "# np.block([temp_array_1, temp_array_2])\n"
   ]
  },
  {
   "cell_type": "code",
   "execution_count": 71,
   "id": "e2da9905",
   "metadata": {
    "scrolled": true
   },
   "outputs": [],
   "source": [
    "# Least-Squares Algorithm: (Goodwin and Sin, pg. 58)\n",
    "\n",
    "def least_squares_MIMO(traj, theta_0, P_0, n, n_i, n_o, resetting_rate = 100):\n",
    "    # traj: # variables (y, u) x # Timesteps\n",
    "    \n",
    "    assert traj.shape[0] == n_i + n_o\n",
    "    assert theta_0.shape == (n * (n_i + n_o), n_o)\n",
    "    assert P_0.shape[0] == P_0.shape[1] == n * (n_i + n_o)\n",
    "    T = traj.shape[1]\n",
    "    \n",
    "    theta_list = [theta_0]\n",
    "    \n",
    "    P = P_0\n",
    "    \n",
    "    for t in range(n, T):\n",
    "        \n",
    "        # \\phi(t-1):\n",
    "        y_vec_temp = np.flip(traj[0:n_o, t-n:t], axis=1).flatten('F')\n",
    "        u_vec_temp = np.flip(traj[n_o:, t-n:t], axis=1).flatten('F')\n",
    "        y_vec_temp.reshape((y_vec_temp.shape[0], 1))\n",
    "        u_vec_temp.reshape((u_vec_temp.shape[0], 1))\n",
    "        \n",
    "#         print(\"n:\", n)\n",
    "#         print(\"n_i:\", n_i)\n",
    "#         print(\"n_o:\", n_o)\n",
    "#         print(\"y_vec_temp:\", y_vec_temp)\n",
    "#         print(\"u_vec_temp:\", u_vec_temp)\n",
    "#         print(\"y_vec_temp.shape:\", y_vec_temp.shape)\n",
    "#         print(\"u_vec_temp.shape:\", u_vec_temp.shape)\n",
    "        \n",
    "#         phi = np.block([[y_vec_temp], [u_vec_temp]]).reshape((n * (n_i + n_o), 1))\n",
    "\n",
    "        # TODO: Try just concatenating:\n",
    "        phi = np.block([y_vec_temp, u_vec_temp]).reshape((n * (n_i + n_o), 1))\n",
    "        \n",
    "        # y(t):\n",
    "        y = traj[0:n_o, t].reshape((n_o, 1))\n",
    "        \n",
    "        gain = P @ phi / (1 + phi.T @ P @ phi)\n",
    "        error = y.T - phi.T @ theta_list[-1]\n",
    "#         print(P.shape)\n",
    "#         print(gain.shape)\n",
    "#         print(error.shape)\n",
    "        \n",
    "        theta_new = theta_list[-1] + gain @ error\n",
    "        theta_list.append(theta_new)\n",
    "        \n",
    "        \n",
    "#         print(\"\\n\")\n",
    "#         print(\"gain.shape:\", gain.shape)\n",
    "#         print(\"error.shape:\", error.shape)\n",
    "#         print(\"theta_list[-1].shape:\", theta_list[-1].shape)\n",
    "        \n",
    "        P = P - P @ phi @ phi.T @ P / (1 + phi.T @ P @ phi)\n",
    "        \n",
    "        # Resetting:\n",
    "        if t % resetting_rate == 0:\n",
    "            P = np.identity(n * (n_i + n_o))\n",
    "        \n",
    "#         print(t)\n",
    "#         print(P)\n",
    "    \n",
    "    return theta_list\n",
    "\n",
    "# traj_for_sysID.shape\n",
    "\n",
    "\n",
    "def output_error(traj, theta, n, n_i, n_o):\n",
    "    # INCOMPLETE\n",
    "    \n",
    "    assert theta.shape == (n * (n_i + n_o), n_o)\n",
    "    \n",
    "    error_list = []\n",
    "    \n",
    "    for t in range(n, T):\n",
    "        # \\phi(t-1):\n",
    "        # \\phi(t-1):\n",
    "        y_vec_temp = np.flip(traj[0:n_o, t-n:t], axis=1).flatten('F')\n",
    "        u_vec_temp = np.flip(traj[n_o:, t-n:t], axis=1).flatten('F')\n",
    "#         print(y_vec_temp)\n",
    "#         print(u_vec_temp)\n",
    "        phi = np.block([y_vec_temp, u_vec_temp]).reshape((n * (n_i + n_o), 1))\n",
    "    \n",
    "        # y(t):\n",
    "        y = traj[0:n_o, t].reshape((n_o, 1))\n",
    "        \n",
    "        error_list.append(np.linalg.norm(y - theta.T @ phi))\n",
    "    \n",
    "    return error_list\n",
    "    \n",
    "def avg_of_list(input_list):\n",
    "    return sum(input_list)/len(input_list)"
   ]
  },
  {
   "cell_type": "code",
   "execution_count": 72,
   "id": "762b53af",
   "metadata": {
    "scrolled": false
   },
   "outputs": [
    {
     "name": "stdout",
     "output_type": "stream",
     "text": [
      "dim_states : error\n",
      "\n",
      "\n",
      "1 : 3.190854008289077\n",
      "2 : 3.902129928877674e-07\n",
      "3 : 2.9189396673311243e-15\n",
      "4 : 3.4309038733857223e-15\n",
      "5 : 3.864425831868684e-15\n",
      "6 : 5.245639071713638e-15\n",
      "7 : 6.8560525679678274e-15\n",
      "8 : 7.077084717044563e-15\n",
      "9 : 7.383389679533158e-15\n",
      "10 : 8.411718637182658e-15\n",
      "11 : 9.819394225652044e-15\n",
      "12 : 1.061258057402948e-14\n",
      "13 : 1.1759957198429413e-14\n",
      "14 : 1.1990259298303613e-14\n",
      "15 : 1.4793317521633095e-14\n",
      "16 : 1.5003630335472243e-14\n",
      "17 : 1.5146134724526514e-14\n",
      "18 : 1.5347418879886035e-14\n",
      "19 : 1.7131087090611898e-14\n",
      "\n",
      "Time: 29.97594714164734\n"
     ]
    }
   ],
   "source": [
    "begin_time = time.time()\n",
    "print(\"dim_states : error\")\n",
    "print(\"\\n\")\n",
    "\n",
    "avg_error_list = []\n",
    "\n",
    "for count, dim_state in enumerate(range(1, int(2*num_states))):\n",
    "# for count, dim_state in enumerate([num_states]):\n",
    "    dim_params = dim_state * (num_inputs + num_outputs)\n",
    "#     print(dim_params)\n",
    "\n",
    "    theta_list = least_squares_MIMO(traj_for_sysID[0, :, :], np.random.randn(dim_params, num_outputs), \\\n",
    "                                np.identity(dim_params), dim_state, num_inputs, num_outputs)\n",
    "    \n",
    "#     print(theta_list[-1])\n",
    "    avg_error = avg_of_list(output_error(traj_for_sysID[0, :, :], theta_list[-1], dim_state, num_inputs, num_outputs))\n",
    "    print(dim_state, \":\", avg_error)\n",
    "    \n",
    "    avg_error_list.append(avg_error)\n",
    "\n",
    "# theta_array[num_states, 2*num_states]\n",
    "\n",
    "end_time = time.time()\n",
    "print(\"\\nTime:\", end_time - begin_time)"
   ]
  },
  {
   "cell_type": "code",
   "execution_count": 73,
   "id": "40e6a519",
   "metadata": {},
   "outputs": [
    {
     "data": {
      "text/plain": [
       "3.526371181518434e-15"
      ]
     },
     "execution_count": 73,
     "metadata": {},
     "output_type": "execute_result"
    }
   ],
   "source": [
    "# dim_state = num_states\n",
    "dim_state = 4\n",
    "dim_params = dim_state * (num_inputs + num_outputs)\n",
    "theta_list = least_squares_MIMO(traj_for_sysID[0, :, :], np.random.randn(dim_params, num_outputs), \\\n",
    "                                np.identity(dim_params), dim_state, num_inputs, num_outputs)\n",
    "avg_of_list(output_error(traj_for_sysID[0, :, :], theta_list[-1], dim_state, num_inputs, num_outputs))"
   ]
  },
  {
   "cell_type": "code",
   "execution_count": 74,
   "id": "61b80a2f",
   "metadata": {},
   "outputs": [
    {
     "data": {
      "text/plain": [
       "([<matplotlib.axis.XTick at 0x7f94fa939670>,\n",
       "  <matplotlib.axis.XTick at 0x7f94fa939820>,\n",
       "  <matplotlib.axis.XTick at 0x7f94fa954310>,\n",
       "  <matplotlib.axis.XTick at 0x7f94f9e3a100>,\n",
       "  <matplotlib.axis.XTick at 0x7f94f9e3a850>,\n",
       "  <matplotlib.axis.XTick at 0x7f94f9e3f070>,\n",
       "  <matplotlib.axis.XTick at 0x7f94f9e3f730>,\n",
       "  <matplotlib.axis.XTick at 0x7f94f9e3fe80>,\n",
       "  <matplotlib.axis.XTick at 0x7f94f9e3f700>,\n",
       "  <matplotlib.axis.XTick at 0x7f94f9e3a940>,\n",
       "  <matplotlib.axis.XTick at 0x7f94f9e476d0>,\n",
       "  <matplotlib.axis.XTick at 0x7f94f9e47e20>,\n",
       "  <matplotlib.axis.XTick at 0x7f9506d405b0>,\n",
       "  <matplotlib.axis.XTick at 0x7f9506d40d00>,\n",
       "  <matplotlib.axis.XTick at 0x7f9506d38490>,\n",
       "  <matplotlib.axis.XTick at 0x7f9506d409a0>,\n",
       "  <matplotlib.axis.XTick at 0x7f94f9e47970>,\n",
       "  <matplotlib.axis.XTick at 0x7f9506d38a90>,\n",
       "  <matplotlib.axis.XTick at 0x7f9506d430a0>,\n",
       "  <matplotlib.axis.XTick at 0x7f9506d43790>,\n",
       "  <matplotlib.axis.XTick at 0x7f9506d48040>],\n",
       " [Text(0, 0, ''),\n",
       "  Text(0, 0, ''),\n",
       "  Text(0, 0, ''),\n",
       "  Text(0, 0, ''),\n",
       "  Text(0, 0, ''),\n",
       "  Text(0, 0, ''),\n",
       "  Text(0, 0, ''),\n",
       "  Text(0, 0, ''),\n",
       "  Text(0, 0, ''),\n",
       "  Text(0, 0, ''),\n",
       "  Text(0, 0, ''),\n",
       "  Text(0, 0, ''),\n",
       "  Text(0, 0, ''),\n",
       "  Text(0, 0, ''),\n",
       "  Text(0, 0, ''),\n",
       "  Text(0, 0, ''),\n",
       "  Text(0, 0, ''),\n",
       "  Text(0, 0, ''),\n",
       "  Text(0, 0, ''),\n",
       "  Text(0, 0, ''),\n",
       "  Text(0, 0, '')])"
      ]
     },
     "execution_count": 74,
     "metadata": {},
     "output_type": "execute_result"
    },
    {
     "data": {
      "image/png": "[encoded data removed]",
      "text/plain": [
       "<Figure size 432x288 with 1 Axes>"
      ]
     },
     "metadata": {
      "needs_background": "light"
     },
     "output_type": "display_data"
    }
   ],
   "source": [
    "plt.plot(avg_error_list)\n",
    "plt.xticks(np.arange(21))\n"
   ]
  },
  {
   "cell_type": "code",
   "execution_count": 75,
   "id": "e7cb5bef",
   "metadata": {},
   "outputs": [
    {
     "data": {
      "text/plain": [
       "([<matplotlib.axis.XTick at 0x7f9506d7d8b0>,\n",
       "  <matplotlib.axis.XTick at 0x7f9506d7d760>,\n",
       "  <matplotlib.axis.XTick at 0x7f9506d6de50>,\n",
       "  <matplotlib.axis.XTick at 0x7f94f9d8d190>,\n",
       "  <matplotlib.axis.XTick at 0x7f94f9d8d910>,\n",
       "  <matplotlib.axis.XTick at 0x7f94f9d930a0>,\n",
       "  <matplotlib.axis.XTick at 0x7f94f9d937f0>,\n",
       "  <matplotlib.axis.XTick at 0x7f94f9d990a0>,\n",
       "  <matplotlib.axis.XTick at 0x7f94f9d996d0>,\n",
       "  <matplotlib.axis.XTick at 0x7f94f9d938b0>,\n",
       "  <matplotlib.axis.XTick at 0x7f94f9d8d880>,\n",
       "  <matplotlib.axis.XTick at 0x7f94f9d99040>,\n",
       "  <matplotlib.axis.XTick at 0x7f94f9da3490>,\n",
       "  <matplotlib.axis.XTick at 0x7f94f9da3be0>,\n",
       "  <matplotlib.axis.XTick at 0x7f94f9221370>,\n",
       "  <matplotlib.axis.XTick at 0x7f94f9221ac0>,\n",
       "  <matplotlib.axis.XTick at 0x7f94f9221640>,\n",
       "  <matplotlib.axis.XTick at 0x7f94f9da3550>,\n",
       "  <matplotlib.axis.XTick at 0x7f94f9d93370>,\n",
       "  <matplotlib.axis.XTick at 0x7f94f9227640>,\n",
       "  <matplotlib.axis.XTick at 0x7f94f9227d90>],\n",
       " [Text(0, 0, ''),\n",
       "  Text(0, 0, ''),\n",
       "  Text(0, 0, ''),\n",
       "  Text(0, 0, ''),\n",
       "  Text(0, 0, ''),\n",
       "  Text(0, 0, ''),\n",
       "  Text(0, 0, ''),\n",
       "  Text(0, 0, ''),\n",
       "  Text(0, 0, ''),\n",
       "  Text(0, 0, ''),\n",
       "  Text(0, 0, ''),\n",
       "  Text(0, 0, ''),\n",
       "  Text(0, 0, ''),\n",
       "  Text(0, 0, ''),\n",
       "  Text(0, 0, ''),\n",
       "  Text(0, 0, ''),\n",
       "  Text(0, 0, ''),\n",
       "  Text(0, 0, ''),\n",
       "  Text(0, 0, ''),\n",
       "  Text(0, 0, ''),\n",
       "  Text(0, 0, '')])"
      ]
     },
     "execution_count": 75,
     "metadata": {},
     "output_type": "execute_result"
    },
    {
     "data": {
      "image/png": "[encoded data removed]",
      "text/plain": [
       "<Figure size 432x288 with 1 Axes>"
      ]
     },
     "metadata": {
      "needs_background": "light"
     },
     "output_type": "display_data"
    }
   ],
   "source": [
    "plt.plot(np.log(np.array(avg_error_list)))\n",
    "plt.xticks(np.arange(21))\n"
   ]
  },
  {
   "cell_type": "code",
   "execution_count": null,
   "id": "6c6c814e",
   "metadata": {},
   "outputs": [],
   "source": []
  },
  {
   "cell_type": "code",
   "execution_count": 56,
   "id": "1817e56a",
   "metadata": {
    "scrolled": true
   },
   "outputs": [],
   "source": [
    "# # For perfect match of conjectured and true n (i.e., neither overfitting nor underfitting):\n",
    "# plt.plot(np.linalg.norm((theta_array - theta_ground_truth), axis=1))"
   ]
  },
  {
   "cell_type": "code",
   "execution_count": null,
   "id": "37f5c5ef",
   "metadata": {},
   "outputs": [],
   "source": []
  },
  {
   "cell_type": "code",
   "execution_count": 45,
   "id": "3b40940f",
   "metadata": {
    "scrolled": true
   },
   "outputs": [],
   "source": [
    "# begin_time = time.time()\n",
    "\n",
    "# m_list = [2*x + 2 for x in list(range(10))]\n",
    "# rho_min_list = [x * 0.01 + 0.01 for x in list(range(5))]\n",
    "# input_indices_true = list(range(num_outputs, num_outputs + num_inputs))\n",
    "# num_trials = 10\n",
    "\n",
    "# false_positive_avg_array = np.zeros((len(m_list), len(rho_min_list)))\n",
    "# missed_detection_avg_array = np.zeros((len(m_list), len(rho_min_list)))\n",
    "\n",
    "# for count_m, m in enumerate(m_list):\n",
    "#     print(\"\\n\")\n",
    "#     print(\"count_m:\", count_m)\n",
    "#     for count_rho, rho_min in enumerate(rho_min_list):\n",
    "#         print(\"count_rho\", count_rho)\n",
    "#         false_positive_quantity_list = []\n",
    "#         missed_detection_quantity_list = []\n",
    "#         for trial_id in range(num_trials):\n",
    "#             input_indices_est = correlation_test(traj_dataset, m, rho_min)\n",
    "#             false_positive_quantity_list.append(len([k for k in input_indices_est if k not in input_indices_true]))\n",
    "#             missed_detection_quantity_list.append(len([k for k in input_indices_true if k not in input_indices_est]))\n",
    "#         false_positive_avg_array[count_m, count_rho] = sum(false_positive_quantity_list)/len(false_positive_quantity_list)\n",
    "#         missed_detection_avg_array[count_m, count_rho] = sum(missed_detection_quantity_list)/len(missed_detection_quantity_list)\n",
    "\n",
    "# end_time = time.time()\n",
    "# print(\"\\nTime:\", end_time - begin_time)\n",
    "\n",
    "# # print(correlation_test(traj_dataset, 10, 0.05))\n",
    "\n"
   ]
  },
  {
   "cell_type": "code",
   "execution_count": 46,
   "id": "98f1ee9a",
   "metadata": {},
   "outputs": [],
   "source": [
    "# input_indices_est"
   ]
  },
  {
   "cell_type": "code",
   "execution_count": 47,
   "id": "18e742e0",
   "metadata": {
    "scrolled": false
   },
   "outputs": [],
   "source": [
    "# print(false_positive_avg_array)\n",
    "# print(missed_detection_avg_array)"
   ]
  },
  {
   "cell_type": "code",
   "execution_count": 48,
   "id": "a6b27da7",
   "metadata": {},
   "outputs": [],
   "source": [
    "m = 20\n",
    "rho_min = 0.02\n",
    "\n",
    "# for i in range(num_quantities):\n",
    "#     print(\"\\ni:\", i)\n",
    "#     for j in range(num_quantities):\n",
    "#         print(\"j:\", j, \"corr:\", sp.stats.pearsonr(traj_dataset[:, j, 0], traj_dataset[:, i, 1])[0])\n",
    "\n",
    "# print(traj_dataset[:, 10, 0])\n",
    "# print(traj_dataset[:, 15, 1])\n",
    "\n",
    "# correlation_test(traj_dataset, m, rho_min)\n"
   ]
  },
  {
   "cell_type": "code",
   "execution_count": null,
   "id": "460668a9",
   "metadata": {},
   "outputs": [],
   "source": []
  },
  {
   "cell_type": "code",
   "execution_count": 49,
   "id": "286cebce",
   "metadata": {},
   "outputs": [],
   "source": [
    "# # Save results:\n",
    "\n",
    "# path_directory = \"/Users/chih-yuanchiu/Desktop/Code/Causality_Time_Series/data/\"\n",
    "\n",
    "# path_file = path_directory + \"false_positive_avg_array.csv\"\n",
    "# false_positive_avg_array_pd = pd.DataFrame(false_positive_avg_array)\n",
    "# false_positive_avg_array_pd.to_csv(path_file, index=False)\n",
    "\n",
    "# path_file = path_directory + \"missed_detection_avg_array.csv\"\n",
    "# missed_detection_avg_array_pd = pd.DataFrame(missed_detection_avg_array)\n",
    "# missed_detection_avg_array_pd.to_csv(path_file, index=False)\n",
    "\n"
   ]
  },
  {
   "cell_type": "code",
   "execution_count": null,
   "id": "c05784d8",
   "metadata": {},
   "outputs": [],
   "source": []
  },
  {
   "cell_type": "markdown",
   "id": "83c5c9b3",
   "metadata": {},
   "source": [
    "# Scratch Work"
   ]
  },
  {
   "cell_type": "code",
   "execution_count": null,
   "id": "67407d37",
   "metadata": {},
   "outputs": [],
   "source": [
    "# list_1 = [3, 4, 5]\n",
    "# list_2 = [4, 5, 6]\n",
    "\n",
    "# list_1_not_2 = [k for k in list_1 if k not in list_2]\n",
    "# list_2_not_1 = [k for k in list_2 if k not in list_1]"
   ]
  },
  {
   "cell_type": "code",
   "execution_count": 7,
   "id": "b5d578fc",
   "metadata": {},
   "outputs": [
    {
     "name": "stdout",
     "output_type": "stream",
     "text": [
      "[70.13372346  7.49124929  4.61401113  1.65211256  0.35134451]\n",
      "\n",
      "\n",
      "[27.77084887 11.03912218  3.4165928   1.4057661   0.51812137]\n"
     ]
    }
   ],
   "source": [
    "A = np.array([[-1, 0, 0, 0, 0], [1, -1, 0, 0, 0], [0, 0, -1, 0, 0], [0, 0, 0, -1, 0], [0, 0, 0, 0, -2]])\n",
    "B = np.array([[1, -1, -1], [0, 0, 0], [0, 3, 1], [-1, 3, 2], [1, -3, -2]])\n",
    "C = np.array([[1, 0, -1, -1,-1], [0, 1, 3, 1, 0], [-1, 1, 3, 2, 1]])\n",
    "\n",
    "ctrl_gram = np.block([B, A @ B, A @ A @ B, A @ A @ A @ B, A @ A @ A @ A @ B])\n",
    "observ_gram = np.block([[C], [C @ A], [C @ A @ A], [C @ A @ A @ A], [C @ A @ A @ A @ A]])\n",
    "\n",
    "_, S_ctrl, _ = np.linalg.svd(ctrl_gram)\n",
    "_, S_observ, _ = np.linalg.svd(observ_gram)\n",
    "\n",
    "print(S_ctrl)\n",
    "print(\"\\n\")\n",
    "print(S_observ)"
   ]
  },
  {
   "cell_type": "code",
   "execution_count": null,
   "id": "085eb6f9",
   "metadata": {},
   "outputs": [],
   "source": []
  }
 ],
 "metadata": {
  "kernelspec": {
   "display_name": "Python 3 (ipykernel)",
   "language": "python",
   "name": "python3"
  },
  "language_info": {
   "codemirror_mode": {
    "name": "ipython",
    "version": 3
   },
   "file_extension": ".py",
   "mimetype": "text/x-python",
   "name": "python",
   "nbconvert_exporter": "python",
   "pygments_lexer": "ipython3",
   "version": "3.8.13"
  }
 },
 "nbformat": 4,
 "nbformat_minor": 5
}
