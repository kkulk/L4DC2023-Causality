{
 "cells": [
  {
   "cell_type": "code",
   "execution_count": 88,
   "id": "58a03c41",
   "metadata": {},
   "outputs": [],
   "source": [
    "import numpy as np\n",
    "from numpy.polynomial import Polynomial\n",
    "import matplotlib.pyplot as plt\n",
    "import causallearn\n",
    "\n",
    "from causallearn.utils.cit import *\n",
    "from causallearn.graph.GraphClass import CausalGraph\n",
    "import pandas as pd\n",
    "from itertools import combinations, permutations\n",
    "from numpy import ndarray\n",
    "from typing import Dict, List, Tuple\n",
    "from causallearn.utils.cit import fisherz\n",
    "import random\n",
    "import itertools\n",
    "\n",
    "import time\n",
    "\n",
    "import scipy as sp\n",
    "from scipy.stats import beta\n",
    "\n",
    "from statsmodels.distributions.empirical_distribution import ECDF\n"
   ]
  },
  {
   "cell_type": "markdown",
   "id": "5420da15",
   "metadata": {},
   "source": [
    "# Traffic Model:"
   ]
  },
  {
   "cell_type": "markdown",
   "id": "d29c1236",
   "metadata": {},
   "source": [
    "## Null hypothesis $H_0$: Accidents happen independently of traffic load"
   ]
  },
  {
   "cell_type": "code",
   "execution_count": 162,
   "id": "5fed0e2c",
   "metadata": {},
   "outputs": [],
   "source": [
    "# # Number of days:\n",
    "# N = 365 * 10\n",
    "# # Number of discretized steps:\n",
    "# # If each timestep represents 10 mins, then T = 108 would represent 18 hours.\n",
    "# T = 108\n",
    "\n",
    "# p_acc = 0.001\n",
    "# x_eq = 100\n",
    "# mu = 0.2\n",
    "# mu_acc = 0.02\n",
    "# time_duration_acc = 2\n",
    "# noise_range = 10\n",
    "# ctrl = mu * x_eq\n",
    "\n",
    "# T_acc_vec = np.random.geometric(p = p_acc, size = N)\n",
    "# noise_array = np.random.rand(N, T) * 2 * noise_range - noise_range\n",
    "# x_array_H0 = np.zeros((N, T))\n",
    "# x_0 = np.random.rand(N) * 2 * noise_range - noise_range + x_eq\n",
    "\n",
    "# x_array_H0[:, 0] = x_0\n",
    "# for t in range(T-1):\n",
    "#     x_array_H0[:, t+1] = (1-mu) * x_array_H0[:, t] + ctrl + noise_array[:, t]\n",
    "\n",
    "# # Changing load due to dynamics:\n",
    "# # for i in range(N):\n",
    "# #     if T_acc_vec[i] < T:\n",
    "# #         for k in range(T_acc_vec[i], min(T, T_acc_vec[i] + time_duration_acc)):\n"
   ]
  },
  {
   "cell_type": "code",
   "execution_count": 320,
   "id": "e9c2fad9",
   "metadata": {},
   "outputs": [],
   "source": [
    "# Number of days:\n",
    "N = 365 * 20\n",
    "# Number of discretized steps:\n",
    "# If each timestep represents 10 mins, then T = 108 would represent 18 hours.\n",
    "T = 108"
   ]
  },
  {
   "cell_type": "code",
   "execution_count": 321,
   "id": "208e461c",
   "metadata": {},
   "outputs": [
    {
     "name": "stdout",
     "output_type": "stream",
     "text": [
      "Time:  1.0548689365386963\n"
     ]
    }
   ],
   "source": [
    "start_time = time.time()\n",
    "\n",
    "x_eq = 100\n",
    "mu = 0.3\n",
    "mu_acc = 0.2\n",
    "time_duration_acc = 2\n",
    "noise_range = 10\n",
    "ctrl = mu * x_eq\n",
    "\n",
    "noise_array = np.random.rand(N, T) * 2 * noise_range - noise_range\n",
    "x_array_H0 = np.zeros((N, T))\n",
    "# x_0 = np.random.rand(N) * 2 * noise_range - noise_range + 0.5 * x_eq\n",
    "x_0 = np.random.rand(N) * 2 * noise_range - noise_range + 1 * x_eq\n",
    "\n",
    "p_acc = 0.06\n",
    "acc_vec = np.random.binomial(1, p = p_acc, size = (N, T))\n",
    "acc_vec_high_load = np.random.binomial(1, p = p_acc_high_load, size = (N, T))\n",
    "acc_realized_H0 = np.zeros((N, T))\n",
    "\n",
    "high_load_threshold_ratio = 0.9\n",
    "high_load_threshold = x_eq + high_load_threshold_ratio * noise_range\n",
    "counter = 0\n",
    "\n",
    "x_array_H0[:, 0] = x_0\n",
    "for i in range(N):\n",
    "    for t in range(T-1):\n",
    "        if t == 0:\n",
    "            acc_realized_H0[i, t] = 0 \n",
    "            x_array_H0[i, t+1] = (1 - mu) * x_array_H0[i, t] + ctrl + noise_array[i, t]\n",
    "            counter = 0\n",
    "        elif counter >= 1 and counter < time_duration_acc:\n",
    "            acc_realized_H0[i, t] = 1\n",
    "            x_array_H0[i, t+1] = (1 - mu_acc) * x_array_H0[i, t] + ctrl + noise_array[i, t]\n",
    "            counter += 1\n",
    "        elif acc_vec[i, t] == 1:\n",
    "            acc_realized_H0[i, t] = 1\n",
    "            x_array_H0[i, t+1] = (1 - mu_acc) * x_array_H0[i, t] + ctrl + noise_array[i, t]\n",
    "            counter = 1\n",
    "        else:\n",
    "            acc_realized_H0[i, t] = 0\n",
    "            x_array_H0[i, t+1] = (1 - mu) * x_array_H0[i, t] + ctrl + noise_array[i, t]\n",
    "            counter = 0\n",
    "\n",
    "# Changing load due to dynamics:\n",
    "# for i in range(N):\n",
    "#     if T_acc_vec[i] < T:\n",
    "#         for k in range(T_acc_vec[i], min(T, T_acc_vec[i] + time_duration_acc)):\n",
    "\n",
    "end_time = time.time()\n",
    "\n",
    "print(\"Time: \", end_time - start_time)\n",
    "\n"
   ]
  },
  {
   "cell_type": "code",
   "execution_count": null,
   "id": "b82a371c",
   "metadata": {},
   "outputs": [],
   "source": []
  },
  {
   "cell_type": "code",
   "execution_count": null,
   "id": "65d11a20",
   "metadata": {},
   "outputs": [],
   "source": []
  },
  {
   "cell_type": "markdown",
   "id": "d48621b8",
   "metadata": {},
   "source": [
    "## Alternative hypothesis $H_1$: Accidents are made more likely by high traffic load"
   ]
  },
  {
   "cell_type": "code",
   "execution_count": 322,
   "id": "bbb16acc",
   "metadata": {},
   "outputs": [
    {
     "name": "stdout",
     "output_type": "stream",
     "text": [
      "Time:  1.326430082321167\n"
     ]
    }
   ],
   "source": [
    "start_time = time.time()\n",
    "\n",
    "\n",
    "x_eq = 100\n",
    "mu = 0.3\n",
    "mu_acc = 0.2\n",
    "time_duration_acc = 2\n",
    "noise_range = 10\n",
    "ctrl = mu * x_eq\n",
    "\n",
    "noise_array = np.random.rand(N, T) * 2 * noise_range - noise_range\n",
    "x_array_H1 = np.zeros((N, T))\n",
    "# x_0 = np.random.rand(N) * 2 * noise_range - noise_range + 0.5 * x_eq\n",
    "x_0 = np.random.rand(N) * 2 * noise_range - noise_range + 1 * x_eq\n",
    "\n",
    "p_acc = 0.03\n",
    "p_acc_high_load = 0.3\n",
    "acc_vec = np.random.binomial(1, p = p_acc, size = (N, T))\n",
    "acc_vec_high_load = np.random.binomial(1, p = p_acc_high_load, size = (N, T))\n",
    "acc_realized_H1 = np.zeros((N, T))\n",
    "\n",
    "high_load_threshold_ratio = 0.9\n",
    "high_load_threshold = x_eq + high_load_threshold_ratio * noise_range\n",
    "counter = 0\n",
    "\n",
    "x_array_H1[:, 0] = x_0\n",
    "for i in range(N):\n",
    "    for t in range(T-1):\n",
    "        if t == 0:\n",
    "            acc_realized_H1[i, t] = 0 \n",
    "            x_array_H1[i, t+1] = (1 - mu) * x_array_H1[i, t] + ctrl + noise_array[i, t]\n",
    "            counter = 0\n",
    "        elif counter >= 1 and counter < time_duration_acc:\n",
    "#         if counter >= 1 and counter < time_duration_acc:\n",
    "            acc_realized_H1[i, t] = 1\n",
    "            x_array_H1[i, t+1] = (1 - mu_acc) * x_array_H1[i, t] + ctrl + noise_array[i, t]\n",
    "            counter += 1\n",
    "        elif x_array_H1[i, t] <= high_load_threshold and acc_vec[i, t] == 1:\n",
    "            acc_realized_H1[i, t] = 1\n",
    "            x_array_H1[i, t+1] = (1 - mu_acc) * x_array_H1[i, t] + ctrl + noise_array[i, t]\n",
    "            counter = 1\n",
    "        elif x_array_H1[i, t] > high_load_threshold and acc_vec_high_load[i, t] == 1:\n",
    "            acc_realized_H1[i, t] = 1\n",
    "            x_array_H1[i, t+1] = (1 - mu_acc) * x_array_H1[i, t] + ctrl + noise_array[i, t]\n",
    "            counter = 1\n",
    "        else:\n",
    "            acc_realized_H1[i, t] = 0\n",
    "            x_array_H1[i, t+1] = (1 - mu) * x_array_H1[i, t] + ctrl + noise_array[i, t]\n",
    "            counter = 0\n",
    "\n",
    "# Changing load due to dynamics:\n",
    "# for i in range(N):\n",
    "#     if T_acc_vec[i] < T:\n",
    "#         for k in range(T_acc_vec[i], min(T, T_acc_vec[i] + time_duration_acc)):\n",
    "\n",
    "\n",
    "end_time = time.time()\n",
    "\n",
    "print(\"Time: \", end_time - start_time)\n",
    "\n"
   ]
  },
  {
   "cell_type": "code",
   "execution_count": 323,
   "id": "4cceaae6",
   "metadata": {},
   "outputs": [
    {
     "data": {
      "text/plain": [
       "(7300, 108)"
      ]
     },
     "execution_count": 323,
     "metadata": {},
     "output_type": "execute_result"
    }
   ],
   "source": [
    "x_array_H1.shape"
   ]
  },
  {
   "cell_type": "code",
   "execution_count": 324,
   "id": "bceedb2c",
   "metadata": {},
   "outputs": [],
   "source": [
    "## Re-sort the data:\n",
    "\n",
    "# x_array.shape\n",
    "# acc_realized.shape\n",
    "\n",
    "def generate_data_processed_dict(x_array, acc_realized):\n",
    "    \n",
    "    assert x_array.shape == acc_realized.shape\n",
    "    N = x_array.shape[0]\n",
    "    T = x_array.shape[1]\n",
    "    \n",
    "    first_times_of_rare_event = np.zeros(N)\n",
    "    for i in range(N):\n",
    "    #     print(acc_realized[i, :].shape)\n",
    "    #     print(np.zeros(T).shape)\n",
    "        if (acc_realized[i, :] == np.zeros(T)).all():\n",
    "            first_times_of_rare_event[i] = -1\n",
    "        else:\n",
    "    #         print(min([t for t in range(T) if acc_realized[i, t] == 1]))\n",
    "            first_times_of_rare_event[i] = min([t for t in range(T) if acc_realized[i, t] == 1])\n",
    "#             print(\"i:\", i)\n",
    "#             print(\"first_times_of_rare_event[i]:\", first_times_of_rare_event[i])\n",
    "\n",
    "    first_times_of_rare_event_as_set = set(list(first_times_of_rare_event))\n",
    "    first_times_of_rare_event_as_set.remove(-1)\n",
    "    first_times_of_rare_event_as_list = list(first_times_of_rare_event_as_set)\n",
    "\n",
    "    # for first_time in first_times_of_rare_event_as_set:\n",
    "\n",
    "    # first_times_of_rare_event_as_set\n",
    "\n",
    "    x_processed_dict_XT = {}\n",
    "    x_processed_dict_Xgen = {}\n",
    "    first_times_dict = {}\n",
    "    \n",
    "    for time in first_times_of_rare_event_as_list:\n",
    "    #     print(time\n",
    "        x_processed_dict_XT[time] = []\n",
    "        x_processed_dict_Xgen[time] = []\n",
    "        first_times_dict[time] = []\n",
    "        for i in range(N):\n",
    "            if first_times_of_rare_event[i] >= time:\n",
    "                x_processed_dict_Xgen[time].append(x_array[i, int(time)-1])\n",
    "            if first_times_of_rare_event[i] == time:\n",
    "                first_times_dict[time].append(i)\n",
    "                x_processed_dict_XT[time].append(x_array[i, int(time)-1])\n",
    "    \n",
    "    x_values_jumps_XT = list(itertools.chain(*list(x_processed_dict_XT.values())))\n",
    "    assert len(x_values_jumps_XT) <= N\n",
    "    \n",
    "    return x_processed_dict_XT, x_processed_dict_Xgen, first_times_dict\n",
    "\n",
    "def generate_cdf_Xgen(x_processed_dict_Xgen, first_times_dict, N, T,\\\n",
    "                      x_lower_bound = 50.0, x_upper_bound = 200.0, x_values_length = 5000):\n",
    "    assert list(x_processed_dict_Xgen.keys()) == list(first_times_dict.keys())\n",
    "    \n",
    "    x_values_jumps_Xgen = sorted(list(itertools.chain(*list(x_processed_dict_Xgen.values()))))\n",
    "    print(\"len(x_values_jumps_Xgen):\", len(x_values_jumps_Xgen))\n",
    "    print(\"max(x_values_jumps_Xgen):\", max(x_values_jumps_Xgen))\n",
    "#     return\n",
    "    \n",
    "#     cdf_value_at_jumps_Xgen = []\n",
    "    x_cdf_dict_Xgen = {}\n",
    "    \n",
    "#     for count_1, x_value in enumerate(x_values_jumps_Xgen):\n",
    "    for count_1, x_value in enumerate(np.linspace(x_lower_bound, x_upper_bound, x_values_length)):\n",
    "#         if count_1 % 100 == 0:\n",
    "#             print(count_1)\n",
    "        cdf_value_temp = 0\n",
    "        for count_2, time in enumerate(first_times_dict.keys()):\n",
    "#             print(count_2)\n",
    "            cdf_value_temp += len([x_val for x_val in x_processed_dict_Xgen[time] if x_val <= x_value])/len(x_processed_dict_Xgen[time]) \\\n",
    "                                * len(first_times_dict[time])/N\n",
    "#         cdf_value_at_jumps_Xgen.append(cdf_value_temp)\n",
    "        x_cdf_dict_Xgen[x_value] = cdf_value_temp\n",
    "    \n",
    "    # INCOMPLETE; make dictionary.\n",
    "    \n",
    "    return x_values_jumps_Xgen, x_cdf_dict_Xgen\n",
    "\n",
    "\n",
    "def generate_cdf_XT(x_processed_dict_XT, first_times_dict, N, T):\n",
    "    assert list(x_processed_dict_XT.keys()) == list(first_times_dict.keys())\n",
    "    \n",
    "    x_values_jumps_XT = sorted(list(itertools.chain(*list(x_processed_dict_XT.values()))))\n",
    "    x_cdf_dict_XT = {}\n",
    "    \n",
    "    # Sort x_values_jumps_XT\n",
    "    assert len(x_values_jumps_XT) <= N\n",
    "    \n",
    "    print(\"len(x_values_jumps_XT):\", len(x_values_jumps_XT))\n",
    "    print(\"max(x_values_jumps_XT):\", max(x_values_jumps_XT))\n",
    "        \n",
    "    cdf_value_at_jumps_XT = []\n",
    "    for x_value in x_values_jumps_XT:\n",
    "        cdf_value_temp = len([x_val for x_val in x_values_jumps_XT if x_val <= x_value]) \\\n",
    "                                     / len(x_values_jumps_XT)\n",
    "        cdf_value_at_jumps_XT.append(cdf_value_temp)\n",
    "        x_cdf_dict_XT[x_value] = cdf_value_temp\n",
    "        \n",
    "    cdf_evenly_spaced = np.linspace(1/len(cdf_value_at_jumps_XT), 1, len(cdf_value_at_jumps_XT))\n",
    "        \n",
    "#     print(\"cdf_value_at_jumps_XT:\", cdf_value_at_jumps_XT[0:10])\n",
    "#     print(\"cdf_evenly_spaced:\", cdf_evenly_spaced[0:10])\n",
    "#     print(\"1/len(cdf_value_at_jumps_XT):\", 1/len(cdf_value_at_jumps_XT))\n",
    "#     print(\"cdf_value_at_jumps_XT - cdf_evenly_spaced:\", cdf_value_at_jumps_XT - cdf_evenly_spaced)\n",
    "\n",
    "\n",
    "    # Assertion: Sanity check on cdf_value_at_jumps_XT\n",
    "    assert np.linalg.norm(np.array(cdf_value_at_jumps_XT) - np.array(cdf_evenly_spaced)) <= 0.0001\n",
    "    \n",
    "    # INCOMPLETE; make dictionary.\n",
    "    return x_values_jumps_XT, x_cdf_dict_XT\n",
    "\n",
    "def cdf_value(x, x_cdf_dict):\n",
    "    key_list = [x_val for x_val in x_cdf_dict.keys() if x_val <= x]\n",
    "    if key_list != []:\n",
    "        dict_key = max(key_list)\n",
    "    else:\n",
    "        dict_key = min(x_cdf_dict.keys())\n",
    "    return x_cdf_dict[dict_key]\n",
    "\n",
    "def compare_CDFs(x_cdf_dict_1, x_cdf_dict_2, x_lower_bound = 50.0, x_upper_bound = 200.0, x_values_length = 2000):\n",
    "    error_list = []\n",
    "    for x_value in np.linspace(x_lower_bound, x_upper_bound, x_values_length+1):\n",
    "        error = abs(cdf_value(x_value, x_cdf_dict_1) - cdf_value(x_value, x_cdf_dict_2))\n",
    "        error_list.append(error)\n",
    "    \n",
    "    return max(error_list)\n",
    "\n"
   ]
  },
  {
   "cell_type": "code",
   "execution_count": 325,
   "id": "a513b037",
   "metadata": {},
   "outputs": [],
   "source": [
    "# np.linspace(0, 1, 5)"
   ]
  },
  {
   "cell_type": "code",
   "execution_count": null,
   "id": "183c9d95",
   "metadata": {},
   "outputs": [],
   "source": []
  },
  {
   "cell_type": "code",
   "execution_count": null,
   "id": "63e639db",
   "metadata": {
    "scrolled": true
   },
   "outputs": [],
   "source": []
  },
  {
   "cell_type": "code",
   "execution_count": 326,
   "id": "3198a5be",
   "metadata": {},
   "outputs": [
    {
     "name": "stdout",
     "output_type": "stream",
     "text": [
      "len(x_values_jumps_XT): 7293\n",
      "max(x_values_jumps_XT): 124.71626484171884\n",
      "\n",
      "len(x_values_jumps_Xgen): 122481\n",
      "max(x_values_jumps_Xgen): 125.86895187322497\n",
      "\n",
      "len(x_values_jumps_XT): 7288\n",
      "max(x_values_jumps_XT): 124.98344569519402\n",
      "\n",
      "len(x_values_jumps_Xgen): 120747\n",
      "max(x_values_jumps_Xgen): 124.98344569519402\n",
      "\n",
      "Time: 79.93391990661621\n"
     ]
    }
   ],
   "source": [
    "begin_time = time.time()\n",
    "\n",
    "x_processed_dict_H0_XT, x_processed_dict_H0_Xgen, first_times_dict_H0 = generate_data_processed_dict(x_array_H0, acc_realized_H0)\n",
    "# print(\"x_processed_dict_H0_XT.values():\", x_processed_dict_H0_XT.values())\n",
    "# print(len(list(itertools.chain(*list(first_times_dict_H0.values()))))/N)\n",
    "\n",
    "x_processed_dict_H1_XT, x_processed_dict_H1_Xgen, first_times_dict_H1 = generate_data_processed_dict(x_array_H1, acc_realized_H1)\n",
    "# print(len(list(itertools.chain(*list(first_times_dict_H1.values()))))/N)\n",
    "\n",
    "x_values_jumps_H0_XT, x_cdf_dict_H0_XT = generate_cdf_XT(x_processed_dict_H0_XT, first_times_dict_H0, N, T)\n",
    "print()\n",
    "x_values_jumps_H0_Xgen, x_cdf_dict_H0_Xgen = generate_cdf_Xgen(x_processed_dict_H0_Xgen, first_times_dict_H0, N, T)\n",
    "print()\n",
    "\n",
    "x_values_jumps_H1_XT, x_cdf_dict_H1_XT = generate_cdf_XT(x_processed_dict_H1_XT, first_times_dict_H1, N, T)\n",
    "print()\n",
    "x_values_jumps_H1_Xgen, x_cdf_dict_H1_Xgen = generate_cdf_Xgen(x_processed_dict_H1_Xgen, first_times_dict_H1, N, T)\n",
    "print()\n",
    "\n",
    "end_time = time.time()\n",
    "print(\"Time:\", end_time - begin_time)\n",
    "\n",
    "\n"
   ]
  },
  {
   "cell_type": "code",
   "execution_count": 327,
   "id": "1b6c1f5c",
   "metadata": {},
   "outputs": [
    {
     "name": "stdout",
     "output_type": "stream",
     "text": [
      "0.009626224614832535\n",
      "0.2784805150198752\n"
     ]
    }
   ],
   "source": [
    "# Compare CDFs for both the H0 and H1 cases.\n",
    "\n",
    "plot_x_range = np.linspace(x_lower_bound, x_upper_bound, x_values_length+1)\n",
    "\n",
    "print(compare_CDFs(x_cdf_dict_H0_XT, x_cdf_dict_H0_Xgen))\n",
    "print(compare_CDFs(x_cdf_dict_H1_XT, x_cdf_dict_H1_Xgen))\n",
    "\n"
   ]
  },
  {
   "cell_type": "code",
   "execution_count": 328,
   "id": "7ce72f5e",
   "metadata": {},
   "outputs": [],
   "source": [
    "def generate_aligned_cdf_dict(x_cdf_dict, plot_x_range):\n",
    "    aligned_cdf_dict = {}\n",
    "    aligned_cdf_values = []\n",
    "    for x_value in plot_x_range:\n",
    "        cdf_value_temp = cdf_value(x_value, x_cdf_dict)\n",
    "        aligned_cdf_dict[x_value] = cdf_value_temp\n",
    "        aligned_cdf_values.append(cdf_value_temp)\n",
    "    \n",
    "    return aligned_cdf_dict, np.array(aligned_cdf_values)\n",
    "    "
   ]
  },
  {
   "cell_type": "code",
   "execution_count": 329,
   "id": "63b4ed9b",
   "metadata": {},
   "outputs": [
    {
     "name": "stdout",
     "output_type": "stream",
     "text": [
      "(1001,)\n",
      "(1001,)\n"
     ]
    },
    {
     "data": {
      "text/plain": [
       "[<matplotlib.lines.Line2D at 0x7fdc2cf47f10>]"
      ]
     },
     "execution_count": 329,
     "metadata": {},
     "output_type": "execute_result"
    },
    {
     "data": {
      "image/png": "[encoded data removed]",
      "text/plain": [
       "<Figure size 432x288 with 1 Axes>"
      ]
     },
     "metadata": {
      "needs_background": "light"
     },
     "output_type": "display_data"
    }
   ],
   "source": [
    "x_lower_bound = 50\n",
    "x_upper_bound = 150\n",
    "x_values_length = 1000\n",
    "\n",
    "plot_x_range = np.linspace(x_lower_bound, x_upper_bound, x_values_length+1)\n",
    "_, x_cdf_values_H0_XT_aligned = generate_aligned_cdf_dict(x_cdf_dict_H0_XT, plot_x_range)\n",
    "_, x_cdf_values_H0_Xgen_aligned = generate_aligned_cdf_dict(x_cdf_dict_H0_Xgen, plot_x_range)\n",
    "\n",
    "# print(x_cdf_dict_H0_Xgen_aligned)\n",
    "print(x_cdf_values_H0_XT_aligned.shape)\n",
    "print(plot_x_range.shape)\n",
    "\n",
    "\n",
    "plt.plot(plot_x_range, x_cdf_values_H0_XT_aligned)\n",
    "plt.plot(plot_x_range, x_cdf_values_H0_Xgen_aligned)"
   ]
  },
  {
   "cell_type": "code",
   "execution_count": 330,
   "id": "c59cdeab",
   "metadata": {},
   "outputs": [
    {
     "name": "stdout",
     "output_type": "stream",
     "text": [
      "(1001,)\n",
      "(1001,)\n"
     ]
    },
    {
     "data": {
      "text/plain": [
       "[<matplotlib.lines.Line2D at 0x7fdc28708cd0>]"
      ]
     },
     "execution_count": 330,
     "metadata": {},
     "output_type": "execute_result"
    },
    {
     "data": {
      "image/png": "[encoded data removed]",
      "text/plain": [
       "<Figure size 432x288 with 1 Axes>"
      ]
     },
     "metadata": {
      "needs_background": "light"
     },
     "output_type": "display_data"
    }
   ],
   "source": [
    "x_lower_bound = 50\n",
    "x_upper_bound = 150\n",
    "x_values_length = 1000\n",
    "\n",
    "plot_x_range = np.linspace(x_lower_bound, x_upper_bound, x_values_length+1)\n",
    "_, x_cdf_values_H1_XT_aligned = generate_aligned_cdf_dict(x_cdf_dict_H1_XT, plot_x_range)\n",
    "_, x_cdf_values_H1_Xgen_aligned = generate_aligned_cdf_dict(x_cdf_dict_H1_Xgen, plot_x_range)\n",
    "\n",
    "# print(x_cdf_dict_H0_Xgen_aligned)\n",
    "print(x_cdf_values_H1_XT_aligned.shape)\n",
    "print(plot_x_range.shape)\n",
    "\n",
    "\n",
    "plt.plot(plot_x_range, x_cdf_values_H1_XT_aligned)\n",
    "plt.plot(plot_x_range, x_cdf_values_H1_Xgen_aligned)"
   ]
  },
  {
   "cell_type": "code",
   "execution_count": null,
   "id": "bbc273bf",
   "metadata": {},
   "outputs": [],
   "source": []
  },
  {
   "cell_type": "code",
   "execution_count": null,
   "id": "a5f0c74a",
   "metadata": {},
   "outputs": [],
   "source": []
  },
  {
   "cell_type": "code",
   "execution_count": 95,
   "id": "f926bba4",
   "metadata": {},
   "outputs": [
    {
     "name": "stdout",
     "output_type": "stream",
     "text": [
      "dict_keys([1.0, 2.0, 3.0, 4.0, 5.0, 6.0, 7.0, 8.0, 9.0, 10.0, 11.0, 12.0, 13.0, 14.0, 15.0, 16.0, 17.0, 18.0, 19.0, 20.0, 21.0, 22.0, 23.0, 24.0, 25.0, 26.0, 27.0, 28.0, 29.0, 30.0, 31.0, 32.0, 33.0, 34.0, 35.0, 36.0, 37.0, 38.0, 39.0, 40.0, 41.0, 42.0, 43.0, 44.0, 45.0, 46.0, 47.0, 48.0, 49.0, 50.0, 51.0, 52.0, 53.0, 54.0, 55.0, 56.0, 57.0, 58.0, 59.0, 60.0, 61.0, 62.0, 63.0, 64.0, 65.0, 66.0, 67.0, 68.0, 69.0, 70.0, 71.0, 72.0, 73.0, 74.0, 75.0, 76.0, 77.0, 78.0, 79.0, 80.0, 81.0, 82.0, 83.0, 84.0, 85.0, 86.0, 87.0, 88.0, 89.0, 90.0, 91.0, 92.0, 93.0, 94.0, 95.0, 96.0, 97.0, 98.0, 100.0, 101.0, 102.0, 103.0, 104.0, 105.0])\n",
      "\n",
      "dict_keys([1.0, 2.0, 3.0, 4.0, 5.0, 6.0, 7.0, 8.0, 9.0, 10.0, 11.0, 12.0, 13.0, 14.0, 15.0, 16.0, 17.0, 18.0, 19.0, 20.0, 21.0, 22.0, 23.0, 24.0, 25.0, 26.0, 27.0, 28.0, 29.0, 30.0, 31.0, 32.0, 33.0, 34.0, 35.0, 36.0, 37.0, 38.0, 39.0, 40.0, 41.0, 42.0, 43.0, 44.0, 45.0, 46.0, 47.0, 48.0, 49.0, 50.0, 51.0, 52.0, 53.0, 54.0, 55.0, 56.0, 57.0, 58.0, 59.0, 60.0, 61.0, 62.0, 63.0, 64.0, 65.0, 66.0, 67.0, 68.0, 69.0, 70.0, 71.0, 72.0, 73.0, 74.0, 75.0, 76.0, 77.0, 78.0, 79.0, 80.0, 81.0, 82.0, 83.0, 84.0, 85.0, 86.0, 87.0, 88.0, 89.0, 90.0, 91.0, 92.0, 93.0, 94.0, 95.0, 96.0, 97.0, 98.0, 100.0, 101.0, 102.0, 103.0, 104.0, 105.0])\n",
      "\n",
      "81819 \n",
      "\n",
      "124.73731684098725 \n",
      "\n",
      "0\n",
      "100\n",
      "200\n",
      "300\n",
      "400\n",
      "500\n",
      "600\n",
      "700\n",
      "800\n",
      "900\n",
      "1000\n"
     ]
    }
   ],
   "source": [
    "# begin_time = time.time()\n",
    "\n",
    "# x_processed_dict_H1, first_times_dict_H1 = generate_data_processed_dict(x_array_H1, acc_realized_H1)\n",
    "\n",
    "# # print(x_processed_dict_H1.keys())\n",
    "# # print()\n",
    "# # print(first_times_dict_H1.keys())\n",
    "\n",
    "# # x_processed_dict_H1\n",
    "# # x_values_jumps_H1 = list(itertools.chain(*list(x_processed_dict_H1.values())))\n",
    "\n",
    "\n",
    "# print(x_processed_dict_H1.keys())\n",
    "# print()\n",
    "# print(first_times_dict_H1.keys())\n",
    "# print()\n",
    "\n",
    "\n",
    "# x_values_jumps_H1, cdf_value_at_jumps_H1 = generate_cdf_Xgen(x_processed_dict_H1, first_times_dict_H1, N, T)\n",
    "\n",
    "# # print(len(list(itertools.chain(*list(first_times_dict_H1.values())))))\n",
    "\n",
    "# # end_time = time.time()\n",
    "\n",
    "# # print(\"\\nTotal time:\", end_time - begin_time)\n",
    "\n",
    "\n"
   ]
  },
  {
   "cell_type": "code",
   "execution_count": 96,
   "id": "aadca6e7",
   "metadata": {},
   "outputs": [
    {
     "data": {
      "text/plain": [
       "0.9884931506849317"
      ]
     },
     "execution_count": 96,
     "metadata": {},
     "output_type": "execute_result"
    }
   ],
   "source": [
    "cdf_value_at_jumps_H1[-1]"
   ]
  },
  {
   "cell_type": "code",
   "execution_count": null,
   "id": "b46a77be",
   "metadata": {},
   "outputs": [],
   "source": []
  },
  {
   "cell_type": "code",
   "execution_count": null,
   "id": "afe2bae9",
   "metadata": {},
   "outputs": [],
   "source": []
  },
  {
   "cell_type": "code",
   "execution_count": null,
   "id": "36cca742",
   "metadata": {},
   "outputs": [],
   "source": []
  },
  {
   "cell_type": "markdown",
   "id": "a8cb1927",
   "metadata": {},
   "source": [
    "## a) Grouping by each accident time:"
   ]
  },
  {
   "cell_type": "code",
   "execution_count": 108,
   "id": "9c68777b",
   "metadata": {},
   "outputs": [],
   "source": [
    "T_acc_vec = np.ones(N) * T\n",
    "for i in range(N):\n",
    "    if np.any(acc_realized_H1[i, :] == 1):\n",
    "        T_acc_vec[i] = min([t for t in range(T) if acc_realized_H1[i, t] == 1])\n",
    "\n",
    "T_acc_set_sorted = np.sort(np.array(list(set(T_acc_vec))))\n",
    "\n",
    "\n",
    "acc_times_dict = {}\n",
    "# To edit, using T_acc_set_sorted.shape[0] and T (time = T * 10 mins).\n",
    "acc_times_sampling_rate_by_hour = 1\n",
    "acc_times_sampling_rate = int(T_acc_set_sorted.shape[0]*acc_times_sampling_rate_by_hour*6 / T) + 1\n",
    "T_acc_set_sorted_sampled = [T_acc_set_sorted[j] for j in range(T_acc_set_sorted.shape[0]) if j % acc_times_sampling_rate == 0]\n",
    "\n",
    "acc_time_previous = 0\n",
    "for acc_time in T_acc_set_sorted_sampled:\n",
    "    days_list = [i for i in range(N) if T_acc_vec[i] > acc_time_previous and T_acc_vec[i] <= acc_time]\n",
    "    acc_times_dict[acc_time] = days_list\n",
    "    acc_time_previous = acc_time\n",
    "\n",
    "# acc_times_dict.keys()\n",
    "# acc_times_dict\n",
    "# T_acc_set_sorted_sampled\n",
    "\n",
    "# T_acc_set_sorted.shape[0]\n",
    "\n"
   ]
  },
  {
   "cell_type": "code",
   "execution_count": 109,
   "id": "f5b4ae07",
   "metadata": {},
   "outputs": [
    {
     "name": "stdout",
     "output_type": "stream",
     "text": [
      "T_acc_set_sorted.shape[0]: 107\n",
      "T: 108\n",
      "acc_times_sampling_rate: 6\n",
      "len(T_acc_set_sorted_sampled): 18\n"
     ]
    }
   ],
   "source": [
    "print(\"T_acc_set_sorted.shape[0]:\", T_acc_set_sorted.shape[0])\n",
    "print(\"T:\", T)\n",
    "print(\"acc_times_sampling_rate:\", acc_times_sampling_rate)\n",
    "print(\"len(T_acc_set_sorted_sampled):\", len(T_acc_set_sorted_sampled))"
   ]
  },
  {
   "cell_type": "code",
   "execution_count": 110,
   "id": "7e585236",
   "metadata": {
    "scrolled": true
   },
   "outputs": [
    {
     "name": "stdout",
     "output_type": "stream",
     "text": [
      "acc_time_id: 0\n",
      "len(sample_acc): 117\n",
      "len(sample_no_acc): 677\n",
      "KstestResult(statistic=0.4323624840611547, pvalue=2.2188841145642607e-17)\n",
      "\n",
      "acc_time_id: 1\n",
      "len(sample_acc): 677\n",
      "len(sample_no_acc): 524\n",
      "KstestResult(statistic=0.7326101908960727, pvalue=1.5932659770238404e-154)\n",
      "\n",
      "acc_time_id: 2\n",
      "len(sample_acc): 524\n",
      "len(sample_no_acc): 431\n",
      "KstestResult(statistic=0.7579258249056872, pvalue=8.036675862901908e-134)\n",
      "\n",
      "acc_time_id: 3\n",
      "len(sample_acc): 431\n",
      "len(sample_no_acc): 382\n",
      "KstestResult(statistic=0.7491162643796844, pvalue=1.3035971115027064e-111)\n",
      "\n",
      "acc_time_id: 4\n",
      "len(sample_acc): 382\n",
      "len(sample_no_acc): 276\n",
      "KstestResult(statistic=0.7839745048941498, pvalue=2.3166023418560423e-98)\n",
      "\n",
      "acc_time_id: 5\n",
      "len(sample_acc): 276\n",
      "len(sample_no_acc): 218\n",
      "KstestResult(statistic=0.7869964100518548, pvalue=1.56254259557754e-75)\n",
      "\n",
      "acc_time_id: 6\n",
      "len(sample_acc): 218\n",
      "len(sample_no_acc): 197\n",
      "KstestResult(statistic=0.6765240068923765, pvalue=1.2518120844390222e-45)\n",
      "\n",
      "acc_time_id: 7\n",
      "len(sample_acc): 197\n",
      "len(sample_no_acc): 163\n",
      "KstestResult(statistic=0.7353866276353898, pvalue=1.7844091559655441e-47)\n",
      "\n",
      "acc_time_id: 8\n",
      "len(sample_acc): 163\n",
      "len(sample_no_acc): 108\n",
      "KstestResult(statistic=0.7476709838673029, pvalue=5.3889239095785184e-36)\n",
      "\n",
      "acc_time_id: 9\n",
      "len(sample_acc): 108\n",
      "len(sample_no_acc): 109\n",
      "KstestResult(statistic=0.6962283384301733, pvalue=5.884114572821719e-26)\n",
      "\n",
      "acc_time_id: 10\n",
      "len(sample_acc): 109\n",
      "len(sample_no_acc): 74\n",
      "KstestResult(statistic=0.7214232581205058, pvalue=1.0342047714443396e-22)\n",
      "\n",
      "acc_time_id: 11\n",
      "len(sample_acc): 74\n",
      "len(sample_no_acc): 56\n",
      "KstestResult(statistic=0.694980694980695, pvalue=2.7451898133265992e-15)\n",
      "\n",
      "acc_time_id: 12\n",
      "len(sample_acc): 56\n",
      "len(sample_no_acc): 57\n",
      "KstestResult(statistic=0.8054511278195489, pvalue=8.309962046501914e-19)\n",
      "\n",
      "acc_time_id: 13\n",
      "len(sample_acc): 57\n",
      "len(sample_no_acc): 44\n",
      "KstestResult(statistic=0.738835725677831, pvalue=9.884538047078845e-14)\n",
      "\n",
      "acc_time_id: 14\n",
      "len(sample_acc): 44\n",
      "len(sample_no_acc): 44\n",
      "KstestResult(statistic=0.7727272727272727, pvalue=3.4391808449752387e-13)\n",
      "\n",
      "acc_time_id: 15\n",
      "len(sample_acc): 44\n",
      "len(sample_no_acc): 22\n",
      "KstestResult(statistic=0.7954545454545454, pvalue=1.2903502700289831e-09)\n",
      "\n",
      "acc_time_id: 16\n",
      "len(sample_acc): 22\n",
      "len(sample_no_acc): 29\n",
      "KstestResult(statistic=0.7492163009404389, pvalue=1.9499760401457704e-07)\n",
      "\n"
     ]
    }
   ],
   "source": [
    "for acc_time_id in range(len(acc_times_dict.keys())-1):\n",
    "    acc_time = list(acc_times_dict.keys())[acc_time_id]\n",
    "    sample_acc = [x_array_H1[i, int(acc_time) - 1] for i in [*acc_times_dict.values()][acc_time_id]]\n",
    "    sample_no_acc = [x_array_H1[i, int(acc_time) - 1] for i in [*acc_times_dict.values()][acc_time_id + 1]]\n",
    "    \n",
    "    print(\"acc_time_id:\", acc_time_id)\n",
    "    print(\"len(sample_acc):\", len(sample_acc))\n",
    "    print(\"len(sample_no_acc):\", len(sample_no_acc))\n",
    "#     print(sp.stats.kstest(sample_acc, sample_no_acc))\n",
    "    print(sp.stats.ks_2samp(sample_acc, sample_no_acc))\n",
    "    print()\n",
    "\n",
    "# print(sample_acc)\n",
    "# print(\"\\n\")\n",
    "# print(sample_no_acc)\n"
   ]
  },
  {
   "cell_type": "code",
   "execution_count": 111,
   "id": "7988a885",
   "metadata": {},
   "outputs": [
    {
     "data": {
      "text/plain": [
       "array([3, 4])"
      ]
     },
     "execution_count": 111,
     "metadata": {},
     "output_type": "execute_result"
    }
   ],
   "source": [
    "np.array([1, 2, 3, 4])[2:4]"
   ]
  },
  {
   "cell_type": "code",
   "execution_count": 112,
   "id": "2a3979f2",
   "metadata": {
    "scrolled": true
   },
   "outputs": [
    {
     "name": "stdout",
     "output_type": "stream",
     "text": [
      "acc_time_id: 0\n",
      "len(sample_acc): 117\n",
      "len(sample_no_acc): 677\n",
      "KstestResult(statistic=0.08153113913822924, pvalue=0.49203645423927267)\n",
      "\n",
      "acc_time_id: 1\n",
      "len(sample_acc): 677\n",
      "len(sample_no_acc): 524\n",
      "KstestResult(statistic=0.029691499317825613, pvalue=0.9477010644888335)\n",
      "\n",
      "acc_time_id: 2\n",
      "len(sample_acc): 524\n",
      "len(sample_no_acc): 431\n",
      "KstestResult(statistic=0.04360974832185048, pvalue=0.736944058060081)\n",
      "\n",
      "acc_time_id: 3\n",
      "len(sample_acc): 431\n",
      "len(sample_no_acc): 382\n",
      "KstestResult(statistic=0.08381214999817786, pvalue=0.10779941473817986)\n",
      "\n",
      "acc_time_id: 4\n",
      "len(sample_acc): 382\n",
      "len(sample_no_acc): 276\n",
      "KstestResult(statistic=0.05647241824114121, pvalue=0.6588521676194633)\n",
      "\n",
      "acc_time_id: 5\n",
      "len(sample_acc): 276\n",
      "len(sample_no_acc): 218\n",
      "KstestResult(statistic=0.05973274830474671, pvalue=0.747582454868057)\n",
      "\n",
      "acc_time_id: 6\n",
      "len(sample_acc): 218\n",
      "len(sample_no_acc): 197\n",
      "KstestResult(statistic=0.07872677315698784, pvalue=0.5086619696046796)\n",
      "\n",
      "acc_time_id: 7\n",
      "len(sample_acc): 197\n",
      "len(sample_no_acc): 163\n",
      "KstestResult(statistic=0.11472704057799508, pvalue=0.17310158113887286)\n",
      "\n",
      "acc_time_id: 8\n",
      "len(sample_acc): 163\n",
      "len(sample_no_acc): 108\n",
      "KstestResult(statistic=0.09651215632810725, pvalue=0.5403308060997571)\n",
      "\n",
      "acc_time_id: 9\n",
      "len(sample_acc): 108\n",
      "len(sample_no_acc): 109\n",
      "KstestResult(statistic=0.07789670404349304, pvalue=0.8592762493096713)\n",
      "\n",
      "acc_time_id: 10\n",
      "len(sample_acc): 109\n",
      "len(sample_no_acc): 74\n",
      "KstestResult(statistic=0.09037937019588396, pvalue=0.8222573028370253)\n",
      "\n",
      "acc_time_id: 11\n",
      "len(sample_acc): 74\n",
      "len(sample_no_acc): 56\n",
      "KstestResult(statistic=0.14623552123552125, pvalue=0.44860215865448816)\n",
      "\n",
      "acc_time_id: 12\n",
      "len(sample_acc): 56\n",
      "len(sample_no_acc): 57\n",
      "KstestResult(statistic=0.12969924812030076, pvalue=0.6688761421808764)\n",
      "\n",
      "acc_time_id: 13\n",
      "len(sample_acc): 57\n",
      "len(sample_no_acc): 44\n",
      "KstestResult(statistic=0.10645933014354067, pvalue=0.902026466090386)\n",
      "\n",
      "acc_time_id: 14\n",
      "len(sample_acc): 44\n",
      "len(sample_no_acc): 44\n",
      "KstestResult(statistic=0.18181818181818182, pvalue=0.4654578921365766)\n",
      "\n",
      "acc_time_id: 15\n",
      "len(sample_acc): 44\n",
      "len(sample_no_acc): 22\n",
      "KstestResult(statistic=0.2727272727272727, pvalue=0.21404815047359632)\n",
      "\n",
      "acc_time_id: 16\n",
      "len(sample_acc): 22\n",
      "len(sample_no_acc): 29\n",
      "KstestResult(statistic=0.1536050156739812, pvalue=0.8724641792846122)\n",
      "\n"
     ]
    }
   ],
   "source": [
    "kstest_result_H0 = np.zeros((len(acc_times_dict.keys())-1, 4))\n",
    "\n",
    "for acc_time_id in range(len(acc_times_dict.keys())-1):\n",
    "    acc_time = list(acc_times_dict.keys())[acc_time_id]\n",
    "    sample_acc = [x_array_H0[i, int(acc_time) - 1] for i in [*acc_times_dict.values()][acc_time_id]]\n",
    "    sample_no_acc = [x_array_H0[i, int(acc_time) - 1] for i in [*acc_times_dict.values()][acc_time_id + 1]]\n",
    "    \n",
    "    print(\"acc_time_id:\", acc_time_id)\n",
    "    print(\"len(sample_acc):\", len(sample_acc))\n",
    "    print(\"len(sample_no_acc):\", len(sample_no_acc))\n",
    "#     print(sp.stats.kstest(sample_acc, sample_no_acc))\n",
    "    print(sp.stats.ks_2samp(sample_acc, sample_no_acc))\n",
    "    kstest_result_H0[acc_time_id, 0:2] = np.array(list(sp.stats.ks_2samp(sample_acc, sample_no_acc)))\n",
    "    kstest_result_H0[acc_time_id, 2:4] = np.array([len(sample_acc), len(sample_no_acc)])\n",
    "    print()\n"
   ]
  },
  {
   "cell_type": "code",
   "execution_count": 100,
   "id": "ddfd7b4e",
   "metadata": {},
   "outputs": [
    {
     "name": "stdout",
     "output_type": "stream",
     "text": [
      "[[1.28510638e-01 4.86016706e-01 5.00000000e+01 1.88000000e+02]\n",
      " [9.65248227e-02 3.86734911e-01 1.88000000e+02 1.50000000e+02]\n",
      " [8.28571429e-02 6.63170181e-01 1.50000000e+02 1.40000000e+02]\n",
      " [8.86018237e-02 7.23984099e-01 1.40000000e+02 9.40000000e+01]\n",
      " [2.53018976e-01 7.83413970e-03 9.40000000e+01 7.40000000e+01]\n",
      " [9.08108108e-02 8.72952709e-01 7.40000000e+01 7.50000000e+01]\n",
      " [1.50476190e-01 3.72948331e-01 7.50000000e+01 6.30000000e+01]\n",
      " [1.56334232e-01 4.26112782e-01 6.30000000e+01 5.30000000e+01]\n",
      " [2.08894879e-01 2.17857509e-01 5.30000000e+01 4.20000000e+01]\n",
      " [2.61904762e-01 1.28593682e-01 4.20000000e+01 3.30000000e+01]\n",
      " [1.32575758e-01 9.32837322e-01 3.30000000e+01 2.40000000e+01]\n",
      " [2.01086957e-01 6.19310054e-01 2.40000000e+01 2.30000000e+01]\n",
      " [1.30434783e-01 9.92377161e-01 2.30000000e+01 2.30000000e+01]\n",
      " [3.79446640e-01 1.79386536e-01 2.30000000e+01 1.10000000e+01]\n",
      " [3.03030303e-01 6.36401524e-01 1.10000000e+01 9.00000000e+00]\n",
      " [4.00000000e-01 2.94204248e-01 9.00000000e+00 1.00000000e+01]]\n",
      "\n",
      "[[1.33824463e-01 4.86016706e-01 5.00000000e+01 1.88000000e+02]\n",
      " [9.92336852e-02 3.86734911e-01 1.88000000e+02 1.50000000e+02]\n",
      " [8.73038669e-02 6.63170181e-01 1.50000000e+02 1.40000000e+02]\n",
      " [9.50474064e-02 7.23984099e-01 1.40000000e+02 9.40000000e+01]\n",
      " [2.58707629e-01 7.83413970e-03 9.40000000e+01 7.40000000e+01]\n",
      " [1.05490762e-01 8.72952709e-01 7.40000000e+01 7.50000000e+01]\n",
      " [1.56606147e-01 3.72948331e-01 7.50000000e+01 6.30000000e+01]\n",
      " [1.63884695e-01 4.26112782e-01 6.30000000e+01 5.30000000e+01]\n",
      " [2.17506915e-01 2.17857509e-01 5.30000000e+01 4.20000000e+01]\n",
      " [2.72486783e-01 1.28593682e-01 4.20000000e+01 3.30000000e+01]\n",
      " [1.65664188e-01 9.32837322e-01 3.30000000e+01 2.40000000e+01]\n",
      " [2.23399970e-01 6.19310054e-01 2.40000000e+01 2.30000000e+01]\n",
      " [1.74555239e-01 9.92377161e-01 2.30000000e+01 2.30000000e+01]\n",
      " [4.02527158e-01 1.79386536e-01 2.30000000e+01 1.10000000e+01]\n",
      " [3.40093981e-01 6.36401524e-01 1.10000000e+01 9.00000000e+00]\n",
      " [4.49789680e-01 2.94204248e-01 9.00000000e+00 1.00000000e+01]]\n"
     ]
    }
   ],
   "source": [
    "def kstest_manual_pvalue_to_statistic(pvalues, ms, ns):\n",
    "    return np.sqrt(-np.log(pvalues/2) * 0.5 *(1/ms + 1/ns))\n",
    "\n",
    "# kstest_result_H0\n",
    "print(kstest_result_H0)\n",
    "print()\n",
    "\n",
    "kstest_result_H0_manual = np.copy(kstest_result_H0)\n",
    "kstest_result_H0_manual[:, 0] = kstest_manual_pvalue_to_statistic(kstest_result_H0_manual[:, 1], kstest_result_H0_manual[:, 2], kstest_result_H0_manual[:, 3])\n",
    "print(kstest_result_H0_manual)"
   ]
  },
  {
   "cell_type": "code",
   "execution_count": null,
   "id": "a6af175d",
   "metadata": {},
   "outputs": [],
   "source": []
  },
  {
   "cell_type": "markdown",
   "id": "7d20eb71",
   "metadata": {},
   "source": [
    "## b) Aggregate across accident times:"
   ]
  },
  {
   "cell_type": "code",
   "execution_count": 61,
   "id": "48fe7598",
   "metadata": {},
   "outputs": [],
   "source": [
    "# list_1 = [1]\n",
    "# list_2 = [2]\n",
    "# list_1.extend(list_2)\n",
    "# list_1"
   ]
  },
  {
   "cell_type": "code",
   "execution_count": 62,
   "id": "9ecd849e",
   "metadata": {
    "scrolled": false
   },
   "outputs": [],
   "source": [
    "# T_acc_vec = np.ones(N) * T\n",
    "# for i in range(N):\n",
    "#     if np.any(acc_realized_H1[i, :] == 1):\n",
    "#         T_acc_vec[i] = min([t for t in range(T) if acc_realized_H1[i, t] == 1])\n",
    "\n",
    "# T_acc_set_sorted = np.sort(np.array(list(set(T_acc_vec))))\n",
    "\n",
    "# T_acc_set_sorted_sampled = [T_acc_set_sorted[j] for j in range(T_acc_set_sorted.shape[0])]\n",
    "\n",
    "# acc_time_previous = 0\n",
    "# acc_times_dict = {}\n",
    "# for acc_time in T_acc_set_sorted_sampled:\n",
    "#     days_list = [i for i in range(N) if T_acc_vec[i] > acc_time_previous and T_acc_vec[i] <= acc_time]\n",
    "#     acc_times_dict[acc_time] = days_list\n",
    "#     acc_time_previous = acc_time\n",
    "\n",
    "# # acc_times_dict.keys()\n",
    "# # T_acc_set_sorted_sampled"
   ]
  },
  {
   "cell_type": "code",
   "execution_count": 63,
   "id": "f630e583",
   "metadata": {},
   "outputs": [],
   "source": [
    "# sample_acc = []\n",
    "# sample_no_acc = []\n",
    "\n",
    "# for count, acc_time in enumerate(acc_times_dict.keys()):\n",
    "#     if count % 2 == 0 and count + 1 <= len(acc_times_dict.keys())-1:\n",
    "# #         print(count)\n",
    "# #         print(len(acc_times_dict.keys()))\n",
    "# #         print()\n",
    "#         sample_acc.extend([x_array_H1[i, int(acc_time) - 1] for i in [*acc_times_dict.values()][count]])\n",
    "#         sample_no_acc.extend([x_array_H1[i, int(acc_time) - 1] for i in [*acc_times_dict.values()][count + 1]])\n",
    "\n",
    "# # print(\"acc_time_id:\", acc_time_id)\n",
    "# # print(\"len(sample_acc):\", len(sample_acc))\n",
    "# # print(\"len(sample_no_acc):\", len(sample_no_acc))\n",
    "# print(sp.stats.kstest(sample_acc, sample_no_acc))\n",
    "# # print(sp.stats.ks_2samp(sample_acc, sample_no_acc))\n",
    "# print()\n",
    "\n",
    "\n",
    "# # print(sample_acc)\n",
    "# # print(\"\\n\")\n",
    "# # print(sample_no_acc)\n",
    "\n",
    "\n"
   ]
  },
  {
   "cell_type": "markdown",
   "id": "d1ebde6e",
   "metadata": {},
   "source": [
    "# Plot Results:"
   ]
  },
  {
   "cell_type": "code",
   "execution_count": 64,
   "id": "1a19f1a8",
   "metadata": {},
   "outputs": [],
   "source": [
    "# def cdf_from_samples(sample):\n",
    "    \n",
    "    "
   ]
  },
  {
   "cell_type": "code",
   "execution_count": 65,
   "id": "f68cec12",
   "metadata": {},
   "outputs": [],
   "source": [
    "# # Test:\n",
    "\n",
    "# sample = np.random.randn(1000)\n",
    "# ecdf = ECDF(sample)\n",
    "\n",
    "# print('P(x<-20): %.3f' % ecdf(-20))\n",
    "# print('P(x<0): %.3f' % ecdf(0))\n",
    "# print('P(x<20): %.3f' % ecdf(20))\n",
    "\n",
    "# cdf_data_test = ecdf(np.linspace(-10, 10, num=1000))\n",
    "# plt.plot(np.linspace(-10, 10, num=1000), cdf_data_test)\n"
   ]
  },
  {
   "cell_type": "code",
   "execution_count": 71,
   "id": "dc0bc7d7",
   "metadata": {},
   "outputs": [
    {
     "name": "stdout",
     "output_type": "stream",
     "text": [
      "acc_time_id: 2\n",
      "len(sample_acc): 190\n",
      "len(sample_no_acc): 118\n",
      "KstestResult(statistic=0.7328278322925958, pvalue=1.4099145600941084e-38)\n",
      "\n"
     ]
    },
    {
     "data": {
      "text/plain": [
       "[<matplotlib.lines.Line2D at 0x7fcf77cbbe20>]"
      ]
     },
     "execution_count": 71,
     "metadata": {},
     "output_type": "execute_result"
    },
    {
     "data": {
      "image/png": "[encoded data removed]",
      "text/plain": [
       "<Figure size 432x288 with 1 Axes>"
      ]
     },
     "metadata": {
      "needs_background": "light"
     },
     "output_type": "display_data"
    }
   ],
   "source": [
    "# for acc_time_id in range(len(acc_times_dict.keys())-1):\n",
    "for acc_time_id in [2]:\n",
    "    acc_time = list(acc_times_dict.keys())[acc_time_id]\n",
    "    sample_acc = [x_array_H1[i, int(acc_time) - 1] for i in [*acc_times_dict.values()][acc_time_id]]\n",
    "    sample_no_acc = [x_array_H1[i, int(acc_time) - 1] for i in [*acc_times_dict.values()][acc_time_id + 1]]\n",
    "    \n",
    "    print(\"acc_time_id:\", acc_time_id)\n",
    "    print(\"len(sample_acc):\", len(sample_acc))\n",
    "    print(\"len(sample_no_acc):\", len(sample_no_acc))\n",
    "#     print(sp.stats.kstest(sample_acc, sample_no_acc))\n",
    "    print(sp.stats.ks_2samp(sample_acc, sample_no_acc))\n",
    "    print()\n",
    "\n",
    "\n",
    "ecdf_acc = ECDF(sample_acc)\n",
    "ecdf_no_acc = ECDF(sample_no_acc)\n",
    "\n",
    "plot_x_range = np.linspace(x_eq - 3 * noise_range, x_eq + 3 * noise_range, num = 1000)\n",
    "cdf_no_acc = ecdf_no_acc(plot_x_range)\n",
    "cdf_acc = ecdf_acc(plot_x_range)\n",
    "plt.plot(plot_x_range, cdf_no_acc)\n",
    "plt.plot(plot_x_range, cdf_acc)\n",
    "\n"
   ]
  },
  {
   "cell_type": "code",
   "execution_count": 74,
   "id": "60c17aad",
   "metadata": {},
   "outputs": [
    {
     "name": "stdout",
     "output_type": "stream",
     "text": [
      "acc_time_id: 2\n",
      "len(sample_acc): 190\n",
      "len(sample_no_acc): 118\n",
      "KstestResult(statistic=0.08635147190008921, pvalue=0.6101832435944676)\n",
      "\n"
     ]
    },
    {
     "data": {
      "text/plain": [
       "[<matplotlib.lines.Line2D at 0x7fcf77fef0d0>]"
      ]
     },
     "execution_count": 74,
     "metadata": {},
     "output_type": "execute_result"
    },
    {
     "data": {
      "image/png": "[encoded data removed]",
      "text/plain": [
       "<Figure size 432x288 with 1 Axes>"
      ]
     },
     "metadata": {
      "needs_background": "light"
     },
     "output_type": "display_data"
    }
   ],
   "source": [
    "# for acc_time_id in range(len(acc_times_dict.keys())-1):\n",
    "for acc_time_id in [2]:\n",
    "    acc_time = list(acc_times_dict.keys())[acc_time_id]\n",
    "    sample_acc = [x_array_H0[i, int(acc_time) - 1] for i in [*acc_times_dict.values()][acc_time_id]]\n",
    "    sample_no_acc = [x_array_H0[i, int(acc_time) - 1] for i in [*acc_times_dict.values()][acc_time_id + 1]]\n",
    "    \n",
    "    print(\"acc_time_id:\", acc_time_id)\n",
    "    print(\"len(sample_acc):\", len(sample_acc))\n",
    "    print(\"len(sample_no_acc):\", len(sample_no_acc))\n",
    "#     print(sp.stats.kstest(sample_acc, sample_no_acc))\n",
    "    print(sp.stats.ks_2samp(sample_acc, sample_no_acc))\n",
    "    print()\n",
    "\n",
    "\n",
    "ecdf_acc = ECDF(sample_acc)\n",
    "ecdf_no_acc = ECDF(sample_no_acc)\n",
    "\n",
    "plot_x_range = np.linspace(x_eq - 3 * noise_range, x_eq + 3 * noise_range, num=1000)\n",
    "cdf_no_acc = ecdf_no_acc(plot_x_range)\n",
    "cdf_acc = ecdf_acc(plot_x_range)\n",
    "plt.plot(plot_x_range, cdf_no_acc)\n",
    "plt.plot(plot_x_range, cdf_acc)\n",
    "\n"
   ]
  },
  {
   "cell_type": "code",
   "execution_count": 68,
   "id": "87400c6d",
   "metadata": {},
   "outputs": [],
   "source": [
    "# 0.999**108"
   ]
  },
  {
   "cell_type": "code",
   "execution_count": null,
   "id": "cfc627e2",
   "metadata": {},
   "outputs": [],
   "source": []
  },
  {
   "cell_type": "code",
   "execution_count": null,
   "id": "a496f9e0",
   "metadata": {},
   "outputs": [],
   "source": []
  },
  {
   "cell_type": "code",
   "execution_count": 46,
   "id": "c903d4b6",
   "metadata": {},
   "outputs": [
    {
     "name": "stdout",
     "output_type": "stream",
     "text": [
      "[[0 0 0 ... 0 0 0]\n",
      " [0 0 0 ... 0 0 0]\n",
      " [0 0 0 ... 0 0 0]\n",
      " ...\n",
      " [0 0 0 ... 0 0 0]\n",
      " [0 0 0 ... 0 0 0]\n",
      " [0 0 0 ... 0 0 0]]\n",
      "\n",
      "\n",
      "[[0. 0. 0. ... 0. 0. 0.]\n",
      " [0. 0. 0. ... 0. 1. 0.]\n",
      " [1. 1. 1. ... 0. 0. 0.]\n",
      " ...\n",
      " [0. 0. 0. ... 1. 1. 0.]\n",
      " [1. 1. 1. ... 1. 1. 0.]\n",
      " [1. 1. 1. ... 1. 1. 0.]]\n"
     ]
    }
   ],
   "source": [
    "print(acc_vec)\n",
    "print(\"\\n\")\n",
    "print(acc_realized_H1)"
   ]
  },
  {
   "cell_type": "code",
   "execution_count": null,
   "id": "7e353fd3",
   "metadata": {},
   "outputs": [],
   "source": []
  },
  {
   "cell_type": "markdown",
   "id": "0ad486d8",
   "metadata": {},
   "source": [
    "# Scratch Work:"
   ]
  },
  {
   "cell_type": "code",
   "execution_count": 228,
   "id": "79e5baae",
   "metadata": {},
   "outputs": [
    {
     "name": "stdout",
     "output_type": "stream",
     "text": [
      "KstestResult(statistic=0.054, pvalue=0.1082872208757189)\n"
     ]
    }
   ],
   "source": [
    "# K-test:\n",
    "\n",
    "rng = np.random.default_rng()\n",
    "# sample1 = sp.stats.laplace.rvs(size=105, random_state=rng)\n",
    "# sample2 = sp.stats.laplace.rvs(size=95, random_state=rng)\n",
    "sample1 = np.random.randn(1000) + 0.1\n",
    "sample2 = np.random.randn(1000)\n",
    "\n",
    "print(sp.stats.kstest(sample1, sample2))"
   ]
  },
  {
   "cell_type": "code",
   "execution_count": 18,
   "id": "60649de0",
   "metadata": {},
   "outputs": [
    {
     "data": {
      "text/plain": [
       "[<matplotlib.lines.Line2D at 0x7ff456d60ca0>]"
      ]
     },
     "execution_count": 18,
     "metadata": {},
     "output_type": "execute_result"
    },
    {
     "data": {
      "image/png": "[encoded data removed]",
      "text/plain": [
       "<Figure size 432x288 with 1 Axes>"
      ]
     },
     "metadata": {
      "needs_background": "light"
     },
     "output_type": "display_data"
    }
   ],
   "source": [
    "# Beta distribution, for accidents:\n",
    "\n",
    "fig, ax = plt.subplots(1, 1)\n",
    "# a, b = 2.31, 0.627\n",
    "a, b = 0.5, 0.1\n",
    "\n",
    "mean, var, skew, kurt = beta.stats(a, b, moments='mvsk')\n",
    "x = np.linspace(beta.ppf(0.01, a, b),\n",
    "                beta.ppf(0.99, a, b), 100)\n",
    "plt.xlim([0.0, 1.0])\n",
    "plt.ylim([0, 10])\n",
    "ax.plot(x, beta.pdf(x, a, b),\n",
    "       'r-', lw=5, alpha=0.6, label='beta pdf')\n"
   ]
  },
  {
   "cell_type": "code",
   "execution_count": null,
   "id": "03208c1c",
   "metadata": {},
   "outputs": [],
   "source": []
  }
 ],
 "metadata": {
  "kernelspec": {
   "display_name": "Python 3 (ipykernel)",
   "language": "python",
   "name": "python3"
  },
  "language_info": {
   "codemirror_mode": {
    "name": "ipython",
    "version": 3
   },
   "file_extension": ".py",
   "mimetype": "text/x-python",
   "name": "python",
   "nbconvert_exporter": "python",
   "pygments_lexer": "ipython3",
   "version": "3.8.13"
  }
 },
 "nbformat": 4,
 "nbformat_minor": 5
}
