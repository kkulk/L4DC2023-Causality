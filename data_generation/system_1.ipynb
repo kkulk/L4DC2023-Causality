{
 "cells": [
  {
   "cell_type": "code",
   "execution_count": 34,
   "id": "8bbc56e2",
   "metadata": {},
   "outputs": [],
   "source": [
    "import numpy as np\n",
    "import pandas as pd\n",
    "import time\n",
    "import scipy as sp\n",
    "import itertools\n",
    "import matplotlib.pyplot as plt\n",
    "\n",
    "from itertools import chain, combinations, tee\n",
    "\n",
    "import sys\n",
    "sys.path.insert(1, '../utils')\n"
   ]
  },
  {
   "cell_type": "markdown",
   "id": "519889e7",
   "metadata": {},
   "source": [
    "# Generate Data:"
   ]
  },
  {
   "cell_type": "code",
   "execution_count": 5,
   "id": "14889716",
   "metadata": {},
   "outputs": [],
   "source": [
    "def make_Sigma(A):\n",
    "    return A.T @ A"
   ]
  },
  {
   "cell_type": "code",
   "execution_count": 23,
   "id": "e61f58dd",
   "metadata": {},
   "outputs": [
    {
     "data": {
      "text/plain": [
       "(90, 15)"
      ]
     },
     "execution_count": 23,
     "metadata": {},
     "output_type": "execute_result"
    }
   ],
   "source": [
    "m = 10\n",
    "N = 100\n",
    "T = 15\n",
    "\n",
    "Sigma_u = make_Sigma(np.random.randn(m, m) * 2/m * 1/2)\n",
    "Sigma_x = make_Sigma(np.random.randn(N-m, N-m) * 2/(N-m) * 1/10)\n",
    "Sigma_y = Sigma_x\n",
    "\n",
    "A_0 = np.random.randn(N-m, N-m) * 2/(N-m) * 1/2\n",
    "B_0 = np.random.randn(N-m, m)\n",
    "C_0 = np.identity(N-m)\n",
    "\n",
    "# # u_vec = np.random.rand(n_i, T)\n",
    "# u_vec = np.zeros((n_i, T))\n",
    "# x_0 = np.random.rand(n)\n",
    "# x_vec = np.zeros((n, T))\n",
    "# y_vec = np.zeros((n_o, T))\n",
    "\n",
    "\n",
    "u_vec = np.random.multivariate_normal(np.zeros(m), Sigma_u, T).T\n",
    "x_0 = np.random.multivariate_normal(np.zeros(N-m), Sigma_x)\n",
    "x_noise_vec = np.random.multivariate_normal(np.zeros(N-m), Sigma_x, T).T\n",
    "y_noise_vec = np.random.multivariate_normal(np.zeros(N-m), Sigma_y, T).T\n",
    "x_vec = np.zeros((N-m, T))\n",
    "y_vec = np.zeros((N-m, T))\n",
    "\n",
    "x_vec[:, 0] = x_0\n",
    "for t in range(T-1):\n",
    "    x_vec[:, t+1] = A_0 @ x_vec[:, t] + B_0 @ u_vec[:, t]s\n",
    "    y_vec[:, t] = C_0 @ x_vec[:, t]\n",
    "y_vec[:, T-1] = C_0 @ x_vec[:, T-1]\n"
   ]
  },
  {
   "cell_type": "code",
   "execution_count": 24,
   "id": "e9afe2d9",
   "metadata": {},
   "outputs": [],
   "source": [
    "path_directory = \"/Users/chih-yuanchiu/Desktop/Code/Causality_Time_Series/\"\n",
    "path_file = path_directory + \"data/system_1.xlsx\"\n",
    "\n",
    "# ego_pose_data = pd.read_excel(path_file, sheet_name='Ego Pose', engine='openpyxl')\n",
    "# static_features_data = pd.read_excel(path_file, sheet_name='Static Features' , engine='openpyxl')\n",
    "\n",
    "\n",
    "x_vec_pd = pd.DataFrame(x_vec)\n",
    "u_vec_pd = pd.DataFrame(u_vec)\n",
    "y_vec_pd = pd.DataFrame(y_vec)\n",
    "A_0_pd = pd.DataFrame(A_0)\n",
    "B_0_pd = pd.DataFrame(B_0)\n",
    "C_0_pd = pd.DataFrame(C_0)\n",
    "\n",
    "writer = pd.ExcelWriter(path_file, engine='openpyxl')\n",
    "\n",
    "x_vec_pd.to_excel(writer, sheet_name='x', index=False)\n",
    "u_vec_pd.to_excel(writer, sheet_name='u', index=False)\n",
    "y_vec_pd.to_excel(writer, sheet_name='y', index=False)\n",
    "A_0_pd.to_excel(writer, sheet_name='A_0', index=False)\n",
    "B_0_pd.to_excel(writer, sheet_name='B_0', index=False)\n",
    "C_0_pd.to_excel(writer, sheet_name='C_0', index=False)\n",
    "\n",
    "writer.save()\n",
    "\n",
    "# INCOMPLETE: save the remaining data as well.\n"
   ]
  },
  {
   "cell_type": "code",
   "execution_count": null,
   "id": "1fb5e13e",
   "metadata": {},
   "outputs": [],
   "source": []
  },
  {
   "cell_type": "code",
   "execution_count": 33,
   "id": "fa04d984",
   "metadata": {},
   "outputs": [
    {
     "data": {
      "text/plain": [
       "3.492428287593663e-06"
      ]
     },
     "execution_count": 33,
     "metadata": {},
     "output_type": "execute_result"
    }
   ],
   "source": [
    "min(abs(x_vec.flatten()))"
   ]
  },
  {
   "cell_type": "code",
   "execution_count": null,
   "id": "5975d093",
   "metadata": {},
   "outputs": [],
   "source": []
  },
  {
   "cell_type": "markdown",
   "id": "5cc84379",
   "metadata": {},
   "source": [
    "# Load Data (Test):"
   ]
  },
  {
   "cell_type": "code",
   "execution_count": null,
   "id": "ae4adb18",
   "metadata": {},
   "outputs": [],
   "source": []
  }
 ],
 "metadata": {
  "kernelspec": {
   "display_name": "Python 3 (ipykernel)",
   "language": "python",
   "name": "python3"
  },
  "language_info": {
   "codemirror_mode": {
    "name": "ipython",
    "version": 3
   },
   "file_extension": ".py",
   "mimetype": "text/x-python",
   "name": "python",
   "nbconvert_exporter": "python",
   "pygments_lexer": "ipython3",
   "version": "3.8.13"
  }
 },
 "nbformat": 4,
 "nbformat_minor": 5
}
