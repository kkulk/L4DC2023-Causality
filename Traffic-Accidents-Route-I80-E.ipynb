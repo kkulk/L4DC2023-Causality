{
 "cells": [
  {
   "cell_type": "code",
   "execution_count": 1,
   "id": "332838f9",
   "metadata": {},
   "outputs": [],
   "source": [
    "import numpy as np \n",
    "import pandas as pd\n",
    "import matplotlib.pyplot as plt\n",
    "import random\n",
    "import itertools"
   ]
  },
  {
   "cell_type": "code",
   "execution_count": 2,
   "id": "71b0993d",
   "metadata": {},
   "outputs": [],
   "source": [
    "## Construct dataset across multiple months from 6am - 6pm\n",
    "## Compare to just collisions vs. including hazards\n",
    "##"
   ]
  },
  {
   "cell_type": "markdown",
   "id": "a24d36da",
   "metadata": {},
   "source": [
    "## Station IDs for Interstate 80 - San Francisco - Oakland Bay Bridge"
   ]
  },
  {
   "cell_type": "code",
   "execution_count": 3,
   "id": "b2b192c1",
   "metadata": {},
   "outputs": [],
   "source": [
    "stationids_E = [402814, 402815,402816,402817, 420340,404896, 404921, 404886,404923, 404885, 404906, 404891,404908, 404889,404910,404892 ,404912, 404894, 404914, 404897, 404898,404899,401546, 404400 ]\n",
    "stationids_W  = [402827,404918, 414758, 404920, 404883, 404922, 404884,404905,404887, 404907, 404888, 404909, 404890,404911, 404893,404913 ,404895 ,404915,404916,404917, 404415,404416]"
   ]
  },
  {
   "cell_type": "code",
   "execution_count": 4,
   "id": "91af85b8",
   "metadata": {},
   "outputs": [],
   "source": [
    "days_months = [31, 28, 31, 30, 31, 30, 31, 30]"
   ]
  },
  {
   "cell_type": "markdown",
   "id": "a8c7f012",
   "metadata": {},
   "source": [
    "## Setting up Flow Files"
   ]
  },
  {
   "cell_type": "code",
   "execution_count": 5,
   "id": "5e40f6fb",
   "metadata": {},
   "outputs": [],
   "source": [
    "files_jan_22 = []\n",
    "for i in range(days_months[0]):\n",
    "    files_jan_22.append(\"flows/jan_22/d04_text_station_5min_2022_01_\" + str(i+1) + \".txt\")"
   ]
  },
  {
   "cell_type": "code",
   "execution_count": 6,
   "id": "cdd0ab66",
   "metadata": {},
   "outputs": [],
   "source": [
    "files_feb_22 = []\n",
    "for i in range(days_months[1]):\n",
    "    files_feb_22.append(\"flows/feb_22/d04_text_station_5min_2022_02_\" + str(i+1) + \".txt\")\n",
    "files_feb_22.remove('flows/feb_22/d04_text_station_5min_2022_02_5.txt')"
   ]
  },
  {
   "cell_type": "code",
   "execution_count": 7,
   "id": "f8198c8f",
   "metadata": {},
   "outputs": [],
   "source": [
    "files_mar_22 = []\n",
    "for i in range(days_months[2]):\n",
    "    files_mar_22.append(\"flows/mar_22/d04_text_station_5min_2022_03_\" + str(i+1) + \".txt\")"
   ]
  },
  {
   "cell_type": "code",
   "execution_count": 8,
   "id": "064bcd30",
   "metadata": {},
   "outputs": [],
   "source": [
    "files_apr_22 = []\n",
    "for i in range(days_months[3]):\n",
    "    files_apr_22.append(\"flows/apr_22/d04_text_station_5min_2022_04_\" + str(i+1) + \".txt\")"
   ]
  },
  {
   "cell_type": "code",
   "execution_count": 9,
   "id": "ecb3fac6",
   "metadata": {},
   "outputs": [],
   "source": [
    "files_may_22 = []\n",
    "for i in range(days_months[4]):\n",
    "    files_may_22.append(\"flows/may_22/d04_text_station_5min_2022_05_\" + str(i+1) + \".txt\")"
   ]
  },
  {
   "cell_type": "code",
   "execution_count": 10,
   "id": "da43f34e",
   "metadata": {},
   "outputs": [],
   "source": [
    "files_jun_22 = []\n",
    "for i in range(days_months[5]):\n",
    "    files_jun_22.append(\"flows/jun_22/d04_text_station_5min_2022_06_\" + str(i+1) + \".txt\")\n",
    "files_jun_22.remove('flows/jun_22/d04_text_station_5min_2022_06_4.txt')"
   ]
  },
  {
   "cell_type": "code",
   "execution_count": 11,
   "id": "0a8cda84",
   "metadata": {},
   "outputs": [],
   "source": [
    "files_jul_22 = []\n",
    "for i in range(days_months[6]):\n",
    "    files_jul_22.append(\"flows/jul_22/d04_text_station_5min_2022_07_\" + str(i+1) + \".txt\")"
   ]
  },
  {
   "cell_type": "code",
   "execution_count": 12,
   "id": "06ec3fce",
   "metadata": {},
   "outputs": [],
   "source": [
    "files_aug_22 = []\n",
    "for i in range(days_months[7]):\n",
    "    files_aug_22.append(\"flows/aug_22/d04_text_station_5min_2022_08_\" + str(i+1) + \".txt\")\n",
    "files_aug_22.remove('flows/aug_22/d04_text_station_5min_2022_08_27.txt')"
   ]
  },
  {
   "cell_type": "code",
   "execution_count": 13,
   "id": "3d2849e5",
   "metadata": {},
   "outputs": [],
   "source": [
    "dfs_jan_22 = {}\n",
    "for f in files_jan_22:\n",
    "    dfs_jan_22[f] = pd.read_csv(f)"
   ]
  },
  {
   "cell_type": "code",
   "execution_count": 14,
   "id": "04774824",
   "metadata": {},
   "outputs": [],
   "source": [
    "dfs_feb_22 = {}\n",
    "for f in files_feb_22:\n",
    "    dfs_feb_22[f] = pd.read_csv(f)"
   ]
  },
  {
   "cell_type": "code",
   "execution_count": 15,
   "id": "07af1d87",
   "metadata": {},
   "outputs": [],
   "source": [
    "dfs_mar_22 = {}\n",
    "for f in files_mar_22:\n",
    "    dfs_mar_22[f] = pd.read_csv(f)"
   ]
  },
  {
   "cell_type": "code",
   "execution_count": 16,
   "id": "5ef09bce",
   "metadata": {},
   "outputs": [],
   "source": [
    "dfs_apr_22 = {}\n",
    "for f in files_apr_22:\n",
    "    dfs_apr_22[f] = pd.read_csv(f)"
   ]
  },
  {
   "cell_type": "code",
   "execution_count": 17,
   "id": "91498390",
   "metadata": {},
   "outputs": [],
   "source": [
    "dfs_may_22 = {}\n",
    "for f in files_may_22:\n",
    "    dfs_may_22[f] = pd.read_csv(f)"
   ]
  },
  {
   "cell_type": "code",
   "execution_count": 18,
   "id": "754bb805",
   "metadata": {},
   "outputs": [],
   "source": [
    "dfs_jun_22 = {}\n",
    "for f in files_jun_22:\n",
    "    dfs_jun_22[f] = pd.read_csv(f)"
   ]
  },
  {
   "cell_type": "code",
   "execution_count": 19,
   "id": "5eda8b47",
   "metadata": {},
   "outputs": [],
   "source": [
    "dfs_jul_22 = {}\n",
    "for f in files_jul_22:\n",
    "    dfs_jul_22[f] = pd.read_csv(f)"
   ]
  },
  {
   "cell_type": "code",
   "execution_count": 20,
   "id": "16543011",
   "metadata": {},
   "outputs": [],
   "source": [
    "dfs_aug_22 = {}\n",
    "for f in files_aug_22:\n",
    "    dfs_aug_22[f] = pd.read_csv(f)"
   ]
  },
  {
   "cell_type": "code",
   "execution_count": 21,
   "id": "b832b1ac",
   "metadata": {},
   "outputs": [],
   "source": [
    "column_Names = [\"Timestamp\",\"Station\",\"District\",\"Route\",\"Direction of Travel\",\"Lane Type\",\"Station Length\",\"Samples\", \"% Observed\", \"Total Flow\",\"Avg Occupancy\",\"Avg Speed\",\"Delay V_t=35\",\"Delay V_t=40\",\"Delay V_t=45\",\"Delay V_t=50\",\"Delay V_t=55\",\"Delay V_t=60\",\"Lane 1 Flow\",\"Lane 1 Avg Occ\",\"Lane 1 Avg Speed\",\"Lane 2 Flow\",\"Lane 2 Avg Occ\",\"Lane 2 Avg Speed\",\"Lane 3 Flow\",\"Lane 3 Avg Occ\",\"Lane 3 Avg Speed\",\"Lane 4 Flow\",\"Lane 4 Avg Occ\",\"Lane 4 Avg Speed\",\"Lane 5 Flow\",\"Lane 5 Avg Occ\",\"Lane 5 Avg Speed\",\"Lane 6 Flow\",\"Lane 6 Avg Occ\",\"Lane 6 Avg Speed\",\"Lane 7 Flow\",\"Lane 7 Avg Occ\",\"Lane 7 Avg Speed\",\"Lane 8 Avg Occ\",\"Lane 8 Avg Speed\",\"Lane 9 Avg Occ\", \"F1\", \"F2\", \"F3\", \"F4\",\"F5\",\"F6\", \"F7\", \"F8\", \"F9\",\"F10\"]"
   ]
  },
  {
   "cell_type": "code",
   "execution_count": 22,
   "id": "3214cb9d",
   "metadata": {},
   "outputs": [],
   "source": [
    "dfs_jan_22_cp = dict(dfs_jan_22)\n",
    "dfs_feb_22_cp = dict(dfs_feb_22)\n",
    "dfs_mar_22_cp = dict(dfs_mar_22)\n",
    "dfs_apr_22_cp = dict(dfs_apr_22)\n",
    "dfs_may_22_cp = dict(dfs_may_22)\n",
    "dfs_jun_22_cp = dict(dfs_jun_22)\n",
    "dfs_jul_22_cp = dict(dfs_jul_22)\n",
    "dfs_aug_22_cp = dict(dfs_aug_22)"
   ]
  },
  {
   "cell_type": "code",
   "execution_count": 31,
   "id": "54e01c6a",
   "metadata": {},
   "outputs": [],
   "source": [
    "for f in files_jan_22: \n",
    "    dfs_jan_22_cp[f].columns = column_Names\n",
    "    dfs_jan_22_cp[f] = dfs_jan_22_cp[f][dfs_jan_22_cp[f]['Station'].isin(stationids_E)]\n",
    "    dfs_jan_22_cp[f] = processHourlyData(dfs_jan_22_cp[f], days_months[0], 6, 14)"
   ]
  },
  {
   "cell_type": "code",
   "execution_count": 32,
   "id": "0bd9af57",
   "metadata": {},
   "outputs": [],
   "source": [
    "for f in files_feb_22:\n",
    "    dfs_feb_22_cp[f].columns = column_Names\n",
    "    dfs_feb_22_cp[f] = dfs_feb_22_cp[f][dfs_feb_22_cp[f]['Station'].isin(stationids_E)]\n",
    "    dfs_feb_22_cp[f] = processHourlyData(dfs_feb_22_cp[f], days_months[1], 6, 14)"
   ]
  },
  {
   "cell_type": "code",
   "execution_count": 33,
   "id": "0f9dca44",
   "metadata": {},
   "outputs": [],
   "source": [
    "for f in files_mar_22:\n",
    "    dfs_mar_22_cp[f].columns = column_Names\n",
    "    dfs_mar_22_cp[f] = dfs_mar_22_cp[f][dfs_mar_22_cp[f]['Station'].isin(stationids_E)]\n",
    "    dfs_mar_22_cp[f] = processHourlyData(dfs_mar_22_cp[f], days_months[2], 6, 14)"
   ]
  },
  {
   "cell_type": "code",
   "execution_count": 34,
   "id": "9a82420a",
   "metadata": {},
   "outputs": [],
   "source": [
    "for f in files_apr_22:\n",
    "    dfs_apr_22_cp[f].columns = column_Names\n",
    "    dfs_apr_22_cp[f] = dfs_apr_22_cp[f][dfs_apr_22_cp[f]['Station'].isin(stationids_E)]\n",
    "    dfs_apr_22_cp[f] = processHourlyData(dfs_apr_22_cp[f], days_months[3], 6, 14)"
   ]
  },
  {
   "cell_type": "code",
   "execution_count": 35,
   "id": "173cd662",
   "metadata": {},
   "outputs": [],
   "source": [
    "for f in files_may_22:\n",
    "    dfs_may_22_cp[f].columns = column_Names\n",
    "    dfs_may_22_cp[f] = dfs_may_22_cp[f][dfs_may_22_cp[f]['Station'].isin(stationids_E)]\n",
    "    dfs_may_22_cp[f] = processHourlyData(dfs_may_22_cp[f], days_months[4], 6, 14)"
   ]
  },
  {
   "cell_type": "code",
   "execution_count": 36,
   "id": "3da80998",
   "metadata": {},
   "outputs": [],
   "source": [
    "for f in files_jun_22:\n",
    "    dfs_jun_22_cp[f].columns = column_Names\n",
    "    dfs_jun_22_cp[f] = dfs_jun_22_cp[f][dfs_jun_22_cp[f]['Station'].isin(stationids_E)]\n",
    "    dfs_jun_22_cp[f] = processHourlyData(dfs_jun_22_cp[f], days_months[5], 6, 14)"
   ]
  },
  {
   "cell_type": "code",
   "execution_count": 37,
   "id": "4d0433e6",
   "metadata": {},
   "outputs": [],
   "source": [
    "for f in files_jul_22:\n",
    "    dfs_jul_22_cp[f].columns = column_Names\n",
    "    dfs_jul_22_cp[f] = dfs_jul_22_cp[f][dfs_jul_22_cp[f]['Station'].isin(stationids_E)]\n",
    "    dfs_jul_22_cp[f] = processHourlyData(dfs_jul_22_cp[f], days_months[6], 6, 14)"
   ]
  },
  {
   "cell_type": "code",
   "execution_count": 38,
   "id": "8893537b",
   "metadata": {},
   "outputs": [],
   "source": [
    "for f in files_aug_22:\n",
    "    dfs_aug_22_cp[f].columns = column_Names\n",
    "    dfs_aug_22_cp[f] = dfs_aug_22_cp[f][dfs_aug_22_cp[f]['Station'].isin(stationids_E)]\n",
    "    dfs_aug_22_cp[f] = processHourlyData(dfs_aug_22_cp[f], days_months[7], 6, 14)"
   ]
  },
  {
   "cell_type": "code",
   "execution_count": 39,
   "id": "328fdb33",
   "metadata": {},
   "outputs": [],
   "source": [
    "for f in files_jan_22:\n",
    "    dfs_jan_22_cp[f].to_csv('i80e/' + f)\n",
    "for f in files_feb_22:\n",
    "    dfs_feb_22_cp[f].to_csv('i80e/' + f)\n",
    "for f in files_mar_22:\n",
    "    dfs_mar_22_cp[f].to_csv('i80e/' + f)\n",
    "for f in files_apr_22:\n",
    "    dfs_apr_22_cp[f].to_csv('i80e/' + f)\n",
    "for f in files_may_22:\n",
    "    dfs_may_22_cp[f].to_csv('i80e/' + f)\n",
    "for f in files_jun_22:\n",
    "    dfs_jun_22_cp[f].to_csv('i80e/' + f)\n",
    "for f in files_jul_22:\n",
    "    dfs_jul_22_cp[f].to_csv('i80e/' + f)\n",
    "for f in files_aug_22:\n",
    "    dfs_aug_22_cp[f].to_csv('i80e/' + f)"
   ]
  },
  {
   "cell_type": "code",
   "execution_count": 40,
   "id": "4922c32c",
   "metadata": {},
   "outputs": [],
   "source": [
    "dfs_jan_22_cp = {}\n",
    "for f in files_jan_22:\n",
    "    dfs_jan_22_cp[f] = pd.read_csv('i80e/' + f)\n",
    "\n",
    "dfs_feb_22_cp = {}\n",
    "for f in files_feb_22:\n",
    "    dfs_feb_22_cp[f] = pd.read_csv('i80e/' + f)\n",
    "\n",
    "dfs_mar_22_cp = {}\n",
    "for f in files_mar_22:\n",
    "    dfs_mar_22_cp[f] = pd.read_csv('i80e/' + f)\n",
    "    \n",
    "dfs_apr_22_cp = {}\n",
    "for f in files_apr_22:\n",
    "    dfs_apr_22_cp[f] = pd.read_csv('i80e/' + f)\n",
    "    \n",
    "dfs_may_22_cp = {}\n",
    "for f in files_may_22:\n",
    "    dfs_may_22_cp[f] = pd.read_csv('i80e/' + f)\n",
    "    \n",
    "dfs_jun_22_cp = {}\n",
    "for f in files_jun_22:\n",
    "    dfs_jun_22_cp[f] = pd.read_csv('i80e/' + f)\n",
    "    \n",
    "dfs_jul_22_cp = {}\n",
    "for f in files_jul_22:\n",
    "    dfs_jul_22_cp[f] = pd.read_csv('i80e/' + f)\n",
    "    \n",
    "dfs_aug_22_cp = {}\n",
    "for f in files_aug_22:\n",
    "    dfs_aug_22_cp[f] = pd.read_csv('i80e/' + f)"
   ]
  },
  {
   "cell_type": "code",
   "execution_count": 41,
   "id": "1b985574",
   "metadata": {},
   "outputs": [],
   "source": [
    "mean_flows_jan_22 = {}\n",
    "for f in files_jan_22:\n",
    "    mean_flow = dfs_jan_22_cp[f].groupby(by = \"Timestamp\")['Total Flow'].mean()\n",
    "    mean_flow = mean_flow.reset_index()\n",
    "    mean_flow.rename(columns={'Total Flow': 'Mean Flow'}, inplace=True)\n",
    "    merged = pd.merge(dfs_jan_22_cp[f], mean_flow, left_on = 'Timestamp', right_on = 'Timestamp', how = 'right')\n",
    "    merged = merged.drop_duplicates(subset=['Mean Flow'])\n",
    "    mean_flows_jan_22[f] = merged "
   ]
  },
  {
   "cell_type": "code",
   "execution_count": 42,
   "id": "990472ac",
   "metadata": {},
   "outputs": [],
   "source": [
    "mean_flows_feb_22 = {}\n",
    "for f in files_feb_22:\n",
    "    mean_flow = dfs_feb_22_cp[f].groupby(by = \"Timestamp\")['Total Flow'].mean()\n",
    "    mean_flow = mean_flow.reset_index()\n",
    "    mean_flow.rename(columns={'Total Flow': 'Mean Flow'}, inplace=True)\n",
    "    merged = pd.merge(dfs_feb_22_cp[f], mean_flow, left_on = 'Timestamp', right_on = 'Timestamp', how = 'right')\n",
    "    merged = merged.drop_duplicates(subset=['Mean Flow'])\n",
    "    mean_flows_feb_22[f] = merged "
   ]
  },
  {
   "cell_type": "code",
   "execution_count": 43,
   "id": "d97fd1af",
   "metadata": {},
   "outputs": [],
   "source": [
    "mean_flows_mar_22 = {}\n",
    "for f in files_mar_22:\n",
    "    mean_flow = dfs_mar_22_cp[f].groupby(by = \"Timestamp\")['Total Flow'].mean()\n",
    "    mean_flow = mean_flow.reset_index()\n",
    "    mean_flow.rename(columns={'Total Flow': 'Mean Flow'}, inplace=True)\n",
    "    merged = pd.merge(dfs_mar_22_cp[f], mean_flow, left_on = 'Timestamp', right_on = 'Timestamp', how = 'right')\n",
    "    merged = merged.drop_duplicates(subset=['Mean Flow'])\n",
    "    mean_flows_mar_22[f] = merged "
   ]
  },
  {
   "cell_type": "code",
   "execution_count": 44,
   "id": "6356ca65",
   "metadata": {},
   "outputs": [],
   "source": [
    "mean_flows_apr_22 = {}\n",
    "for f in files_apr_22:\n",
    "    mean_flow = dfs_apr_22_cp[f].groupby(by = \"Timestamp\")['Total Flow'].mean()\n",
    "    mean_flow = mean_flow.reset_index()\n",
    "    mean_flow.rename(columns={'Total Flow': 'Mean Flow'}, inplace=True)\n",
    "    merged = pd.merge(dfs_apr_22_cp[f], mean_flow, left_on = 'Timestamp', right_on = 'Timestamp', how = 'right')\n",
    "    merged = merged.drop_duplicates(subset=['Mean Flow'])\n",
    "    mean_flows_apr_22[f] = merged "
   ]
  },
  {
   "cell_type": "code",
   "execution_count": 45,
   "id": "40d4dc56",
   "metadata": {},
   "outputs": [],
   "source": [
    "mean_flows_may_22 = {}\n",
    "for f in files_may_22:\n",
    "    mean_flow = dfs_may_22_cp[f].groupby(by = \"Timestamp\")['Total Flow'].mean()\n",
    "    mean_flow = mean_flow.reset_index()\n",
    "    mean_flow.rename(columns={'Total Flow': 'Mean Flow'}, inplace=True)\n",
    "    merged = pd.merge(dfs_may_22_cp[f], mean_flow, left_on = 'Timestamp', right_on = 'Timestamp', how = 'right')\n",
    "    merged = merged.drop_duplicates(subset=['Mean Flow'])\n",
    "    mean_flows_may_22[f] = merged "
   ]
  },
  {
   "cell_type": "code",
   "execution_count": 46,
   "id": "5459afd1",
   "metadata": {},
   "outputs": [],
   "source": [
    "mean_flows_jun_22 = {}\n",
    "for f in files_jun_22:\n",
    "    mean_flow = dfs_jun_22_cp[f].groupby(by = \"Timestamp\")['Total Flow'].mean()\n",
    "    mean_flow = mean_flow.reset_index()\n",
    "    mean_flow.rename(columns={'Total Flow': 'Mean Flow'}, inplace=True)\n",
    "    merged = pd.merge(dfs_jun_22_cp[f], mean_flow, left_on = 'Timestamp', right_on = 'Timestamp', how = 'right')\n",
    "    merged = merged.drop_duplicates(subset=['Mean Flow'])\n",
    "    mean_flows_jun_22[f] = merged "
   ]
  },
  {
   "cell_type": "code",
   "execution_count": 47,
   "id": "fad337b3",
   "metadata": {},
   "outputs": [],
   "source": [
    "mean_flows_jul_22 = {}\n",
    "for f in files_jul_22:\n",
    "    mean_flow = dfs_jul_22_cp[f].groupby(by = \"Timestamp\")['Total Flow'].mean()\n",
    "    mean_flow = mean_flow.reset_index()\n",
    "    mean_flow.rename(columns={'Total Flow': 'Mean Flow'}, inplace=True)\n",
    "    merged = pd.merge(dfs_jul_22_cp[f], mean_flow, left_on = 'Timestamp', right_on = 'Timestamp', how = 'right')\n",
    "    merged = merged.drop_duplicates(subset=['Mean Flow'])\n",
    "    mean_flows_jul_22[f] = merged "
   ]
  },
  {
   "cell_type": "code",
   "execution_count": 48,
   "id": "7bc4d9da",
   "metadata": {},
   "outputs": [],
   "source": [
    "mean_flows_aug_22 = {}\n",
    "for f in files_aug_22:\n",
    "    mean_flow = dfs_aug_22_cp[f].groupby(by = \"Timestamp\")['Total Flow'].mean()\n",
    "    mean_flow = mean_flow.reset_index()\n",
    "    mean_flow.rename(columns={'Total Flow': 'Mean Flow'}, inplace=True)\n",
    "    merged = pd.merge(dfs_aug_22_cp[f], mean_flow, left_on = 'Timestamp', right_on = 'Timestamp', how = 'right')\n",
    "    merged = merged.drop_duplicates(subset=['Mean Flow'])\n",
    "    mean_flows_aug_22[f] = merged "
   ]
  },
  {
   "cell_type": "markdown",
   "id": "496eb35e",
   "metadata": {},
   "source": [
    "## Setting Up Incident Files"
   ]
  },
  {
   "cell_type": "code",
   "execution_count": 49,
   "id": "e85a7194",
   "metadata": {},
   "outputs": [
    {
     "name": "stderr",
     "output_type": "stream",
     "text": [
      "/var/folders/cn/wpc2vc951hs1wtznx5c_whb5kqkshb/T/ipykernel_7706/2767513838.py:1: DtypeWarning: Columns (0,10) have mixed types. Specify dtype option on import or set low_memory=False.\n",
      "  incidents_jan_22 = pd.read_csv('incidents_files.txt/all_text_chp_incidents_month_2022_01.txt')\n",
      "/var/folders/cn/wpc2vc951hs1wtznx5c_whb5kqkshb/T/ipykernel_7706/2767513838.py:2: DtypeWarning: Columns (0,10) have mixed types. Specify dtype option on import or set low_memory=False.\n",
      "  incidents_feb_22 = pd.read_csv('incidents_files.txt/all_text_chp_incidents_month_2022_02.txt')\n"
     ]
    }
   ],
   "source": [
    "incidents_jan_22 = pd.read_csv('incidents_files.txt/all_text_chp_incidents_month_2022_01.txt')\n",
    "incidents_feb_22 = pd.read_csv('incidents_files.txt/all_text_chp_incidents_month_2022_02.txt')\n",
    "incidents_mar_22 = pd.read_csv('incidents_files.txt/all_text_chp_incidents_month_2022_03.txt')\n",
    "incidents_apr_22 = pd.read_csv('incidents_files.txt/all_text_chp_incidents_month_2022_04.txt')\n",
    "incidents_may_22 = pd.read_csv('incidents_files.txt/all_text_chp_incidents_month_2022_05.txt')\n",
    "incidents_jun_22 = pd.read_csv('incidents_files.txt/all_text_chp_incidents_month_2022_06.txt')\n",
    "incidents_jul_22 = pd.read_csv('incidents_files.txt/all_text_chp_incidents_month_2022_07.txt')\n",
    "incidents_aug_22 = pd.read_csv('incidents_files.txt/all_text_chp_incidents_month_2022_08.txt')"
   ]
  },
  {
   "cell_type": "code",
   "execution_count": 50,
   "id": "c7ff3c0a",
   "metadata": {},
   "outputs": [],
   "source": [
    "column_Names_Incidents = ['IncidentID', 'CCCode', 'IncidentNumber', 'Timestamp', 'Description', 'Location', 'Area', 'Zoom Map','TB xy', 'Latitude', 'Longitude','District' ,'County FIPS ID', 'City FIPS ID', 'Freeway Number','Freeway Direction', 'State Postmile', 'Absolute Postmile', 'Severity', 'Duration']\n",
    "incidents_jan_22.columns = column_Names_Incidents\n",
    "incidents_jan_22 = incidents_jan_22[incidents_jan_22['Freeway Number'] == 80]\n",
    "incidents_jan_22= incidents_jan_22.loc[(incidents_jan_22['Absolute Postmile'] <= 6.74) & (incidents_jan_22['Absolute Postmile'] >= 2.79)]\n",
    "\n",
    "incidents_feb_22.columns = column_Names_Incidents\n",
    "incidents_feb_22 = incidents_feb_22[incidents_feb_22['Freeway Number'] == 80]\n",
    "incidents_feb_22 = incidents_feb_22.loc[(incidents_feb_22['Absolute Postmile'] <= 6.74) & (incidents_feb_22['Absolute Postmile'] >= 2.79)]\n",
    "\n",
    "incidents_mar_22.columns = column_Names_Incidents\n",
    "incidents_mar_22 = incidents_mar_22[incidents_mar_22['Freeway Number'] == 80]\n",
    "incidents_mar_22= incidents_mar_22.loc[(incidents_mar_22['Absolute Postmile'] <= 6.74) & (incidents_mar_22['Absolute Postmile'] >= 2.79)]\n",
    "\n",
    "incidents_apr_22.columns = column_Names_Incidents\n",
    "incidents_apr_22 = incidents_apr_22[incidents_apr_22['Freeway Number'] == 80]\n",
    "incidents_apr_22 = incidents_apr_22.loc[(incidents_apr_22['Absolute Postmile'] <= 6.74) & (incidents_apr_22['Absolute Postmile'] >= 2.79)]\n",
    "\n",
    "incidents_may_22.columns = column_Names_Incidents\n",
    "incidents_may_22 = incidents_may_22[incidents_may_22['Freeway Number'] == 80]\n",
    "incidents_may_22 = incidents_may_22.loc[(incidents_may_22['Absolute Postmile'] <= 6.74) & (incidents_may_22['Absolute Postmile'] >= 2.79)]\n",
    "\n",
    "incidents_jun_22.columns = column_Names_Incidents\n",
    "incidents_jun_22 = incidents_jun_22[incidents_jun_22['Freeway Number'] == 80]\n",
    "incidents_jun_22 = incidents_jun_22.loc[(incidents_jun_22['Absolute Postmile'] <= 6.74) & (incidents_jun_22['Absolute Postmile'] >= 2.79)]\n",
    "\n",
    "incidents_jul_22.columns = column_Names_Incidents\n",
    "incidents_jul_22 = incidents_jul_22[incidents_jul_22['Freeway Number'] == 80]\n",
    "incidents_jul_22 = incidents_jul_22.loc[(incidents_jul_22['Absolute Postmile'] <= 6.74) & (incidents_jul_22['Absolute Postmile'] >= 2.79)]\n",
    "\n",
    "incidents_aug_22.columns = column_Names_Incidents\n",
    "incidents_aug_22 = incidents_aug_22[incidents_aug_22['Freeway Number'] == 80]\n",
    "incidents_aug_22 = incidents_aug_22.loc[(incidents_aug_22['Absolute Postmile'] <= 6.74) & (incidents_aug_22['Absolute Postmile'] >= 2.79)]"
   ]
  },
  {
   "cell_type": "code",
   "execution_count": 51,
   "id": "214917d5",
   "metadata": {},
   "outputs": [],
   "source": [
    "incidents_jan_22 = convertToDatetime(incidents_jan_22)\n",
    "incidents_jan_22 = processHourlyIncidentData(incidents_jan_22, days_months[0], 6, 14)\n",
    "incidents_jan_22 = incidents_jan_22[incidents_jan_22['Freeway Direction'] == 'E']\n",
    "\n",
    "incidents_feb_22 = convertToDatetime(incidents_feb_22)\n",
    "incidents_feb_22 = processHourlyIncidentData(incidents_feb_22, days_months[1], 6, 14)\n",
    "incidents_feb_22 = incidents_feb_22[incidents_feb_22['Freeway Direction'] == 'E']\n",
    "\n",
    "incidents_mar_22 = convertToDatetime(incidents_mar_22)\n",
    "incidents_mar_22 = processHourlyIncidentData(incidents_mar_22, days_months[2], 6, 14)\n",
    "incidents_mar_22 = incidents_mar_22[incidents_mar_22['Freeway Direction'] == 'E']\n",
    "\n",
    "\n",
    "incidents_apr_22 = convertToDatetime(incidents_apr_22)\n",
    "incidents_apr_22 = processHourlyIncidentData(incidents_apr_22, days_months[3], 6, 14)\n",
    "incidents_apr_22 = incidents_apr_22[incidents_apr_22['Freeway Direction'] == 'E']\n",
    "\n",
    "incidents_may_22 = convertToDatetime(incidents_may_22)\n",
    "incidents_may_22 = processHourlyIncidentData(incidents_may_22, days_months[4], 6, 14)\n",
    "incidents_may_22 = incidents_may_22[incidents_may_22['Freeway Direction'] == 'E']\n",
    "\n",
    "incidents_jun_22 = convertToDatetime(incidents_jun_22)\n",
    "incidents_jun_22 = processHourlyIncidentData(incidents_jun_22, days_months[5], 6, 14)\n",
    "incidents_jun_22 = incidents_jun_22[incidents_jun_22['Freeway Direction'] == 'E']\n",
    "\n",
    "incidents_jul_22 = convertToDatetime(incidents_jul_22)\n",
    "incidents_jul_22 = processHourlyIncidentData(incidents_jul_22, days_months[6], 6, 14)\n",
    "incidents_jul_22 = incidents_jul_22[incidents_jul_22['Freeway Direction'] == 'E']\n",
    "\n",
    "incidents_aug_22 = convertToDatetime(incidents_aug_22)\n",
    "incidents_aug_22 = processHourlyIncidentData(incidents_aug_22, days_months[7], 6, 14)\n",
    "incidents_aug_22 = incidents_aug_22[incidents_aug_22['Freeway Direction'] == 'E']"
   ]
  },
  {
   "cell_type": "markdown",
   "id": "4097778f",
   "metadata": {},
   "source": [
    "Filter accident dataset by first accidents"
   ]
  },
  {
   "cell_type": "code",
   "execution_count": 52,
   "id": "2581b80d",
   "metadata": {},
   "outputs": [],
   "source": [
    "first_accident_jan_22 = incidents_jan_22.groupby('day')['Timestamp'].min().reset_index()\n",
    "first_accident_feb_22 = incidents_feb_22.groupby('day')['Timestamp'].min().reset_index()\n",
    "first_accident_mar_22 = incidents_mar_22.groupby('day')['Timestamp'].min().reset_index()\n",
    "first_accident_apr_22 = incidents_apr_22.groupby('day')['Timestamp'].min().reset_index()\n",
    "first_accident_may_22 = incidents_may_22.groupby('day')['Timestamp'].min().reset_index()\n",
    "first_accident_jun_22 = incidents_jun_22.groupby('day')['Timestamp'].min().reset_index()\n",
    "first_accident_jul_22 = incidents_jul_22.groupby('day')['Timestamp'].min().reset_index()\n",
    "first_accident_aug_22 = incidents_aug_22.groupby('day')['Timestamp'].min().reset_index()"
   ]
  },
  {
   "cell_type": "code",
   "execution_count": 53,
   "id": "cea1c049",
   "metadata": {},
   "outputs": [],
   "source": [
    "no_acc_jan_22 = list(set(range(days_months[0] + 1)) -set(first_accident_jan_22['day']) - set([0]))\n",
    "no_acc_feb_22 = list(set(range(days_months[1] + 1)) -set(first_accident_feb_22['day']) - set([0]))\n",
    "no_acc_mar_22 = list(set(range(days_months[2] + 1)) -set(first_accident_mar_22['day']) - set([0]))\n",
    "no_acc_apr_22 = list(set(range(days_months[3] + 1)) -set(first_accident_apr_22['day']) - set([0]))\n",
    "no_acc_may_22 = list(set(range(days_months[4] + 1)) -set(first_accident_may_22['day']) - set([0]))\n",
    "no_acc_jun_22 = list(set(range(days_months[5] + 1)) -set(first_accident_jun_22['day']) - set([0]))\n",
    "no_acc_jul_22 = list(set(range(days_months[6] + 1)) -set(first_accident_jul_22['day']) - set([0]))\n",
    "no_acc_aug_22 = list(set(range(days_months[7] + 1)) -set(first_accident_aug_22['day']) - set([0]))"
   ]
  },
  {
   "cell_type": "code",
   "execution_count": 55,
   "id": "e40035ff",
   "metadata": {},
   "outputs": [],
   "source": [
    "set_jan = []\n",
    "for day in no_acc_jan_22:\n",
    "    set_jan += set_jan + [\"flows/jan_22/d04_text_station_5min_2022_01_\" + str(day) + \".txt\"]\n",
    "files_jan_22 = list(set(files_jan_22) - set(set_jan))\n",
    "\n",
    "set_feb = []\n",
    "for day in no_acc_feb_22:\n",
    "    set_feb += set_feb + [\"flows/feb_22/d04_text_station_5min_2022_02_\" + str(day) + \".txt\"]\n",
    "files_feb_22 = list(set(files_feb_22) - set(set_feb))\n",
    "\n",
    "set_mar = []\n",
    "for day in no_acc_mar_22:\n",
    "    set_mar += set_jan + [\"flows/mar_22/d04_text_station_5min_2022_03_\" + str(day) + \".txt\"]\n",
    "files_mar_22 = list(set(files_mar_22) - set(set_mar))\n",
    "\n",
    "set_apr = []\n",
    "for day in no_acc_apr_22:\n",
    "    set_apr += set_apr + [\"flows/apr_22/d04_text_station_5min_2022_04_\" + str(day) + \".txt\"]\n",
    "files_apr_22 = list(set(files_apr_22) - set(set_apr))\n",
    "\n",
    "set_may = []\n",
    "for day in no_acc_may_22:\n",
    "    set_may += set_may + [\"flows/may_22/d04_text_station_5min_2022_05_\" + str(day) + \".txt\"]\n",
    "files_may_22 = list(set(files_may_22) - set(set_may))\n",
    "\n",
    "set_jun = []\n",
    "for day in no_acc_jun_22:\n",
    "    set_jun += set_jun + [\"flows/jun_22/d04_text_station_5min_2022_06_\" + str(day) + \".txt\"]\n",
    "files_jun_22 = list(set(files_jun_22) - set(set_jun))\n",
    "\n",
    "set_jul = []\n",
    "for day in no_acc_jul_22:\n",
    "    set_jul += set_jul + [\"flows/jul_22/d04_text_station_5min_2022_07_\" + str(day) + \".txt\"]\n",
    "files_jul_22 = list(set(files_jul_22) - set(set_jul))\n",
    "\n",
    "set_aug = []\n",
    "for day in no_acc_aug_22:\n",
    "    set_aug += set_aug + [\"flows/aug_22/d04_text_station_5min_2022_08_\" + str(day) + \".txt\"]\n",
    "files_aug_22 = list(set(files_aug_22) - set(set_aug))"
   ]
  },
  {
   "cell_type": "code",
   "execution_count": 56,
   "id": "47c98607",
   "metadata": {},
   "outputs": [
    {
     "data": {
      "text/plain": [
       "'13'"
      ]
     },
     "execution_count": 56,
     "metadata": {},
     "output_type": "execute_result"
    }
   ],
   "source": [
    "str(13)"
   ]
  },
  {
   "cell_type": "code",
   "execution_count": 57,
   "id": "3851b4d2",
   "metadata": {},
   "outputs": [
    {
     "data": {
      "text/plain": [
       "26"
      ]
     },
     "execution_count": 57,
     "metadata": {},
     "output_type": "execute_result"
    }
   ],
   "source": [
    "len(files_jul_22 + files_aug_22)"
   ]
  },
  {
   "cell_type": "code",
   "execution_count": 58,
   "id": "95b2a21f",
   "metadata": {},
   "outputs": [
    {
     "data": {
      "text/plain": [
       "117"
      ]
     },
     "execution_count": 58,
     "metadata": {},
     "output_type": "execute_result"
    }
   ],
   "source": [
    "len(files_jan_22 + files_feb_22 + files_mar_22 + files_apr_22 + files_may_22 + files_jun_22 + files_jul_22 + files_aug_22)"
   ]
  },
  {
   "cell_type": "code",
   "execution_count": 59,
   "id": "b88cfbd6",
   "metadata": {},
   "outputs": [],
   "source": [
    "accident_times_jan_22 = pd.to_datetime(first_accident_jan_22['Timestamp']).dt.time\n",
    "accident_times_feb_22 = pd.to_datetime(first_accident_feb_22['Timestamp']).dt.time\n",
    "accident_times_mar_22 = pd.to_datetime(first_accident_mar_22['Timestamp']).dt.time\n",
    "accident_times_apr_22 = pd.to_datetime(first_accident_apr_22['Timestamp']).dt.time\n",
    "accident_times_may_22 = pd.to_datetime(first_accident_may_22['Timestamp']).dt.time\n",
    "accident_times_jun_22 = pd.to_datetime(first_accident_jun_22['Timestamp']).dt.time\n",
    "accident_times_jul_22 = pd.to_datetime(first_accident_may_22['Timestamp']).dt.time\n",
    "accident_times_aug_22 = pd.to_datetime(first_accident_aug_22['Timestamp']).dt.time"
   ]
  },
  {
   "cell_type": "code",
   "execution_count": 60,
   "id": "a40d1fab",
   "metadata": {},
   "outputs": [],
   "source": [
    "accident_times = len(accident_times_jan_22) + len(accident_times_feb_22) + len(accident_times_mar_22) + len(accident_times_apr_22) + len(accident_times_may_22) + len(accident_times_jun_22) + len(accident_times_jul_22) + len(accident_times_aug_22)"
   ]
  },
  {
   "cell_type": "code",
   "execution_count": 61,
   "id": "bba4568d",
   "metadata": {},
   "outputs": [
    {
     "data": {
      "text/plain": [
       "125"
      ]
     },
     "execution_count": 61,
     "metadata": {},
     "output_type": "execute_result"
    }
   ],
   "source": [
    "accident_times"
   ]
  },
  {
   "cell_type": "code",
   "execution_count": 54,
   "id": "e5c4fa18",
   "metadata": {},
   "outputs": [
    {
     "name": "stdout",
     "output_type": "stream",
     "text": [
      "[7, 14, 9, 13, 7, 9, 13, 11, 8, 11, 10, 14, 13, 11, 7, 14, 7, 6, 13, 10, 13, 6, 12, 10, 6, 10, 7, 13, 8, 14, 8, 7, 12, 11, 8, 12, 12, 10, 6, 10, 7, 13, 8, 14, 14, 11, 7, 13, 14]\n"
     ]
    },
    {
     "data": {
      "image/png": "[encoded data removed]",
      "text/plain": [
       "<Figure size 432x288 with 1 Axes>"
      ]
     },
     "metadata": {
      "needs_background": "light"
     },
     "output_type": "display_data"
    }
   ],
   "source": [
    "accident_times = list(accident_times_jan_22) + list(accident_times_feb_22) + list(accident_times_mar_22) + list(accident_times_apr_22) + list(accident_times_may_22) + list(accident_times_jun_22) + list(accident_times_jul_22) + list(accident_times_aug_22)\n",
    "chart(accident_times)"
   ]
  },
  {
   "cell_type": "code",
   "execution_count": 49,
   "id": "5a242326",
   "metadata": {},
   "outputs": [],
   "source": [
    "def chart(occurance_list):\n",
    "    hour_list = [t.hour for t in occurance_list]\n",
    "    print(hour_list)\n",
    "    numbers=[x for x in range(6,14)]\n",
    "    labels=map(lambda x: str(x), numbers)\n",
    "    plt.xticks(numbers, labels)\n",
    "    plt.xlim(6,14)\n",
    "    plt.hist(hour_list)\n",
    "    plt.title('First Accident Times, January - June 2022')\n",
    "    plt.xlabel('Hours, 6am - 6pm')\n",
    "    plt.ylabel('Frequency')\n",
    "    plt.show()"
   ]
  },
  {
   "cell_type": "markdown",
   "id": "e9b76430",
   "metadata": {},
   "source": [
    "## Create Accident + Flow Dataframe"
   ]
  },
  {
   "cell_type": "code",
   "execution_count": 62,
   "id": "824e0e5c",
   "metadata": {},
   "outputs": [],
   "source": [
    "for f in files_jan_22:\n",
    "    mean_flows_jan_22[f].drop(mean_flows_jan_22[f].columns[0], axis=1, inplace=True)\n",
    "for f in files_feb_22:\n",
    "    mean_flows_feb_22[f].drop(mean_flows_feb_22[f].columns[0], axis=1, inplace=True)\n",
    "for f in files_mar_22:\n",
    "    mean_flows_mar_22[f].drop(mean_flows_mar_22[f].columns[0], axis=1, inplace=True)\n",
    "for f in files_apr_22:\n",
    "    mean_flows_apr_22[f].drop(mean_flows_apr_22[f].columns[0], axis=1, inplace=True)\n",
    "for f in files_may_22:\n",
    "    mean_flows_may_22[f].drop(mean_flows_may_22[f].columns[0], axis=1, inplace=True)\n",
    "for f in files_jun_22:\n",
    "    mean_flows_jun_22[f].drop(mean_flows_jun_22[f].columns[0], axis=1, inplace=True)\n",
    "for f in files_jul_22:\n",
    "    mean_flows_jul_22[f].drop(mean_flows_jul_22[f].columns[0], axis=1, inplace=True)\n",
    "for f in files_aug_22:\n",
    "    mean_flows_aug_22[f].drop(mean_flows_aug_22[f].columns[0], axis=1, inplace=True)"
   ]
  },
  {
   "cell_type": "code",
   "execution_count": 63,
   "id": "a514cef3",
   "metadata": {},
   "outputs": [],
   "source": [
    "merged_a_f_jan_22 = {}\n",
    "for f in files_jan_22: \n",
    "    merged_a_f_jan_22[f] = pd.merge(first_accident_jan_22, mean_flows_jan_22[f], left_on = 'day', right_on = 'day', how = 'right')\n",
    "    cols = ['day', 'First Accident Time', 'Timestamp', 'StationID', 'Fwy', '% Observed', 'Total Flow','Avg Speed', 'hour','Mean Flow']\n",
    "    merged_a_f_jan_22[f].columns = cols\n",
    "    merged_a_f_jan_22[f]['Accident Occurred'] = merged_a_f_jan_22[f]['First Accident Time'] <= merged_a_f_jan_22[f]['Timestamp']\n",
    "    merged_a_f_jan_22[f] = merged_a_f_jan_22[f].drop(['Total Flow', 'Avg Speed'], axis =1)"
   ]
  },
  {
   "cell_type": "code",
   "execution_count": 64,
   "id": "881aa862",
   "metadata": {},
   "outputs": [],
   "source": [
    "merged_a_f_feb_22 = {}\n",
    "for f in files_feb_22: \n",
    "    merged_a_f_feb_22[f] = pd.merge(first_accident_feb_22, mean_flows_feb_22[f], left_on = 'day', right_on = 'day', how = 'right')\n",
    "    cols = ['day', 'First Accident Time', 'Timestamp', 'StationID', 'Fwy', '% Observed', 'Total Flow','Avg Speed', 'hour','Mean Flow']\n",
    "    merged_a_f_feb_22[f].columns = cols\n",
    "    merged_a_f_feb_22[f]['Accident Occurred'] = merged_a_f_feb_22[f]['First Accident Time'] <= merged_a_f_feb_22[f]['Timestamp']\n",
    "    merged_a_f_feb_22[f] = merged_a_f_feb_22[f].drop(['Total Flow', 'Avg Speed'], axis =1)"
   ]
  },
  {
   "cell_type": "code",
   "execution_count": 65,
   "id": "4ac79080",
   "metadata": {},
   "outputs": [],
   "source": [
    "merged_a_f_mar_22 = {}\n",
    "for f in files_mar_22: \n",
    "    merged_a_f_mar_22[f] = pd.merge(first_accident_mar_22, mean_flows_mar_22[f], left_on = 'day', right_on = 'day', how = 'right')\n",
    "    cols = ['day', 'First Accident Time', 'Timestamp', 'StationID', 'Fwy', '% Observed', 'Total Flow','Avg Speed', 'hour','Mean Flow']\n",
    "    merged_a_f_mar_22[f].columns = cols\n",
    "    merged_a_f_mar_22[f]['Accident Occurred'] = merged_a_f_mar_22[f]['First Accident Time'] <= merged_a_f_mar_22[f]['Timestamp']\n",
    "    merged_a_f_mar_22[f] = merged_a_f_mar_22[f].drop(['Total Flow', 'Avg Speed'], axis =1)"
   ]
  },
  {
   "cell_type": "code",
   "execution_count": 66,
   "id": "4db838e2",
   "metadata": {},
   "outputs": [],
   "source": [
    "merged_a_f_apr_22 = {}\n",
    "for f in files_apr_22: \n",
    "    merged_a_f_apr_22[f] = pd.merge(first_accident_apr_22, mean_flows_apr_22[f], left_on = 'day', right_on = 'day', how = 'right')\n",
    "    cols = ['day', 'First Accident Time', 'Timestamp', 'StationID', 'Fwy', '% Observed', 'Total Flow','Avg Speed', 'hour','Mean Flow']\n",
    "    merged_a_f_apr_22[f].columns = cols\n",
    "    merged_a_f_apr_22[f]['Accident Occurred'] = merged_a_f_apr_22[f]['First Accident Time'] <= merged_a_f_apr_22[f]['Timestamp']\n",
    "    merged_a_f_apr_22[f] = merged_a_f_apr_22[f].drop(['Total Flow', 'Avg Speed'], axis =1)"
   ]
  },
  {
   "cell_type": "code",
   "execution_count": 67,
   "id": "1b04b2f4",
   "metadata": {},
   "outputs": [],
   "source": [
    "merged_a_f_may_22 = {}\n",
    "for f in files_may_22: \n",
    "    merged_a_f_may_22[f] = pd.merge(first_accident_may_22, mean_flows_may_22[f], left_on = 'day', right_on = 'day', how = 'right')\n",
    "    cols = ['day', 'First Accident Time', 'Timestamp', 'StationID', 'Fwy', '% Observed', 'Total Flow','Avg Speed', 'hour','Mean Flow']\n",
    "    merged_a_f_may_22[f].columns = cols\n",
    "    merged_a_f_may_22[f]['Accident Occurred'] = merged_a_f_may_22[f]['First Accident Time'] <= merged_a_f_may_22[f]['Timestamp']\n",
    "    merged_a_f_may_22[f] = merged_a_f_may_22[f].drop(['Total Flow', 'Avg Speed'], axis =1)"
   ]
  },
  {
   "cell_type": "code",
   "execution_count": 68,
   "id": "26023363",
   "metadata": {},
   "outputs": [],
   "source": [
    "merged_a_f_jun_22 = {}\n",
    "for f in files_jun_22: \n",
    "    merged_a_f_jun_22[f] = pd.merge(first_accident_jun_22, mean_flows_jun_22[f], left_on = 'day', right_on = 'day', how = 'right')\n",
    "    cols = ['day', 'First Accident Time', 'Timestamp', 'StationID', 'Fwy', '% Observed', 'Total Flow','Avg Speed', 'hour','Mean Flow']\n",
    "    merged_a_f_jun_22[f].columns = cols\n",
    "    merged_a_f_jun_22[f]['Accident Occurred'] = merged_a_f_jun_22[f]['First Accident Time'] <= merged_a_f_jun_22[f]['Timestamp']\n",
    "    merged_a_f_jun_22[f] = merged_a_f_jun_22[f].drop(['Total Flow', 'Avg Speed'], axis =1)"
   ]
  },
  {
   "cell_type": "code",
   "execution_count": 69,
   "id": "19ac39e6",
   "metadata": {},
   "outputs": [],
   "source": [
    "merged_a_f_jul_22 = {}\n",
    "for f in files_jul_22: \n",
    "    merged_a_f_jul_22[f] = pd.merge(first_accident_jul_22, mean_flows_jul_22[f], left_on = 'day', right_on = 'day', how = 'right')\n",
    "    cols = ['day', 'First Accident Time', 'Timestamp', 'StationID', 'Fwy', '% Observed', 'Total Flow','Avg Speed', 'hour','Mean Flow']\n",
    "    merged_a_f_jul_22[f].columns = cols\n",
    "    merged_a_f_jul_22[f]['Accident Occurred'] = merged_a_f_jul_22[f]['First Accident Time'] <= merged_a_f_jul_22[f]['Timestamp']\n",
    "    merged_a_f_jul_22[f] = merged_a_f_jul_22[f].drop(['Total Flow', 'Avg Speed'], axis =1)"
   ]
  },
  {
   "cell_type": "code",
   "execution_count": 70,
   "id": "ee542fb5",
   "metadata": {},
   "outputs": [],
   "source": [
    "merged_a_f_aug_22 = {}\n",
    "for f in files_aug_22: \n",
    "    merged_a_f_aug_22[f] = pd.merge(first_accident_aug_22, mean_flows_aug_22[f], left_on = 'day', right_on = 'day', how = 'right')\n",
    "    cols = ['day', 'First Accident Time', 'Timestamp', 'StationID', 'Fwy', '% Observed', 'Total Flow','Avg Speed', 'hour','Mean Flow']\n",
    "    merged_a_f_aug_22[f].columns = cols\n",
    "    merged_a_f_aug_22[f]['Accident Occurred'] = merged_a_f_aug_22[f]['First Accident Time'] <= merged_a_f_aug_22[f]['Timestamp']\n",
    "    merged_a_f_aug_22[f] = merged_a_f_aug_22[f].drop(['Total Flow', 'Avg Speed'], axis =1)"
   ]
  },
  {
   "cell_type": "code",
   "execution_count": 71,
   "id": "bb565902",
   "metadata": {},
   "outputs": [],
   "source": [
    "merged_a_f = merged_a_f_jan_22 | merged_a_f_feb_22 | merged_a_f_mar_22 | merged_a_f_apr_22 | merged_a_f_may_22 | merged_a_f_jun_22 | merged_a_f_jul_22 | merged_a_f_aug_22 "
   ]
  },
  {
   "cell_type": "code",
   "execution_count": 72,
   "id": "fb595146",
   "metadata": {},
   "outputs": [],
   "source": [
    "files_merged = files_jan_22 + files_feb_22 + files_mar_22 + files_apr_22 + files_may_22 + files_jun_22 + files_jul_22 + files_aug_22"
   ]
  },
  {
   "cell_type": "code",
   "execution_count": 55,
   "id": "c4cb2568",
   "metadata": {},
   "outputs": [
    {
     "data": {
      "text/plain": [
       "46"
      ]
     },
     "execution_count": 55,
     "metadata": {},
     "output_type": "execute_result"
    }
   ],
   "source": [
    "len(files_merged)"
   ]
  },
  {
   "cell_type": "code",
   "execution_count": 162,
   "id": "5c1a076f",
   "metadata": {},
   "outputs": [],
   "source": [
    "sample_1 = random.sample(files_merged, 29)"
   ]
  },
  {
   "cell_type": "code",
   "execution_count": 163,
   "id": "a47ecaf0",
   "metadata": {},
   "outputs": [],
   "source": [
    "sample_2 = list(set(files_merged) - set(sample_1))"
   ]
  },
  {
   "cell_type": "markdown",
   "id": "be1a21d5",
   "metadata": {},
   "source": [
    "## Construct Distribution 1"
   ]
  },
  {
   "cell_type": "code",
   "execution_count": 239,
   "id": "b04d1c1e",
   "metadata": {},
   "outputs": [
    {
     "name": "stdout",
     "output_type": "stream",
     "text": [
      "flows/jul_22/d04_text_station_5min_2022_07_8.txt\n"
     ]
    }
   ],
   "source": [
    "b1 = []\n",
    "for f in files_merged: \n",
    "    get_row = np.where(((merged_a_f[f]['Accident Occurred'] != merged_a_f[f]['Accident Occurred'].shift(1)) & merged_a_f[f]['Accident Occurred']).values)[0]\n",
    "    if_array_empty = get_row.size == 0 \n",
    "    if if_array_empty:\n",
    "        print(f)\n",
    "    if not if_array_empty:\n",
    "        get_flow = merged_a_f[f].iloc[get_row[0]]['Mean Flow'] \n",
    "        b1.append(get_flow)"
   ]
  },
  {
   "cell_type": "code",
   "execution_count": 240,
   "id": "4e5b9613",
   "metadata": {},
   "outputs": [],
   "source": [
    "x,y = ecdf(b1)"
   ]
  },
  {
   "cell_type": "code",
   "execution_count": 241,
   "id": "0f681ee9",
   "metadata": {},
   "outputs": [],
   "source": [
    "y = [i * 100 for i in y]"
   ]
  },
  {
   "cell_type": "code",
   "execution_count": 242,
   "id": "f9437b7e",
   "metadata": {},
   "outputs": [
    {
     "data": {
      "text/plain": [
       "Text(0, 0.5, '$\\\\mathbb{P}(X_{T_i} \\\\leq x)$')"
      ]
     },
     "execution_count": 242,
     "metadata": {},
     "output_type": "execute_result"
    },
    {
     "data": {
      "image/png": "[encoded data removed]",
      "text/plain": [
       "<Figure size 432x288 with 1 Axes>"
      ]
     },
     "metadata": {
      "needs_background": "light"
     },
     "output_type": "display_data"
    }
   ],
   "source": [
    "plt.plot(x,y)\n",
    "plt.plot(interx, intery)\n",
    "plt.title('Distribution $\\hat{b}_1^N(x), N = 58$')\n",
    "plt.xlabel('Flow')\n",
    "plt.ylabel('$\\mathbb{P}(X_{T_i} \\leq x)$')"
   ]
  },
  {
   "cell_type": "markdown",
   "id": "eb8ed603",
   "metadata": {},
   "source": [
    "## Construct Distributions"
   ]
  },
  {
   "cell_type": "code",
   "execution_count": 73,
   "id": "fb334c3f",
   "metadata": {},
   "outputs": [
    {
     "name": "stdout",
     "output_type": "stream",
     "text": [
      "117\n"
     ]
    }
   ],
   "source": [
    "counter = 0\n",
    "for f in files_merged:\n",
    "    counter += 1\n",
    "    #print(len(dist2[f]))\n",
    "print(counter)"
   ]
  },
  {
   "cell_type": "code",
   "execution_count": 74,
   "id": "69cffa91",
   "metadata": {},
   "outputs": [],
   "source": [
    "dist2 = merged_a_f.copy()\n",
    "for f in files_merged:\n",
    "    dist2[f]['Time'] = pd.to_datetime(dist2[f]['Timestamp']).dt.time"
   ]
  },
  {
   "cell_type": "code",
   "execution_count": 75,
   "id": "d529b1bf",
   "metadata": {},
   "outputs": [],
   "source": [
    "for f in files_merged:\n",
    "    firstacc = dist2[f]['Accident Occurred'].cumsum() == 1\n",
    "    dist2[f]['Accident First'] = firstacc"
   ]
  },
  {
   "cell_type": "code",
   "execution_count": 76,
   "id": "59194657",
   "metadata": {},
   "outputs": [],
   "source": [
    "timelist = {}\n",
    "for f in files_merged: \n",
    "    timelist = list(set(dist2[f]['Time']).union(set(timelist)))\n",
    "timelist.sort() "
   ]
  },
  {
   "cell_type": "code",
   "execution_count": 77,
   "id": "2e0a4bb9",
   "metadata": {},
   "outputs": [
    {
     "name": "stdout",
     "output_type": "stream",
     "text": [
      "True\n",
      "1\n",
      "True\n",
      "2\n",
      "True\n",
      "3\n",
      "True\n",
      "4\n",
      "True\n",
      "5\n",
      "True\n",
      "6\n",
      "True\n",
      "7\n",
      "True\n",
      "8\n",
      "True\n",
      "9\n",
      "True\n",
      "10\n",
      "True\n",
      "11\n",
      "True\n",
      "12\n",
      "True\n",
      "13\n",
      "True\n",
      "14\n",
      "True\n",
      "15\n",
      "True\n",
      "16\n",
      "True\n",
      "17\n",
      "True\n",
      "18\n",
      "True\n",
      "19\n",
      "True\n",
      "20\n",
      "True\n",
      "21\n",
      "True\n",
      "22\n",
      "True\n",
      "23\n",
      "True\n",
      "24\n",
      "True\n",
      "25\n",
      "True\n",
      "26\n",
      "True\n",
      "27\n",
      "True\n",
      "28\n",
      "True\n",
      "29\n",
      "True\n",
      "30\n",
      "True\n",
      "31\n",
      "True\n",
      "32\n",
      "True\n",
      "33\n",
      "True\n",
      "34\n",
      "True\n",
      "35\n",
      "True\n",
      "36\n",
      "True\n",
      "37\n",
      "True\n",
      "38\n",
      "True\n",
      "39\n",
      "True\n",
      "40\n",
      "True\n",
      "41\n",
      "True\n",
      "42\n",
      "True\n",
      "43\n",
      "True\n",
      "44\n",
      "True\n",
      "45\n",
      "True\n",
      "46\n",
      "True\n",
      "47\n",
      "True\n",
      "48\n",
      "True\n",
      "49\n",
      "True\n",
      "50\n",
      "True\n",
      "51\n",
      "True\n",
      "52\n",
      "True\n",
      "53\n",
      "True\n",
      "54\n",
      "True\n",
      "55\n",
      "True\n",
      "56\n",
      "True\n",
      "57\n",
      "True\n",
      "58\n",
      "True\n",
      "59\n",
      "True\n",
      "60\n",
      "True\n",
      "61\n",
      "True\n",
      "62\n",
      "True\n",
      "63\n",
      "True\n",
      "64\n",
      "True\n",
      "65\n",
      "True\n",
      "66\n",
      "True\n",
      "67\n",
      "True\n",
      "68\n",
      "True\n",
      "69\n",
      "True\n",
      "70\n",
      "True\n",
      "71\n",
      "True\n",
      "72\n",
      "[False]\n",
      "73\n",
      "True\n",
      "74\n",
      "True\n",
      "75\n",
      "True\n",
      "76\n",
      "True\n",
      "77\n",
      "True\n",
      "78\n",
      "True\n",
      "79\n",
      "True\n",
      "80\n",
      "True\n",
      "81\n",
      "True\n",
      "82\n",
      "True\n",
      "83\n",
      "True\n",
      "84\n",
      "True\n",
      "85\n",
      "True\n",
      "86\n",
      "True\n",
      "87\n",
      "True\n",
      "88\n",
      "True\n",
      "89\n",
      "True\n",
      "90\n",
      "True\n",
      "91\n",
      "True\n",
      "92\n",
      "True\n",
      "93\n",
      "True\n",
      "94\n",
      "True\n",
      "95\n",
      "True\n",
      "96\n",
      "True\n",
      "97\n",
      "True\n",
      "98\n",
      "True\n",
      "99\n",
      "True\n",
      "100\n",
      "True\n",
      "101\n",
      "True\n",
      "102\n",
      "True\n",
      "103\n",
      "True\n",
      "104\n",
      "True\n",
      "105\n",
      "True\n",
      "106\n",
      "True\n",
      "107\n",
      "True\n",
      "108\n",
      "True\n",
      "109\n",
      "True\n",
      "110\n",
      "True\n",
      "111\n",
      "True\n",
      "112\n",
      "True\n",
      "113\n",
      "True\n",
      "114\n",
      "True\n",
      "115\n",
      "True\n",
      "116\n",
      "True\n",
      "117\n"
     ]
    }
   ],
   "source": [
    "counter = 0\n",
    "for f in files_merged:\n",
    "    true_false = dist2[f]['Accident First'].unique()\n",
    "    if True in true_false:\n",
    "        print(True)\n",
    "        counter += 1\n",
    "        print(counter)\n",
    "    if True not in true_false:\n",
    "        print(true_false)\n",
    "        counter += 1\n",
    "        print(counter)"
   ]
  },
  {
   "cell_type": "markdown",
   "id": "6276ecc9",
   "metadata": {},
   "source": [
    "\\sum_{t=1}^{\\infty} P(X_t < x) * P(A_t = 1 | A_{1:t} = 0)"
   ]
  },
  {
   "cell_type": "code",
   "execution_count": 78,
   "id": "01aaab8b",
   "metadata": {},
   "outputs": [],
   "source": [
    "accprob = {}\n",
    "count = {}\n",
    "traj_list = {}\n",
    "for t in timelist: \n",
    "    accp = 0\n",
    "    counter = 0\n",
    "    traj = []\n",
    "    for f in files_merged:\n",
    "        if len(dist2[f][dist2[f]['Time'] == t]) != 0:\n",
    "            counter += 1\n",
    "            accp = accp + int(dist2[f][dist2[f]['Time'] == t]['Accident First'])\n",
    "            if int(dist2[f][dist2[f]['Time'] == t]['Accident First']) != 0:\n",
    "                traj = traj + [f]\n",
    "    traj_list[t] = traj        \n",
    "    count[t] = counter\n",
    "    accprob[t] = accp"
   ]
  },
  {
   "cell_type": "code",
   "execution_count": 79,
   "id": "3428bf04",
   "metadata": {},
   "outputs": [],
   "source": [
    "filtered_timelist = []\n",
    "for t in timelist: \n",
    "    if len(traj_list[t]) != 0 :\n",
    "        filtered_timelist = filtered_timelist + [t]"
   ]
  },
  {
   "cell_type": "code",
   "execution_count": 80,
   "id": "1b9649ad",
   "metadata": {},
   "outputs": [
    {
     "ename": "SyntaxError",
     "evalue": "invalid syntax (3418449307.py, line 1)",
     "output_type": "error",
     "traceback": [
      "\u001b[0;36m  Input \u001b[0;32mIn [80]\u001b[0;36m\u001b[0m\n\u001b[0;31m    dictionary: times of first accident realization t -> {flows for trajectories for which there has been no accident till time }\u001b[0m\n\u001b[0m                      ^\u001b[0m\n\u001b[0;31mSyntaxError\u001b[0m\u001b[0;31m:\u001b[0m invalid syntax\n"
     ]
    }
   ],
   "source": [
    "dictionary: times of first accident realization t -> {flows for trajectories for which there has been no accident till time }"
   ]
  },
  {
   "cell_type": "code",
   "execution_count": 81,
   "id": "992d7565",
   "metadata": {},
   "outputs": [
    {
     "ename": "SyntaxError",
     "evalue": "invalid syntax (1927938929.py, line 1)",
     "output_type": "error",
     "traceback": [
      "\u001b[0;36m  Input \u001b[0;32mIn [81]\u001b[0;36m\u001b[0m\n\u001b[0;31m    times of first accident realization t -> {indices at which first accident occurred }\u001b[0m\n\u001b[0m          ^\u001b[0m\n\u001b[0;31mSyntaxError\u001b[0m\u001b[0;31m:\u001b[0m invalid syntax\n"
     ]
    }
   ],
   "source": [
    "times of first accident realization t -> {indices at which first accident occurred }"
   ]
  },
  {
   "cell_type": "code",
   "execution_count": 82,
   "id": "2b81c94e",
   "metadata": {},
   "outputs": [
    {
     "name": "stdout",
     "output_type": "stream",
     "text": [
      "flows/feb_22/d04_text_station_5min_2022_02_21.txt\n",
      "flows/jun_22/d04_text_station_5min_2022_06_5.txt\n",
      "flows/jun_22/d04_text_station_5min_2022_06_21.txt\n",
      "flows/mar_22/d04_text_station_5min_2022_03_5.txt\n",
      "flows/mar_22/d04_text_station_5min_2022_03_13.txt\n",
      "flows/jan_22/d04_text_station_5min_2022_01_14.txt\n",
      "flows/mar_22/d04_text_station_5min_2022_03_20.txt\n",
      "flows/feb_22/d04_text_station_5min_2022_02_24.txt\n",
      "flows/apr_22/d04_text_station_5min_2022_04_27.txt\n",
      "flows/jul_22/d04_text_station_5min_2022_07_17.txt\n",
      "flows/aug_22/d04_text_station_5min_2022_08_4.txt\n",
      "flows/jul_22/d04_text_station_5min_2022_07_6.txt\n",
      "flows/jul_22/d04_text_station_5min_2022_07_11.txt\n",
      "flows/may_22/d04_text_station_5min_2022_05_7.txt\n",
      "flows/jun_22/d04_text_station_5min_2022_06_28.txt\n",
      "flows/aug_22/d04_text_station_5min_2022_08_11.txt\n",
      "flows/apr_22/d04_text_station_5min_2022_04_28.txt\n",
      "flows/feb_22/d04_text_station_5min_2022_02_28.txt\n",
      "flows/aug_22/d04_text_station_5min_2022_08_9.txt\n",
      "flows/aug_22/d04_text_station_5min_2022_08_5.txt\n",
      "flows/apr_22/d04_text_station_5min_2022_04_20.txt\n",
      "flows/feb_22/d04_text_station_5min_2022_02_14.txt\n",
      "flows/apr_22/d04_text_station_5min_2022_04_11.txt\n",
      "flows/aug_22/d04_text_station_5min_2022_08_8.txt\n",
      "flows/aug_22/d04_text_station_5min_2022_08_2.txt\n",
      "flows/mar_22/d04_text_station_5min_2022_03_19.txt\n",
      "flows/jan_22/d04_text_station_5min_2022_01_5.txt\n",
      "flows/may_22/d04_text_station_5min_2022_05_9.txt\n",
      "flows/may_22/d04_text_station_5min_2022_05_6.txt\n",
      "flows/apr_22/d04_text_station_5min_2022_04_29.txt\n",
      "flows/jun_22/d04_text_station_5min_2022_06_14.txt\n",
      "flows/apr_22/d04_text_station_5min_2022_04_6.txt\n",
      "flows/may_22/d04_text_station_5min_2022_05_27.txt\n",
      "flows/feb_22/d04_text_station_5min_2022_02_13.txt\n",
      "flows/jun_22/d04_text_station_5min_2022_06_7.txt\n",
      "flows/may_22/d04_text_station_5min_2022_05_14.txt\n",
      "flows/aug_22/d04_text_station_5min_2022_08_28.txt\n",
      "flows/jun_22/d04_text_station_5min_2022_06_19.txt\n",
      "flows/jan_22/d04_text_station_5min_2022_01_21.txt\n",
      "flows/aug_22/d04_text_station_5min_2022_08_13.txt\n",
      "flows/mar_22/d04_text_station_5min_2022_03_11.txt\n",
      "flows/may_22/d04_text_station_5min_2022_05_4.txt\n",
      "flows/aug_22/d04_text_station_5min_2022_08_26.txt\n",
      "flows/jan_22/d04_text_station_5min_2022_01_25.txt\n",
      "flows/feb_22/d04_text_station_5min_2022_02_2.txt\n",
      "flows/jan_22/d04_text_station_5min_2022_01_29.txt\n",
      "flows/jun_22/d04_text_station_5min_2022_06_17.txt\n",
      "flows/jun_22/d04_text_station_5min_2022_06_3.txt\n",
      "flows/apr_22/d04_text_station_5min_2022_04_25.txt\n",
      "flows/mar_22/d04_text_station_5min_2022_03_31.txt\n",
      "flows/apr_22/d04_text_station_5min_2022_04_14.txt\n",
      "flows/jun_22/d04_text_station_5min_2022_06_27.txt\n",
      "flows/apr_22/d04_text_station_5min_2022_04_24.txt\n",
      "flows/may_22/d04_text_station_5min_2022_05_26.txt\n",
      "flows/jan_22/d04_text_station_5min_2022_01_10.txt\n",
      "flows/jan_22/d04_text_station_5min_2022_01_31.txt\n",
      "flows/jan_22/d04_text_station_5min_2022_01_15.txt\n",
      "flows/jul_22/d04_text_station_5min_2022_07_25.txt\n",
      "flows/may_22/d04_text_station_5min_2022_05_11.txt\n",
      "flows/jan_22/d04_text_station_5min_2022_01_19.txt\n",
      "flows/may_22/d04_text_station_5min_2022_05_28.txt\n",
      "flows/jun_22/d04_text_station_5min_2022_06_12.txt\n",
      "flows/jan_22/d04_text_station_5min_2022_01_22.txt\n",
      "flows/feb_22/d04_text_station_5min_2022_02_16.txt\n",
      "flows/jan_22/d04_text_station_5min_2022_01_9.txt\n",
      "flows/jul_22/d04_text_station_5min_2022_07_3.txt\n",
      "flows/jan_22/d04_text_station_5min_2022_01_26.txt\n",
      "flows/jan_22/d04_text_station_5min_2022_01_3.txt\n",
      "flows/apr_22/d04_text_station_5min_2022_04_16.txt\n",
      "flows/may_22/d04_text_station_5min_2022_05_2.txt\n",
      "flows/jan_22/d04_text_station_5min_2022_01_12.txt\n",
      "flows/jul_22/d04_text_station_5min_2022_07_1.txt\n",
      "flows/aug_22/d04_text_station_5min_2022_08_12.txt\n",
      "flows/feb_22/d04_text_station_5min_2022_02_9.txt\n",
      "flows/may_22/d04_text_station_5min_2022_05_12.txt\n",
      "flows/jul_22/d04_text_station_5min_2022_07_21.txt\n",
      "flows/mar_22/d04_text_station_5min_2022_03_22.txt\n",
      "flows/jun_22/d04_text_station_5min_2022_06_16.txt\n",
      "flows/mar_22/d04_text_station_5min_2022_03_21.txt\n",
      "flows/may_22/d04_text_station_5min_2022_05_10.txt\n",
      "flows/feb_22/d04_text_station_5min_2022_02_1.txt\n",
      "flows/apr_22/d04_text_station_5min_2022_04_21.txt\n",
      "flows/mar_22/d04_text_station_5min_2022_03_15.txt\n",
      "flows/apr_22/d04_text_station_5min_2022_04_3.txt\n",
      "flows/jun_22/d04_text_station_5min_2022_06_24.txt\n",
      "flows/aug_22/d04_text_station_5min_2022_08_17.txt\n",
      "flows/jun_22/d04_text_station_5min_2022_06_13.txt\n",
      "flows/aug_22/d04_text_station_5min_2022_08_7.txt\n",
      "flows/aug_22/d04_text_station_5min_2022_08_30.txt\n",
      "flows/jan_22/d04_text_station_5min_2022_01_11.txt\n",
      "flows/jul_22/d04_text_station_5min_2022_07_30.txt\n",
      "flows/jul_22/d04_text_station_5min_2022_07_2.txt\n",
      "flows/jul_22/d04_text_station_5min_2022_07_20.txt\n",
      "flows/aug_22/d04_text_station_5min_2022_08_10.txt\n",
      "flows/jan_22/d04_text_station_5min_2022_01_2.txt\n",
      "flows/jan_22/d04_text_station_5min_2022_01_7.txt\n",
      "flows/mar_22/d04_text_station_5min_2022_03_24.txt\n",
      "flows/apr_22/d04_text_station_5min_2022_04_1.txt\n",
      "flows/jun_22/d04_text_station_5min_2022_06_9.txt\n",
      "flows/may_22/d04_text_station_5min_2022_05_30.txt\n",
      "flows/feb_22/d04_text_station_5min_2022_02_10.txt\n",
      "flows/mar_22/d04_text_station_5min_2022_03_29.txt\n",
      "flows/apr_22/d04_text_station_5min_2022_04_22.txt\n",
      "flows/may_22/d04_text_station_5min_2022_05_29.txt\n",
      "flows/jun_22/d04_text_station_5min_2022_06_18.txt\n",
      "flows/mar_22/d04_text_station_5min_2022_03_9.txt\n",
      "flows/jun_22/d04_text_station_5min_2022_06_25.txt\n",
      "flows/aug_22/d04_text_station_5min_2022_08_24.txt\n",
      "flows/jan_22/d04_text_station_5min_2022_01_23.txt\n",
      "flows/jun_22/d04_text_station_5min_2022_06_6.txt\n",
      "flows/jan_22/d04_text_station_5min_2022_01_8.txt\n",
      "flows/may_22/d04_text_station_5min_2022_05_25.txt\n",
      "flows/jul_22/d04_text_station_5min_2022_07_9.txt\n",
      "flows/jun_22/d04_text_station_5min_2022_06_23.txt\n",
      "flows/mar_22/d04_text_station_5min_2022_03_30.txt\n",
      "flows/mar_22/d04_text_station_5min_2022_03_7.txt\n"
     ]
    }
   ],
   "source": [
    "distrs = {}\n",
    "for t in filtered_timelist:\n",
    "    listt = []\n",
    "    for f in files_merged:\n",
    "        cond = dist2[f][dist2[f]['Time'] == t]['Accident First'] == True\n",
    "        #print(cond)\n",
    "        if len(cond) != 0:\n",
    "            if list(cond)[0]:\n",
    "                idx = dist2[f].iloc[dist2[f].index[dist2[f]['Accident First']==True].tolist()[0] - 1]\n",
    "                listt = listt + [idx['Mean Flow']]\n",
    "                print(f)\n",
    "                distrs[t] = listt"
   ]
  },
  {
   "cell_type": "code",
   "execution_count": 83,
   "id": "b6130bbb",
   "metadata": {},
   "outputs": [],
   "source": [
    "distrs2 = {}\n",
    "for t in filtered_timelist:\n",
    "    listt = []\n",
    "    for f in files_merged:\n",
    "        cond = dist2[f][dist2[f]['Time'] == t]['Accident Occurred'] == False\n",
    "        #print(cond)\n",
    "        if len(cond) != 0:\n",
    "            if list(cond)[0]:\n",
    "                #idx = dist2[f].iloc[dist2[f].index[dist2[f]['Accident First']==False].tolist()[0] - 1]\n",
    "                idx = dist2[f].iloc[dist2[f].index[dist2[f]['Time']==t].tolist()[0] - 1]\n",
    "                #listt = listt + [dist2[f][dist2[f]['Time'] == t]['Mean Flow'].tolist()[0]]\n",
    "                listt = listt + [idx['Mean Flow']]\n",
    "                distrs2[t] = listt"
   ]
  },
  {
   "cell_type": "code",
   "execution_count": 84,
   "id": "60697b2f",
   "metadata": {},
   "outputs": [],
   "source": [
    "t = filtered_timelist[-1]\n",
    "for f in files_merged: \n",
    "    cond = dist2[f][dist2[f]['Time'] == t]['Accident First'] == True\n",
    "    if len(cond) != 0:\n",
    "        if list(cond)[0]:\n",
    "            idx = dist2[f].iloc[dist2[f].index[dist2[f]['Time']==t].tolist()[0] - 1]\n",
    "            listt = listt + [idx['Mean Flow']]\n",
    "            distrs2[t] = listt"
   ]
  },
  {
   "cell_type": "code",
   "execution_count": 85,
   "id": "f1168efe",
   "metadata": {},
   "outputs": [],
   "source": [
    "firstdict = {}\n",
    "for t in timelist:\n",
    "    list_traj = []\n",
    "    for f in files_merged:\n",
    "        cond = dist2[f][dist2[f]['Time'] == t]['Accident First'] == True\n",
    "        if len(cond) != 0:\n",
    "            if list(cond)[0]:\n",
    "                list_traj = list_traj + [f]\n",
    "                firstdict[t] = list_traj"
   ]
  },
  {
   "cell_type": "code",
   "execution_count": 86,
   "id": "1546ac25",
   "metadata": {},
   "outputs": [
    {
     "data": {
      "text/plain": [
       "True"
      ]
     },
     "execution_count": 86,
     "metadata": {},
     "output_type": "execute_result"
    }
   ],
   "source": [
    "distrs.keys() == distrs2.keys()"
   ]
  },
  {
   "cell_type": "code",
   "execution_count": 87,
   "id": "1d341daa",
   "metadata": {},
   "outputs": [],
   "source": [
    "probsum = 0\n",
    "for t in timelist: \n",
    "    probsum += accprob[t]/117"
   ]
  },
  {
   "cell_type": "code",
   "execution_count": 88,
   "id": "8664adb0",
   "metadata": {},
   "outputs": [
    {
     "data": {
      "text/plain": [
       "0.9914529914529916"
      ]
     },
     "execution_count": 88,
     "metadata": {},
     "output_type": "execute_result"
    }
   ],
   "source": [
    "probsum"
   ]
  },
  {
   "cell_type": "code",
   "execution_count": 89,
   "id": "27820647",
   "metadata": {},
   "outputs": [],
   "source": [
    "sum_timelist = 0\n",
    "for t in timelist:\n",
    "    sum_timelist += accprob[t]"
   ]
  },
  {
   "cell_type": "code",
   "execution_count": 90,
   "id": "6812ef2d",
   "metadata": {},
   "outputs": [
    {
     "data": {
      "text/plain": [
       "116"
      ]
     },
     "execution_count": 90,
     "metadata": {},
     "output_type": "execute_result"
    }
   ],
   "source": [
    "sum_timelist"
   ]
  },
  {
   "cell_type": "code",
   "execution_count": 92,
   "id": "90d12ad4",
   "metadata": {},
   "outputs": [],
   "source": [
    "su = 0\n",
    "for t in timelist:\n",
    "    su += accprob[t]"
   ]
  },
  {
   "cell_type": "code",
   "execution_count": 587,
   "id": "96b29ad5",
   "metadata": {},
   "outputs": [],
   "source": [
    "finalx = np.zeros(len(files_merged))\n",
    "finaly = np.zeros(len(files_merged))\n",
    "for t in timelist:\n",
    "    x,y = ecdf(finaldist[t])\n",
    "    newx = x*accprob[t]\n",
    "    newy = y*accprob[t]\n",
    "    finalx = np.add(newx, finalx)\n",
    "    finaly = np.add(newy, finaly)"
   ]
  },
  {
   "cell_type": "code",
   "execution_count": 96,
   "id": "ee8dfe75",
   "metadata": {},
   "outputs": [],
   "source": [
    "x_values_jumps_Xgen, x_cdf_dict_Xgen = generate_cdf_Xgen(distrs2, firstdict, 116, len(timelist),\n",
    "                      x_lower_bound = 50.0, x_upper_bound = 700, x_values_length = 1000, \\\n",
    "                      x_value_set_choice = 'Fixed')"
   ]
  },
  {
   "cell_type": "code",
   "execution_count": 97,
   "id": "e0c04ee9",
   "metadata": {},
   "outputs": [],
   "source": [
    "x_values_jumps_XT, x_cdf_dict_XT = generate_cdf_XT(distrs, firstdict, 116, len(timelist),\n",
    "                      x_lower_bound = 50.0, x_upper_bound = 700, x_values_length = 1000, \\\n",
    "                      x_value_set_choice = 'Fixed')"
   ]
  },
  {
   "cell_type": "code",
   "execution_count": 98,
   "id": "778f43e1",
   "metadata": {},
   "outputs": [],
   "source": [
    "finalx = list(x_cdf_dict_Xgen.keys())\n",
    "finaly = list(x_cdf_dict_Xgen.values())"
   ]
  },
  {
   "cell_type": "code",
   "execution_count": 99,
   "id": "7b0673f1",
   "metadata": {},
   "outputs": [],
   "source": [
    "interx = list(x_cdf_dict_XT.keys())\n",
    "intery = list(x_cdf_dict_XT.values())"
   ]
  },
  {
   "cell_type": "code",
   "execution_count": 119,
   "id": "e39285e5",
   "metadata": {},
   "outputs": [],
   "source": [
    "finaly = [i * 100 for i in finaly]"
   ]
  },
  {
   "cell_type": "code",
   "execution_count": 120,
   "id": "779b3e21",
   "metadata": {},
   "outputs": [],
   "source": [
    "intery = [i * 100 for i in intery]"
   ]
  },
  {
   "cell_type": "code",
   "execution_count": 104,
   "id": "143856c8",
   "metadata": {},
   "outputs": [
    {
     "data": {
      "image/png": "[encoded data removed]",
      "text/plain": [
       "<Figure size 432x288 with 1 Axes>"
      ]
     },
     "metadata": {
      "needs_background": "light"
     },
     "output_type": "display_data"
    }
   ],
   "source": [
    "plt.title('Empirical Distributions $\\hat{b}_1^N(x), \\hat{b}_2^N(x)$, I80-E, N = 116')\n",
    "plt.plot(interx,intery)\n",
    "plt.plot(finalx, finaly)\n",
    "plt.xlabel('Flows, $x$')\n",
    "plt.ylabel('CDF Value')\n",
    "plt.legend(['$\\hat{b}_1^N(x)$', '$\\hat{b}_2^N(x)$'])\n",
    "plt.savefig('figs/i80e.png')"
   ]
  },
  {
   "cell_type": "code",
   "execution_count": 105,
   "id": "6d4a96ac",
   "metadata": {},
   "outputs": [],
   "source": [
    "intery = np.array(intery)\n",
    "finaly = np.array(finaly)\n",
    "test_stat = np.max(np.subtract(intery, finaly))"
   ]
  },
  {
   "cell_type": "code",
   "execution_count": 106,
   "id": "bb6bded8",
   "metadata": {},
   "outputs": [
    {
     "data": {
      "text/plain": [
       "0.0809299369388734"
      ]
     },
     "execution_count": 106,
     "metadata": {},
     "output_type": "execute_result"
    }
   ],
   "source": [
    "test_stat"
   ]
  },
  {
   "cell_type": "markdown",
   "id": "aafd7ea1",
   "metadata": {},
   "source": [
    "## Helper Functions"
   ]
  },
  {
   "cell_type": "code",
   "execution_count": 25,
   "id": "7ac162df",
   "metadata": {},
   "outputs": [],
   "source": [
    "def processHourlyData(hour,numOfDay, rush_start, rush_end):\n",
    "    hour = hour.rename(columns={'Station':'StationID'})\n",
    "    hour = convertToDatetime(hour)\n",
    "    listOfDay = list(range(1,numOfDay+1))\n",
    "    hour = hour[['Timestamp','StationID','Route','% Observed','Total Flow','Avg Speed','hour','day']]\n",
    "    hour = hour.rename(columns={'Route':'Fwy'})\n",
    "    #hour = hour[(hour['% Observed'] >=80)] #& (hour['hour']==3)]\n",
    "    hour = hour[(hour['hour']>= rush_start) & (hour['hour']<= rush_end)]\n",
    "    hour = hour.dropna(subset=['Avg Speed'])\n",
    "    filteredDays = hour['day'].unique().tolist()\n",
    "    diff = list(set(listOfDay) - set(filteredDays))\n",
    "    if len(diff) > 0:\n",
    "        for i in diff:\n",
    "            hour = hour.drop(hour[hour.day == i].index)\n",
    "    return hour"
   ]
  },
  {
   "cell_type": "code",
   "execution_count": 26,
   "id": "4db9607d",
   "metadata": {},
   "outputs": [],
   "source": [
    "def processHourlyIncidentData(hour,numOfDay, rush_start, rush_end):\n",
    "    hour = hour.rename(columns={'Station':'StationID'})\n",
    "    hour = convertToDatetime(hour)\n",
    "    listOfDay = list(range(1,numOfDay+1))\n",
    "    hour = hour[['IncidentID','Timestamp','Freeway Number','Freeway Direction','hour','day']]\n",
    "    hour = hour.rename(columns={'Route':'Fwy'})\n",
    "    #hour = hour[(hour['% Observed'] >=80)] #& (hour['hour']==3)]\n",
    "    hour = hour[(hour['hour']>= rush_start) & (hour['hour']<= rush_end)]\n",
    "    filteredDays = hour['day'].unique().tolist()\n",
    "    diff = list(set(listOfDay) - set(filteredDays))\n",
    "    if len(diff) > 0:\n",
    "        for i in diff:\n",
    "            hour = hour.drop(hour[hour.day == i].index)\n",
    "    return hour"
   ]
  },
  {
   "cell_type": "code",
   "execution_count": 27,
   "id": "18438ba9",
   "metadata": {},
   "outputs": [],
   "source": [
    "def convertToDatetime(df_hour):\n",
    "    df_hour['Timestamp'] = pd.to_datetime(df_hour['Timestamp'], format='%m/%d/%Y %H:%M:%S')\n",
    "    df_hour['hour']=df_hour['Timestamp'].dt.hour\n",
    "    df_hour['day'] = df_hour['Timestamp'].dt.day\n",
    "    return df_hour"
   ]
  },
  {
   "cell_type": "code",
   "execution_count": 28,
   "id": "a1471ff9",
   "metadata": {},
   "outputs": [],
   "source": [
    "def ecdf(data):\n",
    "    x = np.sort(data)\n",
    "    n = x.size\n",
    "    y = np.arange(1, n+1) / n\n",
    "    return(x,y)"
   ]
  },
  {
   "cell_type": "code",
   "execution_count": 29,
   "id": "ec39d65b",
   "metadata": {},
   "outputs": [],
   "source": [
    "def generate_cdf_Xgen(x_processed_dict_Xgen, first_times_dict, N, T, \\\n",
    "                      x_lower_bound = 50.0, x_upper_bound = 150.0, x_values_length = 1000, \\\n",
    "                      x_value_set_choice = 'Fixed'):\n",
    "    assert list(x_processed_dict_Xgen.keys()) == list(first_times_dict.keys())\n",
    "    \n",
    "    x_values_jumps_Xgen = sorted(list(itertools.chain(*list(x_processed_dict_Xgen.values()))))\n",
    "#     print(\"len(x_values_jumps_Xgen):\", len(x_values_jumps_Xgen))\n",
    "#     print(\"max(x_values_jumps_Xgen):\", max(x_values_jumps_Xgen))\n",
    "#     return\n",
    "    \n",
    "#     cdf_value_at_jumps_Xgen = []\n",
    "    x_cdf_dict_Xgen = {}\n",
    "    \n",
    "    if x_value_set_choice == 'Fixed':\n",
    "        x_value_array = np.linspace(x_lower_bound, x_upper_bound, x_values_length)\n",
    "    elif x_value_set_choice == 'Jump values':\n",
    "        x_value_array = x_values_jumps_Xgen\n",
    "    else:\n",
    "        assert 1 == 0, \"Choose appropriate x_value_set_choice.\"\n",
    "    \n",
    "    for count_1, x_value in enumerate(x_value_array):\n",
    "#         if count_1 % 100 == 0:\n",
    "#             print(count_1)\n",
    "        cdf_value_temp = 0\n",
    "        for count_2, time in enumerate(first_times_dict.keys()):\n",
    "#             print(count_2)\n",
    "            cdf_value_temp += len([x_val for x_val in x_processed_dict_Xgen[time] if x_val <= x_value])/len(x_processed_dict_Xgen[time]) \\\n",
    "                                * len(first_times_dict[time])/N\n",
    "#         cdf_value_at_jumps_Xgen.append(cdf_value_temp)\n",
    "        x_cdf_dict_Xgen[x_value] = cdf_value_temp\n",
    "    \n",
    "    return x_values_jumps_Xgen, x_cdf_dict_Xgen"
   ]
  },
  {
   "cell_type": "code",
   "execution_count": 30,
   "id": "f31ac6c4",
   "metadata": {},
   "outputs": [],
   "source": [
    "def generate_cdf_XT(x_processed_dict_XT, first_times_dict, N, T, \\\n",
    "                      x_lower_bound = 50.0, x_upper_bound = 150.0, x_values_length = 1000, \\\n",
    "                      x_value_set_choice = 'Fixed'):\n",
    "    assert list(x_processed_dict_XT.keys()) == list(first_times_dict.keys())\n",
    "    \n",
    "    x_values_jumps_XT = sorted(list(itertools.chain(*list(x_processed_dict_XT.values()))))\n",
    "    x_cdf_dict_XT = {}\n",
    "    \n",
    "    # Sort x_values_jumps_XT\n",
    "    assert len(x_values_jumps_XT) <= N\n",
    "    \n",
    "#     print(\"len(x_values_jumps_XT):\", len(x_values_jumps_XT))\n",
    "#     print(\"max(x_values_jumps_XT):\", max(x_values_jumps_XT))\n",
    "        \n",
    "    cdf_value_at_jumps_XT = []\n",
    "    \n",
    "    if x_value_set_choice == 'Fixed':\n",
    "        x_value_array = np.linspace(x_lower_bound, x_upper_bound, x_values_length)\n",
    "    elif x_value_set_choice == 'Jump values':\n",
    "        x_value_array = x_values_jumps_XT\n",
    "    else:\n",
    "        assert 1 == 0, \"Choose appropriate x_value_set_choice.\"\n",
    "    \n",
    "    for count_1, x_value in enumerate(x_value_array):\n",
    "        cdf_value_temp = len([x_val for x_val in x_values_jumps_XT if x_val <= x_value]) \\\n",
    "                                     / len(x_values_jumps_XT)\n",
    "        cdf_value_at_jumps_XT.append(cdf_value_temp)\n",
    "        x_cdf_dict_XT[x_value] = cdf_value_temp\n",
    "\n",
    "    cdf_evenly_spaced = np.linspace(1/len(cdf_value_at_jumps_XT), 1, len(cdf_value_at_jumps_XT))\n",
    "        \n",
    "#     print(\"cdf_value_at_jumps_XT:\", cdf_value_at_jumps_XT[0:10])\n",
    "#     print(\"cdf_evenly_spaced:\", cdf_evenly_spaced[0:10])\n",
    "#     print(\"1/len(cdf_value_at_jumps_XT):\", 1/len(cdf_value_at_jumps_XT))\n",
    "#     print(\"cdf_value_at_jumps_XT - cdf_evenly_spaced:\", cdf_value_at_jumps_XT - cdf_evenly_spaced)\n",
    "\n",
    "\n",
    "    # Assertion: Sanity check on cdf_value_at_jumps_XT\n",
    "#     assert np.linalg.norm(np.array(cdf_value_at_jumps_XT) - np.array(cdf_evenly_spaced)) <= 0.0001\n",
    "    \n",
    "    return x_values_jumps_XT, x_cdf_dict_XT\n"
   ]
  }
 ],
 "metadata": {
  "kernelspec": {
   "display_name": "Python 3 (ipykernel)",
   "language": "python",
   "name": "python3"
  },
  "language_info": {
   "codemirror_mode": {
    "name": "ipython",
    "version": 3
   },
   "file_extension": ".py",
   "mimetype": "text/x-python",
   "name": "python",
   "nbconvert_exporter": "python",
   "pygments_lexer": "ipython3",
   "version": "3.9.12"
  }
 },
 "nbformat": 4,
 "nbformat_minor": 5
}
