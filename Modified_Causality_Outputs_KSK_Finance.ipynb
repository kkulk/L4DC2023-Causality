{
 "cells": [
  {
   "cell_type": "code",
   "execution_count": 1,
   "id": "3b78e4b7",
   "metadata": {},
   "outputs": [],
   "source": [
    "import numpy as np\n",
    "import matplotlib.pyplot as plt\n",
    "import causallearn\n",
    "from causallearn.utils.cit import *\n",
    "from causallearn.graph.GraphClass import CausalGraph\n",
    "import pandas as pd\n",
    "from itertools import combinations, permutations\n",
    "from numpy import ndarray\n",
    "from typing import Dict, List, Tuple\n",
    "from causallearn.utils.cit import fisherz\n",
    "import random\n",
    "import time\n",
    "\n",
    "import scipy as sp"
   ]
  },
  {
   "cell_type": "markdown",
   "id": "dbe23cf8",
   "metadata": {},
   "source": [
    "# Initialize Dataset (Sample num_traj trajectories of length T)"
   ]
  },
  {
   "cell_type": "code",
   "execution_count": 11,
   "id": "c05cf5b6",
   "metadata": {},
   "outputs": [],
   "source": [
    "traj_dataset = pd.read_csv('raw_dat_finance.csv')\n",
    "traj_dataset.drop('date',axis=1, inplace=True)\n"
   ]
  },
  {
   "cell_type": "code",
   "execution_count": 16,
   "id": "44d33d8d",
   "metadata": {},
   "outputs": [
    {
     "data": {
      "text/plain": [
       "(3832, 4)"
      ]
     },
     "execution_count": 16,
     "metadata": {},
     "output_type": "execute_result"
    }
   ],
   "source": [
    "traj_dataset = np.array(traj_dataset)\n",
    "traj_dataset.shape"
   ]
  },
  {
   "cell_type": "code",
   "execution_count": 36,
   "id": "2c292ec3",
   "metadata": {},
   "outputs": [],
   "source": [
    "beta = 0.6\n",
    "num_states = 2\n",
    "num_inputs = 20\n",
    "num_obs = 1\n",
    "A = np.random.normal(0,1, (num_states,num_states))\n",
    "B = (np.ones(num_inputs * num_states)*beta).reshape(num_states, num_inputs) \n",
    "T = 2\n",
    "C = np.random.normal(0, 1, (num_obs, num_states))\n",
    "num_traj = 20000\n",
    "\n",
    "for traj_id in range(num_traj):\n",
    "    x_vec = np.zeros((num_states, T))\n",
    "    y_vec = np.zeros((num_obs, T))\n",
    "    x_vec[:, 0] = np.random.randn(num_states)\n",
    "    y_vec[:, 0] = C@ x_vec[:,0]\n",
    "    u_vec = np.random.randn(num_inputs, T)\n",
    "    #w_vec = np.random.randn(2,T) * np.sqrt(1 - alpha**2 - beta**2)\n",
    "    \n",
    "    for t in range(T-1):\n",
    "    #     print(t)\n",
    "        x_vec[:, t+1] = A @ x_vec[:, t] + B @ u_vec[:,t] #+ w_vec[:, t]\n",
    "        y_vec[:,t+1] = C@ x_vec[:,t+1]\n",
    "    \n",
    "    x_u_vec = np.block([[x_vec], [u_vec]])\n",
    "    y_u_vec = np.block([[y_vec], [u_vec]])\n",
    "    if traj_id == 0:\n",
    "        traj_dataset = np.zeros((num_traj, x_u_vec.shape[0], x_u_vec.shape[1]))\n",
    "        traj_dataset[0, :, :] = x_u_vec\n",
    "        obs_dataset = np.zeros((num_traj, y_u_vec.shape[0], y_u_vec.shape[1]))\n",
    "        obs_dataset[0, :, :] = y_u_vec\n",
    "    else:\n",
    "        traj_dataset[traj_id, :, :] = x_u_vec\n",
    "        obs_dataset[traj_id, :, :] = y_u_vec\n"
   ]
  },
  {
   "cell_type": "code",
   "execution_count": 18,
   "id": "afc4b4b4",
   "metadata": {},
   "outputs": [
    {
     "ename": "IndexError",
     "evalue": "too many indices for array: array is 2-dimensional, but 3 were indexed",
     "output_type": "error",
     "traceback": [
      "\u001b[0;31m---------------------------------------------------------------------------\u001b[0m",
      "\u001b[0;31mIndexError\u001b[0m                                Traceback (most recent call last)",
      "Input \u001b[0;32mIn [18]\u001b[0m, in \u001b[0;36m<cell line: 1>\u001b[0;34m()\u001b[0m\n\u001b[0;32m----> 1\u001b[0m \u001b[43mmodified_pc_KSK\u001b[49m\u001b[43m(\u001b[49m\u001b[43mtraj_dataset\u001b[49m\u001b[43m,\u001b[49m\u001b[43m \u001b[49m\u001b[38;5;241;43m2\u001b[39;49m\u001b[43m,\u001b[49m\u001b[43m \u001b[49m\u001b[38;5;241;43m0.02\u001b[39;49m\u001b[43m)\u001b[49m\n",
      "Input \u001b[0;32mIn [17]\u001b[0m, in \u001b[0;36mmodified_pc_KSK\u001b[0;34m(data, m, rho_m)\u001b[0m\n\u001b[1;32m      6\u001b[0m node_indices_to_test \u001b[38;5;241m=\u001b[39m np\u001b[38;5;241m.\u001b[39mrandom\u001b[38;5;241m.\u001b[39mchoice(num_quantities, m)\n\u001b[1;32m      7\u001b[0m \u001b[38;5;28;01mfor\u001b[39;00m count, i \u001b[38;5;129;01min\u001b[39;00m \u001b[38;5;28menumerate\u001b[39m(node_indices_to_test):\n\u001b[0;32m----> 8\u001b[0m     corr \u001b[38;5;241m=\u001b[39m sp\u001b[38;5;241m.\u001b[39mstats\u001b[38;5;241m.\u001b[39mpearsonr(\u001b[43mtraj_dataset\u001b[49m\u001b[43m[\u001b[49m\u001b[43m:\u001b[49m\u001b[43m,\u001b[49m\u001b[43m \u001b[49m\u001b[43mi\u001b[49m\u001b[43m,\u001b[49m\u001b[43m \u001b[49m\u001b[38;5;241;43m0\u001b[39;49m\u001b[43m]\u001b[49m, traj_dataset[:, j, \u001b[38;5;241m1\u001b[39m])[\u001b[38;5;241m0\u001b[39m]\n\u001b[1;32m      9\u001b[0m     \u001b[38;5;28;01mif\u001b[39;00m \u001b[38;5;28mabs\u001b[39m(corr) \u001b[38;5;241m>\u001b[39m\u001b[38;5;241m=\u001b[39m \u001b[38;5;241m0.5\u001b[39m\u001b[38;5;241m*\u001b[39mrho_m:\n\u001b[1;32m     10\u001b[0m         \u001b[38;5;28;01mbreak\u001b[39;00m\n",
      "\u001b[0;31mIndexError\u001b[0m: too many indices for array: array is 2-dimensional, but 3 were indexed"
     ]
    }
   ],
   "source": [
    "modified_pc_KSK(traj_dataset, 2, 0.02)"
   ]
  },
  {
   "cell_type": "code",
   "execution_count": 38,
   "id": "24a768ce",
   "metadata": {},
   "outputs": [
    {
     "data": {
      "text/plain": [
       "array([[ -2.23069655, -10.3474563 ]])"
      ]
     },
     "execution_count": 38,
     "metadata": {},
     "output_type": "execute_result"
    }
   ],
   "source": [
    "y_vec"
   ]
  },
  {
   "cell_type": "code",
   "execution_count": 39,
   "id": "f522cdbe",
   "metadata": {},
   "outputs": [
    {
     "data": {
      "text/plain": [
       "(20000, 22, 2)"
      ]
     },
     "execution_count": 39,
     "metadata": {},
     "output_type": "execute_result"
    }
   ],
   "source": [
    "# plt.plot(traj_dataset)\n",
    "traj_dataset.shape"
   ]
  },
  {
   "cell_type": "code",
   "execution_count": 40,
   "id": "de10d94e",
   "metadata": {},
   "outputs": [],
   "source": [
    "assert traj_dataset.shape == (num_traj, num_states + num_inputs, T)\n",
    "assert obs_dataset.shape == (num_traj, num_obs + num_inputs, T)"
   ]
  },
  {
   "cell_type": "code",
   "execution_count": 41,
   "id": "43cc09bc",
   "metadata": {},
   "outputs": [],
   "source": [
    "num_traj, num_quantities, _ = traj_dataset.shape\n",
    "num_traj, num_quantities, _ = obs_dataset.shape\n",
    "\n",
    "# num_quantities"
   ]
  },
  {
   "cell_type": "code",
   "execution_count": null,
   "id": "60427eff",
   "metadata": {},
   "outputs": [],
   "source": [
    "def modified_pc_finance(data, m, rho_m):\n",
    "    num_traj, num_quantities = data.shape\n",
    "    input_indices = []\n",
    "    \n",
    "    for j in range(num_quantities):\n",
    "        node_indices_to_test = np.random.choice(num_quantities, m)\n",
    "        for count, i in enumerate(node_indices_to_test):\n",
    "            corr = sp.stats.pearsonr(traj_dataset[:, i, 0], traj_dataset[:, j, 1])[0]\n",
    "            if abs(corr) >= 0.5*rho_m:\n",
    "                break\n",
    "            if count == m-1:\n",
    "                input_indices.append(j)\n",
    "                \n",
    "    return input_indices\n",
    "\n",
    "def compute_rhos(A, B):\n",
    "    # Returns num_states array x (num_states + num_inputs)\n",
    "    # Accurate only under the given assumptions.\n",
    "    \n",
    "    variances = np.linalg.norm(np.block([A, B]), axis = 1)\n",
    "    rho_array = np.block([A, B]) / variances[:,None]\n",
    "    \n",
    "    return rho_array"
   ]
  },
  {
   "cell_type": "markdown",
   "id": "92d45d4e",
   "metadata": {},
   "source": [
    "# Modified PC Algorithm for Learning Number of Inputs"
   ]
  },
  {
   "cell_type": "code",
   "execution_count": 17,
   "id": "dde5f18b",
   "metadata": {},
   "outputs": [],
   "source": [
    "def modified_pc_KSK(data, m, rho_m):\n",
    "    num_traj, num_quantities, _ = data.shape\n",
    "    input_indices = []\n",
    "    \n",
    "    for j in range(num_quantities):\n",
    "        node_indices_to_test = np.random.choice(num_quantities, m)\n",
    "        for count, i in enumerate(node_indices_to_test):\n",
    "            corr = sp.stats.pearsonr(traj_dataset[:, i, 0], traj_dataset[:, j, 1])[0]\n",
    "            if abs(corr) >= 0.5*rho_m:\n",
    "                break\n",
    "            if count == m-1:\n",
    "                input_indices.append(j)\n",
    "                \n",
    "    return input_indices\n",
    "\n",
    "def compute_rhos(A, B):\n",
    "    # Returns num_states array x (num_states + num_inputs)\n",
    "    # Accurate only under the given assumptions.\n",
    "    \n",
    "    variances = np.linalg.norm(np.block([A, B]), axis = 1)\n",
    "    rho_array = np.block([A, B]) / variances[:,None]\n",
    "    \n",
    "    return rho_array"
   ]
  },
  {
   "cell_type": "code",
   "execution_count": 43,
   "id": "e2da9905",
   "metadata": {
    "scrolled": true
   },
   "outputs": [
    {
     "data": {
      "text/plain": [
       "array([0.10168587, 0.1313013 , 0.1318061 , 0.13817497, 0.13817497,\n",
       "       0.13817497, 0.13817497, 0.13817497, 0.13817497, 0.13817497,\n",
       "       0.13817497, 0.13817497, 0.13817497, 0.13817497, 0.13817497,\n",
       "       0.13817497, 0.13817497, 0.13817497, 0.13817497, 0.13817497,\n",
       "       0.13817497, 0.13817497, 0.13817497, 0.2205017 , 0.2205017 ,\n",
       "       0.2205017 , 0.2205017 , 0.2205017 , 0.2205017 , 0.2205017 ,\n",
       "       0.2205017 , 0.2205017 , 0.2205017 , 0.2205017 , 0.2205017 ,\n",
       "       0.2205017 , 0.2205017 , 0.2205017 , 0.2205017 , 0.2205017 ,\n",
       "       0.2205017 , 0.2205017 , 0.2205017 , 0.77510046])"
      ]
     },
     "execution_count": 43,
     "metadata": {},
     "output_type": "execute_result"
    }
   ],
   "source": [
    "rho_vec = np.sort(abs(compute_rhos(A, B).flatten()), axis=None)\n",
    "rho_vec[0:350]"
   ]
  },
  {
   "cell_type": "code",
   "execution_count": 44,
   "id": "010d30ed",
   "metadata": {},
   "outputs": [],
   "source": [
    "list_1 = [3, 4, 5]\n",
    "list_2 = [4, 5, 6]\n",
    "\n",
    "list_1_not_2 = [k for k in list_1 if k not in list_2]\n",
    "list_2_not_1 = [k for k in list_2 if k not in list_1]"
   ]
  },
  {
   "cell_type": "code",
   "execution_count": 11,
   "id": "3b40940f",
   "metadata": {},
   "outputs": [
    {
     "name": "stdout",
     "output_type": "stream",
     "text": [
      "\n",
      "\n",
      "count_m: 0\n",
      "count_rho 0\n",
      "count_rho 1\n",
      "count_rho 2\n",
      "count_rho 3\n",
      "count_rho 4\n",
      "\n",
      "\n",
      "count_m: 1\n",
      "count_rho 0\n",
      "count_rho 1\n",
      "count_rho 2\n",
      "count_rho 3\n",
      "count_rho 4\n",
      "\n",
      "\n",
      "count_m: 2\n",
      "count_rho 0\n",
      "count_rho 1\n",
      "count_rho 2\n",
      "count_rho 3\n",
      "count_rho 4\n",
      "\n",
      "\n",
      "count_m: 3\n",
      "count_rho 0\n",
      "count_rho 1\n",
      "count_rho 2\n",
      "count_rho 3\n",
      "count_rho 4\n",
      "\n",
      "\n",
      "count_m: 4\n",
      "count_rho 0\n",
      "count_rho 1\n",
      "count_rho 2\n",
      "count_rho 3\n",
      "count_rho 4\n",
      "\n",
      "\n",
      "count_m: 5\n",
      "count_rho 0\n",
      "count_rho 1\n",
      "count_rho 2\n",
      "count_rho 3\n",
      "count_rho 4\n",
      "\n",
      "\n",
      "count_m: 6\n",
      "count_rho 0\n",
      "count_rho 1\n",
      "count_rho 2\n",
      "count_rho 3\n",
      "count_rho 4\n",
      "\n",
      "\n",
      "count_m: 7\n",
      "count_rho 0\n",
      "count_rho 1\n",
      "count_rho 2\n",
      "count_rho 3\n",
      "count_rho 4\n",
      "\n",
      "\n",
      "count_m: 8\n",
      "count_rho 0\n",
      "count_rho 1\n",
      "count_rho 2\n",
      "count_rho 3\n",
      "count_rho 4\n",
      "\n",
      "\n",
      "count_m: 9\n",
      "count_rho 0\n",
      "count_rho 1\n",
      "count_rho 2\n",
      "count_rho 3\n",
      "count_rho 4\n",
      "Time: 1.5524508953094482\n"
     ]
    }
   ],
   "source": [
    "begin_time = time.time()\n",
    "\n",
    "m_list = [2*x + 2 for x in list(range(10))]\n",
    "rho_min_list = [x * 0.02 + 0.02 for x in list(range(5))]\n",
    "input_indices_true = list(range(50, 70))\n",
    "num_trials = 10\n",
    "\n",
    "false_positive_avg_array = np.zeros((len(m_list), len(rho_min_list)))\n",
    "missed_detection_avg_array = np.zeros((len(m_list), len(rho_min_list)))\n",
    "\n",
    "for count_m, m in enumerate(m_list):\n",
    "    print(\"\\n\")\n",
    "    print(\"count_m:\", count_m)\n",
    "    for count_rho, rho_min in enumerate(rho_min_list):\n",
    "        print(\"count_rho\", count_rho)\n",
    "        false_positive_quantity_list = []\n",
    "        missed_detection_quantity_list = []\n",
    "        for trial_id in range(num_trials):\n",
    "            input_indices_est = modified_pc_KSK(traj_dataset, m, rho_min)\n",
    "            false_positive_quantity_list.append(len([k for k in input_indices_est if k not in input_indices_true]))\n",
    "            missed_detection_quantity_list.append(len([k for k in input_indices_true if k not in input_indices_est]))\n",
    "        false_positive_avg_array[count_m, count_rho] = sum(false_positive_quantity_list)/len(false_positive_quantity_list)\n",
    "        missed_detection_avg_array[count_m, count_rho] = sum(missed_detection_quantity_list)/len(missed_detection_quantity_list)\n",
    "\n",
    "end_time = time.time()\n",
    "print(\"Time:\", end_time - begin_time)\n",
    "        \n",
    "# print(modified_pc_CYC(traj_dataset, 10, 0.05))\n",
    "\n"
   ]
  },
  {
   "cell_type": "code",
   "execution_count": 53,
   "id": "4a815ac2",
   "metadata": {},
   "outputs": [
    {
     "name": "stdout",
     "output_type": "stream",
     "text": [
      "\n",
      "\n",
      "count_m: 0\n",
      "count_rho 0\n",
      "count_rho 1\n",
      "count_rho 2\n",
      "count_rho 3\n",
      "count_rho 4\n",
      "\n",
      "\n",
      "count_m: 1\n",
      "count_rho 0\n",
      "count_rho 1\n",
      "count_rho 2\n",
      "count_rho 3\n",
      "count_rho 4\n",
      "\n",
      "\n",
      "count_m: 2\n",
      "count_rho 0\n",
      "count_rho 1\n",
      "count_rho 2\n",
      "count_rho 3\n",
      "count_rho 4\n",
      "\n",
      "\n",
      "count_m: 3\n",
      "count_rho 0\n",
      "count_rho 1\n",
      "count_rho 2\n",
      "count_rho 3\n",
      "count_rho 4\n",
      "\n",
      "\n",
      "count_m: 4\n",
      "count_rho 0\n",
      "count_rho 1\n",
      "count_rho 2\n",
      "count_rho 3\n",
      "count_rho 4\n",
      "\n",
      "\n",
      "count_m: 5\n",
      "count_rho 0\n",
      "count_rho 1\n",
      "count_rho 2\n",
      "count_rho 3\n",
      "count_rho 4\n",
      "\n",
      "\n",
      "count_m: 6\n",
      "count_rho 0\n",
      "count_rho 1\n",
      "count_rho 2\n",
      "count_rho 3\n",
      "count_rho 4\n",
      "\n",
      "\n",
      "count_m: 7\n",
      "count_rho 0\n",
      "count_rho 1\n",
      "count_rho 2\n",
      "count_rho 3\n",
      "count_rho 4\n",
      "\n",
      "\n",
      "count_m: 8\n",
      "count_rho 0\n",
      "count_rho 1\n",
      "count_rho 2\n",
      "count_rho 3\n",
      "count_rho 4\n",
      "\n",
      "\n",
      "count_m: 9\n",
      "count_rho 0\n",
      "count_rho 1\n",
      "count_rho 2\n",
      "count_rho 3\n",
      "count_rho 4\n",
      "Time: 40.93988108634949\n"
     ]
    }
   ],
   "source": [
    "begin_time = time.time()\n",
    "\n",
    "m_list = [2*x + 2 for x in list(range(10))]\n",
    "rho_min_list = [x * 0.02 + 0.02 for x in list(range(5))]\n",
    "input_indices_true = list(range(2, 21))\n",
    "num_trials = 10\n",
    "\n",
    "false_positive_avg_array = np.zeros((len(m_list), len(rho_min_list)))\n",
    "missed_detection_avg_array = np.zeros((len(m_list), len(rho_min_list)))\n",
    "\n",
    "for count_m, m in enumerate(m_list):\n",
    "    print(\"\\n\")\n",
    "    print(\"count_m:\", count_m)\n",
    "    for count_rho, rho_min in enumerate(rho_min_list):\n",
    "        print(\"count_rho\", count_rho)\n",
    "        false_positive_quantity_list = []\n",
    "        missed_detection_quantity_list = []\n",
    "        for trial_id in range(num_trials):\n",
    "            input_indices_est = modified_pc_KSK(obs_dataset, m, rho_min)\n",
    "            false_positive_quantity_list.append(len([k for k in input_indices_est if k not in input_indices_true]))\n",
    "            missed_detection_quantity_list.append(len([k for k in input_indices_true if k not in input_indices_est]))\n",
    "        false_positive_avg_array[count_m, count_rho] = sum(false_positive_quantity_list)/len(false_positive_quantity_list)\n",
    "        missed_detection_avg_array[count_m, count_rho] = sum(missed_detection_quantity_list)/len(missed_detection_quantity_list)\n",
    "\n",
    "end_time = time.time()\n",
    "print(\"Time:\", end_time - begin_time)\n",
    "        \n",
    "# print(modified_pc_CYC(traj_dataset, 10, 0.05))\n",
    "\n"
   ]
  },
  {
   "cell_type": "code",
   "execution_count": 52,
   "id": "f944f358",
   "metadata": {},
   "outputs": [
    {
     "data": {
      "text/plain": [
       "[2, 3, 4, 5, 6, 7, 8, 9, 10, 11, 12, 13, 14, 15, 16, 17, 18, 19, 20]"
      ]
     },
     "execution_count": 52,
     "metadata": {},
     "output_type": "execute_result"
    }
   ],
   "source": [
    "input_indices_true = list(range(2, 21))\n",
    "input_indices_true\n"
   ]
  },
  {
   "cell_type": "code",
   "execution_count": 47,
   "id": "2f3c80d3",
   "metadata": {},
   "outputs": [
    {
     "data": {
      "text/plain": [
       "[0.02, 0.04, 0.06, 0.08, 0.1]"
      ]
     },
     "execution_count": 47,
     "metadata": {},
     "output_type": "execute_result"
    }
   ],
   "source": [
    "rho_min_list"
   ]
  },
  {
   "cell_type": "code",
   "execution_count": 54,
   "id": "18e742e0",
   "metadata": {},
   "outputs": [
    {
     "name": "stdout",
     "output_type": "stream",
     "text": [
      "[[0. 0. 0. 0. 0.]\n",
      " [0. 0. 0. 0. 0.]\n",
      " [0. 0. 0. 0. 0.]\n",
      " [0. 0. 0. 0. 0.]\n",
      " [0. 0. 0. 0. 0.]\n",
      " [0. 0. 0. 0. 0.]\n",
      " [0. 0. 0. 0. 0.]\n",
      " [0. 0. 0. 0. 0.]\n",
      " [0. 0. 0. 0. 0.]\n",
      " [0. 0. 0. 0. 0.]]\n",
      "[[ 5.6  0.1  0.   0.   0. ]\n",
      " [ 8.1  0.   0.   0.   0. ]\n",
      " [13.   0.3  0.   0.   0. ]\n",
      " [14.3  0.5  0.   0.   0. ]\n",
      " [14.8  0.3  0.   0.   0. ]\n",
      " [15.2  0.4  0.   0.   0. ]\n",
      " [15.8  0.7  0.   0.   0. ]\n",
      " [16.8  0.6  0.   0.   0. ]\n",
      " [17.5  0.2  0.   0.   0. ]\n",
      " [17.5  0.7  0.   0.   0. ]]\n"
     ]
    }
   ],
   "source": [
    "print(false_positive_avg_array)\n",
    "print(missed_detection_avg_array)"
   ]
  },
  {
   "cell_type": "code",
   "execution_count": 55,
   "id": "15b708b6",
   "metadata": {},
   "outputs": [
    {
     "data": {
      "text/plain": [
       "Text(0.5, 1.0, 'False Positives')"
      ]
     },
     "execution_count": 55,
     "metadata": {},
     "output_type": "execute_result"
    },
    {
     "data": {
      "image/png": "[encoded data removed]",
      "text/plain": [
       "<Figure size 432x288 with 1 Axes>"
      ]
     },
     "metadata": {
      "needs_background": "light"
     },
     "output_type": "display_data"
    }
   ],
   "source": [
    "plt.plot(false_positive_avg_array)\n",
    "plt.xlabel('Subsets to sample, m')\n",
    "plt.ylabel('Number of False Positives')\n",
    "plt.title('False Positives')"
   ]
  },
  {
   "cell_type": "code",
   "execution_count": 56,
   "id": "7f74c6c4",
   "metadata": {},
   "outputs": [],
   "source": [
    "missed_detection= missed_detection_avg_array.mean(axis = 0)"
   ]
  },
  {
   "cell_type": "code",
   "execution_count": 57,
   "id": "a15ed508",
   "metadata": {},
   "outputs": [
    {
     "data": {
      "text/plain": [
       "Text(0.5, 1.0, 'Missed Detections')"
      ]
     },
     "execution_count": 57,
     "metadata": {},
     "output_type": "execute_result"
    },
    {
     "data": {
      "image/png": "[encoded data removed]",
      "text/plain": [
       "<Figure size 432x288 with 1 Axes>"
      ]
     },
     "metadata": {
      "needs_background": "light"
     },
     "output_type": "display_data"
    }
   ],
   "source": [
    "\n",
    "plt.plot(rho_min_list,missed_detection)\n",
    "plt.xlabel('rho_min')\n",
    "plt.ylabel('Number of Missed Detections')\n",
    "plt.title('Missed Detections')"
   ]
  },
  {
   "cell_type": "code",
   "execution_count": 245,
   "id": "286cebce",
   "metadata": {},
   "outputs": [],
   "source": [
    "# Save results:\n",
    "\n",
    "path_directory = \"/Users/chih-yuanchiu/Desktop/Code/Causality_Time_Series/data/\"\n",
    "\n",
    "path_file = path_directory + \"false_positive_avg_array.csv\"\n",
    "false_positive_avg_array_pd = pd.DataFrame(false_positive_avg_array)\n",
    "false_positive_avg_array_pd.to_csv(path_file, index=False)\n",
    "\n",
    "path_file = path_directory + \"missed_detection_avg_array.csv\"\n",
    "missed_detection_avg_array_pd = pd.DataFrame(missed_detection_avg_array)\n",
    "missed_detection_avg_array_pd.to_csv(path_file, index=False)\n",
    "\n"
   ]
  },
  {
   "cell_type": "code",
   "execution_count": null,
   "id": "c05784d8",
   "metadata": {},
   "outputs": [],
   "source": []
  },
  {
   "cell_type": "code",
   "execution_count": null,
   "id": "aa0ddff7",
   "metadata": {},
   "outputs": [],
   "source": []
  },
  {
   "cell_type": "markdown",
   "id": "4005027d",
   "metadata": {},
   "source": [
    "# Kshitij's algorithms:"
   ]
  },
  {
   "cell_type": "code",
   "execution_count": null,
   "id": "f004efef",
   "metadata": {},
   "outputs": [],
   "source": [
    "def compute_sample_corr(data,i,j, num_samples):\n",
    "    avg_t_plus = (1/num_samples)*data[:,i].sum()\n",
    "    avg_t = (1/num_samples)*data[:,j].sum()\n",
    "    diff_t_plus = data[:, i] - avg_t_plus\n",
    "    diff_t = data[:,j] - avg_t_plus\n",
    "    diff_t_plus_sq = (diff_t_plus**2).sum()\n",
    "    diff_t_sq = (diff_t**2).sum()\n",
    "    corr = (np.dot(diff_t_plus, diff_t))/np.sqrt((diff_t_plus_sq*diff_t_sq))\n",
    "    return corr\n",
    "\n",
    "def modified_pc(data, m, num_samples, num_observations, rho_m):\n",
    "    input_set = []\n",
    "    for i in range(data.shape[1]):\n",
    "        subset = np.array(random.sample(list(range(data.shape[1])), m))\n",
    "        for j in subset:\n",
    "            rho_m_hat = compute_sample_corr(data, i,j, num_samples)\n",
    "            if abs(rho_m_hat) >= 0.5*rho_m:\n",
    "                break \n",
    "            if j == subset[-1]:\n",
    "                input_set.append(i)\n",
    "    return input_set\n",
    "\n",
    "\n"
   ]
  }
 ],
 "metadata": {
  "kernelspec": {
   "display_name": "Python 3 (ipykernel)",
   "language": "python",
   "name": "python3"
  },
  "language_info": {
   "codemirror_mode": {
    "name": "ipython",
    "version": 3
   },
   "file_extension": ".py",
   "mimetype": "text/x-python",
   "name": "python",
   "nbconvert_exporter": "python",
   "pygments_lexer": "ipython3",
   "version": "3.9.12"
  }
 },
 "nbformat": 4,
 "nbformat_minor": 5
}
